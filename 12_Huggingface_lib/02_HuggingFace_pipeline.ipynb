{
 "cells": [
  {
   "cell_type": "markdown",
   "id": "91454f7e-7c69-4a5a-98dd-66cb8cfd724d",
   "metadata": {},
   "source": [
    "# Package 설치"
   ]
  },
  {
   "cell_type": "code",
   "execution_count": 1,
   "id": "7044cc34-f820-455f-9813-de7641809699",
   "metadata": {},
   "outputs": [
    {
     "name": "stdout",
     "output_type": "stream",
     "text": [
      "Note: you may need to restart the kernel to use updated packages.\n"
     ]
    }
   ],
   "source": [
    "%pip install transformers tokenizers datasets accelerate sentencepiece pillow  timm -qU"
   ]
  },
  {
   "cell_type": "markdown",
   "id": "e7e2b823-faf7-4894-a1b3-42d6f177cb99",
   "metadata": {},
   "source": [
    "# Hugging Face Pipeline을 이용한 모델 활용\n",
    "\n",
    "- Pipeline은 Transformers 라이브러리의 가장 기본적인 객체로, **전처리 - 추론 -> 후처리** 로 이어지는 일련의 과정을 자동화하여 손쉽게 모델을 사용할 수 있게 해준다.\n",
    "- Task에 따라 다양한 Pipeline 클래스를 제공하며 `pipeline` 함수를 이용해 쉽게 생성할 수 있다.\n",
    "- **task만 지정**해서 기본 제공 모델과 토크나이저를 사용하거나 **직접 모델과 토크나이저를 지정**해 생성할 수 있다.\n",
    "- https://huggingface.co/docs/transformers/pipeline_tutorial\n",
    "\n",
    "![huggingface_pipeline.png](figures/huggingface_pipeline.png)\n",
    "\n",
    "## 지원하는 주요 태스크\n",
    "- https://huggingface.co/docs/transformers/main_classes/pipelines#transformers.pipeline.task\n",
    "### 자연어 처리 태스크\n",
    "- **text-classification**: 텍스트 분류\n",
    "- **text-generation**: 텍스트 생성\n",
    "- **translation**: 번역\n",
    "- **summarization**: 요약\n",
    "- **question-answering**: 질의응답\n",
    "- **fill-mask**: 마스크 토큰 채우기\n",
    "- **token-classification**: 개체명 인식, Pos tagging 같이 개별 토큰에 대한 분류\n",
    "- **feature-extraction**: 특징 추출(context vector)\n",
    "\n",
    "### 영상 처리 태스크\n",
    "- **image-classification**: 이미지 분류\n",
    "- **object-detection**\n",
    "  -  객체 검출 (Object Detection)\n",
    "  -  이미지 안에서 객체들의 위치와 class를 찾아내는 작업\n",
    "- **image-segmentation**\n",
    "  -  이미지 세분화 (Image Segmentation)\n",
    "  -  이미지를 픽셀 단위로 분할하여 각 픽셀이 어떤 객체에 속하는지 분류하는 작업"
   ]
  },
  {
   "cell_type": "markdown",
   "id": "1cca91e0",
   "metadata": {},
   "source": [
    "## 모델 검색\n",
    "![huggingface_model_search.png](figures/huggingface_model_search.png)\n",
    "\n"
   ]
  },
  {
   "cell_type": "markdown",
   "id": "9387713c",
   "metadata": {},
   "source": [
    "## pipeline 함수\n",
    "- 주요파라미터\n",
    "  - **task:** 수행하려는 작업의 유형을 문자열로 지정한다.\n",
    "  - **model:**\n",
    "    - 사용할 사전 학습된 모델의 이름 또는 경로를 지정한다. \n",
    "    - 모델이름(ID)은 `[모델소유자이름]/[모델이름]` 형식이다. Hugging Face에서 제공하는 모델의 경우는 `모델소유자이름`이 생략되어 있다. (ex: \"google/gemma-2-2b\", \"gpt2\")\n",
    "    - 모델을 명시적으로 지정하지 않으면, **task에 맞는 기본 모델이 로드**된다.\n",
    "  - **tokenizer:** 자연어 task에서 사용할 토크나이저를 지정한다. 생략하면 모델과 같이 제공되는(model과 이름이 같은 토크나이저) 토크나이저를 사용한다.\n",
    "  - **framework:** 사용할 딥러닝 프레임워크를 지정한다. 'pt'는 PyTorch(Default), 'tf'는 TensorFlow를 지정한다.\n",
    "  - **device:** Pipeline 모델을 실행할 디바이스를 지정한다. 문자열로 `\"cpu\", \"cuda:1\", \"mps\"`, 또는 GPU 번호를 정수로 지정한다. \n",
    "  - **revision:** 모델의 특정 버전을 지정할 때 사용한다.\n",
    "  - **trust_remote_code:** hub 모델을 직접 다운 받는 것이 아니라 모델을 다운 받는 **코드**를 다운 받아 local에서 실행하는 경우 코드를 실행할 수있게 할 지 여부. (bool)\n",
    "  - **use_fast:** \n",
    "    - 빠른 토크나이저를 사용할지 여부를 지정합니다. 기본값은 True입니다.\n",
    "    - 빠른 토크나이저는 `Rust` 언어로 구현되어 속도가 빠르다. 단 모든 모델에 대해 지원하지 않는다. 지원하지 않을 경우 `use_fast=True`로 설정해도 일반 토크나이저가 사용된다."
   ]
  },
  {
   "cell_type": "code",
   "execution_count": null,
   "id": "1f4ee67b",
   "metadata": {},
   "outputs": [],
   "source": []
  },
  {
   "cell_type": "markdown",
   "id": "b5ba95b6-785c-42e0-a86f-2d5bac732e33",
   "metadata": {},
   "source": [
    "## Task 별 pipeline 실습\n",
    "\n",
    "### 텍스트 분류"
   ]
  },
  {
   "cell_type": "code",
   "execution_count": 2,
   "id": "c990b8c8-2f00-4c4d-84e8-22150883b111",
   "metadata": {},
   "outputs": [],
   "source": [
    "from transformers import pipeline"
   ]
  },
  {
   "cell_type": "code",
   "execution_count": 3,
   "id": "e90da6a9",
   "metadata": {},
   "outputs": [
    {
     "name": "stderr",
     "output_type": "stream",
     "text": [
      "No model was supplied, defaulted to distilbert/distilbert-base-uncased-finetuned-sst-2-english and revision 714eb0f (https://huggingface.co/distilbert/distilbert-base-uncased-finetuned-sst-2-english).\n",
      "Using a pipeline without specifying a model name and revision in production is not recommended.\n",
      "c:\\Users\\Playdata\\miniconda3\\envs\\dl\\Lib\\site-packages\\huggingface_hub\\file_download.py:143: UserWarning: `huggingface_hub` cache-system uses symlinks by default to efficiently store duplicated files but your machine does not support them in C:\\Users\\Playdata\\.cache\\huggingface\\hub\\models--distilbert--distilbert-base-uncased-finetuned-sst-2-english. Caching files will still work but in a degraded version that might require more space on your disk. This warning can be disabled by setting the `HF_HUB_DISABLE_SYMLINKS_WARNING` environment variable. For more details, see https://huggingface.co/docs/huggingface_hub/how-to-cache#limitations.\n",
      "To support symlinks on Windows, you either need to activate Developer Mode or to run Python as an administrator. In order to activate developer mode, see this article: https://docs.microsoft.com/en-us/windows/apps/get-started/enable-your-device-for-development\n",
      "  warnings.warn(message)\n",
      "Xet Storage is enabled for this repo, but the 'hf_xet' package is not installed. Falling back to regular HTTP download. For better performance, install the package with: `pip install huggingface_hub[hf_xet]` or `pip install hf_xet`\n",
      "Device set to use cpu\n"
     ]
    }
   ],
   "source": [
    "# 모델과 토크나이저를 로딩해서 Pipeline을 생성\n",
    "# 모델, 토크나이저를 생략 -> task에 맞는 기본 모델과 토크나이저를 사용.\n",
    "pipe = pipeline(task=\"text-classification\", framework=\"pt\")"
   ]
  },
  {
   "cell_type": "code",
   "execution_count": null,
   "id": "5c94e512",
   "metadata": {},
   "outputs": [],
   "source": [
    "result = pipe(\"I am very happy.\")\n",
    "result = pipe(\"I am very unhappy.\") # raw -> ||토큰화 -> 추론 -> 후처리 ->|| 최종예측결과"
   ]
  },
  {
   "cell_type": "code",
   "execution_count": 7,
   "id": "a2c26268",
   "metadata": {},
   "outputs": [
    {
     "data": {
      "text/plain": [
       "[{'label': 'NEGATIVE', 'score': 0.9997710585594177}]"
      ]
     },
     "execution_count": 7,
     "metadata": {},
     "output_type": "execute_result"
    }
   ],
   "source": [
    "result"
   ]
  },
  {
   "cell_type": "code",
   "execution_count": 8,
   "id": "fb370b80-23b6-4d80-bf97-e3d873bfb989",
   "metadata": {
    "tags": []
   },
   "outputs": [],
   "source": [
    "data = [ \n",
    "    \"The project was completed successfully.\", \n",
    "    \"She always brings positive energy to the team.\", \n",
    "    \"I am confident that we will achieve our goals.\",\n",
    "    \"The results were not as expected.\", \n",
    "    \"He struggled to meet the deadline.\", \n",
    "    \"The client was dissatisfied with the final product.\" \n",
    "]\n",
    "result_list = pipe(data)"
   ]
  },
  {
   "cell_type": "code",
   "execution_count": 10,
   "id": "01076eb7",
   "metadata": {},
   "outputs": [
    {
     "data": {
      "text/plain": [
       "[{'label': 'POSITIVE', 'score': 0.9998227953910828},\n",
       " {'label': 'POSITIVE', 'score': 0.9998812675476074},\n",
       " {'label': 'POSITIVE', 'score': 0.9998470544815063},\n",
       " {'label': 'NEGATIVE', 'score': 0.9978100657463074},\n",
       " {'label': 'NEGATIVE', 'score': 0.99960857629776},\n",
       " {'label': 'NEGATIVE', 'score': 0.9996129870414734}]"
      ]
     },
     "execution_count": 10,
     "metadata": {},
     "output_type": "execute_result"
    }
   ],
   "source": [
    "result_list"
   ]
  },
  {
   "cell_type": "code",
   "execution_count": null,
   "id": "97d377fa-cc5a-429d-9933-fcb65997d12c",
   "metadata": {},
   "outputs": [
    {
     "name": "stderr",
     "output_type": "stream",
     "text": [
      "c:\\Users\\Playdata\\miniconda3\\envs\\dl\\Lib\\site-packages\\huggingface_hub\\file_download.py:143: UserWarning: `huggingface_hub` cache-system uses symlinks by default to efficiently store duplicated files but your machine does not support them in C:\\Users\\Playdata\\.cache\\huggingface\\hub\\models--distilbert-base-uncased-finetuned-sst-2-english. Caching files will still work but in a degraded version that might require more space on your disk. This warning can be disabled by setting the `HF_HUB_DISABLE_SYMLINKS_WARNING` environment variable. For more details, see https://huggingface.co/docs/huggingface_hub/how-to-cache#limitations.\n",
      "To support symlinks on Windows, you either need to activate Developer Mode or to run Python as an administrator. In order to activate developer mode, see this article: https://docs.microsoft.com/en-us/windows/apps/get-started/enable-your-device-for-development\n",
      "  warnings.warn(message)\n",
      "Xet Storage is enabled for this repo, but the 'hf_xet' package is not installed. Falling back to regular HTTP download. For better performance, install the package with: `pip install huggingface_hub[hf_xet]` or `pip install hf_xet`\n",
      "Device set to use cpu\n"
     ]
    }
   ],
   "source": [
    "# 특정 모델을 지정해서 사용.\n",
    "model=\"distilbert-base-uncased-finetuned-sst-2-english\" \n",
    "# huggingface에 등록된 모델 ID\n",
    "## 모델 ID 형식 - 모델소유자ID/모델ID , 모델소유자ID가 생략된 경우: huggingface 자체 모델.\n",
    "pipe = pipeline(task=\"text-classification\", \n",
    "                model=model,  # 사용할 모델을 지정. hf의 모델 ID, 로컬에 저장된 모델저장파일경로.\n",
    "                tokenizer=model # 사용할 tokenizer를 지정. hf의 토크나이저 ID, 로컬에 저장된 tokenizer 파일경로.\n",
    "                                # 토크나이저의 ID가 model id와 같을 경우 생략.\n",
    "                )"
   ]
  },
  {
   "cell_type": "code",
   "execution_count": 12,
   "id": "f09fe037",
   "metadata": {},
   "outputs": [
    {
     "data": {
      "text/plain": [
       "[{'label': 'POSITIVE', 'score': 0.9998227953910828},\n",
       " {'label': 'POSITIVE', 'score': 0.9998812675476074},\n",
       " {'label': 'POSITIVE', 'score': 0.9998470544815063},\n",
       " {'label': 'NEGATIVE', 'score': 0.9978100657463074},\n",
       " {'label': 'NEGATIVE', 'score': 0.99960857629776},\n",
       " {'label': 'NEGATIVE', 'score': 0.9996129870414734}]"
      ]
     },
     "execution_count": 12,
     "metadata": {},
     "output_type": "execute_result"
    }
   ],
   "source": [
    "pipe(data)"
   ]
  },
  {
   "cell_type": "code",
   "execution_count": 13,
   "id": "5bb9fdee-2a87-48aa-8568-7cb81a75810c",
   "metadata": {},
   "outputs": [],
   "source": [
    "kor_texts = [\n",
    "    \"이 영화 정말 재미있어요!\",\n",
    "    \"서비스가 별로였어요.\",\n",
    "    \"제품 품질이 우수합니다.\",\n",
    "    \"따듯하고 부드럽고 제품은 너무 좋습니다. 그런데 배송이 너무 늦네요.\"  # 애매한 것 0.56 정도 나오네.\n",
    "]"
   ]
  },
  {
   "cell_type": "code",
   "execution_count": 14,
   "id": "435a9ac9",
   "metadata": {},
   "outputs": [
    {
     "data": {
      "text/plain": [
       "[{'label': 'POSITIVE', 'score': 0.9855567812919617},\n",
       " {'label': 'POSITIVE', 'score': 0.7425776124000549},\n",
       " {'label': 'POSITIVE', 'score': 0.6555716395378113},\n",
       " {'label': 'NEGATIVE', 'score': 0.5247918367385864}]"
      ]
     },
     "execution_count": 14,
     "metadata": {},
     "output_type": "execute_result"
    }
   ],
   "source": [
    "pipe(kor_texts)"
   ]
  },
  {
   "cell_type": "code",
   "execution_count": 15,
   "id": "cc568631-140c-4d2b-a230-22156cc72e5e",
   "metadata": {},
   "outputs": [
    {
     "name": "stderr",
     "output_type": "stream",
     "text": [
      "c:\\Users\\Playdata\\miniconda3\\envs\\dl\\Lib\\site-packages\\huggingface_hub\\file_download.py:143: UserWarning: `huggingface_hub` cache-system uses symlinks by default to efficiently store duplicated files but your machine does not support them in C:\\Users\\Playdata\\.cache\\huggingface\\hub\\models--Copycats--koelectra-base-v3-generalized-sentiment-analysis. Caching files will still work but in a degraded version that might require more space on your disk. This warning can be disabled by setting the `HF_HUB_DISABLE_SYMLINKS_WARNING` environment variable. For more details, see https://huggingface.co/docs/huggingface_hub/how-to-cache#limitations.\n",
      "To support symlinks on Windows, you either need to activate Developer Mode or to run Python as an administrator. In order to activate developer mode, see this article: https://docs.microsoft.com/en-us/windows/apps/get-started/enable-your-device-for-development\n",
      "  warnings.warn(message)\n",
      "Device set to use cpu\n"
     ]
    }
   ],
   "source": [
    "model = 'Copycats/koelectra-base-v3-generalized-sentiment-analysis' \n",
    "pipe = pipeline(task=\"text-classification\", model=model)\n",
    "result_list = pipe(kor_texts)"
   ]
  },
  {
   "cell_type": "code",
   "execution_count": null,
   "id": "5bb59779",
   "metadata": {},
   "outputs": [
    {
     "data": {
      "text/plain": [
       "[{'label': '1', 'score': 0.9897311329841614},\n",
       " {'label': '0', 'score': 0.9969298243522644},\n",
       " {'label': '1', 'score': 0.9640172123908997},\n",
       " {'label': '0', 'score': 0.5669127702713013}]"
      ]
     },
     "execution_count": 16,
     "metadata": {},
     "output_type": "execute_result"
    }
   ],
   "source": [
    "result_list  # 1: 긍정, 0: 부정"
   ]
  },
  {
   "cell_type": "code",
   "execution_count": 19,
   "id": "55c145ef",
   "metadata": {},
   "outputs": [
    {
     "name": "stderr",
     "output_type": "stream",
     "text": [
      "Device set to use cpu\n"
     ]
    }
   ],
   "source": [
    "# Use a pipeline as a high-level helper\n",
    "from transformers import pipeline\n",
    "\n",
    "pipe = pipeline(\"text-classification\", model=\"tabularisai/multilingual-sentiment-analysis\")"
   ]
  },
  {
   "cell_type": "code",
   "execution_count": 20,
   "metadata": {},
   "outputs": [
    {
     "data": {
      "text/plain": [
       "[{'label': 'Very Positive', 'score': 0.665915846824646}]"
      ]
     },
     "execution_count": 20,
     "metadata": {},
     "output_type": "execute_result"
    }
   ],
   "source": [
    "pipe(\"오늘은 날씨가 너무 좋다.\")"
   ]
  },
  {
   "cell_type": "code",
   "execution_count": null,
   "id": "d13fe252",
   "metadata": {},
   "outputs": [],
   "source": [
    "kor_texts = [\n",
    "    \"이 영화 정말 재미있어요!\",\n",
    "    \"서비스가 별로였어요.\",\n",
    "    \"제품 품질이 우수합니다.\",\n",
    "    \"따듯하고 부드럽고 제품은 너무 좋습니다. 그런데 배송이 너무 늦네요.\"  # 애매한 것 0.56 정도 나오네.\n",
    "]"
   ]
  },
  {
   "cell_type": "code",
   "execution_count": 21,
   "metadata": {},
   "outputs": [
    {
     "data": {
      "text/plain": [
       "[{'label': 'Very Positive', 'score': 0.5016762614250183},\n",
       " {'label': 'Negative', 'score': 0.5245441794395447},\n",
       " {'label': 'Very Positive', 'score': 0.6271345615386963},\n",
       " {'label': 'Very Positive', 'score': 0.5461609959602356}]"
      ]
     },
     "execution_count": 21,
     "metadata": {},
     "output_type": "execute_result"
    }
   ],
   "source": [
    "pipe(kor_texts)"
   ]
  },
  {
   "cell_type": "code",
   "execution_count": 22,
   "id": "6a08fe98",
   "metadata": {},
   "outputs": [],
   "source": [
    "result_list = pipe(data)"
   ]
  },
  {
   "cell_type": "code",
   "execution_count": 24,
   "id": "d8d88c24",
   "metadata": {},
   "outputs": [
    {
     "name": "stdout",
     "output_type": "stream",
     "text": [
      "The project was completed successfully. {'label': 'Neutral', 'score': 0.49546512961387634}\n",
      "She always brings positive energy to the team. {'label': 'Positive', 'score': 0.6366152167320251}\n",
      "I am confident that we will achieve our goals. {'label': 'Neutral', 'score': 0.45890164375305176}\n",
      "The results were not as expected. {'label': 'Negative', 'score': 0.6052263975143433}\n",
      "He struggled to meet the deadline. {'label': 'Negative', 'score': 0.518038272857666}\n",
      "The client was dissatisfied with the final product. {'label': 'Negative', 'score': 0.6167647838592529}\n"
     ]
    }
   ],
   "source": [
    "for txt, r in zip(data, result_list):\n",
    "    print(txt, r)"
   ]
  },
  {
   "cell_type": "markdown",
   "id": "c5b46756-4b5e-4bdc-be44-2d240e6dce03",
   "metadata": {
    "tags": []
   },
   "source": [
    "### 제로샷 분류\n",
    "- 제로샷(Zero-shot)은 각 개별 작업에 대한 특정 교육 없이 작업을 수행할 수 있는 task다.\n",
    "- 입력 텍스트와 함께 클래스 레이블을 제공하면 분류 작업을 한다.\n",
    "- 모델은  `task`에서 `Zero-Shot` 으로 시작하는 task를 선택하여 검색한다."
   ]
  },
  {
   "cell_type": "code",
   "execution_count": 25,
   "id": "5d07e8bd-53f1-4410-b52e-1e299ed7bcef",
   "metadata": {},
   "outputs": [],
   "source": [
    "model = \"facebook/bart-large-mnli\"\n",
    "\n",
    "text = [\"Python is a programming language.\", \n",
    "        \"I love soccer\", \n",
    "        \"The stock price rose slightly today.\"]\n",
    "\n",
    "labels = [\"IT\", \"Sports\"]"
   ]
  },
  {
   "cell_type": "code",
   "execution_count": 26,
   "id": "8bf504f7-ede8-491c-91bf-858370d6b486",
   "metadata": {},
   "outputs": [
    {
     "name": "stderr",
     "output_type": "stream",
     "text": [
      "c:\\Users\\Playdata\\miniconda3\\envs\\dl\\Lib\\site-packages\\huggingface_hub\\file_download.py:143: UserWarning: `huggingface_hub` cache-system uses symlinks by default to efficiently store duplicated files but your machine does not support them in C:\\Users\\Playdata\\.cache\\huggingface\\hub\\models--facebook--bart-large-mnli. Caching files will still work but in a degraded version that might require more space on your disk. This warning can be disabled by setting the `HF_HUB_DISABLE_SYMLINKS_WARNING` environment variable. For more details, see https://huggingface.co/docs/huggingface_hub/how-to-cache#limitations.\n",
      "To support symlinks on Windows, you either need to activate Developer Mode or to run Python as an administrator. In order to activate developer mode, see this article: https://docs.microsoft.com/en-us/windows/apps/get-started/enable-your-device-for-development\n",
      "  warnings.warn(message)\n",
      "Xet Storage is enabled for this repo, but the 'hf_xet' package is not installed. Falling back to regular HTTP download. For better performance, install the package with: `pip install huggingface_hub[hf_xet]` or `pip install hf_xet`\n",
      "Device set to use cpu\n"
     ]
    }
   ],
   "source": [
    "pipe = pipeline(task=\"zero-shot-classification\", model=model)\n",
    "result = pipe(text, candidate_labels=labels)"
   ]
  },
  {
   "cell_type": "code",
   "execution_count": 27,
   "id": "f51ab30e-c8dc-48d0-8ec9-0a47c98d08ee",
   "metadata": {},
   "outputs": [
    {
     "data": {
      "text/plain": [
       "[{'sequence': 'Python is a programming language.',\n",
       "  'labels': ['IT', 'Sports'],\n",
       "  'scores': [0.5758535265922546, 0.4241464138031006]},\n",
       " {'sequence': 'I love soccer',\n",
       "  'labels': ['Sports', 'IT'],\n",
       "  'scores': [0.9935312867164612, 0.006468690931797028]},\n",
       " {'sequence': 'The stock price rose slightly today.',\n",
       "  'labels': ['IT', 'Sports'],\n",
       "  'scores': [0.6849520802497864, 0.3150479197502136]}]"
      ]
     },
     "execution_count": 27,
     "metadata": {},
     "output_type": "execute_result"
    }
   ],
   "source": [
    "result"
   ]
  },
  {
   "cell_type": "code",
   "execution_count": 28,
   "id": "06cada30",
   "metadata": {},
   "outputs": [
    {
     "data": {
      "text/plain": [
       "[{'sequence': 'Python is a programming language.',\n",
       "  'labels': ['programming', 'business', 'movie', 'sports', 'education'],\n",
       "  'scores': [0.9856367111206055,\n",
       "   0.005072721280157566,\n",
       "   0.0034023483749479055,\n",
       "   0.002961924998089671,\n",
       "   0.0029262355528771877]},\n",
       " {'sequence': 'I love soccer',\n",
       "  'labels': ['sports', 'programming', 'business', 'movie', 'education'],\n",
       "  'scores': [0.9952405691146851,\n",
       "   0.0012840895215049386,\n",
       "   0.0012676474871113896,\n",
       "   0.0012649551499634981,\n",
       "   0.0009427034528926015]},\n",
       " {'sequence': 'The stock price rose slightly today.',\n",
       "  'labels': ['business', 'movie', 'programming', 'sports', 'education'],\n",
       "  'scores': [0.7462778091430664,\n",
       "   0.06974831968545914,\n",
       "   0.06889291107654572,\n",
       "   0.0645080953836441,\n",
       "   0.05057287961244583]}]"
      ]
     },
     "execution_count": 28,
     "metadata": {},
     "output_type": "execute_result"
    }
   ],
   "source": [
    "labels = [\"business\", \"programming\", \"sports\", \"movie\", \"education\"]\n",
    "result = pipe(text, candidate_labels=labels)\n",
    "result"
   ]
  },
  {
   "cell_type": "markdown",
   "id": "ffb317be-2e6e-4189-98df-3f9ebf981f91",
   "metadata": {},
   "source": [
    "### 텍스트 생성"
   ]
  },
  {
   "cell_type": "code",
   "execution_count": 31,
   "id": "db24434b",
   "metadata": {},
   "outputs": [
    {
     "name": "stderr",
     "output_type": "stream",
     "text": [
      "No model was supplied, defaulted to openai-community/gpt2 and revision 607a30d (https://huggingface.co/openai-community/gpt2).\n",
      "Using a pipeline without specifying a model name and revision in production is not recommended.\n",
      "c:\\Users\\Playdata\\miniconda3\\envs\\dl\\Lib\\site-packages\\huggingface_hub\\file_download.py:143: UserWarning: `huggingface_hub` cache-system uses symlinks by default to efficiently store duplicated files but your machine does not support them in C:\\Users\\Playdata\\.cache\\huggingface\\hub\\models--openai-community--gpt2. Caching files will still work but in a degraded version that might require more space on your disk. This warning can be disabled by setting the `HF_HUB_DISABLE_SYMLINKS_WARNING` environment variable. For more details, see https://huggingface.co/docs/huggingface_hub/how-to-cache#limitations.\n",
      "To support symlinks on Windows, you either need to activate Developer Mode or to run Python as an administrator. In order to activate developer mode, see this article: https://docs.microsoft.com/en-us/windows/apps/get-started/enable-your-device-for-development\n",
      "  warnings.warn(message)\n",
      "Xet Storage is enabled for this repo, but the 'hf_xet' package is not installed. Falling back to regular HTTP download. For better performance, install the package with: `pip install huggingface_hub[hf_xet]` or `pip install hf_xet`\n",
      "Device set to use cpu\n"
     ]
    }
   ],
   "source": [
    "pipe = pipeline(task=\"text-generation\")"
   ]
  },
  {
   "cell_type": "code",
   "execution_count": 32,
   "id": "126441da-5524-4303-abe4-648cecf2419f",
   "metadata": {},
   "outputs": [
    {
     "name": "stderr",
     "output_type": "stream",
     "text": [
      "Setting `pad_token_id` to `eos_token_id`:50256 for open-end generation.\n"
     ]
    }
   ],
   "source": [
    "start_text = \"Today weather\"\n",
    "sent = pipe(start_text)"
   ]
  },
  {
   "cell_type": "code",
   "execution_count": null,
   "id": "9f696378",
   "metadata": {},
   "outputs": [
    {
     "data": {
      "text/plain": [
       "[{'generated_text': 'Today weather to be quite sunny and even the sun will be very warm. I would like to see how much snow there will be and what kind of snow people will be getting.\\n\\nThe sun is about to set so my kids are about to go to bed, so it is starting to get very cold and I am very worried.\\n\\nI am sure I will have a good time.\\n\\nI have been planning to write a video so please feel free to post this on Facebook too.'}]"
      ]
     },
     "execution_count": 33,
     "metadata": {},
     "output_type": "execute_result"
    }
   ],
   "source": [
    "sent"
   ]
  },
  {
   "cell_type": "code",
   "execution_count": 34,
   "id": "18af98c8",
   "metadata": {},
   "outputs": [
    {
     "name": "stdout",
     "output_type": "stream",
     "text": [
      "Today weather to be quite sunny and even the sun will be very warm. I would like to see how much snow there will be and what kind of snow people will be getting.\n",
      "\n",
      "The sun is about to set so my kids are about to go to bed, so it is starting to get very cold and I am very worried.\n",
      "\n",
      "I am sure I will have a good time.\n",
      "\n",
      "I have been planning to write a video so please feel free to post this on Facebook too.\n"
     ]
    }
   ],
   "source": [
    "print(sent[0][\"generated_text\"])"
   ]
  },
  {
   "cell_type": "code",
   "execution_count": 35,
   "id": "917a500f",
   "metadata": {},
   "outputs": [
    {
     "name": "stderr",
     "output_type": "stream",
     "text": [
      "Setting `pad_token_id` to `eos_token_id`:50256 for open-end generation.\n",
      "Setting `pad_token_id` to `eos_token_id`:50256 for open-end generation.\n",
      "Setting `pad_token_id` to `eos_token_id`:50256 for open-end generation.\n"
     ]
    },
    {
     "data": {
      "text/plain": [
       "[[{'generated_text': 'I am not aware of anyone with the knowledge of this document, as I will not be able to provide it to others.\\n\\nI would like to offer my sincere sympathy to the people of Egypt, who are very distressed and sad.\"\\n\\nThe statement was posted on Twitter on Monday.'}],\n",
       " [{'generated_text': 'Python is a very good tool for doing a lot of things.\\n\\nPython is one of the most popular programming languages and many people think of Python as a nice programming language. After all, Python is the programming language that can be used to write code that you can put in a web browser and make use of.\\n\\nBut what is Python?\\n\\nPython is an open-source language, meaning that the developers are free to use any framework, library, or language. However, it is not an official language, meaning that developers are free to use any language.\\n\\nThis is because Python is not an official language and therefore not a programming language.\\n\\nIt is, however, a programming language that can be used to create or execute code that you can run on a computer.\\n\\nSo, what is Python?\\n\\nPython is a programming language that can be used to represent, control, and manipulate data in a way that is easy to understand and write.\\n\\nPython is a programming language that can be used to represent, control, and manipulate data in a way that is easy to understand and write.\\n\\nPython is the first programming language that can be used to write code that you can run on a computer.\\n\\nPython is an open'}],\n",
       " [{'generated_text': 'LLM is a small, small and very small company that provides a wide range of services to businesses of all size.\\n\\nWe are now able to offer a wide range of services to businesses of all size, from a wide range of services to our customers to our IT teams.\\n\\nOur services are offered in the following areas:\\n\\nTelecoms:\\n\\nThe following services are offered in our telecom services business:\\n\\nTelecoms and Mobile Device Sales:\\n\\nWe offer a wide range of services to mobile devices, including a wide range of services to our customers.\\n\\nWe offer a wide range of services to mobile devices, including a wide range of services to our customers. Mobile Internet Access:\\n\\nWe offer a wide range of services to mobile internet access, including a wide range of services to our customers.\\n\\nWe offer a wide range of services to mobile internet access, including a wide range of services to our customers. Customer Service:\\n\\nWe offer a wide range of services to our customers, including a wide range of services to our customers.\\n\\nWe offer a wide range of services to our customers, including a wide range of services to our customers. Business Services:\\n\\nBusiness services are offered in the following areas:\\n'}]]"
      ]
     },
     "execution_count": 35,
     "metadata": {},
     "output_type": "execute_result"
    }
   ],
   "source": [
    "pipe([\"I am\", \"Python is\", \"LLM is\"])"
   ]
  },
  {
   "cell_type": "code",
   "execution_count": 36,
   "id": "2d17e223",
   "metadata": {},
   "outputs": [
    {
     "name": "stderr",
     "output_type": "stream",
     "text": [
      "Setting `pad_token_id` to `eos_token_id`:50256 for open-end generation.\n"
     ]
    },
    {
     "data": {
      "text/plain": [
       "[{'generated_text': '나는 어제 한 있어 형적는 나안 비어 이정이 여는 병버 해는 있어 형적지에 사하기는 너모도 던는 고어 형적는 있어 병버 해는 고어 형적는 있어 병버 해는 있어 형적는 있어 형적는 있어 병버 해는 고어 형적는 있어 병버 해는 '}]"
      ]
     },
     "execution_count": 36,
     "metadata": {},
     "output_type": "execute_result"
    }
   ],
   "source": [
    "pipe(\"나는 어제 \")"
   ]
  },
  {
   "cell_type": "code",
   "execution_count": 2,
   "id": "46e31c62-1e89-49ef-b25c-c0957bd0b66e",
   "metadata": {},
   "outputs": [
    {
     "name": "stderr",
     "output_type": "stream",
     "text": [
      "Device set to use cpu\n"
     ]
    }
   ],
   "source": [
    "from transformers import pipeline\n",
    "\n",
    "model_id = 'Qwen/Qwen3-0.6B'\n",
    "pipe = pipeline(task=\"text-generation\", model=model_id)"
   ]
  },
  {
   "cell_type": "code",
   "execution_count": 38,
   "id": "897f0453",
   "metadata": {},
   "outputs": [
    {
     "data": {
      "text/plain": [
       "[{'generated_text': '나는 어제 1일에 5일 동안 팀을 위한 작업을 완료했으며, 이전에 진행한 2일 동안의 작업을 마감했으며, 그리고 2일 동안의 작업을 완료했으며, 3일 동안의 작업을 완료했으며, 4일 동안의 작업을 완료했으며, 5일 동안의 작업을 완료했으며. 2일 동안의 작업을 완료했으며, 3일 동안의 작업을 완료했으며, 4일 동안의 작업을 완료했으며, 5일 동안의 작업을 완료했으며. 3일 동안의 작업을 완료했으며, 4일 동안의 작업을 완료했으며, 5일 동안의 작업을 완료했으며. 2일 동안의 작업을 완료했으며, 3일 동안의 작업을 완료했으며, 4일 동안의 작업을 완료했으며, 5일 동안의 작업을 완료했으며. 1일 동안의'}]"
      ]
     },
     "execution_count": 38,
     "metadata": {},
     "output_type": "execute_result"
    }
   ],
   "source": [
    "pipe(\"나는 어제\")"
   ]
  },
  {
   "cell_type": "code",
   "execution_count": 12,
   "id": "4c857308",
   "metadata": {},
   "outputs": [],
   "source": [
    "msg = [\n",
    "    {\"role\":\"user\", \"content\":\"LLM에 대해서 설명해줘.\"}\n",
    "]\n",
    "result = pipe(msg, max_new_tokens=1000)\n",
    "#  max_new_tokens : 응답 토큰수 설정."
   ]
  },
  {
   "cell_type": "code",
   "execution_count": null,
   "id": "b79735f4",
   "metadata": {},
   "outputs": [
    {
     "data": {
      "text/plain": [
       "{'role': 'user', 'content': 'LLM에 대해서 설명해줘.'}"
      ]
     },
     "execution_count": 8,
     "metadata": {},
     "output_type": "execute_result"
    }
   ],
   "source": [
    "result[0][\"generated_text\"][0]  # user 입력(query)"
   ]
  },
  {
   "cell_type": "code",
   "execution_count": 10,
   "id": "35252e35",
   "metadata": {},
   "outputs": [
    {
     "data": {
      "text/plain": [
       "{'role': 'assistant',\n",
       " 'content': \"<think>\\nOkay, the user asked for an explanation of LLMs. Let me start by recalling what LLMs are. They are Large Language Models, right? So, I need to define them clearly.\\n\\nFirst, I should mention that they are machine learning models trained on a large amount of text data. Then, their main purpose is to understand and generate human-like text. I should explain their capabilities, like understanding complex sentences, generating text, and answering questions. Also, it's important to note that LLMs are trained on vast datasets, which makes them powerful but not perfect.\\n\\nWait, should I mention their limitations? Maybe. But the user might just want a basic explanation. Let me check if I need to add any technical details. For example, how they are trained, maybe the training data source. Also, maybe their use cases. But since the user asked for an explanation, I should keep it straightforward.\\n\\nI should structure it with an introduction, definition, purpose, capabilities, training, limitations, and use cases. Make sure it's easy to understand and covers all aspects without getting too technical. Avoid jargon but still explain clearly. Let me put this all together in a coherent way.\\n</think>\\n\\nLLM은 **대형 자연어 모\"}"
      ]
     },
     "execution_count": 10,
     "metadata": {},
     "output_type": "execute_result"
    }
   ],
   "source": [
    "result[0][\"generated_text\"][1] # AI 답변"
   ]
  },
  {
   "cell_type": "code",
   "execution_count": 13,
   "id": "2dc19ae1",
   "metadata": {},
   "outputs": [
    {
     "name": "stdout",
     "output_type": "stream",
     "text": [
      "<think>\n",
      "Okay, the user wants an explanation of LLMs. Let me start by recalling what an LLM is. It stands for Large Language Model. First, I should define it clearly. Maybe mention that it's a type of AI model developed for various tasks like language understanding and generation.\n",
      "\n",
      "I need to explain its components. Are they trained on huge datasets? Yes, so I should highlight that. Also, the training process involves a lot of data and computational resources. But wait, should I mention that they are trained on specific data, like text, and not just any data? That's important for clarity.\n",
      "\n",
      "Then, the purpose of LLMs. They're used for tasks like language processing, text generation, and even other applications. Maybe give examples like writing stories, answering questions, or translating. It's useful for different industries, so that's a good point.\n",
      "\n",
      "Wait, I should also touch on some key features. For example, they can understand and generate text, have different languages, and be trained on specific data. But maybe I should clarify that they're not trained on the same data as humans, but they have access to a lot of data to process.\n",
      "\n",
      "I should also mention the limitations. Like, they can't think like humans, only process information. That's important for understanding the capabilities and potential of LLMs.\n",
      "\n",
      "Is there anything else I should include? Maybe the difference between a general-purpose LLM and a specialized one. But maybe the user just wants a basic explanation. Let me structure it step by step: definition, components, purpose, examples, features, limitations.\n",
      "\n",
      "Wait, should I include something about how LLMs work? Like, they use a lot of data, which is why they're so powerful, but they can't simulate human thought. That adds depth.\n",
      "\n",
      "Also, maybe mention the current state of LLMs. For example, they're part of the AI revolution, and are evolving. That could be useful for the user's context.\n",
      "\n",
      "I need to make sure the explanation is clear and not too technical. Avoid jargon unless necessary. Keep it conversational. Let me check if there are any other points I might have missed. Oh, maybe the fact that they're not human, so they can't have emotions or personal experiences. But that's a limitation, not a feature.\n",
      "\n",
      "Okay, putting it all together in a logical flow. Start with the definition, then components, purpose, examples, features, limitations, and a conclusion. That should cover the user's request.\n",
      "</think>\n",
      "\n",
      "LLM은 **대한 학습 모델** 또는 **Large Language Model**을 의미합니다. 이 모델은 학습된 데이터를 기반으로 다양한 문장 처리 및 생성을 수행하는 데 사용됩니다. 아래에 주요 내용을 정리해 드릴게요:\n",
      "\n",
      "---\n",
      "\n",
      "### **1. 정의**\n",
      "LLM은 AI 모델의 핵심으로, **대량의 문장 데이터**를 기반으로 학습한 모델입니다. 이 모델은 인간의 언어 이해, 생성, 번역 등 다양한 언어 처리 기능을 제공하며, 다양한 분야에 활용되며, 학습된 데이터와 기술을 활용한 AI 기술입니다.\n",
      "\n",
      "---\n",
      "\n",
      "### **2. 학습 데이터**\n",
      "- LLMs는 대규모의 **문장 데이터**를 기반으로 학습합니다. 일반적으로, 이 데이터는 자연어 처리 분야에서 기반된 문장 데이터(예: 공식문, 논문, 소설 등)를 활용합니다.\n",
      "- 인간의 언어를 이해하는 것은 매우 어렵지만, LLMs는 학습된 데이터에서 인식하고, 생성할 수 있는 기능을 갖습니다.\n",
      "\n",
      "---\n",
      "\n",
      "### **3. 학습 과정**\n",
      "- LLMs는 대규모의 데이터集을 훈련시키며, 이 데이터를 기반으로 모델을 학습합니다.\n",
      "- 학습 과정은 **데이터의 풍부함**과 **산소 소비** 등의 computational resources를 필요로 하며, 기술 발전에 따라 성능이不断提高.\n",
      "\n",
      "---\n",
      "\n",
      "### **4. 기능**\n",
      "- **문장 생성/인식**: 자연어를 생성하거나, 특정 문장을 분석합니다.\n",
      "- **번역**: 다양한 언어를 대응할 수 있는 모델입니다.\n",
      "- **문법 분석**: 문장 구조를 분석하고, 관련된 핵심 개념을 정확히 이해할 수 있습니다.\n",
      "- **기타**: 문법 오류 수정, 텍스트 대체, 대형 자연어 대응 등 다양한 기능을 지원합니다.\n",
      "\n",
      "---\n",
      "\n",
      "### **5. 제한**\n",
      "- LLMs는 인간의 감정, 판단, 인식 능력\n"
     ]
    }
   ],
   "source": [
    "print(result[0][\"generated_text\"][1]['content'])"
   ]
  },
  {
   "cell_type": "markdown",
   "id": "0f0ea454-a9ed-45dc-94eb-99766a349b5c",
   "metadata": {},
   "source": [
    "### 마스크 채우기"
   ]
  },
  {
   "cell_type": "code",
   "execution_count": 14,
   "id": "17d7118a-ab88-47ba-b54e-ae751f35741b",
   "metadata": {
    "tags": []
   },
   "outputs": [
    {
     "data": {
      "application/vnd.jupyter.widget-view+json": {
       "model_id": "ad5fab19bce342d199447a43de724e58",
       "version_major": 2,
       "version_minor": 0
      },
      "text/plain": [
       "config.json:   0%|          | 0.00/480 [00:00<?, ?B/s]"
      ]
     },
     "metadata": {},
     "output_type": "display_data"
    },
    {
     "name": "stderr",
     "output_type": "stream",
     "text": [
      "c:\\Users\\Playdata\\miniconda3\\envs\\dl\\Lib\\site-packages\\huggingface_hub\\file_download.py:143: UserWarning: `huggingface_hub` cache-system uses symlinks by default to efficiently store duplicated files but your machine does not support them in C:\\Users\\Playdata\\.cache\\huggingface\\hub\\models--distilroberta-base. Caching files will still work but in a degraded version that might require more space on your disk. This warning can be disabled by setting the `HF_HUB_DISABLE_SYMLINKS_WARNING` environment variable. For more details, see https://huggingface.co/docs/huggingface_hub/how-to-cache#limitations.\n",
      "To support symlinks on Windows, you either need to activate Developer Mode or to run Python as an administrator. In order to activate developer mode, see this article: https://docs.microsoft.com/en-us/windows/apps/get-started/enable-your-device-for-development\n",
      "  warnings.warn(message)\n",
      "Xet Storage is enabled for this repo, but the 'hf_xet' package is not installed. Falling back to regular HTTP download. For better performance, install the package with: `pip install huggingface_hub[hf_xet]` or `pip install hf_xet`\n"
     ]
    },
    {
     "data": {
      "application/vnd.jupyter.widget-view+json": {
       "model_id": "8f17e95be39c4543863c2ab8004ce830",
       "version_major": 2,
       "version_minor": 0
      },
      "text/plain": [
       "model.safetensors:   0%|          | 0.00/331M [00:00<?, ?B/s]"
      ]
     },
     "metadata": {},
     "output_type": "display_data"
    },
    {
     "name": "stderr",
     "output_type": "stream",
     "text": [
      "Some weights of the model checkpoint at distilroberta-base were not used when initializing RobertaForMaskedLM: ['roberta.pooler.dense.bias', 'roberta.pooler.dense.weight']\n",
      "- This IS expected if you are initializing RobertaForMaskedLM from the checkpoint of a model trained on another task or with another architecture (e.g. initializing a BertForSequenceClassification model from a BertForPreTraining model).\n",
      "- This IS NOT expected if you are initializing RobertaForMaskedLM from the checkpoint of a model that you expect to be exactly identical (initializing a BertForSequenceClassification model from a BertForSequenceClassification model).\n"
     ]
    },
    {
     "data": {
      "application/vnd.jupyter.widget-view+json": {
       "model_id": "f3b9d71330fd4a2280495eaff9397103",
       "version_major": 2,
       "version_minor": 0
      },
      "text/plain": [
       "tokenizer_config.json:   0%|          | 0.00/25.0 [00:00<?, ?B/s]"
      ]
     },
     "metadata": {},
     "output_type": "display_data"
    },
    {
     "data": {
      "application/vnd.jupyter.widget-view+json": {
       "model_id": "6f978d10d6474728b67df12653c7b49d",
       "version_major": 2,
       "version_minor": 0
      },
      "text/plain": [
       "vocab.json:   0%|          | 0.00/899k [00:00<?, ?B/s]"
      ]
     },
     "metadata": {},
     "output_type": "display_data"
    },
    {
     "data": {
      "application/vnd.jupyter.widget-view+json": {
       "model_id": "352d250963ba4c3ebc920dc0ad37645c",
       "version_major": 2,
       "version_minor": 0
      },
      "text/plain": [
       "merges.txt:   0%|          | 0.00/456k [00:00<?, ?B/s]"
      ]
     },
     "metadata": {},
     "output_type": "display_data"
    },
    {
     "data": {
      "application/vnd.jupyter.widget-view+json": {
       "model_id": "3419fd9dcae2488c99aba709533c732f",
       "version_major": 2,
       "version_minor": 0
      },
      "text/plain": [
       "tokenizer.json:   0%|          | 0.00/1.36M [00:00<?, ?B/s]"
      ]
     },
     "metadata": {},
     "output_type": "display_data"
    },
    {
     "name": "stderr",
     "output_type": "stream",
     "text": [
      "Device set to use cpu\n"
     ]
    }
   ],
   "source": [
    "text = \"I'm going to <mask> because <mask> am hurt.\"\n",
    "model=\"distilroberta-base\"\n",
    "\n",
    "pipe = pipeline(task=\"fill-mask\", model=model)\n",
    "result = pipe(text, top_k=2) # <mask>에 들어갈 확률이 가장높은 단어 2개(top_k=2)를 찾기."
   ]
  },
  {
   "cell_type": "code",
   "execution_count": 15,
   "id": "6947c54b",
   "metadata": {},
   "outputs": [
    {
     "data": {
      "text/plain": [
       "[[{'score': 0.26520147919654846,\n",
       "   'token': 8930,\n",
       "   'token_str': ' cry',\n",
       "   'sequence': \"<s>I'm going to cry because<mask> am hurt.</s>\"},\n",
       "  {'score': 0.06089096516370773,\n",
       "   'token': 3581,\n",
       "   'token_str': ' sleep',\n",
       "   'sequence': \"<s>I'm going to sleep because<mask> am hurt.</s>\"}],\n",
       " [{'score': 0.9930052161216736,\n",
       "   'token': 38,\n",
       "   'token_str': ' I',\n",
       "   'sequence': \"<s>I'm going to<mask> because I am hurt.</s>\"},\n",
       "  {'score': 0.006336296442896128,\n",
       "   'token': 939,\n",
       "   'token_str': ' i',\n",
       "   'sequence': \"<s>I'm going to<mask> because i am hurt.</s>\"}]]"
      ]
     },
     "execution_count": 15,
     "metadata": {},
     "output_type": "execute_result"
    }
   ],
   "source": [
    "result"
   ]
  },
  {
   "cell_type": "code",
   "execution_count": 18,
   "id": "b79d04ce-c7b9-45bd-b5bd-e0b2c73f1bea",
   "metadata": {},
   "outputs": [
    {
     "data": {
      "application/vnd.jupyter.widget-view+json": {
       "model_id": "7de2a1a9e27142f0abe1de18b127bfb5",
       "version_major": 2,
       "version_minor": 0
      },
      "text/plain": [
       "config.json:   0%|          | 0.00/619 [00:00<?, ?B/s]"
      ]
     },
     "metadata": {},
     "output_type": "display_data"
    },
    {
     "name": "stderr",
     "output_type": "stream",
     "text": [
      "c:\\Users\\Playdata\\miniconda3\\envs\\dl\\Lib\\site-packages\\huggingface_hub\\file_download.py:143: UserWarning: `huggingface_hub` cache-system uses symlinks by default to efficiently store duplicated files but your machine does not support them in C:\\Users\\Playdata\\.cache\\huggingface\\hub\\models--beomi--kcbert-base. Caching files will still work but in a degraded version that might require more space on your disk. This warning can be disabled by setting the `HF_HUB_DISABLE_SYMLINKS_WARNING` environment variable. For more details, see https://huggingface.co/docs/huggingface_hub/how-to-cache#limitations.\n",
      "To support symlinks on Windows, you either need to activate Developer Mode or to run Python as an administrator. In order to activate developer mode, see this article: https://docs.microsoft.com/en-us/windows/apps/get-started/enable-your-device-for-development\n",
      "  warnings.warn(message)\n",
      "Xet Storage is enabled for this repo, but the 'hf_xet' package is not installed. Falling back to regular HTTP download. For better performance, install the package with: `pip install huggingface_hub[hf_xet]` or `pip install hf_xet`\n"
     ]
    },
    {
     "data": {
      "application/vnd.jupyter.widget-view+json": {
       "model_id": "800dab5bb4614c99886006af47caa8cb",
       "version_major": 2,
       "version_minor": 0
      },
      "text/plain": [
       "model.safetensors:   0%|          | 0.00/438M [00:00<?, ?B/s]"
      ]
     },
     "metadata": {},
     "output_type": "display_data"
    },
    {
     "name": "stderr",
     "output_type": "stream",
     "text": [
      "Some weights of the model checkpoint at beomi/kcbert-base were not used when initializing BertForMaskedLM: ['bert.pooler.dense.bias', 'bert.pooler.dense.weight', 'cls.seq_relationship.bias', 'cls.seq_relationship.weight']\n",
      "- This IS expected if you are initializing BertForMaskedLM from the checkpoint of a model trained on another task or with another architecture (e.g. initializing a BertForSequenceClassification model from a BertForPreTraining model).\n",
      "- This IS NOT expected if you are initializing BertForMaskedLM from the checkpoint of a model that you expect to be exactly identical (initializing a BertForSequenceClassification model from a BertForSequenceClassification model).\n"
     ]
    },
    {
     "data": {
      "application/vnd.jupyter.widget-view+json": {
       "model_id": "90b31de3b478439881fc799a161bc49d",
       "version_major": 2,
       "version_minor": 0
      },
      "text/plain": [
       "tokenizer_config.json:   0%|          | 0.00/49.0 [00:00<?, ?B/s]"
      ]
     },
     "metadata": {},
     "output_type": "display_data"
    },
    {
     "data": {
      "application/vnd.jupyter.widget-view+json": {
       "model_id": "f743283f3e534518a09bba12b77d552b",
       "version_major": 2,
       "version_minor": 0
      },
      "text/plain": [
       "vocab.txt:   0%|          | 0.00/250k [00:00<?, ?B/s]"
      ]
     },
     "metadata": {},
     "output_type": "display_data"
    },
    {
     "name": "stderr",
     "output_type": "stream",
     "text": [
      "Device set to use cpu\n"
     ]
    }
   ],
   "source": [
    "text = \"오늘 밤은 전국이 흐린 가운데 대부분 지역에 [MASK]가 내리겠고, 기온이 내려가면서 점차 [MASK]이 오는 곳이 많겠습니다\"\n",
    "# pipe(text, top_k=2) # roberta모델은 한글을 학습하지 않은 모델.\n",
    "\n",
    "model='beomi/kcbert-base'\n",
    "pipe = pipeline(task='fill-mask', model=model)"
   ]
  },
  {
   "cell_type": "code",
   "execution_count": 19,
   "id": "b48aee86",
   "metadata": {},
   "outputs": [
    {
     "data": {
      "text/plain": [
       "[[{'score': 0.6340416669845581,\n",
       "   'token': 4072,\n",
       "   'token_str': '##서',\n",
       "   'sequence': '[CLS] 오늘 밤은 전국이 흐린 가운데 대부분 지역에서 가 내리겠고, 기온이 내려가면서 점차 [MASK] 이 오는 곳이 많겠습니다 [SEP]'},\n",
       "  {'score': 0.11311744153499603,\n",
       "   'token': 28206,\n",
       "   'token_str': '비가',\n",
       "   'sequence': '[CLS] 오늘 밤은 전국이 흐린 가운데 대부분 지역에 비가 가 내리겠고, 기온이 내려가면서 점차 [MASK] 이 오는 곳이 많겠습니다 [SEP]'},\n",
       "  {'score': 0.03714243322610855,\n",
       "   'token': 12,\n",
       "   'token_str': ')',\n",
       "   'sequence': '[CLS] 오늘 밤은 전국이 흐린 가운데 대부분 지역에 ) 가 내리겠고, 기온이 내려가면서 점차 [MASK] 이 오는 곳이 많겠습니다 [SEP]'},\n",
       "  {'score': 0.035172488540410995,\n",
       "   'token': 1664,\n",
       "   'token_str': '비',\n",
       "   'sequence': '[CLS] 오늘 밤은 전국이 흐린 가운데 대부분 지역에 비 가 내리겠고, 기온이 내려가면서 점차 [MASK] 이 오는 곳이 많겠습니다 [SEP]'},\n",
       "  {'score': 0.0196221936494112,\n",
       "   'token': 9666,\n",
       "   'token_str': '##서는',\n",
       "   'sequence': '[CLS] 오늘 밤은 전국이 흐린 가운데 대부분 지역에서는 가 내리겠고, 기온이 내려가면서 점차 [MASK] 이 오는 곳이 많겠습니다 [SEP]'}],\n",
       " [{'score': 0.10058414191007614,\n",
       "   'token': 10108,\n",
       "   'token_str': '바람',\n",
       "   'sequence': '[CLS] 오늘 밤은 전국이 흐린 가운데 대부분 지역에 [MASK] 가 내리겠고, 기온이 내려가면서 점차 바람 이 오는 곳이 많겠습니다 [SEP]'},\n",
       "  {'score': 0.049839746206998825,\n",
       "   'token': 10741,\n",
       "   'token_str': '영향',\n",
       "   'sequence': '[CLS] 오늘 밤은 전국이 흐린 가운데 대부분 지역에 [MASK] 가 내리겠고, 기온이 내려가면서 점차 영향 이 오는 곳이 많겠습니다 [SEP]'},\n",
       "  {'score': 0.04805596172809601,\n",
       "   'token': 8270,\n",
       "   'token_str': '서울',\n",
       "   'sequence': '[CLS] 오늘 밤은 전국이 흐린 가운데 대부분 지역에 [MASK] 가 내리겠고, 기온이 내려가면서 점차 서울 이 오는 곳이 많겠습니다 [SEP]'},\n",
       "  {'score': 0.047675393521785736,\n",
       "   'token': 13458,\n",
       "   'token_str': '수도권',\n",
       "   'sequence': '[CLS] 오늘 밤은 전국이 흐린 가운데 대부분 지역에 [MASK] 가 내리겠고, 기온이 내려가면서 점차 수도권 이 오는 곳이 많겠습니다 [SEP]'},\n",
       "  {'score': 0.039943765848875046,\n",
       "   'token': 13110,\n",
       "   'token_str': '태풍',\n",
       "   'sequence': '[CLS] 오늘 밤은 전국이 흐린 가운데 대부분 지역에 [MASK] 가 내리겠고, 기온이 내려가면서 점차 태풍 이 오는 곳이 많겠습니다 [SEP]'}]]"
      ]
     },
     "execution_count": 19,
     "metadata": {},
     "output_type": "execute_result"
    }
   ],
   "source": [
    "pipe(text)"
   ]
  },
  {
   "cell_type": "markdown",
   "id": "35cc4f2c-0757-4f96-9ec5-d7fe38ac0d94",
   "metadata": {},
   "source": [
    "### Token별 분류\n",
    "- task: token-classification \n",
    "  - 개체명인식(ner), 품사부착(pos tagging)을 수행하는 task \n",
    "  - 개체명 인식은 문장에서 특정한 개체명(예: 사람 이름, 지명, 조직명 등)을 식별하는 task이다. "
   ]
  },
  {
   "cell_type": "code",
   "execution_count": 21,
   "id": "c2c9e5a5-c389-4a67-9a56-ef89d45a5765",
   "metadata": {},
   "outputs": [
    {
     "name": "stderr",
     "output_type": "stream",
     "text": [
      "Some weights of the model checkpoint at dbmdz/bert-large-cased-finetuned-conll03-english were not used when initializing BertForTokenClassification: ['bert.pooler.dense.bias', 'bert.pooler.dense.weight']\n",
      "- This IS expected if you are initializing BertForTokenClassification from the checkpoint of a model trained on another task or with another architecture (e.g. initializing a BertForSequenceClassification model from a BertForPreTraining model).\n",
      "- This IS NOT expected if you are initializing BertForTokenClassification from the checkpoint of a model that you expect to be exactly identical (initializing a BertForSequenceClassification model from a BertForSequenceClassification model).\n",
      "Device set to use cpu\n"
     ]
    }
   ],
   "source": [
    "text = \"My name is Sylvain and I work at Hugging Face in Brooklyn.\"\n",
    "model = \"dbmdz/bert-large-cased-finetuned-conll03-english\"\n",
    "\n",
    "pipe = pipeline(task='token-classification', model=model)"
   ]
  },
  {
   "cell_type": "code",
   "execution_count": 22,
   "id": "355c3c82",
   "metadata": {},
   "outputs": [
    {
     "data": {
      "text/plain": [
       "[{'entity': 'I-PER',\n",
       "  'score': 0.99938285,\n",
       "  'index': 4,\n",
       "  'word': 'S',\n",
       "  'start': 11,\n",
       "  'end': 12},\n",
       " {'entity': 'I-PER',\n",
       "  'score': 0.99815494,\n",
       "  'index': 5,\n",
       "  'word': '##yl',\n",
       "  'start': 12,\n",
       "  'end': 14},\n",
       " {'entity': 'I-PER',\n",
       "  'score': 0.99590707,\n",
       "  'index': 6,\n",
       "  'word': '##va',\n",
       "  'start': 14,\n",
       "  'end': 16},\n",
       " {'entity': 'I-PER',\n",
       "  'score': 0.99923277,\n",
       "  'index': 7,\n",
       "  'word': '##in',\n",
       "  'start': 16,\n",
       "  'end': 18},\n",
       " {'entity': 'I-ORG',\n",
       "  'score': 0.9738931,\n",
       "  'index': 12,\n",
       "  'word': 'Hu',\n",
       "  'start': 33,\n",
       "  'end': 35},\n",
       " {'entity': 'I-ORG',\n",
       "  'score': 0.976115,\n",
       "  'index': 13,\n",
       "  'word': '##gging',\n",
       "  'start': 35,\n",
       "  'end': 40},\n",
       " {'entity': 'I-ORG',\n",
       "  'score': 0.9887976,\n",
       "  'index': 14,\n",
       "  'word': 'Face',\n",
       "  'start': 41,\n",
       "  'end': 45},\n",
       " {'entity': 'I-LOC',\n",
       "  'score': 0.9932106,\n",
       "  'index': 16,\n",
       "  'word': 'Brooklyn',\n",
       "  'start': 49,\n",
       "  'end': 57}]"
      ]
     },
     "execution_count": 22,
     "metadata": {},
     "output_type": "execute_result"
    }
   ],
   "source": [
    "result = pipe(text)\n",
    "result"
   ]
  },
  {
   "cell_type": "markdown",
   "id": "be0029d1-ebad-4d30-8252-0a9eaa37c405",
   "metadata": {},
   "source": [
    "### 질의 응답\n",
    "- 문서와 질문을 주면 문서에서 답을 찾아 응답한다."
   ]
  },
  {
   "cell_type": "code",
   "execution_count": null,
   "id": "b62a1b36",
   "metadata": {},
   "outputs": [
    {
     "data": {
      "application/vnd.jupyter.widget-view+json": {
       "model_id": "05b18184cfe1462db006e8cb63ecb373",
       "version_major": 2,
       "version_minor": 0
      },
      "text/plain": [
       "config.json:   0%|          | 0.00/473 [00:00<?, ?B/s]"
      ]
     },
     "metadata": {},
     "output_type": "display_data"
    },
    {
     "name": "stderr",
     "output_type": "stream",
     "text": [
      "c:\\Users\\Playdata\\miniconda3\\envs\\dl\\Lib\\site-packages\\huggingface_hub\\file_download.py:143: UserWarning: `huggingface_hub` cache-system uses symlinks by default to efficiently store duplicated files but your machine does not support them in C:\\Users\\Playdata\\.cache\\huggingface\\hub\\models--distilbert-base-cased-distilled-squad. Caching files will still work but in a degraded version that might require more space on your disk. This warning can be disabled by setting the `HF_HUB_DISABLE_SYMLINKS_WARNING` environment variable. For more details, see https://huggingface.co/docs/huggingface_hub/how-to-cache#limitations.\n",
      "To support symlinks on Windows, you either need to activate Developer Mode or to run Python as an administrator. In order to activate developer mode, see this article: https://docs.microsoft.com/en-us/windows/apps/get-started/enable-your-device-for-development\n",
      "  warnings.warn(message)\n",
      "Xet Storage is enabled for this repo, but the 'hf_xet' package is not installed. Falling back to regular HTTP download. For better performance, install the package with: `pip install huggingface_hub[hf_xet]` or `pip install hf_xet`\n"
     ]
    },
    {
     "data": {
      "application/vnd.jupyter.widget-view+json": {
       "model_id": "125d3d92af474b089e25a44e4f9b3ce0",
       "version_major": 2,
       "version_minor": 0
      },
      "text/plain": [
       "model.safetensors:   0%|          | 0.00/261M [00:00<?, ?B/s]"
      ]
     },
     "metadata": {},
     "output_type": "display_data"
    },
    {
     "data": {
      "application/vnd.jupyter.widget-view+json": {
       "model_id": "59a3bd6c1ff04f8aba3e0865f60e1ea9",
       "version_major": 2,
       "version_minor": 0
      },
      "text/plain": [
       "tokenizer_config.json:   0%|          | 0.00/49.0 [00:00<?, ?B/s]"
      ]
     },
     "metadata": {},
     "output_type": "display_data"
    },
    {
     "data": {
      "application/vnd.jupyter.widget-view+json": {
       "model_id": "b69f4a4df32a4ce3a685b906e25efe96",
       "version_major": 2,
       "version_minor": 0
      },
      "text/plain": [
       "vocab.txt:   0%|          | 0.00/213k [00:00<?, ?B/s]"
      ]
     },
     "metadata": {},
     "output_type": "display_data"
    },
    {
     "data": {
      "application/vnd.jupyter.widget-view+json": {
       "model_id": "7cb010325e82464c8bfa66a673d5ee0e",
       "version_major": 2,
       "version_minor": 0
      },
      "text/plain": [
       "tokenizer.json:   0%|          | 0.00/436k [00:00<?, ?B/s]"
      ]
     },
     "metadata": {},
     "output_type": "display_data"
    },
    {
     "name": "stderr",
     "output_type": "stream",
     "text": [
      "Device set to use cpu\n"
     ]
    }
   ],
   "source": [
    "model = \"distilbert-base-cased-distilled-squad\"\n",
    "pipe = pipeline(task=\"question-answering\", model=model)"
   ]
  },
  {
   "cell_type": "code",
   "execution_count": 26,
   "id": "3a9231c1",
   "metadata": {},
   "outputs": [],
   "source": [
    "question=\"Where do I work?\"\n",
    "question=\"Where is Hugging Face?\"\n",
    "context=\"My name is Sylvain and I work at Hugging Face in Brooklyn\"\n",
    "\n",
    "result = pipe(question=question,  # 질문\n",
    "              context=context)    # 답을 찾을 문서"
   ]
  },
  {
   "cell_type": "code",
   "execution_count": 27,
   "id": "b74e7347-973c-472b-aa85-15dc8ebf78f9",
   "metadata": {},
   "outputs": [
    {
     "data": {
      "text/plain": [
       "{'score': 0.9893267154693604, 'start': 49, 'end': 57, 'answer': 'Brooklyn'}"
      ]
     },
     "execution_count": 27,
     "metadata": {},
     "output_type": "execute_result"
    }
   ],
   "source": [
    "result"
   ]
  },
  {
   "cell_type": "code",
   "execution_count": 30,
   "id": "7b9544c2-149f-406a-9097-13663ea82cb7",
   "metadata": {
    "tags": []
   },
   "outputs": [],
   "source": [
    "context = \"\"\"우리나라 2대 수출 품목인 자동차가 도널드 트럼프 미국 행정부의 관세 여파로 지난달 큰 폭의 수출 감소율을 보이면서 우려가 커지고 있다. 현대차, 기아의 미국 수출 비중이 최대 85%에 이르는 상황에서 자동차 관세 장기화 시 피해는 걷잡을 수 없이 불어날 것이라는 암울한 전망이 나온다.\n",
    "1일 산업통상자원부가 발표한 5월 수출입 동향에 따르면 지난달 자동차 수출은 작년 동기 대비 4.4% 감소한 62억달러로 집계됐다. 최대 자동차 시장인 미국으로의 수출은 18억4000만달러로 무려 32.0% 급감했다.\n",
    "4월 미국의 수입산 자동차 25% 관세 부과에 이어 5월부터 일부 자동차 부품에도 25%의 관세가 적용된 결과다. 관세 장기화 시 피해는 더 커질 것이라는 우려가 현실화한 셈이다.\n",
    "국내 완성차 1·2위 업체인 현대차·기아는 현지 생산 비중을 확대하는 동시에 가격 인상을 검토하고 있다. 관세 여파를 흡수하기 위해서다. 가격 인상이 현실화할 경우 미국 현지 판매는 줄어들 수밖에 없어 수출에는 더 악영향을 미칠 것으로 보인다.\n",
    "\"\"\"\n",
    "\n",
    "q1 = \"현대차 기아의 미국 수출비중은?\"\n",
    "q2 = \"자동차 수출이 얼마나 급감했나?\"\n",
    "q3 = \"대미 수출 감소에 국내 자동차 업체들의 대응방법은?\""
   ]
  },
  {
   "cell_type": "code",
   "execution_count": 29,
   "id": "2227db13",
   "metadata": {},
   "outputs": [
    {
     "data": {
      "application/vnd.jupyter.widget-view+json": {
       "model_id": "59e9b2afb36547a19c1250689cc6d0cf",
       "version_major": 2,
       "version_minor": 0
      },
      "text/plain": [
       "config.json:   0%|          | 0.00/609 [00:00<?, ?B/s]"
      ]
     },
     "metadata": {},
     "output_type": "display_data"
    },
    {
     "name": "stderr",
     "output_type": "stream",
     "text": [
      "c:\\Users\\Playdata\\miniconda3\\envs\\dl\\Lib\\site-packages\\huggingface_hub\\file_download.py:143: UserWarning: `huggingface_hub` cache-system uses symlinks by default to efficiently store duplicated files but your machine does not support them in C:\\Users\\Playdata\\.cache\\huggingface\\hub\\models--ainize--klue-bert-base-mrc. Caching files will still work but in a degraded version that might require more space on your disk. This warning can be disabled by setting the `HF_HUB_DISABLE_SYMLINKS_WARNING` environment variable. For more details, see https://huggingface.co/docs/huggingface_hub/how-to-cache#limitations.\n",
      "To support symlinks on Windows, you either need to activate Developer Mode or to run Python as an administrator. In order to activate developer mode, see this article: https://docs.microsoft.com/en-us/windows/apps/get-started/enable-your-device-for-development\n",
      "  warnings.warn(message)\n"
     ]
    },
    {
     "data": {
      "application/vnd.jupyter.widget-view+json": {
       "model_id": "f9c6fd1be7b84ec09854ed952f58ebd5",
       "version_major": 2,
       "version_minor": 0
      },
      "text/plain": [
       "pytorch_model.bin:   0%|          | 0.00/440M [00:00<?, ?B/s]"
      ]
     },
     "metadata": {},
     "output_type": "display_data"
    },
    {
     "data": {
      "application/vnd.jupyter.widget-view+json": {
       "model_id": "889659b532484dd6b0f55f9ec8b38ffe",
       "version_major": 2,
       "version_minor": 0
      },
      "text/plain": [
       "tokenizer_config.json:   0%|          | 0.00/499 [00:00<?, ?B/s]"
      ]
     },
     "metadata": {},
     "output_type": "display_data"
    },
    {
     "data": {
      "application/vnd.jupyter.widget-view+json": {
       "model_id": "03f2eefc93034bd3a1ac39a8f7ee4b41",
       "version_major": 2,
       "version_minor": 0
      },
      "text/plain": [
       "vocab.txt:   0%|          | 0.00/248k [00:00<?, ?B/s]"
      ]
     },
     "metadata": {},
     "output_type": "display_data"
    },
    {
     "data": {
      "application/vnd.jupyter.widget-view+json": {
       "model_id": "2c96bbfb325249ad9c691d8339f466c4",
       "version_major": 2,
       "version_minor": 0
      },
      "text/plain": [
       "model.safetensors:   0%|          | 0.00/440M [00:00<?, ?B/s]"
      ]
     },
     "metadata": {},
     "output_type": "display_data"
    },
    {
     "data": {
      "application/vnd.jupyter.widget-view+json": {
       "model_id": "1b39a1d6bbb94462a932693acffecc81",
       "version_major": 2,
       "version_minor": 0
      },
      "text/plain": [
       "tokenizer.json:   0%|          | 0.00/495k [00:00<?, ?B/s]"
      ]
     },
     "metadata": {},
     "output_type": "display_data"
    },
    {
     "data": {
      "application/vnd.jupyter.widget-view+json": {
       "model_id": "c3fdc511d7444716bf5b3218f00c8cc2",
       "version_major": 2,
       "version_minor": 0
      },
      "text/plain": [
       "special_tokens_map.json:   0%|          | 0.00/112 [00:00<?, ?B/s]"
      ]
     },
     "metadata": {},
     "output_type": "display_data"
    },
    {
     "name": "stderr",
     "output_type": "stream",
     "text": [
      "Device set to use cpu\n"
     ]
    }
   ],
   "source": [
    "model = \"ainize/klue-bert-base-mrc\"\n",
    "pipe = pipeline(task='question-answering', model=model)"
   ]
  },
  {
   "cell_type": "code",
   "execution_count": 31,
   "id": "de619668",
   "metadata": {},
   "outputs": [],
   "source": [
    "result = pipe(question=[q1, q2, q3], context=context)"
   ]
  },
  {
   "cell_type": "code",
   "execution_count": 32,
   "id": "dbcd498b",
   "metadata": {},
   "outputs": [
    {
     "data": {
      "text/plain": [
       "[{'score': 0.6396173238754272, 'start': 99, 'end': 102, 'answer': '85%'},\n",
       " {'score': 0.632358193397522, 'start': 271, 'end': 276, 'answer': '32.0%'},\n",
       " {'score': 0.013693439774215221, 'start': 427, 'end': 433, 'answer': '가격 인상을'}]"
      ]
     },
     "execution_count": 32,
     "metadata": {},
     "output_type": "execute_result"
    }
   ],
   "source": [
    "result"
   ]
  },
  {
   "cell_type": "markdown",
   "id": "e79683e5-f872-4b4d-b46f-edd38428651e",
   "metadata": {},
   "source": [
    "### 문서 요약"
   ]
  },
  {
   "cell_type": "code",
   "execution_count": null,
   "id": "0135048e-d1df-4734-9a10-dbaee7109e6a",
   "metadata": {},
   "outputs": [],
   "source": [
    "model = \"eenzeenee/t5-base-korean-summarization\""
   ]
  },
  {
   "cell_type": "code",
   "execution_count": null,
   "id": "37e8c1a0-8894-4d9f-afa8-b2f6a16c8f87",
   "metadata": {},
   "outputs": [],
   "source": []
  },
  {
   "cell_type": "markdown",
   "id": "8be2c20d-c32d-44bf-98dc-552bc5409aa3",
   "metadata": {},
   "source": [
    "### 번역"
   ]
  },
  {
   "cell_type": "code",
   "execution_count": null,
   "id": "f050129d-7e5b-4cf2-b3a3-0e3ba21af591",
   "metadata": {},
   "outputs": [],
   "source": [
    "model = \"Helsinki-NLP/opus-mt-fr-en\"\n",
    "text = \"Ce cours est produit par Hugging Face.\""
   ]
  },
  {
   "cell_type": "code",
   "execution_count": null,
   "id": "e583f995-32bd-4454-b1ab-9d5cd1fdbcc3",
   "metadata": {},
   "outputs": [],
   "source": [
    "model = \"Helsinki-NLP/opus-mt-ko-en\""
   ]
  },
  {
   "cell_type": "code",
   "execution_count": null,
   "id": "453de109-8ce8-4cae-94e9-ce24f068c5ef",
   "metadata": {},
   "outputs": [],
   "source": []
  },
  {
   "cell_type": "markdown",
   "id": "bb854488-6677-49db-a82e-eee1a33c7264",
   "metadata": {},
   "source": [
    "### 이미지를 설명하는 텍스트 생성"
   ]
  },
  {
   "cell_type": "code",
   "execution_count": null,
   "id": "081aaf53-bed8-45ad-aab3-052f3cc6feca",
   "metadata": {},
   "outputs": [],
   "source": [
    "url = \"https://huggingface.co/datasets/Narsil/image_dummy/resolve/main/parrots.png\"\n",
    "url = \"https://th.bing.com/th?id=ORMS.c526884bbea37c0bb9501f4f83b601e4&pid=Wdp&w=268&h=140&qlt=90&c=1&rs=1&dpr=1&p=0\"\n",
    "url = \"http://images.cocodataset.org/val2017/000000039769.jpg\""
   ]
  },
  {
   "cell_type": "code",
   "execution_count": null,
   "id": "7bbcf876-b4bb-4202-afc4-e89404005eb5",
   "metadata": {},
   "outputs": [],
   "source": [
    "model = \"ydshieh/vit-gpt2-coco-en\""
   ]
  },
  {
   "cell_type": "markdown",
   "id": "117df1f4-5ebd-41ad-ab6f-9f69a70d99a7",
   "metadata": {},
   "source": [
    "### 이미지 분류"
   ]
  },
  {
   "cell_type": "code",
   "execution_count": null,
   "id": "1c9fbf6b-2697-427b-ab75-bd5a75348d5b",
   "metadata": {
    "tags": []
   },
   "outputs": [],
   "source": [
    "url = \"https://pds.joongang.co.kr/news/component/htmlphoto_mmdata/202306/25/488f9638-800c-4bac-ad65-82877fbff79b.jpg\""
   ]
  },
  {
   "cell_type": "code",
   "execution_count": null,
   "id": "897952e6-3aa2-4c10-956d-dde4fc14b917",
   "metadata": {},
   "outputs": [],
   "source": [
    "model = \"google/vit-base-patch16-224\""
   ]
  },
  {
   "cell_type": "code",
   "execution_count": null,
   "id": "b59f58d0-226f-4997-87d9-b4a029318940",
   "metadata": {},
   "outputs": [],
   "source": []
  },
  {
   "cell_type": "markdown",
   "id": "d2e2b6a3",
   "metadata": {},
   "source": [
    "### Object Detection"
   ]
  },
  {
   "cell_type": "code",
   "execution_count": null,
   "id": "b1416074-2c80-4df1-b4e7-38691a7fedc7",
   "metadata": {},
   "outputs": [],
   "source": [
    "image_path = r\"data/image1.jpg\"\n",
    "image_path = r\"data/image2.jpg\"\n",
    "image_path = r\"data/image3.jpg\"\n",
    "\n",
    "model='facebook/detr-resnet-50'"
   ]
  }
 ],
 "metadata": {
  "kernelspec": {
   "display_name": "dl",
   "language": "python",
   "name": "python3"
  },
  "language_info": {
   "codemirror_mode": {
    "name": "ipython",
    "version": 3
   },
   "file_extension": ".py",
   "mimetype": "text/x-python",
   "name": "python",
   "nbconvert_exporter": "python",
   "pygments_lexer": "ipython3",
   "version": "3.12.10"
  }
 },
 "nbformat": 4,
 "nbformat_minor": 5
}
