{
 "cells": [
  {
   "cell_type": "markdown",
   "metadata": {},
   "source": [
    "# 성능개선 기법 실습\n"
   ]
  },
  {
   "cell_type": "markdown",
   "metadata": {},
   "source": [
    "# 모듈 정의\n"
   ]
  },
  {
   "cell_type": "markdown",
   "metadata": {},
   "source": [
    "## train.py\n",
    "\n",
    "-   모델 학습과 검증 함수 정의\n"
   ]
  },
  {
   "cell_type": "code",
   "execution_count": 1,
   "metadata": {},
   "outputs": [],
   "source": [
    "import os\n",
    "\n",
    "os.makedirs(\"module\", exist_ok=True)"
   ]
  },
  {
   "cell_type": "code",
   "execution_count": 2,
   "metadata": {
    "code_folding": []
   },
   "outputs": [
    {
     "name": "stdout",
     "output_type": "stream",
     "text": [
      "Writing module/train.py\n"
     ]
    }
   ],
   "source": [
    "%%writefile module/train.py\n",
    "\n",
    "import torch\n",
    "import time\n",
    "\n",
    "def test_multi_classification(dataloader, model, loss_fn, device=\"cpu\") -> tuple:\n",
    "    \"\"\"\n",
    "    다중 분류 검증/평가 함수\n",
    "    \n",
    "    Args:\n",
    "        dataloader: DataLoader - 검증할 대상 데이터로더\n",
    "        model: 검증할 모델\n",
    "        loss_fn: 모델 추정값과 정답의 차이를 계산할 loss 함수.\n",
    "        device: str - 연산을 처리할 장치. default-\"cpu\", gpu-\"cuda\"\n",
    "    Returns:\n",
    "        tuple: (loss, accuracy)\n",
    "    \"\"\"\n",
    "    model.to(device)\n",
    "    model.eval() \n",
    "    size = len(dataloader.dataset)\n",
    "    num_steps = len(dataloader)\n",
    "    \n",
    "    test_loss, test_accuracy = 0., 0.\n",
    "    \n",
    "    with torch.no_grad():\n",
    "        for X, y in dataloader:\n",
    "            X, y = X.to(device), y.to(device)\n",
    "            pred = model(X)\n",
    "            test_loss += loss_fn(pred, y).item()\n",
    "            # 정확도 계산\n",
    "            pred_label = torch.argmax(pred, axis=-1)\n",
    "            test_accuracy += torch.sum(pred_label == y).item()\n",
    "            \n",
    "        test_loss /= num_steps\n",
    "        test_accuracy /= size\n",
    "    return test_loss, test_accuracy\n",
    "\n",
    "def test_binary_classification(dataloader, model, loss_fn, device=\"cpu\") -> tuple:\n",
    "    \"\"\"\n",
    "    이진 분류 검증/평가 함수\n",
    "    \n",
    "    Args:\n",
    "        dataloader: DataLoader - 검증할 대상 데이터로더\n",
    "        model: 검증할 모델\n",
    "        loss_fn: 모델 추정값과 정답의 차이를 계산할 loss 함수.\n",
    "        device: str - 연산을 처리할 장치. default-\"cpu\", gpu-\"cuda\"\n",
    "    Returns:\n",
    "        tuple: (loss, accuracy)\n",
    "    \"\"\"\n",
    "    model.to(device)\n",
    "    model.eval() # 모델을 평가모드로 변환\n",
    "    size = len(dataloader.dataset)\n",
    "    num_steps = len(dataloader)\n",
    "    \n",
    "    test_loss, test_accuracy = 0., 0.\n",
    "    \n",
    "    with torch.no_grad():\n",
    "        for X, y in dataloader:\n",
    "            X, y = X.to(device), y.to(device)\n",
    "            pred = model(X)\n",
    "            test_loss += loss_fn(pred, y).item()\n",
    "            ## 정확도 계산\n",
    "            pred_label = (pred >= 0.5).type(torch.int32)\n",
    "            test_accuracy += (pred_label == y).sum().item() \n",
    "            \n",
    "        test_loss /= num_steps\n",
    "        test_accuracy /= size   #전체 개수로 나눈다.\n",
    "    return test_loss, test_accuracy    \n",
    "\n",
    "def train(dataloader, model, loss_fn, optimizer, device=\"cpu\", mode:\"binary or multi\"='binary'):\n",
    "    \"\"\"\n",
    "    모델을 1 epoch 학습시키는 함수\n",
    "\n",
    "    Args:\n",
    "        dataloader: DataLoader - 학습데이터셋을 제공하는 DataLoader\n",
    "        model - 학습대상 모델\n",
    "        loss_fn: 모델 추정값과 정답의 차이를 계산할 loss 함수.\n",
    "        optimizer - 최적화 함수\n",
    "        device: str - 연산을 처리할 장치. default-\"cpu\", gpu-\"cuda\"\n",
    "        mode: str - 분류 종류. binary 또는 multi\n",
    "    \n",
    "    Returns:\n",
    "        tuple: 학습후 계산한 Train set에 대한  train_loss, train_accuracy\n",
    "    \"\"\"\n",
    "    model.train()\n",
    "    size = len(dataloader.dataset) # 총 데이터포인트 개수\n",
    "\n",
    "    for X, y in dataloader:\n",
    "        # 1. DEVICE로 이동동\n",
    "        X, y = X.to(device), y.to(device)\\\n",
    "        # 2. 모델 추정\n",
    "        pred = model(X)\n",
    "        # 3. loss 계산\n",
    "        loss = loss_fn(pred, y)\n",
    "        # 4. gradient 초기화\n",
    "        optimizer.zero_grad()\n",
    "        # 5. gradient 계산\n",
    "        loss.backward()\n",
    "        # 6. 파라미터 업데이트트\n",
    "        optimizer.step()\n",
    "        \n",
    "    if mode == 'binary':\n",
    "        train_loss, train_accuracy = test_binary_classification(dataloader, model, loss_fn, device)\n",
    "    else:\n",
    "        train_loss, train_accuracy = test_multi_classification(dataloader, model, loss_fn, device)\n",
    "    return train_loss, train_accuracy\n",
    "\n",
    "\n",
    "\n",
    "def fit(train_loader, val_loader, model, loss_fn, optimizer, epochs, save_best_model=True, \n",
    "        save_model_path=None, early_stopping=True, patience=10, device='cpu',  mode:\"binary or multi\"='binary',\n",
    "        lr_scheduler=None):\n",
    "    \"\"\"\n",
    "    모델을 학습시키는 함수\n",
    "\n",
    "    Args:\n",
    "        train_loader (Dataloader): Train dataloader\n",
    "        test_loader (Dataloader): validation dataloader\n",
    "        model (Module): 학습시킬 모델\n",
    "        loss_fn (_Loss): Loss function\n",
    "        optimizer (Optimizer): Optimizer\n",
    "        epochs (int): epoch수\n",
    "        save_best_model (bool, optional): 학습도중 성능개선시 모델 저장 여부. Defaults to True.\n",
    "        save_model_path (str, optional): save_best_model=True일 때 모델저장할 파일 경로. Defaults to None.\n",
    "        early_stopping (bool, optional): 조기 종료 여부. Defaults to True.\n",
    "        patience (int, optional): 조기종료 True일 때 종료전에 성능이 개선될지 몇 epoch까지 기다릴지 epoch수. Defaults to 10.\n",
    "        device (str, optional): device. Defaults to 'cpu'.\n",
    "        mode(str, optinal): 분류 종류. \"binary(default) or multi\n",
    "        lr_scheduler: Learning Rate Scheduler 객체. default: None, Epoch 단위로 LR 를 변경.\n",
    "    \n",
    "    Returns:\n",
    "        tuple: 에폭 별 성능 리스트. (train_loss_list, train_accuracy_list, validation_loss_list, validataion_accuracy_list)\n",
    "    \"\"\"\n",
    "\n",
    "    train_loss_list = []\n",
    "    train_accuracy_list = []\n",
    "    val_loss_list = []\n",
    "    val_accuracy_list = []\n",
    "    \n",
    "        \n",
    "    if save_best_model:\n",
    "        best_score_save = torch.inf\n",
    "\n",
    "    ############################\n",
    "    # early stopping\n",
    "    #############################\n",
    "    if early_stopping:\n",
    "        trigger_count = 0\n",
    "        best_score_es = torch.inf\n",
    "    \n",
    "    # 모델 device로 옮기기\n",
    "    model = model.to(device)\n",
    "    s = time.time()\n",
    "    for epoch in range(epochs):\n",
    "        train_loss, train_accuracy = train(train_loader, model, loss_fn, optimizer, device=device, mode=mode)\n",
    "        \n",
    "        ############ 1 epoch 학습 종료 -> Learning Rate 를 변경 ###########\n",
    "        # if lr_scheduler is not None:\n",
    "        #     current_lr = lr_scheduler.get_last_lr()[0]  # log용\n",
    "        #     lr_scheduler.step()\n",
    "        #     new_lr = lr_scheduler.get_last_lr()[0] # log용\n",
    "        #     if current_lr != new_lr: # LR가 변경되었으면\n",
    "        #         print(f\">>>>>>Learning Rate가 {current_lr}에서 {new_lr}로 변경됨<<<<<<\")\n",
    "\n",
    "        \n",
    "        if mode == \"binary\":\n",
    "            val_loss, val_accuracy = test_binary_classification(val_loader, model, loss_fn, device=device)\n",
    "        else:\n",
    "            val_loss, val_accuracy = test_multi_classification(val_loader, model, loss_fn, device=device)\n",
    "\n",
    "        train_loss_list.append(train_loss)\n",
    "        train_accuracy_list.append(train_accuracy)\n",
    "        val_loss_list.append(val_loss)\n",
    "        val_accuracy_list.append(val_accuracy)\n",
    "        \n",
    "        print(f\"Epoch[{epoch+1}/{epochs}] - Train loss: {train_loss:.5f} Train Accucracy: {train_accuracy:.5f} || Validation Loss: {val_loss:.5f} Validation Accuracy: {val_accuracy:.5f}\")\n",
    "        print('='*100)\n",
    "        \n",
    "        # 모델 저장\n",
    "        if save_best_model:\n",
    "            if val_loss < best_score_save:\n",
    "                torch.save(model, save_model_path)\n",
    "                print(f\"저장: {epoch+1} - 이전 : {best_score_save}, 현재: {val_loss}\")\n",
    "                best_score_save = val_loss\n",
    "        \n",
    "        # early stopping 처리            \n",
    "        if early_stopping:\n",
    "            if val_loss < best_score_es: \n",
    "                best_score_es = val_loss  \n",
    "                trigger_count = 0\n",
    "                                \n",
    "            else:\n",
    "                trigger_count += 1                \n",
    "                if patience == trigger_count:\n",
    "                    print(f\"Early stopping: Epoch - {epoch}\")\n",
    "                    break\n",
    "            \n",
    "    e = time.time()\n",
    "    print(e-s, \"초\")\n",
    "    return train_loss_list, train_accuracy_list, val_loss_list, val_accuracy_list"
   ]
  },
  {
   "cell_type": "markdown",
   "metadata": {},
   "source": [
    "## data.py\n",
    "\n",
    "-   dataset 생성 함수 제공 모듈\n"
   ]
  },
  {
   "cell_type": "code",
   "execution_count": 3,
   "metadata": {},
   "outputs": [
    {
     "name": "stdout",
     "output_type": "stream",
     "text": [
      "Writing module/data.py\n"
     ]
    }
   ],
   "source": [
    "%%writefile module/data.py\n",
    "\n",
    "from torchvision import datasets, transforms\n",
    "from torch.utils.data import DataLoader\n",
    "\n",
    "def load_mnist_dataset(root_path, batch_size, is_train=True):\n",
    "    \"\"\"\n",
    "    mnist dataset dataloader 제공 함수\n",
    "    Args:\n",
    "        root_path: str|Path - 데이터파일 저장 디렉토리\n",
    "        batch_size: int\n",
    "        is_train: bool = True - True: Train dataset, False - Test dataset\n",
    "    \n",
    "    Returns:\n",
    "        DataLoader \n",
    "    \"\"\"\n",
    "    transform = transforms.Compose([\n",
    "        transforms.ToTensor()\n",
    "    ])\n",
    "    dataset = datasets.MNIST(root=root_path, train=is_train, download=True, transform=transform)\n",
    "    dataloader = DataLoader(dataset, batch_size=batch_size, shuffle=is_train)  # shuffle: train이면 True, test면 False 할 것이므로 is_train을 넣음.\n",
    "    \n",
    "    return dataloader\n",
    "\n",
    "def load_fashion_mnist_dataset(root_path, batch_size, is_train=True):\n",
    "    \"\"\"\n",
    "    fashion mnist dataset dataloader 제공 함수\n",
    "    Args:\n",
    "        root_path: str|Path - 데이터파일 저장 디렉토리\n",
    "        batch_size: int\n",
    "        is_train: bool = True - True: Train dataset, False - Test dataset\n",
    "    \n",
    "    Returns:\n",
    "        DataLoader\n",
    "    \"\"\"\n",
    "    transform = transforms.Compose([\n",
    "        transforms.ToTensor()\n",
    "    ])\n",
    "    dataset = datasets.FashionMNIST(root=root_path, train=is_train, download=True, transform=transform)\n",
    "    dataloader = DataLoader(dataset, batch_size=batch_size, shuffle=is_train)  # shuffle: train이면 True, test면 False 할 것이므로 is_train을 넣음.\n",
    "    \n",
    "    return dataloader"
   ]
  },
  {
   "cell_type": "markdown",
   "metadata": {},
   "source": [
    "## utils.py\n"
   ]
  },
  {
   "cell_type": "code",
   "execution_count": 4,
   "metadata": {},
   "outputs": [
    {
     "name": "stdout",
     "output_type": "stream",
     "text": [
      "Writing module/utils.py\n"
     ]
    }
   ],
   "source": [
    "%%writefile module/utils.py\n",
    "# 학습 결과를 시각화하는 함수.\n",
    "import matplotlib.pyplot as plt\n",
    "\n",
    "def plot_fit_result(train_loss_list, train_accuracy_list, valid_loss_list, valid_accuracy_list):\n",
    "    \"\"\"epoch별 학습 결과를 시각화하는 함수\n",
    "    epoch별 loss와 accuracy를 시각화한다.\n",
    "\n",
    "    Args:\n",
    "        train_loss_list (list): Epoch별 train loss\n",
    "        train_accuracy_list (list): Epoch별 train accuracy\n",
    "        valid_loss_list (list): Epoch별 validation loss\n",
    "        valid_accuracy_list (list): Epoch별 validation accuracy\n",
    "    \"\"\"\n",
    "    epoch = len(train_loss_list)\n",
    "    plt.figure(figsize=(12, 5))\n",
    "    \n",
    "    plt.subplot(1, 2, 1)\n",
    "    plt.plot(range(epoch), train_loss_list, label=\"train loss\")\n",
    "    plt.plot(range(epoch), valid_loss_list, label=\"validation loss\")\n",
    "    plt.title(\"Loss\")\n",
    "    plt.xlabel(\"epoch\")\n",
    "    plt.ylabel(\"loss\")\n",
    "    plt.grid(True, linestyle=':')\n",
    "    plt.legend()\n",
    "\n",
    "    plt.subplot(1, 2, 2)\n",
    "    plt.plot(range(epoch), train_accuracy_list, label=\"train accuracy\")\n",
    "    plt.plot(range(epoch), valid_accuracy_list, label=\"validation accuracy\")\n",
    "    plt.title(\"Accuracy\")\n",
    "    plt.xlabel(\"epoch\")\n",
    "    plt.ylabel(\"accuracy\")\n",
    "    plt.grid(True, linestyle=':')\n",
    "    plt.legend()\n",
    "\n",
    "    plt.tight_layout()\n",
    "    plt.show()"
   ]
  },
  {
   "cell_type": "markdown",
   "metadata": {},
   "source": [
    "## Import"
   ]
  },
  {
   "cell_type": "code",
   "execution_count": 11,
   "metadata": {},
   "outputs": [],
   "source": [
    "import torch\n",
    "import torch.nn as nn\n",
    "from torchinfo import summary\n",
    "\n",
    "from module.train import fit\n",
    "from module.data import load_mnist_dataset, load_fashion_mnist_dataset\n",
    "from module.utils import plot_fit_result"
   ]
  },
  {
   "cell_type": "markdown",
   "metadata": {},
   "source": [
    "## 하이퍼파라미터, 변수 정의\n"
   ]
  },
  {
   "cell_type": "code",
   "execution_count": 12,
   "metadata": {},
   "outputs": [],
   "source": [
    "device = \"cuda\" if torch.cuda.is_available() else \"cpu\"\n",
    "root_data_path = \"datasets\"\n",
    "\n",
    "epochs = 100\n",
    "batch_size = 256\n",
    "lr = 0.001"
   ]
  },
  {
   "cell_type": "markdown",
   "metadata": {},
   "source": [
    "# Data 준비\n",
    "\n",
    "## mnist 데이터 로딩\n"
   ]
  },
  {
   "cell_type": "code",
   "execution_count": 13,
   "metadata": {},
   "outputs": [],
   "source": [
    "train_loader = load_mnist_dataset(root_data_path, batch_size)\n",
    "test_loader = load_mnist_dataset(root_data_path, batch_size, False)\n",
    "\n",
    "## Fashion Mnist\n",
    "# train_loader = load_fashion_mnist_dataset(root_data_path, batch_size)\n",
    "# test_loader = load_fashion_mnist_dataset(root_data_path, batch_size, False)"
   ]
  },
  {
   "cell_type": "code",
   "execution_count": 14,
   "metadata": {},
   "outputs": [],
   "source": [
    "classes = train_loader.dataset.classes\n",
    "class_to_idx = train_loader.dataset.class_to_idx"
   ]
  },
  {
   "cell_type": "code",
   "execution_count": 10,
   "metadata": {},
   "outputs": [
    {
     "data": {
      "text/plain": [
       "{'0 - zero': 0,\n",
       " '1 - one': 1,\n",
       " '2 - two': 2,\n",
       " '3 - three': 3,\n",
       " '4 - four': 4,\n",
       " '5 - five': 5,\n",
       " '6 - six': 6,\n",
       " '7 - seven': 7,\n",
       " '8 - eight': 8,\n",
       " '9 - nine': 9}"
      ]
     },
     "execution_count": 10,
     "metadata": {},
     "output_type": "execute_result"
    }
   ],
   "source": [
    "classes\n",
    "class_to_idx"
   ]
  },
  {
   "cell_type": "markdown",
   "metadata": {},
   "source": [
    "# 모델의 크기 변경에 따른 성능변화\n",
    "## 작은 모델"
   ]
  },
  {
   "cell_type": "code",
   "execution_count": 15,
   "metadata": {},
   "outputs": [],
   "source": [
    "class SmallModel(nn.Module):\n",
    "    def __init__(self):\n",
    "        super().__init__()\n",
    "        self.lr = nn.Linear(28*28, 10) # 입력 -> 출력\n",
    "\n",
    "    def forward(self, X):\n",
    "        X = nn.Flatten()(X)\n",
    "        out = self.lr(X)\n",
    "        return out"
   ]
  },
  {
   "cell_type": "code",
   "execution_count": 16,
   "metadata": {},
   "outputs": [
    {
     "data": {
      "text/plain": [
       "==========================================================================================\n",
       "Layer (type:depth-idx)                   Output Shape              Param #\n",
       "==========================================================================================\n",
       "SmallModel                               [100, 10]                 --\n",
       "├─Linear: 1-1                            [100, 10]                 7,850\n",
       "==========================================================================================\n",
       "Total params: 7,850\n",
       "Trainable params: 7,850\n",
       "Non-trainable params: 0\n",
       "Total mult-adds (Units.MEGABYTES): 0.79\n",
       "==========================================================================================\n",
       "Input size (MB): 0.31\n",
       "Forward/backward pass size (MB): 0.01\n",
       "Params size (MB): 0.03\n",
       "Estimated Total Size (MB): 0.35\n",
       "=========================================================================================="
      ]
     },
     "execution_count": 16,
     "metadata": {},
     "output_type": "execute_result"
    }
   ],
   "source": [
    "small_model = SmallModel().to(device)\n",
    "summary(small_model, (100, 1, 28, 28), device=device)"
   ]
  },
  {
   "cell_type": "code",
   "execution_count": 18,
   "metadata": {},
   "outputs": [],
   "source": [
    "loss_fn = nn.CrossEntropyLoss() # 다중분류의 loss 함수\n",
    "optimizer = torch.optim.Adam(small_model.parameters(), lr=lr)"
   ]
  },
  {
   "cell_type": "code",
   "execution_count": 19,
   "metadata": {},
   "outputs": [
    {
     "name": "stdout",
     "output_type": "stream",
     "text": [
      "Epoch[1/100] - Train loss: 0.48764 Train Accucracy: 0.87955 || Validation Loss: 0.46638 Validation Accuracy: 0.88730\n",
      "====================================================================================================\n",
      "Epoch[2/100] - Train loss: 0.38090 Train Accucracy: 0.89980 || Validation Loss: 0.36277 Validation Accuracy: 0.90420\n",
      "====================================================================================================\n",
      "Epoch[3/100] - Train loss: 0.34035 Train Accucracy: 0.90792 || Validation Loss: 0.32535 Validation Accuracy: 0.91000\n",
      "====================================================================================================\n",
      "Epoch[4/100] - Train loss: 0.31980 Train Accucracy: 0.91182 || Validation Loss: 0.30554 Validation Accuracy: 0.91520\n",
      "====================================================================================================\n",
      "Epoch[5/100] - Train loss: 0.30280 Train Accucracy: 0.91697 || Validation Loss: 0.29141 Validation Accuracy: 0.91760\n",
      "====================================================================================================\n",
      "Epoch[6/100] - Train loss: 0.29263 Train Accucracy: 0.91963 || Validation Loss: 0.28450 Validation Accuracy: 0.91960\n",
      "====================================================================================================\n",
      "Epoch[7/100] - Train loss: 0.28531 Train Accucracy: 0.92055 || Validation Loss: 0.27858 Validation Accuracy: 0.92230\n",
      "====================================================================================================\n",
      "Epoch[8/100] - Train loss: 0.27931 Train Accucracy: 0.92312 || Validation Loss: 0.27428 Validation Accuracy: 0.92320\n",
      "====================================================================================================\n",
      "Epoch[9/100] - Train loss: 0.27514 Train Accucracy: 0.92310 || Validation Loss: 0.27234 Validation Accuracy: 0.92300\n",
      "====================================================================================================\n",
      "Epoch[10/100] - Train loss: 0.27010 Train Accucracy: 0.92533 || Validation Loss: 0.26826 Validation Accuracy: 0.92480\n",
      "====================================================================================================\n",
      "Epoch[11/100] - Train loss: 0.26723 Train Accucracy: 0.92623 || Validation Loss: 0.26598 Validation Accuracy: 0.92540\n",
      "====================================================================================================\n",
      "Epoch[12/100] - Train loss: 0.26570 Train Accucracy: 0.92582 || Validation Loss: 0.26619 Validation Accuracy: 0.92490\n",
      "====================================================================================================\n",
      "Epoch[13/100] - Train loss: 0.26159 Train Accucracy: 0.92772 || Validation Loss: 0.26446 Validation Accuracy: 0.92560\n",
      "====================================================================================================\n",
      "Epoch[14/100] - Train loss: 0.25966 Train Accucracy: 0.92810 || Validation Loss: 0.26291 Validation Accuracy: 0.92600\n",
      "====================================================================================================\n",
      "Epoch[15/100] - Train loss: 0.25790 Train Accucracy: 0.92897 || Validation Loss: 0.26235 Validation Accuracy: 0.92710\n",
      "====================================================================================================\n",
      "Epoch[16/100] - Train loss: 0.25741 Train Accucracy: 0.92890 || Validation Loss: 0.26338 Validation Accuracy: 0.92610\n",
      "====================================================================================================\n",
      "Epoch[17/100] - Train loss: 0.25417 Train Accucracy: 0.93002 || Validation Loss: 0.26002 Validation Accuracy: 0.92700\n",
      "====================================================================================================\n",
      "Epoch[18/100] - Train loss: 0.25220 Train Accucracy: 0.93027 || Validation Loss: 0.26101 Validation Accuracy: 0.92650\n",
      "====================================================================================================\n",
      "Epoch[19/100] - Train loss: 0.25151 Train Accucracy: 0.92990 || Validation Loss: 0.25928 Validation Accuracy: 0.92760\n",
      "====================================================================================================\n",
      "Epoch[20/100] - Train loss: 0.24900 Train Accucracy: 0.93140 || Validation Loss: 0.25926 Validation Accuracy: 0.92780\n",
      "====================================================================================================\n",
      "Epoch[21/100] - Train loss: 0.24788 Train Accucracy: 0.93165 || Validation Loss: 0.25858 Validation Accuracy: 0.92810\n",
      "====================================================================================================\n",
      "Epoch[22/100] - Train loss: 0.24758 Train Accucracy: 0.93150 || Validation Loss: 0.25835 Validation Accuracy: 0.92820\n",
      "====================================================================================================\n",
      "Epoch[23/100] - Train loss: 0.24658 Train Accucracy: 0.93180 || Validation Loss: 0.25946 Validation Accuracy: 0.92700\n",
      "====================================================================================================\n",
      "Epoch[24/100] - Train loss: 0.24630 Train Accucracy: 0.93217 || Validation Loss: 0.25881 Validation Accuracy: 0.92810\n",
      "====================================================================================================\n",
      "Epoch[25/100] - Train loss: 0.24398 Train Accucracy: 0.93240 || Validation Loss: 0.25678 Validation Accuracy: 0.92860\n",
      "====================================================================================================\n",
      "Epoch[26/100] - Train loss: 0.24350 Train Accucracy: 0.93280 || Validation Loss: 0.25782 Validation Accuracy: 0.92750\n",
      "====================================================================================================\n",
      "Epoch[27/100] - Train loss: 0.24286 Train Accucracy: 0.93273 || Validation Loss: 0.25734 Validation Accuracy: 0.92850\n",
      "====================================================================================================\n",
      "Epoch[28/100] - Train loss: 0.24216 Train Accucracy: 0.93345 || Validation Loss: 0.25893 Validation Accuracy: 0.92760\n",
      "====================================================================================================\n",
      "Epoch[29/100] - Train loss: 0.24125 Train Accucracy: 0.93362 || Validation Loss: 0.25869 Validation Accuracy: 0.92800\n",
      "====================================================================================================\n",
      "Epoch[30/100] - Train loss: 0.24100 Train Accucracy: 0.93385 || Validation Loss: 0.25798 Validation Accuracy: 0.92850\n",
      "====================================================================================================\n",
      "Epoch[31/100] - Train loss: 0.24020 Train Accucracy: 0.93390 || Validation Loss: 0.25690 Validation Accuracy: 0.92850\n",
      "====================================================================================================\n",
      "Epoch[32/100] - Train loss: 0.23921 Train Accucracy: 0.93418 || Validation Loss: 0.25761 Validation Accuracy: 0.92620\n",
      "====================================================================================================\n",
      "Epoch[33/100] - Train loss: 0.23927 Train Accucracy: 0.93420 || Validation Loss: 0.25990 Validation Accuracy: 0.92730\n",
      "====================================================================================================\n",
      "Epoch[34/100] - Train loss: 0.23962 Train Accucracy: 0.93440 || Validation Loss: 0.25998 Validation Accuracy: 0.92710\n",
      "====================================================================================================\n",
      "Epoch[35/100] - Train loss: 0.24132 Train Accucracy: 0.93348 || Validation Loss: 0.26241 Validation Accuracy: 0.92600\n",
      "====================================================================================================\n",
      "Early stopping: Epoch - 34\n",
      "294.01100158691406 초\n"
     ]
    }
   ],
   "source": [
    "train_loss_list, train_acc_list, valid_loss_list, valid_acc_list = fit(\n",
    "    train_loader, \n",
    "    test_loader,\n",
    "    small_model, \n",
    "    loss_fn, \n",
    "    optimizer,\n",
    "    epochs,\n",
    "    save_best_model=False,\n",
    "    device=device,\n",
    "    mode=\"multi\"\n",
    ")"
   ]
  },
  {
   "cell_type": "markdown",
   "metadata": {},
   "source": [
    "## 큰모델"
   ]
  },
  {
   "cell_type": "code",
   "execution_count": null,
   "metadata": {},
   "outputs": [
    {
     "name": "stdout",
     "output_type": "stream",
     "text": [
      "torch.Size([5, 30])\n"
     ]
    },
    {
     "data": {
      "text/plain": [
       "tensor([[0.0000, 0.2540, 0.0000, 0.0000, 0.0000, 0.0000, 0.0000, 0.0852, 0.0032,\n",
       "         0.0000, 0.0000, 0.3257, 0.3374, 0.0032, 0.0000, 0.0000, 0.0150, 0.3441,\n",
       "         0.0000, 0.0525, 0.0000, 0.3164, 0.0000, 0.0000, 0.1071, 0.0000, 0.6247,\n",
       "         0.0000, 0.0000, 0.2532],\n",
       "        [0.0000, 0.0687, 0.1547, 0.0713, 0.0000, 0.0844, 0.2494, 0.0768, 0.1060,\n",
       "         0.0000, 0.0000, 0.1307, 0.1824, 0.1414, 0.0000, 0.0000, 0.0000, 0.0889,\n",
       "         0.0000, 0.0000, 0.0328, 0.1808, 0.0000, 0.2430, 0.1033, 0.0000, 0.2684,\n",
       "         0.0000, 0.0890, 0.0000],\n",
       "        [0.0000, 0.1878, 0.1146, 0.0807, 0.0000, 0.0776, 0.0521, 0.0000, 0.0040,\n",
       "         0.0000, 0.0000, 0.1668, 0.1276, 0.0239, 0.0000, 0.0000, 0.0000, 0.1055,\n",
       "         0.0223, 0.0000, 0.1046, 0.1893, 0.0000, 0.2487, 0.1116, 0.0000, 0.2051,\n",
       "         0.0000, 0.0047, 0.0000],\n",
       "        [0.0000, 0.4393, 0.0000, 0.0598, 0.0000, 0.3757, 0.0000, 0.0000, 0.0000,\n",
       "         0.0000, 0.0823, 0.0000, 0.3165, 0.0000, 0.0000, 0.2221, 0.0000, 0.2282,\n",
       "         0.0000, 0.0239, 0.0000, 0.0000, 0.0000, 0.0000, 0.4220, 0.1409, 0.3158,\n",
       "         0.3550, 0.0000, 0.2683],\n",
       "        [0.0000, 0.5212, 0.3784, 0.0000, 0.1674, 0.0000, 0.2294, 0.0000, 0.0000,\n",
       "         0.0000, 0.1114, 0.0000, 0.1504, 0.2715, 0.0000, 0.1450, 0.0000, 0.0000,\n",
       "         0.0000, 0.0000, 0.0000, 0.0762, 0.0000, 0.3882, 0.1222, 0.1128, 0.5867,\n",
       "         0.0000, 0.0000, 0.0000]], grad_fn=<ReluBackward0>)"
      ]
     },
     "execution_count": 21,
     "metadata": {},
     "output_type": "execute_result"
    }
   ],
   "source": [
    "# ######  nn.Sequential() -> layer block: 레이어함수들을 묶어놓은 블록\n",
    "s = nn.Sequential(\n",
    "    nn.Linear(10, 20),\n",
    "    nn.ReLU(),\n",
    "    nn.Linear(20, 30),\n",
    "    nn.ReLU() \n",
    ")\n",
    "i = torch.randn(5, 10, dtype=torch.float32)\n",
    "o = s(i)\n",
    "print(o.shape)\n",
    "o"
   ]
  },
  {
   "cell_type": "code",
   "execution_count": null,
   "metadata": {},
   "outputs": [],
   "source": [
    "class BigModel(nn.Module):\n",
    "\n",
    "    def __init__(self):\n",
    "        super().__init__()\n",
    "        self.b1 = nn.Sequential(nn.Flatten(), nn.Linear(28*28, 2048), nn.ReLU())\n",
    "        self.b2 = nn.Sequential(nn.Linear(2048, 1024), nn.ReLU())\n",
    "        self.b3 = nn.Sequential(nn.Linear(1024, 512), nn.ReLU())\n",
    "        self.b4 = nn.Sequential(nn.Linear(512, 256), nn.ReLU())\n",
    "        self.b5 = nn.Sequential(nn.Linear(256, 128), nn.ReLU())\n",
    "        self.b6 = nn.Sequential(nn.Linear(128, 64), nn.ReLU())\n",
    "        self.b7 = nn.Sequential(nn.Linear(64, 32), nn.ReLU())\n",
    "        self.out_block = nn.Linear(32, 10)\n",
    "        \n",
    "    def forward(self, X):\n",
    "        X = self.b1(X)\n",
    "        X = self.b2(X)\n",
    "        X = self.b3(X)\n",
    "        X = self.b4(X)\n",
    "        X = self.b5(X)\n",
    "        X = self.b6(X)\n",
    "        X = self.b7(X)\n",
    "        return self.out_block(X)"
   ]
  },
  {
   "cell_type": "code",
   "execution_count": 24,
   "metadata": {},
   "outputs": [
    {
     "data": {
      "text/plain": [
       "==========================================================================================\n",
       "Layer (type:depth-idx)                   Output Shape              Param #\n",
       "==========================================================================================\n",
       "BigModel                                 [100, 10]                 --\n",
       "├─Sequential: 1-1                        [100, 2048]               --\n",
       "│    └─Flatten: 2-1                      [100, 784]                --\n",
       "│    └─Linear: 2-2                       [100, 2048]               1,607,680\n",
       "│    └─ReLU: 2-3                         [100, 2048]               --\n",
       "├─Sequential: 1-2                        [100, 1024]               --\n",
       "│    └─Linear: 2-4                       [100, 1024]               2,098,176\n",
       "│    └─ReLU: 2-5                         [100, 1024]               --\n",
       "├─Sequential: 1-3                        [100, 512]                --\n",
       "│    └─Linear: 2-6                       [100, 512]                524,800\n",
       "│    └─ReLU: 2-7                         [100, 512]                --\n",
       "├─Sequential: 1-4                        [100, 256]                --\n",
       "│    └─Linear: 2-8                       [100, 256]                131,328\n",
       "│    └─ReLU: 2-9                         [100, 256]                --\n",
       "├─Sequential: 1-5                        [100, 128]                --\n",
       "│    └─Linear: 2-10                      [100, 128]                32,896\n",
       "│    └─ReLU: 2-11                        [100, 128]                --\n",
       "├─Sequential: 1-6                        [100, 64]                 --\n",
       "│    └─Linear: 2-12                      [100, 64]                 8,256\n",
       "│    └─ReLU: 2-13                        [100, 64]                 --\n",
       "├─Sequential: 1-7                        [100, 32]                 --\n",
       "│    └─Linear: 2-14                      [100, 32]                 2,080\n",
       "│    └─ReLU: 2-15                        [100, 32]                 --\n",
       "├─Linear: 1-8                            [100, 10]                 330\n",
       "==========================================================================================\n",
       "Total params: 4,405,546\n",
       "Trainable params: 4,405,546\n",
       "Non-trainable params: 0\n",
       "Total mult-adds (Units.MEGABYTES): 440.55\n",
       "==========================================================================================\n",
       "Input size (MB): 0.31\n",
       "Forward/backward pass size (MB): 3.26\n",
       "Params size (MB): 17.62\n",
       "Estimated Total Size (MB): 21.20\n",
       "=========================================================================================="
      ]
     },
     "execution_count": 24,
     "metadata": {},
     "output_type": "execute_result"
    }
   ],
   "source": [
    "big_model = BigModel().to(device)\n",
    "summary(big_model, (100, 1, 28, 28), device=device)"
   ]
  },
  {
   "cell_type": "code",
   "execution_count": 25,
   "metadata": {},
   "outputs": [],
   "source": [
    "loss_fn = nn.CrossEntropyLoss()\n",
    "optimizer = torch.optim.Adam(big_model.parameters(), lr=lr)"
   ]
  },
  {
   "cell_type": "code",
   "execution_count": 26,
   "metadata": {},
   "outputs": [
    {
     "name": "stdout",
     "output_type": "stream",
     "text": [
      "Epoch[1/100] - Train loss: 0.15214 Train Accucracy: 0.95780 || Validation Loss: 0.16315 Validation Accuracy: 0.95270\n",
      "====================================================================================================\n",
      "Epoch[2/100] - Train loss: 0.10893 Train Accucracy: 0.96845 || Validation Loss: 0.13679 Validation Accuracy: 0.95990\n",
      "====================================================================================================\n",
      "Epoch[3/100] - Train loss: 0.05036 Train Accucracy: 0.98583 || Validation Loss: 0.08425 Validation Accuracy: 0.97470\n",
      "====================================================================================================\n",
      "Epoch[4/100] - Train loss: 0.06989 Train Accucracy: 0.98018 || Validation Loss: 0.11962 Validation Accuracy: 0.96690\n",
      "====================================================================================================\n",
      "Epoch[5/100] - Train loss: 0.03075 Train Accucracy: 0.99092 || Validation Loss: 0.07465 Validation Accuracy: 0.97850\n",
      "====================================================================================================\n",
      "Epoch[6/100] - Train loss: 0.02459 Train Accucracy: 0.99298 || Validation Loss: 0.07699 Validation Accuracy: 0.97840\n",
      "====================================================================================================\n",
      "Epoch[7/100] - Train loss: 0.02080 Train Accucracy: 0.99400 || Validation Loss: 0.08258 Validation Accuracy: 0.97930\n",
      "====================================================================================================\n",
      "Epoch[8/100] - Train loss: 0.01650 Train Accucracy: 0.99542 || Validation Loss: 0.08368 Validation Accuracy: 0.98070\n",
      "====================================================================================================\n",
      "Epoch[9/100] - Train loss: 0.01515 Train Accucracy: 0.99550 || Validation Loss: 0.07668 Validation Accuracy: 0.98170\n",
      "====================================================================================================\n",
      "Epoch[10/100] - Train loss: 0.03962 Train Accucracy: 0.98900 || Validation Loss: 0.12536 Validation Accuracy: 0.97340\n",
      "====================================================================================================\n",
      "Early stopping: Epoch - 9\n",
      "185.1775996685028 초\n"
     ]
    }
   ],
   "source": [
    "train_loss_list2, train_acc_list2, valid_loss_list2, valid_acc_list2 = fit(\n",
    "    train_loader, test_loader,\n",
    "    big_model,\n",
    "    loss_fn,\n",
    "    optimizer,\n",
    "    epochs,\n",
    "    save_best_model=False,\n",
    "    patience=5,\n",
    "    device=device,\n",
    "    mode=\"multi\"\n",
    ")"
   ]
  },
  {
   "cell_type": "code",
   "execution_count": 27,
   "metadata": {},
   "outputs": [
    {
     "data": {
      "image/png": "[encoded data removed]",
      "text/plain": [
       "<Figure size 1200x500 with 2 Axes>"
      ]
     },
     "metadata": {},
     "output_type": "display_data"
    }
   ],
   "source": [
    "plot_fit_result(\n",
    "    train_loss_list2, train_acc_list2, valid_loss_list2, valid_acc_list2\n",
    ")"
   ]
  },
  {
   "cell_type": "code",
   "execution_count": null,
   "metadata": {},
   "outputs": [],
   "source": []
  },
  {
   "cell_type": "code",
   "execution_count": null,
   "metadata": {},
   "outputs": [],
   "source": []
  },
  {
   "cell_type": "markdown",
   "metadata": {},
   "source": [
    "# Dropout 예제\n",
    "\n",
    "-   dropout 각 레이어에 적용\n",
    "    -   dropout은 nn.Dropout 객체를 사용\n",
    "    -   객체 생성시 dropout_rate 설정: 0.2 ~ 0.5\n",
    "    -   Drop시킬 노드를 가진 Layer 뒤에 추가한다.\n"
   ]
  },
  {
   "cell_type": "code",
   "execution_count": 29,
   "metadata": {},
   "outputs": [],
   "source": [
    "class DropoutModel(nn.Module):\n",
    "\n",
    "    def __init__(self, drop_rate=0.2):\n",
    "        super().__init__()\n",
    "        self.b1 = nn.Sequential(nn.Flatten(), nn.Linear(28*28, 2048), nn.ReLU(), nn.Dropout(p=drop_rate))\n",
    "        self.b2 = nn.Sequential(nn.Linear(2048, 1024), nn.ReLU(), nn.Dropout(p=drop_rate))\n",
    "        self.b3 = nn.Sequential(nn.Linear(1024, 512), nn.ReLU(), nn.Dropout(p=drop_rate))\n",
    "        self.b4 = nn.Sequential(nn.Linear(512, 256), nn.ReLU(), nn.Dropout(p=drop_rate))\n",
    "        self.b5 = nn.Sequential(nn.Linear(256, 128), nn.ReLU(), nn.Dropout(p=drop_rate))\n",
    "        self.b6 = nn.Sequential(nn.Linear(128, 64), nn.ReLU(), nn.Dropout(p=drop_rate))\n",
    "        self.b7 = nn.Sequential(nn.Linear(64, 32), nn.ReLU(), nn.Dropout(p=drop_rate))\n",
    "        self.out_block = nn.Linear(32, 10)\n",
    "        \n",
    "    def forward(self, X):\n",
    "        X = self.b1(X)\n",
    "        X = self.b2(X)\n",
    "        X = self.b3(X)\n",
    "        X = self.b4(X)\n",
    "        X = self.b5(X)\n",
    "        X = self.b6(X)\n",
    "        X = self.b7(X)\n",
    "        return self.out_block(X)"
   ]
  },
  {
   "cell_type": "code",
   "execution_count": 30,
   "metadata": {},
   "outputs": [
    {
     "data": {
      "text/plain": [
       "==========================================================================================\n",
       "Layer (type:depth-idx)                   Output Shape              Param #\n",
       "==========================================================================================\n",
       "DropoutModel                             [100, 10]                 --\n",
       "├─Sequential: 1-1                        [100, 2048]               --\n",
       "│    └─Flatten: 2-1                      [100, 784]                --\n",
       "│    └─Linear: 2-2                       [100, 2048]               1,607,680\n",
       "│    └─ReLU: 2-3                         [100, 2048]               --\n",
       "│    └─Dropout: 2-4                      [100, 2048]               --\n",
       "├─Sequential: 1-2                        [100, 1024]               --\n",
       "│    └─Linear: 2-5                       [100, 1024]               2,098,176\n",
       "│    └─ReLU: 2-6                         [100, 1024]               --\n",
       "│    └─Dropout: 2-7                      [100, 1024]               --\n",
       "├─Sequential: 1-3                        [100, 512]                --\n",
       "│    └─Linear: 2-8                       [100, 512]                524,800\n",
       "│    └─ReLU: 2-9                         [100, 512]                --\n",
       "│    └─Dropout: 2-10                     [100, 512]                --\n",
       "├─Sequential: 1-4                        [100, 256]                --\n",
       "│    └─Linear: 2-11                      [100, 256]                131,328\n",
       "│    └─ReLU: 2-12                        [100, 256]                --\n",
       "│    └─Dropout: 2-13                     [100, 256]                --\n",
       "├─Sequential: 1-5                        [100, 128]                --\n",
       "│    └─Linear: 2-14                      [100, 128]                32,896\n",
       "│    └─ReLU: 2-15                        [100, 128]                --\n",
       "│    └─Dropout: 2-16                     [100, 128]                --\n",
       "├─Sequential: 1-6                        [100, 64]                 --\n",
       "│    └─Linear: 2-17                      [100, 64]                 8,256\n",
       "│    └─ReLU: 2-18                        [100, 64]                 --\n",
       "│    └─Dropout: 2-19                     [100, 64]                 --\n",
       "├─Sequential: 1-7                        [100, 32]                 --\n",
       "│    └─Linear: 2-20                      [100, 32]                 2,080\n",
       "│    └─ReLU: 2-21                        [100, 32]                 --\n",
       "│    └─Dropout: 2-22                     [100, 32]                 --\n",
       "├─Linear: 1-8                            [100, 10]                 330\n",
       "==========================================================================================\n",
       "Total params: 4,405,546\n",
       "Trainable params: 4,405,546\n",
       "Non-trainable params: 0\n",
       "Total mult-adds (Units.MEGABYTES): 440.55\n",
       "==========================================================================================\n",
       "Input size (MB): 0.31\n",
       "Forward/backward pass size (MB): 3.26\n",
       "Params size (MB): 17.62\n",
       "Estimated Total Size (MB): 21.20\n",
       "=========================================================================================="
      ]
     },
     "execution_count": 30,
     "metadata": {},
     "output_type": "execute_result"
    }
   ],
   "source": [
    "dout_model = DropoutModel(drop_rate=0.5).to(device)\n",
    "summary(dout_model, (100, 1, 28, 28))"
   ]
  },
  {
   "cell_type": "code",
   "execution_count": 31,
   "metadata": {},
   "outputs": [],
   "source": [
    "loss_fn = nn.CrossEntropyLoss()\n",
    "optimizer = torch.optim.Adam(dout_model.parameters(), lr=lr)"
   ]
  },
  {
   "cell_type": "code",
   "execution_count": null,
   "metadata": {},
   "outputs": [
    {
     "name": "stdout",
     "output_type": "stream",
     "text": [
      "Epoch[1/100] - Train loss: 0.76679 Train Accucracy: 0.62953 || Validation Loss: 0.76641 Validation Accuracy: 0.62720\n",
      "====================================================================================================\n",
      "Epoch[2/100] - Train loss: 0.43785 Train Accucracy: 0.88640 || Validation Loss: 0.46386 Validation Accuracy: 0.88460\n",
      "====================================================================================================\n",
      "Epoch[3/100] - Train loss: 0.29192 Train Accucracy: 0.94018 || Validation Loss: 0.32753 Validation Accuracy: 0.93880\n",
      "====================================================================================================\n",
      "Epoch[4/100] - Train loss: 0.24189 Train Accucracy: 0.94892 || Validation Loss: 0.28694 Validation Accuracy: 0.94390\n",
      "====================================================================================================\n",
      "Epoch[5/100] - Train loss: 0.18647 Train Accucracy: 0.95950 || Validation Loss: 0.24155 Validation Accuracy: 0.95370\n",
      "====================================================================================================\n",
      "Epoch[6/100] - Train loss: 0.15751 Train Accucracy: 0.96495 || Validation Loss: 0.22231 Validation Accuracy: 0.95960\n",
      "====================================================================================================\n",
      "Epoch[7/100] - Train loss: 0.13038 Train Accucracy: 0.97293 || Validation Loss: 0.22550 Validation Accuracy: 0.96600\n",
      "====================================================================================================\n",
      "Epoch[8/100] - Train loss: 0.10739 Train Accucracy: 0.97457 || Validation Loss: 0.19897 Validation Accuracy: 0.96710\n",
      "====================================================================================================\n",
      "Epoch[9/100] - Train loss: 0.10416 Train Accucracy: 0.97650 || Validation Loss: 0.20084 Validation Accuracy: 0.96980\n",
      "====================================================================================================\n",
      "Epoch[10/100] - Train loss: 0.08744 Train Accucracy: 0.98133 || Validation Loss: 0.22420 Validation Accuracy: 0.97210\n",
      "====================================================================================================\n",
      "Epoch[11/100] - Train loss: 0.07677 Train Accucracy: 0.98277 || Validation Loss: 0.18195 Validation Accuracy: 0.97440\n",
      "====================================================================================================\n",
      "Epoch[12/100] - Train loss: 0.07707 Train Accucracy: 0.98132 || Validation Loss: 0.17353 Validation Accuracy: 0.97000\n",
      "====================================================================================================\n",
      "Epoch[13/100] - Train loss: 0.07396 Train Accucracy: 0.98127 || Validation Loss: 0.15247 Validation Accuracy: 0.97220\n",
      "====================================================================================================\n",
      "Epoch[14/100] - Train loss: 0.05995 Train Accucracy: 0.98555 || Validation Loss: 0.16156 Validation Accuracy: 0.97660\n",
      "====================================================================================================\n",
      "Epoch[15/100] - Train loss: 0.04855 Train Accucracy: 0.98852 || Validation Loss: 0.15922 Validation Accuracy: 0.97810\n",
      "====================================================================================================\n",
      "Epoch[16/100] - Train loss: 0.05101 Train Accucracy: 0.98825 || Validation Loss: 0.16217 Validation Accuracy: 0.97820\n",
      "====================================================================================================\n",
      "Epoch[17/100] - Train loss: 0.04673 Train Accucracy: 0.98892 || Validation Loss: 0.17031 Validation Accuracy: 0.97720\n",
      "====================================================================================================\n",
      "Epoch[18/100] - Train loss: 0.04414 Train Accucracy: 0.98895 || Validation Loss: 0.16330 Validation Accuracy: 0.97810\n",
      "====================================================================================================\n",
      "Early stopping: Epoch - 17\n",
      "552.4271185398102 초\n"
     ]
    }
   ],
   "source": [
    "train_loss_list3, train_acc_list3, valid_loss_list3, valid_acc_list3 = fit(\n",
    "    train_loader, test_loader,\n",
    "    dout_model,\n",
    "    loss_fn,\n",
    "    optimizer,\n",
    "    epochs,\n",
    "    save_best_model=False,\n",
    "    patience=5,\n",
    "    device=device,\n",
    "    mode=\"multi\"\n",
    ")"
   ]
  },
  {
   "cell_type": "code",
   "execution_count": null,
   "metadata": {},
   "outputs": [],
   "source": []
  },
  {
   "cell_type": "markdown",
   "metadata": {},
   "source": [
    "# Batch Normalization\n",
    "\n",
    "- Dense 와 Activation 사이에 정의한다.\n"
   ]
  },
  {
   "cell_type": "code",
   "execution_count": 33,
   "metadata": {},
   "outputs": [],
   "source": [
    "# nn.BatchNorm1d(입력 feature개수)\n",
    "# Linear -> BatchNorm -> ReLU(Activation)\n",
    "# Linear -> BatchNorm -> ReLU(Activation) -> Dropout\n",
    "\n",
    "class BatchNormModel(nn.Module):\n",
    "\n",
    "    def __init__(self, drop_rate=0.2):\n",
    "        super().__init__()\n",
    "        self.b1 = nn.Sequential(nn.Flatten(), nn.Linear(28*28, 2048), nn.BatchNorm1d(2048) ,nn.ReLU(), nn.Dropout(p=drop_rate))\n",
    "        self.b2 = nn.Sequential(nn.Linear(2048, 1024), nn.BatchNorm1d(1024), nn.ReLU(), nn.Dropout(p=drop_rate))\n",
    "        self.b3 = nn.Sequential(nn.Linear(1024, 512), nn.BatchNorm1d(512), nn.ReLU(), nn.Dropout(p=drop_rate))\n",
    "        self.b4 = nn.Sequential(nn.Linear(512, 256), nn.BatchNorm1d(256), nn.ReLU(), nn.Dropout(p=drop_rate))\n",
    "        self.b5 = nn.Sequential(nn.Linear(256, 128), nn.BatchNorm1d(128), nn.ReLU(), nn.Dropout(p=drop_rate))\n",
    "        self.b6 = nn.Sequential(nn.Linear(128, 64), nn.BatchNorm1d(64), nn.ReLU(), nn.Dropout(p=drop_rate))\n",
    "        self.b7 = nn.Sequential(nn.Linear(64, 32), nn.BatchNorm1d(32), nn.ReLU(), nn.Dropout(p=drop_rate))\n",
    "        self.out_block = nn.Linear(32, 10)\n",
    "        \n",
    "    def forward(self, X):\n",
    "        X = self.b1(X)\n",
    "        X = self.b2(X)\n",
    "        X = self.b3(X)\n",
    "        X = self.b4(X)\n",
    "        X = self.b5(X)\n",
    "        X = self.b6(X)\n",
    "        X = self.b7(X)\n",
    "        return self.out_block(X)"
   ]
  },
  {
   "cell_type": "code",
   "execution_count": 34,
   "metadata": {},
   "outputs": [
    {
     "data": {
      "text/plain": [
       "==========================================================================================\n",
       "Layer (type:depth-idx)                   Output Shape              Param #\n",
       "==========================================================================================\n",
       "BatchNormModel                           [100, 10]                 --\n",
       "├─Sequential: 1-1                        [100, 2048]               --\n",
       "│    └─Flatten: 2-1                      [100, 784]                --\n",
       "│    └─Linear: 2-2                       [100, 2048]               1,607,680\n",
       "│    └─BatchNorm1d: 2-3                  [100, 2048]               4,096\n",
       "│    └─ReLU: 2-4                         [100, 2048]               --\n",
       "│    └─Dropout: 2-5                      [100, 2048]               --\n",
       "├─Sequential: 1-2                        [100, 1024]               --\n",
       "│    └─Linear: 2-6                       [100, 1024]               2,098,176\n",
       "│    └─BatchNorm1d: 2-7                  [100, 1024]               2,048\n",
       "│    └─ReLU: 2-8                         [100, 1024]               --\n",
       "│    └─Dropout: 2-9                      [100, 1024]               --\n",
       "├─Sequential: 1-3                        [100, 512]                --\n",
       "│    └─Linear: 2-10                      [100, 512]                524,800\n",
       "│    └─BatchNorm1d: 2-11                 [100, 512]                1,024\n",
       "│    └─ReLU: 2-12                        [100, 512]                --\n",
       "│    └─Dropout: 2-13                     [100, 512]                --\n",
       "├─Sequential: 1-4                        [100, 256]                --\n",
       "│    └─Linear: 2-14                      [100, 256]                131,328\n",
       "│    └─BatchNorm1d: 2-15                 [100, 256]                512\n",
       "│    └─ReLU: 2-16                        [100, 256]                --\n",
       "│    └─Dropout: 2-17                     [100, 256]                --\n",
       "├─Sequential: 1-5                        [100, 128]                --\n",
       "│    └─Linear: 2-18                      [100, 128]                32,896\n",
       "│    └─BatchNorm1d: 2-19                 [100, 128]                256\n",
       "│    └─ReLU: 2-20                        [100, 128]                --\n",
       "│    └─Dropout: 2-21                     [100, 128]                --\n",
       "├─Sequential: 1-6                        [100, 64]                 --\n",
       "│    └─Linear: 2-22                      [100, 64]                 8,256\n",
       "│    └─BatchNorm1d: 2-23                 [100, 64]                 128\n",
       "│    └─ReLU: 2-24                        [100, 64]                 --\n",
       "│    └─Dropout: 2-25                     [100, 64]                 --\n",
       "├─Sequential: 1-7                        [100, 32]                 --\n",
       "│    └─Linear: 2-26                      [100, 32]                 2,080\n",
       "│    └─BatchNorm1d: 2-27                 [100, 32]                 64\n",
       "│    └─ReLU: 2-28                        [100, 32]                 --\n",
       "│    └─Dropout: 2-29                     [100, 32]                 --\n",
       "├─Linear: 1-8                            [100, 10]                 330\n",
       "==========================================================================================\n",
       "Total params: 4,413,674\n",
       "Trainable params: 4,413,674\n",
       "Non-trainable params: 0\n",
       "Total mult-adds (Units.MEGABYTES): 441.37\n",
       "==========================================================================================\n",
       "Input size (MB): 0.31\n",
       "Forward/backward pass size (MB): 6.51\n",
       "Params size (MB): 17.65\n",
       "Estimated Total Size (MB): 24.48\n",
       "=========================================================================================="
      ]
     },
     "execution_count": 34,
     "metadata": {},
     "output_type": "execute_result"
    }
   ],
   "source": [
    "bn_model = BatchNormModel(drop_rate=0.5).to(device)\n",
    "summary(bn_model, (100, 1, 28, 28))"
   ]
  },
  {
   "cell_type": "code",
   "execution_count": 36,
   "metadata": {},
   "outputs": [
    {
     "name": "stdout",
     "output_type": "stream",
     "text": [
      "Epoch[1/100] - Train loss: 0.51115 Train Accucracy: 0.89332 || Validation Loss: 0.51277 Validation Accuracy: 0.88750\n",
      "====================================================================================================\n",
      "Epoch[2/100] - Train loss: 0.18066 Train Accucracy: 0.95925 || Validation Loss: 0.18472 Validation Accuracy: 0.95710\n",
      "====================================================================================================\n",
      "Epoch[3/100] - Train loss: 0.12762 Train Accucracy: 0.96992 || Validation Loss: 0.14025 Validation Accuracy: 0.96820\n",
      "====================================================================================================\n",
      "Epoch[4/100] - Train loss: 0.10384 Train Accucracy: 0.97535 || Validation Loss: 0.12232 Validation Accuracy: 0.97070\n",
      "====================================================================================================\n",
      "Epoch[5/100] - Train loss: 0.08349 Train Accucracy: 0.98043 || Validation Loss: 0.10761 Validation Accuracy: 0.97490\n",
      "====================================================================================================\n",
      "Epoch[6/100] - Train loss: 0.07911 Train Accucracy: 0.98180 || Validation Loss: 0.10980 Validation Accuracy: 0.97480\n",
      "====================================================================================================\n",
      "Epoch[7/100] - Train loss: 0.06892 Train Accucracy: 0.98357 || Validation Loss: 0.09751 Validation Accuracy: 0.97720\n",
      "====================================================================================================\n",
      "Epoch[8/100] - Train loss: 0.05753 Train Accucracy: 0.98652 || Validation Loss: 0.09385 Validation Accuracy: 0.97850\n",
      "====================================================================================================\n",
      "Epoch[9/100] - Train loss: 0.06076 Train Accucracy: 0.98607 || Validation Loss: 0.10236 Validation Accuracy: 0.97640\n",
      "====================================================================================================\n",
      "Epoch[10/100] - Train loss: 0.05809 Train Accucracy: 0.98678 || Validation Loss: 0.10036 Validation Accuracy: 0.97670\n",
      "====================================================================================================\n",
      "Epoch[11/100] - Train loss: 0.04757 Train Accucracy: 0.98853 || Validation Loss: 0.09345 Validation Accuracy: 0.97920\n",
      "====================================================================================================\n",
      "Epoch[12/100] - Train loss: 0.04985 Train Accucracy: 0.98875 || Validation Loss: 0.09632 Validation Accuracy: 0.97950\n",
      "====================================================================================================\n",
      "Epoch[13/100] - Train loss: 0.04203 Train Accucracy: 0.99038 || Validation Loss: 0.08814 Validation Accuracy: 0.98060\n",
      "====================================================================================================\n",
      "Epoch[14/100] - Train loss: 0.04097 Train Accucracy: 0.99103 || Validation Loss: 0.09220 Validation Accuracy: 0.98060\n",
      "====================================================================================================\n",
      "Epoch[15/100] - Train loss: 0.03855 Train Accucracy: 0.99127 || Validation Loss: 0.08952 Validation Accuracy: 0.98120\n",
      "====================================================================================================\n",
      "Epoch[16/100] - Train loss: 0.03570 Train Accucracy: 0.99198 || Validation Loss: 0.09097 Validation Accuracy: 0.98140\n",
      "====================================================================================================\n",
      "Epoch[17/100] - Train loss: 0.03430 Train Accucracy: 0.99210 || Validation Loss: 0.09176 Validation Accuracy: 0.98170\n",
      "====================================================================================================\n",
      "Epoch[18/100] - Train loss: 0.03963 Train Accucracy: 0.99168 || Validation Loss: 0.09621 Validation Accuracy: 0.98100\n",
      "====================================================================================================\n",
      "Early stopping: Epoch - 17\n",
      "403.4111866950989 초\n"
     ]
    }
   ],
   "source": [
    "loss_fn = nn.CrossEntropyLoss()\n",
    "optimizer = torch.optim.Adam(bn_model.parameters(), lr=lr)\n",
    "\n",
    "train_loss_list3, train_acc_list3, valid_loss_list3, valid_acc_list3 = fit(\n",
    "    train_loader, test_loader,\n",
    "    bn_model,\n",
    "    loss_fn,\n",
    "    optimizer,\n",
    "    epochs,\n",
    "    save_best_model=False,\n",
    "    patience=5,\n",
    "    device=device,\n",
    "    mode=\"multi\"\n",
    ")"
   ]
  },
  {
   "cell_type": "markdown",
   "metadata": {},
   "source": [
    "# Learning rate decay\n"
   ]
  },
  {
   "cell_type": "markdown",
   "metadata": {},
   "source": [
    "### Optimizer와 Learning rate scheduler의 속성, 메소드 확인\n",
    "\n",
    "-   파이토치는 `torch.optim` 모듈에서 다양한 Learning rate 알고리즘을 제공한다.\n"
   ]
  },
  {
   "cell_type": "code",
   "execution_count": null,
   "metadata": {},
   "outputs": [],
   "source": [
    "import matplotlib.pyplot as plt\n",
    "\n",
    "def plot_lr(title, lr_list):\n",
    "    \"\"\"Learning 스케쥴러(학습도중 LR를 변경시키는 객체.)에 의해 변화되는 Learning Rate값을 시각화.\n",
    "\n",
    "    Args:\n",
    "        title (str): title\n",
    "        lr_list (list): Learning Rate 스케쥴러에 의해 변경된 learning rate값들을 가지는 list\n",
    "    \"\"\"\n",
    "    plt.figure(figsize=(15, 6))\n",
    "    plt.plot(range(len(lr_list)), lr_list)\n",
    "\n",
    "    plt.title(title)\n",
    "    xticks = [x for x in range(len(lr_list)) if x % 10 == 0] # 눈금을 10 배수 자리에 위치.\n",
    "    plt.xticks(xticks)\n",
    "    plt.xlabel(\"Epoch 수 또는 Step 수\")\n",
    "    plt.ylabel(\"학습률-LR\")\n",
    "    plt.grid(True, linestyle=\":\")\n",
    "    plt.show()"
   ]
  },
  {
   "cell_type": "markdown",
   "metadata": {},
   "source": [
    "#### StepLR\n"
   ]
  },
  {
   "cell_type": "code",
   "execution_count": null,
   "metadata": {},
   "outputs": [],
   "source": []
  },
  {
   "cell_type": "code",
   "execution_count": null,
   "metadata": {},
   "outputs": [],
   "source": []
  },
  {
   "cell_type": "code",
   "execution_count": null,
   "metadata": {},
   "outputs": [],
   "source": []
  },
  {
   "cell_type": "markdown",
   "metadata": {},
   "source": [
    "#### CosineAnnealingLR\n",
    "\n",
    "cosine 그래프를 그리면서 learning rate를 변경 하는 방식.  \n",
    "최근에는 learning rate를 단순히 감소시키기 보다는 감소와 증가를 반복하여 진동하는 방식으로 최적점을 찾아가는 알고리즘을 많이 사용한다. 이러한 방법 중 가장 간단하면서도 많이 사용되는 방법이 CosineAnnealingLR이다.\n"
   ]
  },
  {
   "cell_type": "code",
   "execution_count": null,
   "metadata": {},
   "outputs": [],
   "source": []
  },
  {
   "cell_type": "code",
   "execution_count": null,
   "metadata": {},
   "outputs": [],
   "source": []
  },
  {
   "cell_type": "code",
   "execution_count": null,
   "metadata": {},
   "outputs": [],
   "source": []
  },
  {
   "cell_type": "markdown",
   "metadata": {},
   "source": [
    "#### CosineAnnealingWarmRestarts\n",
    "\n",
    "cosine annealing의 스케쥴링에 cosine 주기의 에폭을 점점 늘리거나 줄일 수 있다. (보통 늘린다.)\n"
   ]
  },
  {
   "cell_type": "code",
   "execution_count": null,
   "metadata": {},
   "outputs": [],
   "source": []
  },
  {
   "cell_type": "code",
   "execution_count": null,
   "metadata": {},
   "outputs": [],
   "source": []
  }
 ],
 "metadata": {
  "kernelspec": {
   "display_name": "dl",
   "language": "python",
   "name": "python3"
  },
  "language_info": {
   "codemirror_mode": {
    "name": "ipython",
    "version": 3
   },
   "file_extension": ".py",
   "mimetype": "text/x-python",
   "name": "python",
   "nbconvert_exporter": "python",
   "pygments_lexer": "ipython3",
   "version": "3.12.10"
  },
  "toc": {
   "base_numbering": 1,
   "nav_menu": {},
   "number_sections": false,
   "sideBar": true,
   "skip_h1_title": false,
   "title_cell": "Table of Contents",
   "title_sidebar": "Contents",
   "toc_cell": false,
   "toc_position": {},
   "toc_section_display": true,
   "toc_window_display": false
  },
  "varInspector": {
   "cols": {
    "lenName": 16,
    "lenType": 16,
    "lenVar": 40
   },
   "kernels_config": {
    "python": {
     "delete_cmd_postfix": "",
     "delete_cmd_prefix": "del ",
     "library": "var_list.py",
     "varRefreshCmd": "print(var_dic_list())"
    },
    "r": {
     "delete_cmd_postfix": ") ",
     "delete_cmd_prefix": "rm(",
     "library": "var_list.r",
     "varRefreshCmd": "cat(var_dic_list()) "
    }
   },
   "types_to_exclude": [
    "module",
    "function",
    "builtin_function_or_method",
    "instance",
    "_Feature"
   ],
   "window_display": false
  }
 },
 "nbformat": 4,
 "nbformat_minor": 4
}
