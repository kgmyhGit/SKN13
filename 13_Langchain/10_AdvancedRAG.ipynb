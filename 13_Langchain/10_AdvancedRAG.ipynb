{
 "cells": [
  {
   "cell_type": "code",
   "execution_count": 1,
   "id": "75dd69d8",
   "metadata": {},
   "outputs": [
    {
     "data": {
      "text/plain": [
       "True"
      ]
     },
     "execution_count": 1,
     "metadata": {},
     "output_type": "execute_result"
    }
   ],
   "source": [
    "###############################################################\n",
    "# VectorStore, Retriever 준비\n",
    "###############################################################\n",
    "from dotenv import load_dotenv\n",
    "\n",
    "load_dotenv()"
   ]
  },
  {
   "cell_type": "code",
   "execution_count": 2,
   "id": "4f1a734b",
   "metadata": {},
   "outputs": [],
   "source": [
    "from langchain_chroma import Chroma\n",
    "from langchain_huggingface import HuggingFaceEmbeddings\n",
    "from langchain_openai import OpenAIEmbeddings\n",
    "\n",
    "COLLECTION_NAME = \"olympic_info\"\n",
    "PERSIST_DIRECTORY = \"vector_store/chroma/olympic_info\"\n",
    "\n",
    "def get_vectorstore():\n",
    "    embedding_model = OpenAIEmbeddings(\n",
    "        model=\"text-embedding-3-large\",\n",
    "    )\n",
    "\n",
    "    vector_store = Chroma(\n",
    "        embedding_function=embedding_model,\n",
    "        collection_name=COLLECTION_NAME,\n",
    "        persist_directory=PERSIST_DIRECTORY\n",
    "    )\n",
    "    return vector_store\n",
    "\n",
    "\n",
    "def get_retriever(k=10):\n",
    "    vector_store = get_vectorstore()\n",
    "    retriever = vector_store.as_retriever(search_kwargs={\"k\":k})\n",
    "    return retriever"
   ]
  },
  {
   "cell_type": "code",
   "execution_count": null,
   "id": "1a1b469a",
   "metadata": {},
   "outputs": [],
   "source": [
    "###########################################################################\n",
    "# Document 추가\n",
    "###########################################################################\n",
    "\n",
    "from langchain_community.document_loaders import TextLoader\n",
    "from langchain.text_splitter import RecursiveCharacterTextSplitter\n",
    "\n",
    "vector_store = get_vectorstore()\n",
    "\n",
    "path = 'data/olympic.txt'\n",
    "loader = TextLoader(path, encoding=\"utf-8\")\n",
    "splitter = RecursiveCharacterTextSplitter(\n",
    "    chunk_size=500, chunk_overlap=50\n",
    ")\n",
    "\n",
    "docs = loader.load_and_split(splitter)\n",
    "\n",
    "ids = vector_store.add_documents(documents=docs)\n",
    "len(ids)"
   ]
  },
  {
   "cell_type": "code",
   "execution_count": 5,
   "id": "8cad675c",
   "metadata": {},
   "outputs": [
    {
     "data": {
      "text/plain": [
       "[Document(id='31465a9a-6fc7-4ffd-a7c4-885b7b120f6c', metadata={'source': 'data/olympic.txt'}, page_content='국제 올림픽 위원회\\n올림픽 활동이란 많은 수의 국가, 국제 경기 연맹과 협회 • 미디어 파트너를 맺기 • 선수, 직원, 심판, 모든 사람과 기관이 올림픽 헌장을 지키는 것을 말한다. 국제올림픽위원회(IOC)는 모든 올림픽 활동을 통솔하는 단체로서, 올림픽 개최 도시 선정, 계획 감독, 종목 변경, 스폰서 및 방송권 계약 체결 등의 권리가 있다. 올림픽 활동은 크게 세 가지로 구성된다.\\n- 국제경기연맹(IF)은 국제적인 규모의 경기를 관리, 감독하는 기구이다. 예를 들어서 국제 축구 연맹(FIFA)는 축구를 주관하며, 국제 배구 연맹(FIVB)은 배구를 주관하는 기구이다. 올림픽에는 현재 35개의 국제경기연맹이 있고 각 종목을 대표한다. (이 중에는 올림픽 종목은 아니지만 IOC의 승인을 받은 연맹도 있다.)'),\n",
       " Document(id='ad344260-388b-48ee-9748-38bb39dd120a', metadata={'source': 'data/olympic.txt'}, page_content='올림픽은 국제경기연맹(IF), 국가 올림픽 위원회(NOC), 각 올림픽의 위원회(예-벤쿠버동계올림픽조직위원회)로 구성된다. 의사 결정 기구인 IOC는 올림픽 개최 도시를 선정하며, 각 올림픽 대회마다 열리는 올림픽 종목도 IOC에서 결정한다. 올림픽 경기 개최 도시는 경기 축하 의식이 올림픽 헌장에 부합하도록 조직하고 기금을 마련해야 한다. 올림픽 축하 행사로는 여러 의식과 상징을 들 수 있는데 올림픽기나 성화가 그 예이다.'),\n",
       " Document(id='a92319ae-27f2-4013-bf2c-9902b0e00ed4', metadata={'source': 'data/olympic.txt'}, page_content='- 국가 올림픽 위원회(NOC)는 각국의 올림픽 활동을 감독하는 기구이다. 예를 들어서 대한 올림픽 위원회(KOC)는 대한민국의 국가 올림픽 위원회이다. 현재 IOC에 소속된 국가 올림픽 위원회는 205개이다.\\n- 올림픽 조직 위원회(OCOG)는 임시적인 조직으로 올림픽의 총체적인 것(개막식, 페막식 등)을 책임지기 위해 구성된 조직이다. 올림픽 조직 위원회는 올림픽이 끝나면 해산되며 최종보고서를 IOC에 제출한다.\\n올림픽의 공식언어는 프랑스어와 영어와 개최국의 공용어이다. 모든 선언(예를 들어서 개막식 때 각국 소개를 할 때)들은 세 언어가 모두 나오거나 영어나 프랑스어 중에서 한 언어로만 말하기도 한다. 개최국의 공용어가 영어나 프랑스어가 아닐 때는 당연히 그 나라의 공용어도 함께 나온다.')]"
      ]
     },
     "execution_count": 5,
     "metadata": {},
     "output_type": "execute_result"
    }
   ],
   "source": [
    "retriever = get_retriever(k=3)\n",
    "retriever.invoke(\"IOC에 대해 설명해줘.\")"
   ]
  },
  {
   "cell_type": "markdown",
   "id": "7bd8ce17",
   "metadata": {},
   "source": [
    "# Rerank\n",
    "\n",
    "## 개념\n",
    "\n",
    "- RAG의 정확도는 관련 정보의 컨텍스트 내 존재 유무가 아니라 순서가 중요하다. 즉, 관련 정보가 컨텍스트 내 상위권에 위치하고 있을 때 좋은 답변을 얻을 수 있다는 뜻이다. \n",
    "- **Rerank**는 RAG 시스템에서 **초기 검색 단계에서 추출된 후보 문서들의 순위를 재조정**하는 기법이다. \n",
    "- 벡터 유사도 기반의 빠른 1차 검색 후, 보다 정밀한 모델(예: Cross-encoder, LLM 등)을 활용해 질문과 검색된 문서간의 의미론적 관련성을 평가하여, 실제로 답변 생성에 가장 **적합한 문서들이 상위**에 오도록 순서를 다시 매긴다. 이를 통해 LLM이 더 정확하고 관련성 높은 정보를 바탕으로 답변을 생성할 수 있게 도와준다.\n",
    "\n",
    "## 방법\n",
    "\n",
    "- **Cross-encoder 기반 Rerank**  \n",
    "  - Cross Encoder를 이용해서 순위를 재 지정한다.\n",
    "  - Cross-encoder\n",
    "    - 질문과 문서를 같이 입력으로 받아 둘간의 유사도 점수를 예측하도록 학습한 모델.\n",
    "    - 학습을 두 문장의 유사도록 예측하도록 학습하였기 때문에 단순 유사도 검사 보다 두 문장간의 의미적 관련성등을 이용해 유사도를 예측하기 때문에 더 정확한 결과를 보인다.\n",
    "  \n",
    "  - 1차적으로 검색한 문서와 질문간의 유사도를 **cross-encoder**로 다시 계산해서 문서의 순위를 재 조정한다.\n",
    "    - \n",
    "  > - **Bi-encoder**\n",
    "  >     - 질문 (query)와 문서(document)를 각각 독립적으로 인코딩한 후, 벡터 간 유사도 계산\n",
    "  >     - Encoder 모델은 개별 문장을 입력받아 embedding vector를 출력한다. 질문과 문서를 각각 encoding한 뒤에 둘 간의 유사도를 계산한다.\n",
    "  \n",
    "  ![bi_crosss_encoder](figures/bi_cross_encoder.png)\n",
    "\n",
    "  \\[출처:https://aws.amazon.com/ko/blogs/tech/korean-reranker-rag/\\]\n",
    "\n",
    "- **LLM 기반 Rerank**  \n",
    "  GPT-3, GPT-4 등 LLM을 활용해 각 문서가 질문에 얼마나 부합하는지 평가하여 순위를 매긴다. 성능이 뛰어나지만 비용이 높고 응답 속도가 느릴 수 있다.\n",
    "## Rerank RAG 프로세스  \n",
    "1. 1차 검색(예: 임베딩 기반 벡터 검색)으로 상위 k개 문서 추출.  \n",
    "2. Reranker 모델에 질문-문서 쌍을 입력.  \n",
    "3. 각 쌍의 관련성 점수 산출 및 재정렬.  \n",
    "4. 상위 n개 문서를 LLM의 컨텍스트로 전달하여 답변 생성.\n",
    "\n",
    "## 장단점\n",
    "\n",
    "- **장점**  \n",
    "  - Rerank를 적용하면 단순 벡터 유사도 기반 검색보다 훨씬 정교하게 질문과 관련된 정보를 추출할 수 있다. \n",
    "  - 실제로 생성되는 답변의 품질이 크게 향상되며, 도메인 특화 정보나 복잡한 질의에도 높은 정확도를 보인다.\n",
    "\n",
    "- **단점**  \n",
    "  - Cross-encoder나 LLM 기반 Rerank는 연산량이 많아 실시간 응답이 필요한 대규모 서비스에선 속도 저하가 발생할 수 있다.\n",
    "  - 초기 검색 결과(상위 k개)에만 적용하므로, 1차 검색의 품질이 낮으면 Rerank 효과가 제한적일 수 있다.\n",
    "\n",
    "## CrossEncoder Reranker 예제"
   ]
  },
  {
   "cell_type": "code",
   "execution_count": 6,
   "id": "6e06ec44",
   "metadata": {},
   "outputs": [],
   "source": [
    "from langchain.retrievers import ContextualCompressionRetriever\n",
    "from langchain.retrievers.document_compressors import CrossEncoderReranker\n",
    "from langchain_community.cross_encoders import HuggingFaceCrossEncoder"
   ]
  },
  {
   "cell_type": "code",
   "execution_count": 8,
   "id": "52a06683",
   "metadata": {},
   "outputs": [],
   "source": [
    "# cross encoder (임베딩) 모델이 필요. - cohere \n",
    "reranker_model_id = \"BAAI/bge-reranker-v2-m3\"\n",
    "\n",
    "retriever = get_retriever()  # 기본 retriever\n",
    "reranker = HuggingFaceCrossEncoder(model_name=reranker_model_id)\n",
    "compressor = CrossEncoderReranker(model=reranker, top_n=5) # 압축방식객체 생성 <- 크로스인코더 객체\n",
    "reranker_retriever = ContextualCompressionRetriever(\n",
    "    base_retriever=retriever, # 처음 문서를 조회할 retriever\n",
    "    base_compressor=compressor, # base retriever가 검색한 문서를 압축하는 알고리즘. (Reranker)\n",
    ")"
   ]
  },
  {
   "cell_type": "code",
   "execution_count": 9,
   "id": "c46b361e",
   "metadata": {},
   "outputs": [],
   "source": [
    "query = \"올림픽과 관련된 논란들을 알려주세요.\"\n",
    "base_result = retriever.invoke(query)\n",
    "rerank_result = reranker_retriever.invoke(query)"
   ]
  },
  {
   "cell_type": "code",
   "execution_count": 11,
   "id": "0fe06d03",
   "metadata": {},
   "outputs": [],
   "source": [
    "base_result_str = [d.page_content for d in base_result]\n",
    "rerank_result_str = [d.page_content for d in rerank_result]"
   ]
  },
  {
   "cell_type": "code",
   "execution_count": 12,
   "id": "a97630ef",
   "metadata": {},
   "outputs": [
    {
     "data": {
      "text/plain": [
       "['올림픽',\n",
       " '1998년에 몇몇 IOC위원들이 2002년 솔트레이크 시티 동계 올림픽 유치 과정에서 미국에게 미국을 올림픽 개최지로 뽑아달라는 뇌물청탁을 받았다는 것이 폭로되었다. 이에 IOC는 사퇴한 IOC위원 4명과 강제 퇴출된 6명에 대한 조사를 했다. 이 스캔들은 이후에 개최지 선정에서 이와 같은 불미스러운 일이 일어나지 않게 하기 위해서 IOC가 개혁에 착수하도록 하는 긍정적인 역할을 하기도 했다.',\n",
       " \"BBC 다큐멘터리인 '파노라마'에서는 '매수된 올림픽'이란 주제로 2004년 8월에 방송을 내보내기도 했다. 이때 이 프로그램에서는 2012년 하계 올림픽의 개최지 선정과 관련된 뇌물에 대해서 조사했다. 이 다큐멘터리에서는 특정 후보 도시가 IOC 위원들에게 뇌물수수하는 것이 가능했다고 주장했으며, 특히 파리 시장이었던 베르트랑 들라노에(Bertrand Delanoë)는 영국의 총리인 토니 블레어와 런던올림픽유치위원회가 입후보 규정을 위반했다고 비난했다. 그는 당시 프랑스 대통령이었던 자크 시라크를 목격자로 내세웠지만 시라크 대통령은 이 분쟁에 휘말려드는 것을 주의했으며 인터뷰를 삼갔다. 결국 베르트랑 들라노에의 주장에 대한 조사는 체계적으로 이루어지지는 않았다. 2006년 동계 올림픽을 유치했던 토리노도 이 논쟁에서 빠져나갈 수 없었다. 이번에는 스위스 국적의 IOC위원 마크 호들러(Marc Hodler)가 이 논쟁의 중심이 되었는데, 이 위원은 스위스 시온의 경쟁 도시였던\",\n",
       " '국제 올림픽 위원회(이하 IOC로 지칭)는 몇몇 위원들이 한 행위에 대해서 비판을 받고 있다. 그 예로 IOC 위원장이었던 에이버리 브런디지와 후안 안토니오 사마란치가 대표적인 사람이다. 브런디지는 20년 넘게 IOC 위원장직을 맡았고 임기 중에 올림픽을 정치적으로 휘말려들지 않게 하기 위해 보호했다. 그러나 그는 남아프리카 공화국 대표단에게 아파르트헤이트와 관련된 이슈를 건드리고 반유대정책을 함으로써 비난을 받았다. 사마란치 위원장 시기 때는 족벌 정치와 부패로 비난받았다. 사마란치가 스페인에서 프랑코 정권에 협력했다는 것도 비판의 이유가 되었다.',\n",
       " '현대 올림픽에서는 프로 선수의 참가 불허가 많은 분쟁을 가져왔다. 1912년 하계 올림픽의 근대 5종 경기와 10종 경기에서 우승한 짐 소프는 올림픽에 나가기 전에 준프로야구선수로 활동했다는 게 나중에 밝혀져 메달이 박탈되었다. 소프는 후에 동정적 여론의 힘을 업고 1983년에 메달을 돌려받게 된다. 1936년 동계 올림픽 때 스위스와 오스트리아 스키선수들은 돈을 벌기 위해 스포츠를 했는데 이러한 행동이 아마추어 정신에 위배된다고 결정되어 그들은 스키종목에 참가할 수 없었다.',\n",
       " '올림픽(영어: Olympic Games, 프랑스어: Jeux olympiques)은 전 세계 각 대륙 각국에서 모인 수천 명의 선수가 참가해 여름과 겨울에 스포츠 경기를 하는 국제적인 대회이다. 전 세계에서 가장 큰 지구촌 최대의 스포츠 축제인 올림픽은 세계에서 가장 인지도있는 국제 행사이다. 올림픽은 2년마다 하계 올림픽과 동계 올림픽이 번갈아 열리며, 국제 올림픽 위원회(IOC)가 감독하고 있다. 또한 오늘날의 올림픽은 기원전 8세기부터 서기 5세기에 이르기까지 고대 그리스 올림피아에서 열렸던 올림피아 제전에서 비롯되었다. 그리고 19세기 말에 피에르 드 쿠베르탱 남작이 고대 올림피아 제전에서 영감을 얻어, 근대 올림픽을 부활시켰다. 이를 위해 쿠베르탱 남작은 1894년에 IOC를 창설했으며, 2년 뒤인 1896년에 그리스 아테네에서 제 1회 올림픽이 열렸다. 이때부터 IOC는 올림픽 운동의 감독 기구가 되었으며, 조직과 활동은 올림픽 헌장을 따른다. 오늘날 전 세계 대부분의',\n",
       " '쿠베르탱의 생각과는 달리, 올림픽이 세계에 완벽한 평화를 가져다주지는 못했다. 실제로 제1차 세계대전으로 인해 독일 베를린에서 열리기로 했던 제6회 1916년 하계 올림픽이 취소되었고, 제2차 세계대전 때는 일본 도쿄에서 열리기로 했던 제12회 1940년 하계 올림픽, 삿포로에서 열리기로 했던 1940년 동계 올림픽, 영국 런던에서 열리기로 했던 제13회 1944년 하계 올림픽, 이탈리아 코르티나담페초에서 열릴 예정인 1944년 동계 올림픽이 취소되었다. 베이징에서 열린 2008년 하계 올림픽 개막식날 조지아와 러시아 간의 2008년 남오세티아 전쟁이 일어나기도 했다. 부시 대통령과 푸틴 대통령이 이 올림픽을 보러 왔으며 중국 주석인 후진타오가 주최한 오찬에 참석해서 이 현안에 대해 논의하기도 했다. 조지아 대표인 니노 살루크바체와 러시아 대표인 나탈리야 파데리나가 여자 10m 공기권총 경기에서 각각 동메달과 은메달을 땄을 때 이 일은 베이징 올림픽의 유명한 사건 중 하나로 남게',\n",
       " '테러도 올림픽에서 공포의 대상이었다. 뮌헨 참사로 알려진 1972년에 서독 바이에른의 뮌헨에서 열린 하계 올림픽때의 사건은 테러리스트인 검은 9월단이 일으킨 사건으로서 이스라엘 선수 11명을 인질로 붙잡았다가 전원이 사망한 사건이다. 당시 미숙한 진압으로 인해 인질 9명(선수 1명과 코치 1명은 인질로 잡기 이전에 살해), 테러범 5명, 독일 경찰관 1명이 사망했으며 이 진압 작전 이전에는 인질들은 단 한 명도 죽지 않았다. 애틀란타에서 열린 1996년 하계 올림픽 때는 센테니얼 올림픽 공원(Centennial Olympic Park)에서 폭발 사건이 일어나 2명이 죽고 111명이 다치는 사건이 발생했다. 이 사건의 주모자 에릭 로버트 루돌프는 종신형을 선고받았다. 참고로 마라톤 역시 전쟁에서 유래한 것이다.',\n",
       " '올림픽에서 약물 복용 양성 반응이 나와서 메달을 박탈당한 첫 번째 사례로는 1968년 하계 올림픽의 근대 5종 경기에 출전해 동메달을 딴 한스 군나르 리렌바르가 있다. 그는 경기 후 도핑검사 결과 알코올을 복용한 것으로 확인되어 메달을 박탈당했다. 도핑 양성 반응으로 메달을 박탈당한 것으로 가장 유명한 사람은 1988년 하계 올림픽 육상 100m 경기에서 금메달을 땄으나 도핑 검사 결과 스타노졸롤을 복용한 것으로 확인돼 금메달을 박탈당한 캐나다 선수인 벤 존슨이 있다. 이에 따라 금메달은 2위를 했던 칼 루이스가 대신 받았다.',\n",
       " '고대올림픽']"
      ]
     },
     "execution_count": 12,
     "metadata": {},
     "output_type": "execute_result"
    }
   ],
   "source": [
    "base_result_str"
   ]
  },
  {
   "cell_type": "code",
   "execution_count": 13,
   "id": "3a5469c0",
   "metadata": {},
   "outputs": [
    {
     "data": {
      "text/plain": [
       "[\"BBC 다큐멘터리인 '파노라마'에서는 '매수된 올림픽'이란 주제로 2004년 8월에 방송을 내보내기도 했다. 이때 이 프로그램에서는 2012년 하계 올림픽의 개최지 선정과 관련된 뇌물에 대해서 조사했다. 이 다큐멘터리에서는 특정 후보 도시가 IOC 위원들에게 뇌물수수하는 것이 가능했다고 주장했으며, 특히 파리 시장이었던 베르트랑 들라노에(Bertrand Delanoë)는 영국의 총리인 토니 블레어와 런던올림픽유치위원회가 입후보 규정을 위반했다고 비난했다. 그는 당시 프랑스 대통령이었던 자크 시라크를 목격자로 내세웠지만 시라크 대통령은 이 분쟁에 휘말려드는 것을 주의했으며 인터뷰를 삼갔다. 결국 베르트랑 들라노에의 주장에 대한 조사는 체계적으로 이루어지지는 않았다. 2006년 동계 올림픽을 유치했던 토리노도 이 논쟁에서 빠져나갈 수 없었다. 이번에는 스위스 국적의 IOC위원 마크 호들러(Marc Hodler)가 이 논쟁의 중심이 되었는데, 이 위원은 스위스 시온의 경쟁 도시였던\",\n",
       " '국제 올림픽 위원회(이하 IOC로 지칭)는 몇몇 위원들이 한 행위에 대해서 비판을 받고 있다. 그 예로 IOC 위원장이었던 에이버리 브런디지와 후안 안토니오 사마란치가 대표적인 사람이다. 브런디지는 20년 넘게 IOC 위원장직을 맡았고 임기 중에 올림픽을 정치적으로 휘말려들지 않게 하기 위해 보호했다. 그러나 그는 남아프리카 공화국 대표단에게 아파르트헤이트와 관련된 이슈를 건드리고 반유대정책을 함으로써 비난을 받았다. 사마란치 위원장 시기 때는 족벌 정치와 부패로 비난받았다. 사마란치가 스페인에서 프랑코 정권에 협력했다는 것도 비판의 이유가 되었다.',\n",
       " '현대 올림픽에서는 프로 선수의 참가 불허가 많은 분쟁을 가져왔다. 1912년 하계 올림픽의 근대 5종 경기와 10종 경기에서 우승한 짐 소프는 올림픽에 나가기 전에 준프로야구선수로 활동했다는 게 나중에 밝혀져 메달이 박탈되었다. 소프는 후에 동정적 여론의 힘을 업고 1983년에 메달을 돌려받게 된다. 1936년 동계 올림픽 때 스위스와 오스트리아 스키선수들은 돈을 벌기 위해 스포츠를 했는데 이러한 행동이 아마추어 정신에 위배된다고 결정되어 그들은 스키종목에 참가할 수 없었다.',\n",
       " '올림픽',\n",
       " '1998년에 몇몇 IOC위원들이 2002년 솔트레이크 시티 동계 올림픽 유치 과정에서 미국에게 미국을 올림픽 개최지로 뽑아달라는 뇌물청탁을 받았다는 것이 폭로되었다. 이에 IOC는 사퇴한 IOC위원 4명과 강제 퇴출된 6명에 대한 조사를 했다. 이 스캔들은 이후에 개최지 선정에서 이와 같은 불미스러운 일이 일어나지 않게 하기 위해서 IOC가 개혁에 착수하도록 하는 긍정적인 역할을 하기도 했다.']"
      ]
     },
     "execution_count": 13,
     "metadata": {},
     "output_type": "execute_result"
    }
   ],
   "source": [
    "rerank_result_str"
   ]
  },
  {
   "cell_type": "code",
   "execution_count": null,
   "id": "3b9e044a",
   "metadata": {},
   "outputs": [],
   "source": []
  },
  {
   "cell_type": "markdown",
   "id": "83aac8f1",
   "metadata": {},
   "source": [
    "# HyDE (Hypothetical Document Embedding)\n",
    "## 개념\n",
    "- 질문(query)에 대한 가상의 답변 문서를 생성하고, 이 생성된 가상의 답변 문서를 임베딩하여 검색에 활용하는 기법이다.\n",
    "- 일반적인 RAG에서 검색은 질문을 임베딩하여 문서 임베딩과 직접 비교한다. \n",
    "- 질문(\"파리는 어떤 도시인가?\")과 답변 문서(\"파리는 프랑스의 수도이며...\")는 표현 방식이 다르다는 문제가 있다. \n",
    "- 즉 의미적으로는 관련있지만 벡터 공간(임베딩 벡터간의 유사서)에서는 거리가 멀 수가 있다.\n",
    "- 그래서 HyDE는 질문과 문서가 아니라 질문으로 가상의 답변 문서를 만들고 **가상의 답변문서와 저장된 문서들간의 유사도**를 비교한다.\n",
    "\n",
    "## HyDE 프로세스\n",
    "\n",
    "1. 가상 문서 생성\n",
    "   -  LLM을 사용해 질문에 대한 가상의 답변 문서 생성\n",
    "   -  이때 성능이 좋은 LLM을 사용하는 것이 좋다.\n",
    "2. 임베딩 변환\n",
    "   - `1`에서 생성한 가상 문서를 벡터로 임베딩\n",
    "3. 유사도 검색\n",
    "   - 가상 문서 임베딩으로 Vector Store에 저장된 문서들 중 유사한 문서를 검색\n",
    "4. 답변 생성\n",
    "   - 검색된 실제 문서를 바탕으로 최종 답변 생성\n",
    "\n",
    "## 장단점\n",
    "- **장점**\n",
    "  - 질문-문서 간 의미적 차이를 해결 해서 정확한 문서 검색 가능\n",
    "  - 질문 표현 방식에 덜 민감\n",
    "- **단점**\n",
    "  - 가상 문서의 품질에 따른 성능 편차가 발생한다.\n",
    "    - 가상 문서 생성 시 환각(hallucination) 위험\n",
    "  - 추가적인 LLM 호출로 인한 비용 증가한다."
   ]
  },
  {
   "cell_type": "code",
   "execution_count": null,
   "id": "62840b2b",
   "metadata": {},
   "outputs": [],
   "source": [
    "retriever = get_retriever()"
   ]
  },
  {
   "cell_type": "code",
   "execution_count": null,
   "id": "22c2dae6",
   "metadata": {},
   "outputs": [],
   "source": []
  },
  {
   "cell_type": "code",
   "execution_count": null,
   "id": "7a88f3e1",
   "metadata": {},
   "outputs": [],
   "source": []
  },
  {
   "cell_type": "code",
   "execution_count": null,
   "id": "53b672ed",
   "metadata": {},
   "outputs": [],
   "source": []
  },
  {
   "cell_type": "markdown",
   "id": "02cd59f8",
   "metadata": {},
   "source": [
    "#  MultiQueryRetriever\n",
    "\n",
    "## 개념\n",
    "- 하나의 사용자 질문으로 **여러 개의 다양한 질문을 생성하여 검색**을 수행하는 방법이다.\n",
    "- 단일 질문의 한계를 극복하고 다각도에서 관련 정보 검색할 수있다.\n",
    "  - 기본 RAG는 사용자의 질문의 질(quality)에 따라 검색 결과가 좌우된다.\n",
    "  - 사용자가 한 질문에만 의존하는 것이 아니라 그 질문을 바탕으로 **다양한 의미의 질문들을 생성해서 단일 질문이 가지는 표현의 한계를 보완**한다.\n",
    "    - 동일한 질문을 다른 각도에서 접근할 수있다.\n",
    "    - 다양한 어휘와 표현으로 질문을 재구성한다.\n",
    "- 예)\n",
    "  - **원본 질문**: \"딥러닝의 장점은 무엇인가?\"\n",
    "  - **생성된 질문들**:\n",
    "    1. \"딥러닝이 전통적인 머신러닝보다 나은 점은?\"\n",
    "    2. \"딥러닝을 사용하면 얻을 수 있는 이익은?\"\n",
    "    3. \"딥러닝의 주요 강점과 특징은?\"\n",
    "    4. \"딥러닝 기술의 핵심 우위는?\"\n",
    "## 실행 프로세스\n",
    "\n",
    "1. 질문 생성   \n",
    "   - LLM을 사용해 원본 질문을 3-5개의 서로 다른 질문으로 변환\n",
    "2. 병렬 검색\n",
    "   - 생성된 각 질문으로 독립적으로 문서 검색 수행\n",
    "3. 결과 통합\n",
    "   - 여러 검색 결과를 하나로 병합\n",
    "4. 중복 제거\n",
    "   - 동일한 문서가 여러 번 검색된 경우 중복 제거\n",
    "5. 최종 답변\n",
    "   - 통합된 문서 세트를 바탕으로 답변 생성\n",
    "\n",
    "## 장단점\n",
    "- **장점**\n",
    "    - 단일 질문으로 놓칠 수 있는 관련 문서 발견 수 있다.\n",
    "    - 사용자 질문 표현 방식의 한계 극복\n",
    "    - 더 포괄적이고 완전한 정보 검색 및 수집을 할 수있다.\n",
    "- **단점**\n",
    "    - 여러 번의 LLM 호출과 검색 수행이 실행 되므로 **계산비용, 토큰비용, 응답시간이 증가한다.**\n",
    "    - 생성된 질문의 품질에 따른 성능 편차가 있을 수 있다.\n",
    "    - 생성된 질문에 때라 원래 질문과 관련성 낮은 문서도 검색될 수 있어 최종 답변을 방해하는 노이즈가 증가할 수있다."
   ]
  },
  {
   "cell_type": "code",
   "execution_count": null,
   "id": "a7df5b78",
   "metadata": {},
   "outputs": [],
   "source": []
  },
  {
   "cell_type": "code",
   "execution_count": null,
   "id": "8cb7a01f",
   "metadata": {},
   "outputs": [],
   "source": []
  },
  {
   "cell_type": "code",
   "execution_count": null,
   "id": "5f2015bd",
   "metadata": {},
   "outputs": [],
   "source": []
  },
  {
   "cell_type": "code",
   "execution_count": null,
   "id": "185452e0",
   "metadata": {},
   "outputs": [],
   "source": []
  },
  {
   "cell_type": "code",
   "execution_count": null,
   "id": "a5e581ef",
   "metadata": {},
   "outputs": [],
   "source": []
  },
  {
   "cell_type": "markdown",
   "id": "47826ade",
   "metadata": {},
   "source": [
    "# MapReduce RAG 방식\n",
    "\n",
    "## 개요\n",
    "\n",
    "- RAG(Retrieval-Augmented Generation)에서 검색된 문서들 중 질문과 관련성이 높은 문서만을 선별하여 더 정확한 답변을 생성하는 방법이다.\n",
    "- 검색된 문서들 중에서 질문 답변에 실제로 도움이 되는 문서만을 LLM을 통해 선별한 후 전달하는 방식이다.\n",
    "\n",
    "## MapReduce 방식 프로세스\n",
    "1. Map (문서 검색)\n",
    "  - 벡터스토어에서 질문과 유사한 문서들을 의미적 유사도 검색으로 찾는다.\n",
    "  - 이 단계에서는 단순 벡터 유사도만 고려하므로 질문과 직접적인 관련이 없는 문서도 포함될 수 있다.\n",
    "2. Reduce (문서 선별 및 요약)\n",
    "   - 검색된 각 문서가 질문 답변에 실제로 도움이 되는지 LLM에게 평가 요청한다.\n",
    "   - 관련성이 높은 문서들만 선별하여 요약하거나 결합한다.\n",
    "   - 필요시 여러 문서의 정보를 통합하여 더 응답에 적합한 컨텍스트를 생성한다.\n",
    "3.  Generate (최종 답변 생성)\n",
    "    - 질문과 선별된 컨텍스트를 함께 LLM에 전달하여 최종 답변을 생성한다.\n",
    "\n",
    "## 장단점\n",
    "\n",
    "- **장점**\n",
    "  - **높은 정확도**: 질문과 직접 관련된 정보만 사용하여 더 정확한 답변을 생성한다.\n",
    "  - **노이즈 제거**: 유사하지만 관련 없는 정보로 인한 혼동을 방지한다.\n",
    "  - **컨텍스트 최적화**: 제한된 토큰 범위 내에서 가장 유용한 정보만 전달한다.\n",
    "  - **확장성**: 많은 문서가 검색되어도 중요한 정보만 선별하여 처리할 수 있다.\n",
    "- 단점\n",
    "  - **추가 비용**: 문서 선별을 위한 LLM 호출로 인한 비용이 증가한다.\n",
    "  - **처리 시간**: 문서 평가 단계가 추가되어 응답 속도가 저하된다.\n",
    "  - **복잡성**: 구현과 관리가 더 복잡하다.\n",
    "  - **의존성**: 문서 선별 성능이 LLM의 판단 능력에 크게 의존한다."
   ]
  },
  {
   "cell_type": "code",
   "execution_count": null,
   "id": "49a07c5b",
   "metadata": {},
   "outputs": [],
   "source": []
  },
  {
   "cell_type": "code",
   "execution_count": null,
   "id": "c03c49de",
   "metadata": {},
   "outputs": [],
   "source": []
  },
  {
   "cell_type": "code",
   "execution_count": null,
   "id": "0db372ba",
   "metadata": {},
   "outputs": [],
   "source": []
  },
  {
   "cell_type": "code",
   "execution_count": null,
   "id": "1f5e3d54",
   "metadata": {},
   "outputs": [],
   "source": []
  },
  {
   "cell_type": "code",
   "execution_count": null,
   "id": "a6c8a900",
   "metadata": {},
   "outputs": [],
   "source": []
  }
 ],
 "metadata": {
  "kernelspec": {
   "display_name": "lang_env",
   "language": "python",
   "name": "python3"
  },
  "language_info": {
   "codemirror_mode": {
    "name": "ipython",
    "version": 3
   },
   "file_extension": ".py",
   "mimetype": "text/x-python",
   "name": "python",
   "nbconvert_exporter": "python",
   "pygments_lexer": "ipython3",
   "version": "3.12.11"
  }
 },
 "nbformat": 4,
 "nbformat_minor": 5
}
