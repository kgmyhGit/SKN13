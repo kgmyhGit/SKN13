{
 "cells": [
  {
   "cell_type": "markdown",
   "id": "907e923a-af5e-48c3-9664-58bd640efb20",
   "metadata": {},
   "source": [
    "# Embedding\n",
    "![rag_embedding](figures/rag_embedding.png)\n",
    "\n",
    "- 분할된 텍스트를 벡터 표현(임베딩 벡터)으로 변환한다.\n",
    "- LangChain은 OpenAI, HuggingFace 등 다양한 임베딩 모델을 지원하며, 동일한 인터페이스로 사용할 수 있다.\n",
    "- [임베딩모델의 메서드](https://api.python.langchain.com/en/latest/embeddings/langchain_core.embeddings.embeddings.Embeddings.html#langchain_core.embeddings.embeddings.Embeddings)\n",
    "\n",
    "    - **`embed_documents(texts: List[str])`**\n",
    "        - 여러 문서를 받아 벡터화(임베딩)한다.\n",
    "        - Context를 벡터화 할 때 사용한다.\n",
    "    - **`embed_query(text: str)`**\n",
    "        - 하나의 문자열(문서)을 받아 벡터화한다.\n",
    "        - Query를 벡터화 할 때 사용한다.\n"
   ]
  },
  {
   "cell_type": "code",
   "execution_count": 2,
   "id": "ff941301-56f5-4219-89e8-6b54d5afd7f6",
   "metadata": {},
   "outputs": [],
   "source": [
    "docs = [\n",
    "        \"나는 고양이와 개 중 반려동물로 개를 키우고 싶습니다.\",\n",
    "        \"이 강아지 품종은 진도개 입니다. 국제 표준으로 중대형견으로 분류되며 다리가 길어 체고가 높은 편에 속합니다.\",\n",
    "        \"日本の市内バスの運賃は主に距離によって決まり、地域やバス会社によって異なる場合があります\",                  # 일본의 시내버스 요금은 주로 거리에 따라 결정되며, 지역 및 버스 회사에 따라 다를 수 있습니다.\n",
    "        \"Bus fares in the United States vary from city to city, but are generally around $2.90 for a regular bus.\",  # 미국의 버스 요금은 도시마다 다르지만, 일반적으로 정기 버스의 경우 2.90달러 정도입니다.\n",
    "        \"광역버스 요금은 일반 3000원, 청소는 1800원, 어린이 1500원 입니다.\", \n",
    "]"
   ]
  },
  {
   "cell_type": "code",
   "execution_count": 3,
   "id": "84325b3b",
   "metadata": {},
   "outputs": [
    {
     "data": {
      "text/plain": [
       "True"
      ]
     },
     "execution_count": 3,
     "metadata": {},
     "output_type": "execute_result"
    }
   ],
   "source": [
    "from dotenv import load_dotenv\n",
    "load_dotenv()"
   ]
  },
  {
   "cell_type": "code",
   "execution_count": 5,
   "id": "564eb194",
   "metadata": {},
   "outputs": [],
   "source": [
    "#############################\n",
    "#  OpenAI의 Embedding 모델.\n",
    "from langchain_openai import OpenAIEmbeddings#, ChatOpenAI\n",
    "\n",
    "# e_model_id = \"text-embedding-3-small\" # \"text-embedding-3-large\"\n",
    "e_model_id = \"text-embedding-3-large\"\n",
    "embedding_model = OpenAIEmbeddings(model=e_model_id)"
   ]
  },
  {
   "cell_type": "code",
   "execution_count": null,
   "id": "b6d58697",
   "metadata": {},
   "outputs": [],
   "source": [
    "%pip install lanchain-ollama"
   ]
  },
  {
   "cell_type": "code",
   "execution_count": 39,
   "id": "7671b5f1",
   "metadata": {},
   "outputs": [],
   "source": [
    "################################\n",
    "# Ollama Embedding 모델\n",
    "from langchain_ollama import OllamaEmbeddings\n",
    "\n",
    "e_model_id = \"bge-m3\"\n",
    "embedding_model = OllamaEmbeddings(model=e_model_id)"
   ]
  },
  {
   "cell_type": "code",
   "execution_count": null,
   "id": "2583405a",
   "metadata": {},
   "outputs": [],
   "source": [
    "%pip install langchain-huggingface"
   ]
  },
  {
   "cell_type": "code",
   "execution_count": 46,
   "id": "87840579",
   "metadata": {},
   "outputs": [
    {
     "data": {
      "application/vnd.jupyter.widget-view+json": {
       "model_id": "70d6b4165c95431299c4c0d801619015",
       "version_major": 2,
       "version_minor": 0
      },
      "text/plain": [
       "modules.json:   0%|          | 0.00/387 [00:00<?, ?B/s]"
      ]
     },
     "metadata": {},
     "output_type": "display_data"
    },
    {
     "name": "stderr",
     "output_type": "stream",
     "text": [
      "c:\\Users\\Playdata\\miniconda3\\envs\\lang_env\\Lib\\site-packages\\huggingface_hub\\file_download.py:143: UserWarning: `huggingface_hub` cache-system uses symlinks by default to efficiently store duplicated files but your machine does not support them in C:\\Users\\Playdata\\.cache\\huggingface\\hub\\models--intfloat--multilingual-e5-large. Caching files will still work but in a degraded version that might require more space on your disk. This warning can be disabled by setting the `HF_HUB_DISABLE_SYMLINKS_WARNING` environment variable. For more details, see https://huggingface.co/docs/huggingface_hub/how-to-cache#limitations.\n",
      "To support symlinks on Windows, you either need to activate Developer Mode or to run Python as an administrator. In order to activate developer mode, see this article: https://docs.microsoft.com/en-us/windows/apps/get-started/enable-your-device-for-development\n",
      "  warnings.warn(message)\n"
     ]
    },
    {
     "data": {
      "application/vnd.jupyter.widget-view+json": {
       "model_id": "0272dffc5ace436fb85d19b77c11e786",
       "version_major": 2,
       "version_minor": 0
      },
      "text/plain": [
       "README.md:   0%|          | 0.00/160k [00:00<?, ?B/s]"
      ]
     },
     "metadata": {},
     "output_type": "display_data"
    },
    {
     "data": {
      "application/vnd.jupyter.widget-view+json": {
       "model_id": "a932f7efd5e1402480e2de3263a32d67",
       "version_major": 2,
       "version_minor": 0
      },
      "text/plain": [
       "sentence_bert_config.json:   0%|          | 0.00/57.0 [00:00<?, ?B/s]"
      ]
     },
     "metadata": {},
     "output_type": "display_data"
    },
    {
     "data": {
      "application/vnd.jupyter.widget-view+json": {
       "model_id": "153a6b80dd4d49bf834825bb201648c8",
       "version_major": 2,
       "version_minor": 0
      },
      "text/plain": [
       "config.json:   0%|          | 0.00/690 [00:00<?, ?B/s]"
      ]
     },
     "metadata": {},
     "output_type": "display_data"
    },
    {
     "data": {
      "application/vnd.jupyter.widget-view+json": {
       "model_id": "6f956189b6c1429b84bc0d978ac0352b",
       "version_major": 2,
       "version_minor": 0
      },
      "text/plain": [
       "model.safetensors:   0%|          | 0.00/2.24G [00:00<?, ?B/s]"
      ]
     },
     "metadata": {},
     "output_type": "display_data"
    },
    {
     "data": {
      "application/vnd.jupyter.widget-view+json": {
       "model_id": "e8b611abd7404bc2b458d94544231bc1",
       "version_major": 2,
       "version_minor": 0
      },
      "text/plain": [
       "tokenizer_config.json:   0%|          | 0.00/418 [00:00<?, ?B/s]"
      ]
     },
     "metadata": {},
     "output_type": "display_data"
    },
    {
     "data": {
      "application/vnd.jupyter.widget-view+json": {
       "model_id": "d7bcee63cf354f9caa595bfa468c2ae2",
       "version_major": 2,
       "version_minor": 0
      },
      "text/plain": [
       "sentencepiece.bpe.model:   0%|          | 0.00/5.07M [00:00<?, ?B/s]"
      ]
     },
     "metadata": {},
     "output_type": "display_data"
    },
    {
     "data": {
      "application/vnd.jupyter.widget-view+json": {
       "model_id": "8016b6d8b737475fb61309b33212b967",
       "version_major": 2,
       "version_minor": 0
      },
      "text/plain": [
       "tokenizer.json:   0%|          | 0.00/17.1M [00:00<?, ?B/s]"
      ]
     },
     "metadata": {},
     "output_type": "display_data"
    },
    {
     "data": {
      "application/vnd.jupyter.widget-view+json": {
       "model_id": "e8fc1a671f43481aa8e2234e108ed0f5",
       "version_major": 2,
       "version_minor": 0
      },
      "text/plain": [
       "special_tokens_map.json:   0%|          | 0.00/280 [00:00<?, ?B/s]"
      ]
     },
     "metadata": {},
     "output_type": "display_data"
    },
    {
     "data": {
      "application/vnd.jupyter.widget-view+json": {
       "model_id": "776e3a484c5d4462a412cb4ce3c45070",
       "version_major": 2,
       "version_minor": 0
      },
      "text/plain": [
       "config.json:   0%|          | 0.00/201 [00:00<?, ?B/s]"
      ]
     },
     "metadata": {},
     "output_type": "display_data"
    }
   ],
   "source": [
    "##############################\n",
    "# Huggingface Embedding Model\n",
    "#  Hugging-hub:  Model > task - NLP > Feature Extraction \n",
    "from langchain_huggingface import HuggingFaceEmbeddings\n",
    "\n",
    "e_model_id = \"intfloat/multilingual-e5-large\"\n",
    "embedding_model = HuggingFaceEmbeddings(model=e_model_id)"
   ]
  },
  {
   "cell_type": "code",
   "execution_count": 6,
   "id": "0862cf5f",
   "metadata": {},
   "outputs": [
    {
     "data": {
      "text/plain": [
       "['나는 고양이와 개 중 반려동물로 개를 키우고 싶습니다.',\n",
       " '이 강아지 품종은 진도개 입니다. 국제 표준으로 중대형견으로 분류되며 다리가 길어 체고가 높은 편에 속합니다.',\n",
       " '日本の市内バスの運賃は主に距離によって決まり、地域やバス会社によって異なる場合があります',\n",
       " 'Bus fares in the United States vary from city to city, but are generally around $2.90 for a regular bus.',\n",
       " '광역버스 요금은 일반 3000원, 청소는 1800원, 어린이 1500원 입니다.']"
      ]
     },
     "execution_count": 6,
     "metadata": {},
     "output_type": "execute_result"
    }
   ],
   "source": [
    "docs"
   ]
  },
  {
   "cell_type": "code",
   "execution_count": 7,
   "id": "e4e5f7ae",
   "metadata": {},
   "outputs": [],
   "source": [
    "# 문서들을 embedding\n",
    "embedded_docs = embedding_model.embed_documents(docs)"
   ]
  },
  {
   "cell_type": "code",
   "execution_count": 8,
   "id": "32d1b03e",
   "metadata": {},
   "outputs": [
    {
     "data": {
      "text/plain": [
       "(list, list)"
      ]
     },
     "execution_count": 8,
     "metadata": {},
     "output_type": "execute_result"
    }
   ],
   "source": [
    "type(embedded_docs), type(embedded_docs[0])"
   ]
  },
  {
   "cell_type": "code",
   "execution_count": 9,
   "id": "c0c20df8",
   "metadata": {},
   "outputs": [
    {
     "data": {
      "text/plain": [
       "(5, 3072)"
      ]
     },
     "execution_count": 9,
     "metadata": {},
     "output_type": "execute_result"
    }
   ],
   "source": [
    "import numpy as np\n",
    "\n",
    "np.shape(embedded_docs)\n",
    "# (5: 문서개수, 1536: 개별 문서의 Embedding Vector 차원)"
   ]
  },
  {
   "cell_type": "code",
   "execution_count": 16,
   "id": "465811fa-32dd-44f3-96f9-c6193cb414ec",
   "metadata": {},
   "outputs": [
    {
     "data": {
      "text/plain": [
       "'나는 고양이와 개 중 반려동물로 개를 키우고 싶습니다.'"
      ]
     },
     "execution_count": 16,
     "metadata": {},
     "output_type": "execute_result"
    }
   ],
   "source": [
    "embedded_docs[0]\n",
    "docs[0]"
   ]
  },
  {
   "cell_type": "code",
   "execution_count": 17,
   "id": "66eb2da7",
   "metadata": {},
   "outputs": [],
   "source": [
    "import numpy as np\n",
    "\n",
    "def cosine_similarity(v1:np.ndarray|list, v2:np.ndarray|list) -> float:\n",
    "    # v1과 v2의 코사인 유사도를 계산.\n",
    "    # -1 ~ 1\n",
    "    # 1: 같은것.  0: 관계없는 것, -1: 반대\n",
    "    v1 = np.array(v1)\n",
    "    v2 = np.array(v2)\n",
    "    return (v1 @ v2) / (np.linalg.norm(v1) * np.linalg.norm(v2))"
   ]
  },
  {
   "cell_type": "code",
   "execution_count": 18,
   "id": "8d6bd179",
   "metadata": {},
   "outputs": [
    {
     "data": {
      "text/plain": [
       "((3072,), list)"
      ]
     },
     "execution_count": 18,
     "metadata": {},
     "output_type": "execute_result"
    }
   ],
   "source": [
    "#### 질문 -> Embedding Vector로 변환 \n",
    "#         -> 문서들의 Embedding Vector들과 유사도를 계산\n",
    "#         -> 유사도 높은 순서로 N개의 문서를 반환.\n",
    "\n",
    "# query = \"당신이 좋아하는 동물은 무엇인가요?\"\n",
    "# query = \"진도개는 한국산 개 품종입니까?\"\n",
    "query = \"성인 버스 요금은 얼마인가요?\"\n",
    "embedded_query = embedding_model.embed_query(query)\n",
    "np.shape(embedded_query), type(embedded_query)"
   ]
  },
  {
   "cell_type": "code",
   "execution_count": 19,
   "id": "a52836b6",
   "metadata": {},
   "outputs": [
    {
     "name": "stdout",
     "output_type": "stream",
     "text": [
      "1. 0.12341335952354023\n",
      "2. 0.08062411366809907\n",
      "3. 0.37295930249238696\n",
      "4. 0.37674468030739605\n",
      "5. 0.5508047289916449\n"
     ]
    }
   ],
   "source": [
    "# embedded_query와 embedded_docs 간의 유사도 계산.\n",
    "for i, ev in enumerate(embedded_docs):\n",
    "    print(f\"{i+1}. {cosine_similarity(ev, embedded_query)}\")"
   ]
  },
  {
   "cell_type": "code",
   "execution_count": 38,
   "id": "46f72e82",
   "metadata": {},
   "outputs": [
    {
     "name": "stdout",
     "output_type": "stream",
     "text": [
      "1. 0.1234180655416006\n",
      "2. 0.08071941412618425\n",
      "3. 0.3730628995852558\n",
      "4. 0.3767281351365144\n",
      "5. 0.5505960440542578\n"
     ]
    }
   ],
   "source": [
    "for i, ev in enumerate(embedded_docs):\n",
    "    print(f\"{i+1}. {cosine_similarity(ev, embedded_query)}\")"
   ]
  },
  {
   "cell_type": "code",
   "execution_count": null,
   "id": "9260d58b",
   "metadata": {},
   "outputs": [],
   "source": []
  },
  {
   "cell_type": "markdown",
   "id": "82d02707-99d9-4d48-826f-ae446a405fc6",
   "metadata": {},
   "source": [
    "# 벡터 데이터베이스(Vector Database)\n",
    "- Embedding 된 문서를 Vector Database(Vector Store)에 저장한다.\n",
    "- 이후 질문(Query)와 관련된 내용을 유사도를 이용해 검색해 질문과 함께 prompt로 만든다. (Retrieve)\n",
    "\n",
    "![rag_vector_store](figures/rag_vector_store.png)\n",
    "\n",
    "## 벡터 데이터베이스란\n",
    "- 벡터 임베딩을 저장하고 관리하는 데이터베이스를 의미한다.\n",
    "- 모든 데이터는 적절한 임베딩 모델을 활용하면 임베딩 벡터로 변환할 수 있다. 이렇게 변환된 임베딩 벡터를 벡터 데이터베이스에 저장하면 **임베딩 벡터 간의 거리 계산을 통해 데이터 간 유사도를 검색할 수 있다.**\n",
    "    - **이미지, 텍스트, 음성 등 비정형 데이터**를 임베딩 모델로 **벡터화한 뒤 데이터베이스에 저장**한다.\n",
    "    - 벡터 간의 **유사도 계산**을 통해 연관성 있는 데이터나 유사한 데이터를 효과적으로 검색할 수 있다.\n",
    "    - 좋은 검색 결과를 위해서는 벡터의 품질이 중요하다. 그래서 **임베딩 모델(Embedding Model)을 잘 선택하는 것이 중요**하다.\n",
    "- 벡터 데이터베이스는 이러한 벡터 간 거리 계산에 특화된 데이터베이스다.\n",
    "\n",
    "## 주요 특징\n",
    "\n",
    "- **고차원 벡터 저장**\n",
    "  -  벡터 데이터베이스는 수백에서 수천 차원에 이르는 벡터 데이터를 효율적으로 저장하고 관리한다. \n",
    "  -  전통적인 데이터베이스로는 어려운 고차원 벡터 간 유사도 검색을 효율적으로 수행한다.\n",
    "- **유사성 기반 검색**\n",
    "  -  벡터 간의 거리를 측정하여 유사한 데이터를 빠르게 검색할 수 있다. \n",
    "  -  일반적으로 사용되는 거리계산기법은 다음과 같다.\n",
    "     - 코사인 유사도(Cosine Similarity)\n",
    "     - 유클리드 거리(Euclidean Distance)\n",
    "     - 맨하탄 거리(Manhattan Distance) \n",
    "- 비정형 데이터 처리: 텍스트, 이미지, 오디오 등 다양한 비정형 데이터를 벡터로 변환하여 저장하고, 이러한 데이터를 효과적으로 검색할 수 있다.\n",
    "\n",
    "## 벡터 데이터베이스와 딥러닝\n",
    "- 벡터 데이터베이스는 딥러닝 기술의 발전과 깊은 관련이 있다.\n",
    "- 딥러닝 모델은 학습 과정에서 데이터의 특징을 추출하는 방법을 함께 학습한다. 충분한 데이터를 학습한 딥러닝 모델은 **데이터의 특성을 설명하는 특성 벡터(feature vector)를 효과적으로 생성**할 수 있다.\n",
    "- 이때 추출된 특성 벡터는 고차원 데이터(RAW Data)를 저차원 공간에서 표현한 **임베딩 벡터**다.\n",
    "    - > **임베딩**은 고차원 데이터를 저차원 공간으로 변환하여 표현하는 방법으로, 정보 손실을 최소화하면서 데이터 간의 의미 있는 관계를 벡터 공간에서 유지한다.\n",
    "- 딥러닝 모델로 추출한 데이터의 특징(feature vector)을 임베딩 공간에 배치하면, 비슷한 데이터는 가까이, 그렇지 않은 데이터는 멀리 배치된다.\n",
    "- 이러한 특성을 활용하면 임베딩 벡터 간의 거리를 계산해 유사한 데이터를 효과적으로 검색할 수 있다. 벡터 데이터베이스는 이러한 임베딩 벡터의 특성을 기반으로 개발되었다.\n",
    "- 딥러닝 기술의 발전과 폭넓은 활용으로 임베딩 데이터의 사용이 증가하면서, 이를 저장하고 관리하는 기능에 특화된 데이터베이스에 대한 수요도 증가해 다양한 벡터 데이터베이스가 등장했다.\n",
    "\n",
    "## 벡터 데이터베이스의 주요 기능\n",
    "1. **저장**  \n",
    "   - 이미지, 텍스트, 음성 등 **비정형 데이터**를 임베딩 모델을 통해 벡터로 변환한 뒤 벡터 데이터베이스에 저장한다.\n",
    "2. **검색**  \n",
    "   - 검색하려는 데이터를 임베딩 모델로 변환한 뒤, 벡터 데이터베이스에서 **유사도를 기반**으로 검색한다.\n",
    "3. **결과 반환**  \n",
    "   - 벡터 데이터베이스는 저장된 벡터 중 검색 쿼리 임베딩과 가장 가까운 벡터를 찾아 반환한다.\n",
    "\n",
    "## LLM과 벡터 데이터베이스\n",
    "- ChatGPT(LLM)의 등장 이후 벡터 데이터베이스는 폭발적인 주목을 받았다.\n",
    "- 임베딩 벡터의 유사도를 기반으로 문서를 검색하는 RAG(Relevant Augmented Generation) 기술은 LLM의 환각(할루시네이션) 현상을 줄이고, LLM을 추가 학습하지 않고도 최신 정보를 효율적으로 활용할 수 있는 핵심 기법으로 자리 잡았다.\n",
    "   \n"
   ]
  },
  {
   "cell_type": "markdown",
   "id": "51a65063-9482-4fdb-9ada-941eb08fb3b2",
   "metadata": {},
   "source": [
    "## 벡터 데이터베이스 종류\n",
    "![img](figures/vector_database.png)\n",
    "\n",
    "<<https://blog.det.life/why-you-shouldnt-invest-in-vector-databases-c0cd3f59d23c>>\n",
    "\n",
    "### 주요 벡터 데이터베이스 종류\n",
    "- **Pinecone**\n",
    "    - 클라우드 기반의 완전 관리형 벡터 데이터베이스 서비스로, 간단한 API를 통해 벡터 데이터를 관리할 수 있다.  \n",
    "    - 자동 확장성과 고가용성을 제공하며, 실시간 데이터 수집과 유사성 검색에 최적화되어 있다.\n",
    "    - 가장 쉽게 시작할 수 있는 관리형 서비스를 제공한다.\n",
    "- **Chroma**\n",
    "    - 벡터 임베딩을 효율적으로 저장하고 검색할 수 있는 오픈소스 데이터베이스로, AI 및 머신러닝 애플리케이션에 최적화되어 있다.\n",
    "    - 대규모 임베딩 저장에 최적화되어 있다.\n",
    "- **FAISS**\n",
    "    - Facebook AI에서 개발한 고성능 벡터 검색 라이브러리로, 고차원 벡터의 효율적인 유사성 검색을 위해 최적화되어 있다.\n",
    "    - GPU를 활용해 계산 성능을 높이며, 벡터 양자화 기술을 활용하여 메모리 사용을 최적화한다.\n",
    "    - 근사 최근접 이웃 검색(ANNS)에 최적화되어 있다.\n",
    "- **Milvus**\n",
    "    - 오픈소스 벡터 데이터베이스로, 대규모 벡터 데이터를 효율적으로 저장하고 검색할 수 있다.  \n",
    "    - 분산 아키텍처를 채택하여 확장성이 뛰어나며, IVF_PQ, DiskANN 등 다양한 인덱싱 알고리즘을 지원한다.\n",
    "    - 대규모 데이터셋 처리에 가장 적합한 솔루션이다.\n",
    "- **Weaviate**\n",
    "    - 오픈소스 벡터 데이터베이스로, 텍스트, 이미지, 오디오 등 다양한 비정형 데이터를 벡터로 저장하고 검색할 수 있다.  \n",
    "    - GraphQL API를 통해 접근 가능하며, 내장된 머신러닝 모듈을 통해 가장 강력한 의미론적 검색 기능을 제공한다.\n",
    "- **Qdrant**\n",
    "    - Rust로 개발된 고성능 벡터 검색 엔진으로, 실시간 근사 최근접 이웃 검색을 제공한다.  \n",
    "    - 추천 시스템에 특화되어 있으며, 벡터 임베딩 저장과 유사도 쿼리를 효율적으로 수행한다.\n",
    "- **Elasticsearch**\n",
    "    - HNSW 알고리즘을 사용하여 벡터 검색을 구현하는 검색 엔진이다.\n",
    "    - 전통적인 검색 기능과 벡터 검색을 효과적으로 결합할 수 있어, 하이브리드 검색에 가장 적합하다.\n",
    "- **PGVector**\n",
    "    - PostgreSQL의 확장 모듈로, 벡터 데이터를 저장하고 유사성 검색을 수행할 수 있게 해준다.  \n",
    "    - SQL과 통합된 벡터 연산이 가능하며, L2 거리, 코사인 거리, 내적 등 다양한 거리 측정 방식을 지원한다.\n"
   ]
  },
  {
   "cell_type": "code",
   "execution_count": null,
   "id": "5bf3f6fe-c5e2-4c4f-9ef8-2cf5850f1bb7",
   "metadata": {},
   "outputs": [],
   "source": []
  },
  {
   "cell_type": "markdown",
   "id": "1336f523-0b76-419c-8e46-fa96bdbcbdd6",
   "metadata": {},
   "source": [
    "# Langchain - Vector Store 연동 \n",
    "- Langchain은 다양한 벡터 데이터베이스와 연동할 수 있다.\n",
    "- 벡터 데이터베이스 마다 API가 다르기 때문에, Langchain을 사용하면 동일한 interface로 사용할 수 있다.\n",
    "\n",
    "## **VectorStore**\n",
    "- Langchain이 지원하는 모든 벡터 데이터베이스는 **VectorStore** 인터페이스를 구현한다.\n",
    "- 그래서 Langchain에서는 벡터 데이터베이스를 **Vector Store** 라고 한다.\n",
    "- https://python.langchain.com/docs/integrations/vectorstores/\n",
    "\n",
    "### Vector Store 연결\n",
    "- Vector DB와 연결하는 메소드\n",
    "- `VectorStore.from_document()`\n",
    "  - Document들을 insert 하면서 연결.\n",
    "  - Database가 있으면 연결, 없으면 생성하면서 연결한다.\n",
    "  - Parameter\n",
    "    - documents: insert할 문서들을 list[Document]로 전달.\n",
    "    - embedding model\n",
    "    - vector db에 연결하기 위한 설정들을 넣어준다.\n",
    "-`VectorStore()`\n",
    "  - vector db와 연결만 한다.\n",
    "  - Database가 있으면 연결, 없으면 생성하면서 연결한다.\n",
    "  - Parameter\n",
    "    - embedding model\n",
    "    - vector db에 연결하기 위한 설정들을 넣어준다.\n",
    "## InMemoryVectorStore\n",
    "- langchain에서 제공하는 메모리 기반 벡터 데이터베이스이다.\n",
    "- Data들을 Dictionary를 사용해 메모리에 저장하며, 검색 할 때 코사인 유사도(cosine similarity)를 계산하여 조회한다."
   ]
  },
  {
   "cell_type": "code",
   "execution_count": 20,
   "id": "ff64b081",
   "metadata": {},
   "outputs": [
    {
     "data": {
      "text/plain": [
       "True"
      ]
     },
     "execution_count": 20,
     "metadata": {},
     "output_type": "execute_result"
    }
   ],
   "source": [
    "from dotenv import load_dotenv\n",
    "\n",
    "load_dotenv()"
   ]
  },
  {
   "cell_type": "code",
   "execution_count": 22,
   "id": "b6ad844e",
   "metadata": {},
   "outputs": [],
   "source": [
    "from langchain_openai import OpenAIEmbeddings\n",
    "from langchain_core.vectorstores import InMemoryVectorStore\n",
    "\n",
    "embedding_model = OpenAIEmbeddings(model=\"text-embedding-3-small\")\n",
    "# VectorStore 생성시 Embedding 모델을 넣어 생성한다.\n",
    "## DB 연결\n",
    "vector_store = InMemoryVectorStore(\n",
    "    embedding=embedding_model\n",
    ")"
   ]
  },
  {
   "cell_type": "code",
   "execution_count": 23,
   "id": "e34d6ea9",
   "metadata": {},
   "outputs": [
    {
     "data": {
      "text/plain": [
       "['1', '2', '3']"
      ]
     },
     "execution_count": 23,
     "metadata": {},
     "output_type": "execute_result"
    }
   ],
   "source": [
    "# 문서 정의\n",
    "from langchain_core.documents import Document\n",
    "d1 = Document(id=\"1\",  # 문서 ID(식별자)\n",
    "              page_content=\"Apple, Pear, Watermelon\", # 문서 내용\n",
    "              metadata={\"category\":\"fruit\"}, # 문서 정보\n",
    "              )\n",
    "d2 = Document(id=\"2\", page_content=\"Python, C++, Java, C#, Rust\", \n",
    "              metadata={\"category\":\"IT\"})\n",
    "d3 = Document(id=\"3\", page_content=\"Football, Baseball, Basketball\", \n",
    "              metadata={\"category\":\"sports\"})\n",
    "\n",
    "docs = [d1, d2, d3]\n",
    "# VectorDB에 저장\n",
    "vector_store.add_documents(documents=docs)"
   ]
  },
  {
   "cell_type": "code",
   "execution_count": 56,
   "id": "c2264075",
   "metadata": {},
   "outputs": [],
   "source": [
    "# DB와 연결하면서 document들을 insert/upsert\n",
    "vector_store2 = InMemoryVectorStore.from_documents(\n",
    "    documents=docs,\n",
    "    embedding=embedding_model\n",
    ")"
   ]
  },
  {
   "cell_type": "code",
   "execution_count": 30,
   "id": "78d63649",
   "metadata": {},
   "outputs": [],
   "source": [
    "# 검색 - Query와 유사한 문서를 Vector Store에서 찾기.\n",
    "query = \"SQL\"\n",
    "query = \"야구\"\n",
    "query = \"오렌지\"\n",
    "# result = vector_store.similarity_search(\n",
    "result = vector_store.similarity_search_with_score( # 검색한 결과 + 유사도 점수\n",
    "    query=query, # 찾을 질문\n",
    "    k=2,         # 몇개 문서를 찾을지 지정.\n",
    ")"
   ]
  },
  {
   "cell_type": "code",
   "execution_count": 31,
   "id": "c063781f",
   "metadata": {},
   "outputs": [
    {
     "data": {
      "text/plain": [
       "[(Document(id='1', metadata={'category': 'fruit'}, page_content='Apple, Pear, Watermelon'),\n",
       "  0.16778401954574282),\n",
       " (Document(id='2', metadata={'category': 'IT'}, page_content='Python, C++, Java, C#, Rust'),\n",
       "  0.11885568967377566)]"
      ]
     },
     "execution_count": 31,
     "metadata": {},
     "output_type": "execute_result"
    }
   ],
   "source": [
    "result"
   ]
  },
  {
   "cell_type": "code",
   "execution_count": null,
   "id": "a7fcddfb-0fd3-4cb8-a4f0-b72d1988d6b8",
   "metadata": {},
   "outputs": [],
   "source": []
  },
  {
   "cell_type": "code",
   "execution_count": null,
   "id": "1092d6e3-2c41-426d-ac58-5f4ba1201ecc",
   "metadata": {},
   "outputs": [],
   "source": []
  },
  {
   "cell_type": "code",
   "execution_count": null,
   "id": "afbc4641-857c-47c1-80ff-5f4c2651a4b4",
   "metadata": {},
   "outputs": [],
   "source": []
  },
  {
   "cell_type": "markdown",
   "id": "b0da7c8f-c1be-4ddf-a935-90b22eac1f11",
   "metadata": {},
   "source": [
    "# 실습\n",
    "- `data/olympic.txt`\n",
    "\n",
    "1. text loading\n",
    "2. text split\n",
    "3. embedding + vector store(InMemoryVectorStore)에 저장\n",
    "4. query(질의)"
   ]
  },
  {
   "cell_type": "code",
   "execution_count": 33,
   "id": "afdd0bbd",
   "metadata": {},
   "outputs": [
    {
     "data": {
      "text/plain": [
       "True"
      ]
     },
     "execution_count": 33,
     "metadata": {},
     "output_type": "execute_result"
    }
   ],
   "source": [
    "from dotenv import load_dotenv\n",
    "load_dotenv()"
   ]
  },
  {
   "cell_type": "code",
   "execution_count": 1,
   "id": "bad40d38",
   "metadata": {},
   "outputs": [],
   "source": [
    "from langchain_openai import OpenAIEmbeddings\n",
    "from langchain_core.vectorstores import InMemoryVectorStore\n",
    "from langchain_community.document_loaders import TextLoader\n",
    "from langchain_text_splitters import RecursiveCharacterTextSplitter"
   ]
  },
  {
   "cell_type": "code",
   "execution_count": null,
   "id": "349be3ce-539e-4d18-bc2b-67e8100ebcb6",
   "metadata": {},
   "outputs": [
    {
     "name": "stdout",
     "output_type": "stream",
     "text": [
      "61\n"
     ]
    }
   ],
   "source": [
    "# 1. 문서 loading + 2. Split(Chunking)\n",
    "loader = TextLoader(\"data/olympic.txt\", encoding=\"utf-8\")\n",
    "splitter = RecursiveCharacterTextSplitter(\n",
    "    chunk_size=500, chunk_overlap=50\n",
    ")\n",
    "docs = loader.load_and_split(splitter)\n",
    "# raw_docs = loader.load() -> docs = splitter.split_documents(raw_docs)\n",
    "print(len(docs))"
   ]
  },
  {
   "cell_type": "code",
   "execution_count": 5,
   "id": "c5fdaf76",
   "metadata": {},
   "outputs": [
    {
     "data": {
      "text/plain": [
       "Document(metadata={'source': 'data/olympic.txt'}, page_content='올림픽')"
      ]
     },
     "execution_count": 5,
     "metadata": {},
     "output_type": "execute_result"
    }
   ],
   "source": [
    "docs[0]"
   ]
  },
  {
   "cell_type": "code",
   "execution_count": 4,
   "id": "152a3ac6-6f56-41ea-9c60-6a982226eb1f",
   "metadata": {},
   "outputs": [
    {
     "data": {
      "text/plain": [
       "['7dfab89d-0a22-4faf-9fd3-d6938e2c4e44',\n",
       " 'c3f98b52-2ea6-45fa-849e-2e88af738f11',\n",
       " '6e3ed87c-87b9-4e93-931e-bb5fefcd9e4b',\n",
       " 'efb3d5f0-bbf9-4db5-ae70-7f94496165a7',\n",
       " 'a4bde663-5b91-420a-804f-c5d37a395e00',\n",
       " '03304f52-340a-486a-9ac0-1a6117f6574b',\n",
       " 'de619d94-aea0-4cb6-b411-54c57de8d632',\n",
       " '35dcb905-758d-4e67-ba58-7e9867ba20af',\n",
       " '691a9a38-4551-4366-8e7f-578303100c92',\n",
       " '2d36446d-d7be-4368-be0d-fc87ec7c1845',\n",
       " '69d1bb06-88f3-4d03-8363-234904f562f1',\n",
       " '22800907-4b50-4d94-abed-463ec42ec44a',\n",
       " 'b8ce0a6d-09f8-47b4-8c09-0071c6fd8470',\n",
       " 'c22b8b9e-b9b1-418c-be59-e436a5079fd8',\n",
       " '78ebd153-9e66-4bc6-bb08-5191b923c8ec',\n",
       " 'df380ca2-975a-4d2c-9c08-d01eea46e534',\n",
       " '06e5558e-f488-4de6-b103-28429a9fa354',\n",
       " 'b30f0923-7667-4db9-957c-929098d808f1',\n",
       " '931e2c19-cdc4-4674-943a-61f3fbcb2f1f',\n",
       " '6ea36543-e268-411e-a8f7-c87de8897003',\n",
       " '68337c68-1fe3-4b62-86a7-62250252e3f8',\n",
       " '7d5852b7-f4bd-46ab-b0d4-5831a42270b8',\n",
       " '45272984-96c0-483c-b496-be6e312c50eb',\n",
       " '01f2a649-4126-4dd9-a89b-4f63b7acadb2',\n",
       " '8f135267-f9c0-4797-8dbe-fc4cebc8cb56',\n",
       " '78ad4498-0760-4879-a9b9-87c3b3d109ba',\n",
       " 'eb29f362-8ba2-4e3a-b658-81939d9c8afb',\n",
       " '4ff4d225-0bc3-4c76-a150-2a18c6ec3e1b',\n",
       " '7e8e8f7a-5e33-476a-9277-593993ca32ad',\n",
       " '9de028dd-d0df-42ab-915c-66065c52fd12',\n",
       " '8587c4f3-73a1-4328-8a21-ad12c93aecc8',\n",
       " '6db18146-6975-41ad-b9f1-09456226f06d',\n",
       " 'f6bd7406-c5aa-4432-afcf-bdfcb849d8c3',\n",
       " '1302a677-046c-4198-a181-5f1babaff9af',\n",
       " 'dad78b3a-da05-44ad-8ece-68cf1b2c126a',\n",
       " '15f91f6f-52b0-4a6a-930c-0eb0c9575a0d',\n",
       " 'b4d9935b-78bf-473a-ae6b-4a2ce887e343',\n",
       " 'e3e120e1-fd97-4bab-93df-d34cb5159d12',\n",
       " 'fec8a4a9-8f15-4c41-88b2-1b801672faef',\n",
       " 'aba08ba6-a1d4-4478-967b-f1e3968e0a4a',\n",
       " '769be50e-cdda-4d07-a218-c02067e645a4',\n",
       " '92ea2d54-7dd8-40e1-8d65-c6c086ec379c',\n",
       " '457b8af5-e749-473a-9e39-70339485154c',\n",
       " '626098a2-a7c8-4c5c-97be-e7d0c81c3ceb',\n",
       " '108de8ca-9d6f-45b2-a356-6ef465357397',\n",
       " '6bcec94b-305e-4206-9d7e-6fd5a6c01603',\n",
       " 'c8f302db-7668-481f-a8c1-d684425a1c39',\n",
       " '955fe85a-7cf0-4937-aacf-2ef3d1cb8014',\n",
       " '1e5fbd2a-afe1-4317-9616-39c9b2305ebb',\n",
       " '6bf905c1-995f-48af-bfd3-a4ffcc6de546',\n",
       " 'defb368d-52fd-4a9f-a505-99f8d88bf58f',\n",
       " 'af52277e-3cca-485f-9f50-af8151633c44',\n",
       " '85b85a4f-c648-4f72-9fb0-e3b80318a315',\n",
       " 'a8e6ac1b-9fb1-41e7-a906-2fa055334fb3',\n",
       " 'b0e506e8-c5af-4908-a819-ca82e73af322',\n",
       " 'd408147b-e885-42e0-b7d1-1ed9f9b774d9',\n",
       " '69ba4c5a-2d87-4e21-831a-23e844395573',\n",
       " 'e00f614b-9b69-4460-a7bc-6b9faf15909e',\n",
       " '8d061f6e-b15d-4534-979b-f3cd82b87659',\n",
       " '4a0d5e95-4202-4ffc-99ca-c1d71c9d5242',\n",
       " 'b3a4dcac-d11b-496d-8ed7-0336ee958efa']"
      ]
     },
     "execution_count": 4,
     "metadata": {},
     "output_type": "execute_result"
    }
   ],
   "source": [
    "# 3. embedding + 4. VectorStore에 저장\n",
    "# VectorDB와 연결\n",
    "vector_store = InMemoryVectorStore(\n",
    "    embedding=OpenAIEmbeddings(model=\"text-embedding-3-small\")  #임베딩모델\n",
    ")\n",
    "# 저장(embedding 처리후 저장 -> vector store가 임베딩 작업은 처리한다.)\n",
    "vector_store.add_documents(docs)"
   ]
  },
  {
   "cell_type": "code",
   "execution_count": null,
   "id": "9e8d01f0-2fd7-4795-85a1-4ce9ea26a00c",
   "metadata": {},
   "outputs": [],
   "source": [
    "# 연결 + 저장\n",
    "# v2 = InMemoryVectorStore.from_documents(\n",
    "#     embedding=OpenAIEmbeddings(\"text-embedding-3-small\"),\n",
    "#     documents=docs\n",
    "# )"
   ]
  },
  {
   "cell_type": "code",
   "execution_count": 9,
   "id": "47658d5c",
   "metadata": {},
   "outputs": [
    {
     "name": "stdout",
     "output_type": "stream",
     "text": [
      "0.5847594806136202 하계올림픽\n",
      "0.5177327762755929 동계올림픽\n",
      "동계 올림픽은 눈과 얼음을 이용하는 스포츠들을 모아 이루어졌으며 하계 올림픽 때 실행하기 불가능한 종목들로 구성되어 있다. 피겨스케이팅, 아이스하키는 각각 1908년과 1920년에 하계올림픽 종목으로 들어가 있었다. IOC는 다른 동계 스포츠로 구성된 새로운 대회를 만들고 싶어 했고, 로잔에서 열린 1921년 올림픽 의회에서 겨울판 올림픽을 열기\n",
      "0.4875855187226654 올림픽\n",
      "0.4748001481635575 오늘날의 올림픽\n",
      "1896년 대회때는 14개국에서 241명의 선수단이 참가했지만 2008년 하계 올림픽때는 204개국에서 10,500명의 선수가 참가하는 등 세계적인 대회로 변모했다. 동계 올림픽의 규모는 하계 올림픽 규모보다 작다. 예를 들면 2006 토리노 동계 대회때는 80개국에서 2,508명의 선수가 참가했으며 82개 세부종목이 있었고, 2008 베이\n",
      "0.4493941587211385 고대올림픽\n"
     ]
    }
   ],
   "source": [
    "# 질문 -> 의미적 유사도가 높은 k(5)개의 문서를 반환.\n",
    "query = \"동계 올림픽에 대해 설명해주세요.\"    #input(\"질문:\")\n",
    "results = vector_store.similarity_search_with_score(\n",
    "    query=query, \n",
    "    k=5\n",
    ")\n",
    "for result in results:\n",
    "    print(result[1], result[0].page_content[:200])"
   ]
  },
  {
   "cell_type": "code",
   "execution_count": null,
   "id": "306da3cf",
   "metadata": {},
   "outputs": [],
   "source": []
  },
  {
   "cell_type": "markdown",
   "id": "f2c15ed2-e9d6-4361-9d9e-0dfaf650de41",
   "metadata": {},
   "source": [
    "## MMR(최대 한계 관련성-Maximal Marginal Relevance) 알고리즘 적용\n",
    "최대 한계 관련성(Maximal Marginal Relevance, MMR) 알고리즘은 정보 검색 및 요약에서 검색 결과의 **관련성**과 **다양성**을 동시에 고려하여 최적의 결과를 제공하는 방법이다. \n",
    "이 알고리즘은 사용자 쿼리와의 관련성을 최대화하면서도 중복 정보를 최소화하여 다양한 정보를 제공하는 것을 목표로 한다.\n",
    "\n",
    "1. **관련성과 다양성의 균형 조절**: MMR은 사용자 쿼리와 문서 간의 유사성 점수와 이미 선택된 문서들과의 다양성 점수를 조합하여 각 문서의 최종 점수를 계산한다. 이를 통해 관련성이 높으면서도 중복되지 않는 문서를 선택한다.\n",
    "\n",
    "2. **수학적 정의**\n",
    "   $$\n",
    "   \\text{MMR} = \\lambda \\cdot \\text{Sim}(d, Q) - (1 - \\lambda) \\cdot \\max_{d' \\in D'} \\text{Sim}(d, d')\n",
    "   $$\n",
    "\n",
    "   - $\\text{Sim}(d, Q)$: 문서 $d$와 쿼리 $\\text{Q}$ 사이의 유사성. (문서 유사성 계산)\n",
    "   - $\\max_{d' \\in D'} \\text{Sim}(d, d')$: 문서 $d$와 이미 선택된 문서 집합 $D'$ 중 가장 유사한 문서와의 유사성. (문서 다양성 계산)\n",
    "   - $\\lambda$: 유사성과 다양성의 중요도를 조절하는 매개변수(parameter)\n",
    "3. **적용 분야**: MMR은 정보 검색, 추천 시스템, 문서 요약 등에서 활용된다. 특히 LLM 검색에서 성능 향상이 입증되었다.\n",
    "\n",
    "### `vectorStore.max_marginal_relevance_search()` 메소드\n",
    "  - MMR 알고리즘을 적용한 검색을 수행한다.\n",
    "  - **파라미터**\n",
    "    - **query**: 사용자로부터 입력받은 검색 쿼리\n",
    "    - **k**: 최종적으로 선택할 문서의 수\n",
    "    - **fetch\\_k**: MMR 알고리즘 적용 시 고려할 상위 문서의 수\n",
    "    - **lambda_mult**: 쿼리와의 유사성과 선택된 문서 간의 다양성 사이의 균형을 조절하는 매개변수. $\\lambda = 1$이면 유사성만 고려하고, $\\lambda = 0$이면 다양성만을 최대화한다.\n",
    "    - **filter**: 검색 결과를 필터링할 조건을 지정한다.\n"
   ]
  },
  {
   "cell_type": "code",
   "execution_count": null,
   "id": "f92a398d-f0f6-416f-aad8-4c97ced68992",
   "metadata": {},
   "outputs": [
    {
     "name": "stdout",
     "output_type": "stream",
     "text": [
      "하계올림픽\n",
      "------------------\n",
      "동계올림픽\n",
      "동계 올림픽은 눈과 얼음을 이용하는 스포츠들을 모아 이루어졌으며 하계 올림픽 때 실행하기 불가능한 종목들로 구성되어 있다. 피겨스케이팅, 아이스하키는 각각 1908년과 1920년에 하계올림픽 종목으로 들어가 있었다. IOC는 다른 동계 스포츠로 구성된 새로운 대회를 만들고 싶어 했고, 로잔에서 열린 1921년 올림픽 의회에서 겨울판 올림픽을 열기\n",
      "------------------\n",
      "올림픽\n",
      "------------------\n",
      "오늘날의 올림픽\n",
      "1896년 대회때는 14개국에서 241명의 선수단이 참가했지만 2008년 하계 올림픽때는 204개국에서 10,500명의 선수가 참가하는 등 세계적인 대회로 변모했다. 동계 올림픽의 규모는 하계 올림픽 규모보다 작다. 예를 들면 2006 토리노 동계 대회때는 80개국에서 2,508명의 선수가 참가했으며 82개 세부종목이 있었고, 2008 베이\n",
      "------------------\n",
      "고대올림픽\n",
      "------------------\n"
     ]
    }
   ],
   "source": [
    "query = \"동계 올림픽에 대해 설명해줘.\"\n",
    "mmr_result = vector_store.max_marginal_relevance_search(\n",
    "    query=query,\n",
    "    k=5, #  최종 결과 문서 개수\n",
    "    fetch_k=20, # 처음 검색할 문서개수.\n",
    "    lambda_mult=0.5   # 1에 가까울수록 유사성에 0에 가까울 수록 다양성을 최대화.\n",
    ")\n",
    "\n",
    "for result in mmr_result:\n",
    "    print(result.page_content[:200])\n",
    "    print(\"------------------\")"
   ]
  },
  {
   "cell_type": "code",
   "execution_count": null,
   "id": "908b3c9c-8f56-48fd-a952-9f79f0b75f23",
   "metadata": {},
   "outputs": [],
   "source": []
  },
  {
   "cell_type": "code",
   "execution_count": null,
   "id": "0ab46f5a-14b4-4b0d-a6ea-4dd855a452c6",
   "metadata": {},
   "outputs": [],
   "source": []
  }
 ],
 "metadata": {
  "kernelspec": {
   "display_name": "lang_env",
   "language": "python",
   "name": "python3"
  },
  "language_info": {
   "codemirror_mode": {
    "name": "ipython",
    "version": 3
   },
   "file_extension": ".py",
   "mimetype": "text/x-python",
   "name": "python",
   "nbconvert_exporter": "python",
   "pygments_lexer": "ipython3",
   "version": "3.12.11"
  }
 },
 "nbformat": 4,
 "nbformat_minor": 5
}
