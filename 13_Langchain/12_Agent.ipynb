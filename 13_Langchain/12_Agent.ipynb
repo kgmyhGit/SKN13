{
 "cells": [
  {
   "cell_type": "markdown",
   "metadata": {},
   "source": [
    "# Agent 개요\n",
    "\n",
    "- Agent 대형 언어 모델(LLM)과 다양한 도구(Tool)를 결합하여 복잡한 작업을 처리할 수 있도록 설계된 사용자 요청 처리 인공지능 시스템이다.\n",
    "    - Agent는 주어진 목표를 달성하기 위해 환경(toolkit)과 상호작용하며 의사 결정을 내리고 행동을 취하는 자율적인 개체이다.\n",
    "    - Agent의 자율적인 의사 결정은 LLM 이 담당하여 사람의 개입이 최소화 된다.\n",
    "\n",
    "## Agent의 주요 특징\n",
    "- **자율성**: 사전 정의된 규칙 없이도 스스로 결정을 내리고 행동할 수 있다.\n",
    "- **목표 지향성**: 특정 목표나 작업을 달성하기 위해 설계되어 있다.\n",
    "- **도구 활용**: 다양한 도구나 API를 활용하여 작업을 수행한다.\n",
    "\n",
    "## Agent 기본 동작 원리\n",
    "\n",
    "![agent_concept](figures/agent_concept.png)\n",
    "\n",
    "### ReAct\n",
    "- Reasoning and Acting의 약자로, 에이전트가 문제를 해결할 때 추론과 행동을 결합하는 방식이다.\n",
    "\n",
    "#### 동작 단계\n",
    "- **사용자 입력 수신**: \n",
    "    - 에이전트는 사용자가 입력한 질문이나 명령을 받는다.\n",
    "- **추론(Reasoning)**\n",
    "    - 입력된 내용을 분석하여 문제를 이해하고, 해결 방안을 계획합니다. \n",
    "- **행동 결정 및 도구 실행(Action)**: \n",
    "    - 계획에 따라 어떤 도구를 사용할지 결정하고 그 도구를 호출하여 작업을 수행한다.\n",
    "- **결과 평가 및 추가 행동 결정**: \n",
    "    - 도구 실행 결과를 바탕으로 추가로 도구를 사용할지, 아니면 최종 답변을 생성할지를 결정한다.\n",
    "    - 추가로 도구를 사용하기로 결정한 경우 도구를 실행한다.\n",
    "- **최종 답변 반환**: \n",
    "    - 최종 결과를 사용자에게 제공한다."
   ]
  },
  {
   "cell_type": "markdown",
   "metadata": {},
   "source": [
    "# TOOL\n",
    "- **Tool은 하나의 기능을 처리하는 함수이다.**\n",
    "\n",
    "## Tool Calling 개요\n",
    "- LLM이 외부 도구나 API를 활용하여 작업을 수행할 수 있게 하는 기능이다.\n",
    "    1. LLM 이 사용할 수 있는 도구들을 binding한다.\n",
    "    2. 사용자로 부터 질의가 들어오면 그 질의를 처리하기 위해 tool을 호출 하는 것이 필요하다면 LLM은 어떤 tool을 어떻게 호출할지 응답한다.\n",
    "    3.  사용자는 응답에 맞는 tool을 호출하고 그 처리결과를 취합해 질의와 함께 LLM에게 요청한다.\n",
    "\t- TOOL Calling 예\n",
    "        - LLM이 수학 계산을 수행해야 할 때, 직접 계산하는 대신 미리 정의된 '계산' 도구를 호출하여 정확한 결과를 얻을 수 있다.\n",
    "    \t- LLM에 최신 정보를 요청하는 질문이 들어왔을 때 '검색' 도구나 'Database 연동' 도구를 사용해 최신 뉴스를 검색하거나, 특정 데이터베이스에서 정보를 조회하는 등의 작업을 수행할 수 있다.\n",
    "- **LLM은 도구를 이용해 자체 지식의 한계를 넘어서는 정보를 제공할 수 있습니다.**\n",
    "- Tool calling은 OpenAI, Anthropic 등 여러 LLM 서비스가 지원한다.\n",
    "  - Tool Calling을 지원하는 LLM 모델만 사용할 수있다.\n",
    "- LangChain은 다양한 모델들의 도구 호출 방식을 표준화하여 일관된 인터페이스로 제공한다. 이를 통해 개발자들은 다양한 모델과 도구들을 쉽게 통합할 수있다.\n",
    "- Tool Calling Concept: https://python.langchain.com/docs/concepts/tool_calling/\n",
    "- Langchain 지원 tools (Builtin Tool)\n",
    "    -  https://python.langchain.com/docs/integrations/tools/#search\n",
    "- **Agent:**\n",
    "\t- LLM 모델이 목표한 결과를 얻기 위해 적절한 도구를 선택하고, 이를 활용하여 작업을 수행하는 시스템을 **Agent**라고 한다."
   ]
  },
  {
   "cell_type": "markdown",
   "metadata": {},
   "source": [
    "# 랭체인 내장 도구(tools) 사용\n",
    "- Langchain은 다양한 도구들을 구현해서 제공하고 있다. 이것들을 builtin tool이라고 한다. \n",
    "  - [Langchain 지원 Built tools](https://python.langchain.com/docs/integrations/tools/)\n",
    "- 그 외에 필요한 도구들을 직접 구현할 수있는 방법도 제공한다.\n",
    "- Tavily 웹 검색 도구 사용해 Tool calling을 이해한다.\n",
    "\n",
    "\n",
    "## Tavily\n",
    "- LLM을 위한 웹 검색 API.\n",
    "- https://tavily.com/\n",
    "-  LLM과 RAG 시스템에 최적화된 검색 엔진.\n",
    "   -  기존의 일반 검색 엔진들과 달리, Tavily는 AI 애플리케이션의 요구사항에 맞춰 설계되었다.\n",
    "   -  Tavily는 검색 결과에서 검색 query와 관련 콘텐츠를 추출하여 제공한다.\n",
    "   -  월 1000회 무료 사용 가능.\n",
    "### Tavily API Key 받기\n",
    "- 로그인 한다.\n",
    "- Overview 화면에서 API Key 생성  \n",
    "- **API Keys \\[+\\] 클릭**\n",
    "\n",
    "![apikey1](figures/travily_apikey1.png)\n",
    "\n",
    "- **Key Name을 입력하고 생성**\n",
    "\n",
    "![apikey1](figures/travily_apikey2.png)\n",
    "\n",
    "- **API Key를 복사**\n",
    "\n",
    "![apikey1](figures/travily_apikey3.png)\n",
    "\n",
    "- 환경변수에 등록한다.\n",
    "    - 변수이름: \"TAVILY_API_KEY\""
   ]
  },
  {
   "cell_type": "markdown",
   "metadata": {},
   "source": [
    "## TavilySearch\n",
    "- Langchain에서 제공하는 tool로 Tavily 의 검색 엔진 API를 사용해 검색을 수행한다.\n",
    "- 설치\n",
    "  - `pip install langchain-tavily`\n",
    "- https://python.langchain.com/docs/integrations/tools/tavily_search/"
   ]
  },
  {
   "cell_type": "code",
   "execution_count": 3,
   "metadata": {},
   "outputs": [
    {
     "data": {
      "text/plain": [
       "True"
      ]
     },
     "execution_count": 3,
     "metadata": {},
     "output_type": "execute_result"
    }
   ],
   "source": [
    "from dotenv import load_dotenv\n",
    "from langchain_tavily import TavilySearch\n",
    "\n",
    "load_dotenv()\n",
    "# import os\n",
    "# os.getenv(\"TAVILY_API_KEY\")"
   ]
  },
  {
   "cell_type": "code",
   "execution_count": 8,
   "metadata": {},
   "outputs": [],
   "source": [
    "tavily_search = TavilySearch(\n",
    "    max_results=3, # 최대 검색 개수.\n",
    "    include_images=True, # 검색한 페이지의 이미지들의 URL도 반환.\n",
    "    time_range=\"month\",  # 검색할 기간 단위. (최근 \"day\", \"week\", \"month\", \"year\" 내용들을 검색.)\n",
    ")\n",
    "query = \"2025-2026 시즌 손흥민 이적설.\"\n",
    "resp = tavily_search.invoke(query)"
   ]
  },
  {
   "cell_type": "code",
   "execution_count": 9,
   "metadata": {},
   "outputs": [
    {
     "name": "stdout",
     "output_type": "stream",
     "text": [
      "<class 'dict'>\n"
     ]
    },
    {
     "data": {
      "text/plain": [
       "{'query': '2025-2026 시즌 손흥민 이적설.',\n",
       " 'follow_up_questions': None,\n",
       " 'answer': None,\n",
       " 'images': ['https://thumbnews.nateimg.co.kr/view610/news.nateimg.co.kr/orgImg/kz/2024/11/16/news-p.v1.20240926.ad0cd8c9c02e4b35aa4c0c3b7b0c3735_P1.png',\n",
       "  'https://image.xportsnews.com/contents/images/upload/article/2024/1221/1734758534483703.jpg',\n",
       "  'https://img-s-msn-com.akamaized.net/tenant/amp/entityid/AA1udLWy.img?w=650&h=453&m=4&q=79',\n",
       "  'https://fo-newscenter.s3.ap-northeast-2.amazonaws.com/sportal-korea/extract/2024/12/24/SK007_20241224_020101.jpg',\n",
       "  'https://img6.yna.co.kr/photo/etc/af/2025/01/04/PAF20250104194501009_P4.jpg'],\n",
       " 'results': [{'title': \"손흥민 이적설 데드라인 나왔다…'아시아 투어' 이후 결정 - 파이낸셜뉴스\",\n",
       "   'url': 'https://www.fnnews.com/news/202506181010460750',\n",
       "   'content': '손흥민 이적설 데드라인 나왔다…\\'아시아 투어\\' 이후 결정 ... \\'bbc\\'는 \"신뢰할 만한 소식통에 따르면 손흥민은 2025~2026시즌 전 팀을 떠날 가능성이 있지만, 아시아 투어 이후까지 팀에서 나가지 못할 가능성이 크다\"며 \"손흥민이 팀에 없는 경우, 투어 주최 측과',\n",
       "   'score': 0.8755427,\n",
       "   'raw_content': None},\n",
       "  {'title': \"'아직 공식 오퍼는 없는데'…현지에서 계속 제기되는 손흥민의 이적설｜스포츠동아\",\n",
       "   'url': 'https://sports.donga.com/sports/article/all/20250618/131828228/1',\n",
       "   'content': '*   [![Image 25: 이세영 비키니 입고 춤 삼매경…반려견 ‘그러려니’ [DA★]](https://dimg.donga.com/a/232/174/95/1/wps/SPORTS/IMAGE/2025/06/18/131835259.1.jpg)](https://sports.donga.com/ent/article/all/20250618/131835270/1)[이세영 비키니 입고 춤 삼매경…반려견 ‘그러려니’ [DA★]](https://sports.donga.com/ent/article/all/20250618/131835270/1) 이수만·바다·유진, 월디페서 얼굴로 뭉쳤다](https://dimg.donga.com/a/232/174/95/1/wps/SPORTS/IMAGE/2025/06/18/131834286.1.jpg)](https://sports.donga.com/ent/article/all/20250618/131834283/1)[[★스느스] S.E.S 재결합 떡밥? *   1[![Image 32: 김혜선, 말벅지+복근…근육질 몸매 대박이야 [DA★]](https://dimg.donga.com/a/72/72/95/1/wps/SPORTS/IMAGE/2025/06/17/131825443.1.jpg)](https://sports.donga.com/ent/article/all/20250617/131825455/1) [김혜선, 말벅지+복근…근육질 몸매 대박이야 [DA★]](https://sports.donga.com/ent/article/all/20250617/131825455/1)    *   2[![Image 33: 황신혜, 나이 잊게 하는 비키니…치명적 존재감 [DA★]](https://dimg.donga.com/a/72/72/95/1/wps/SPORTS/IMAGE/2025/06/17/131827312.1.jpg)](https://sports.donga.com/ent/article/all/20250617/131827314/1) [황신혜, 나이 잊게 하는 비키니…치명적 존재감 [DA★]](https://sports.donga.com/ent/article/all/20250617/131827314/1)    *   3[![Image 34: 한그루, 레깅스 터질라…엉덩이+등근육 ‘탄탄 뒤태’ [DA★]](https://dimg.donga.com/a/72/72/95/1/wps/SPORTS/IMAGE/2025/06/17/131824405.1.jpg)](https://sports.donga.com/ent/article/all/20250617/131824413/1) [한그루, 레깅스 터질라…엉덩이+등근육 ‘탄탄 뒤태’ [DA★]](https://sports.donga.com/ent/article/all/20250617/131824413/1)    *   5[![Image 36: ‘AV 배우 만남’ 주학년 더보이즈 탈퇴, 전속계약도 해지 [공식]](https://dimg.donga.com/a/72/72/95/1/wps/SPORTS/IMAGE/2025/06/18/131833310.1.jpg)](https://sports.donga.com/ent/article/all/20250618/131833311/1) [‘AV 배우 만남’ 주학년 더보이즈 탈퇴, 전속계약도 해지 [공식]](https://sports.donga.com/ent/article/all/20250618/131833311/1)    *   [![Image 38: 40대 전미라, 길쭉 탄탄 비키니…♥윤종신 놀라겠어 [DA★]](https://dimg.donga.com/a/140/140/95/1/wps/SPORTS/IMAGE/2025/06/19/131838286.1.jpg)](https://sports.donga.com/ent/article/all/20250619/131838296/1)[40대 전미라, 길쭉 탄탄 비키니…♥윤종신 놀라겠어 [DA★]](https://sports.donga.com/ent/article/all/20250619/131838296/1) *   [![Image 41: 이세영 비키니 입고 춤 삼매경…반려견 ‘그러려니’ [DA★]](https://dimg.donga.com/a/140/140/95/1/wps/SPORTS/IMAGE/2025/06/18/131835259.1.jpg)](https://sports.donga.com/ent/article/all/20250618/131835270/1)[이세영 비키니 입고 춤 삼매경…반려견 ‘그러려니’ [DA★]](https://sports.donga.com/ent/article/all/20250618/131835270/1)',\n",
       "   'score': 0.7931224,\n",
       "   'raw_content': None},\n",
       "  {'title': '350억 포기하나… 손흥민, 토트넘 유니폼 다시 입었다',\n",
       "   'url': 'https://tenbizt.com/entertainment/article/180971/',\n",
       "   'content': '축구선수 손흥민(토트넘 홋스퍼)의 이적설이 이어지는 가운데, 그가 토트넘 홋스퍼의 새 시즌 유니폼 모델로 나섰다. 지난 3일(현지 시각) 토트넘은 구단 공식 홈페이지와 소셜 미디어 등을 통해 2025-2026시즌 홈 유니폼 사진을 공개했다.',\n",
       "   'score': 0.78493005,\n",
       "   'raw_content': None}],\n",
       " 'response_time': 3.85}"
      ]
     },
     "execution_count": 9,
     "metadata": {},
     "output_type": "execute_result"
    }
   ],
   "source": [
    "print(type(resp))\n",
    "resp"
   ]
  },
  {
   "cell_type": "code",
   "execution_count": 10,
   "metadata": {},
   "outputs": [
    {
     "data": {
      "text/plain": [
       "langchain_tavily.tavily_search.TavilySearch"
      ]
     },
     "execution_count": 10,
     "metadata": {},
     "output_type": "execute_result"
    }
   ],
   "source": [
    "type(tavily_search)"
   ]
  },
  {
   "cell_type": "code",
   "execution_count": 12,
   "metadata": {},
   "outputs": [
    {
     "name": "stdout",
     "output_type": "stream",
     "text": [
      "tool의 이름: tavily_search\n",
      "tool에 대한설명: A search engine optimized for comprehensive, accurate, and trusted results. Useful for when you need to answer questions about current events. It not only retrieves URLs and snippets, but offers advanced search depths, domain management, time range filters, and image search, this tool delivers real-time, accurate, and citation-backed results.Input should be a search query.\n"
     ]
    }
   ],
   "source": [
    "# 툴 정보.\n",
    "print(\"tool의 이름:\", tavily_search.name)\n",
    "print(\"tool에 대한설명:\", tavily_search.description) # tool 의 기능, 역할, 사용법 등에 대한 설명"
   ]
  },
  {
   "cell_type": "code",
   "execution_count": null,
   "metadata": {},
   "outputs": [
    {
     "name": "stdout",
     "output_type": "stream",
     "text": [
      "tool의 스키마(schema):\n"
     ]
    },
    {
     "data": {
      "text/plain": [
       "{'description': 'Input for [TavilySearch]',\n",
       " 'properties': {'query': {'description': 'Search query to look up',\n",
       "   'title': 'Query',\n",
       "   'type': 'string'},\n",
       "  'include_domains': {'anyOf': [{'items': {'type': 'string'}, 'type': 'array'},\n",
       "    {'type': 'null'}],\n",
       "   'default': [],\n",
       "   'description': 'A list of domains to restrict search results to.\\n\\n        Use this parameter when:\\n        1. The user explicitly requests information from specific websites (e.g., \"Find climate data from nasa.gov\")\\n        2. The user mentions an organization or company without specifying the domain (e.g., \"Find information about iPhones from Apple\")\\n\\n        In both cases, you should determine the appropriate domains (e.g., [\"nasa.gov\"] or [\"apple.com\"]) and set this parameter.\\n\\n        Results will ONLY come from the specified domains - no other sources will be included.\\n        Default is None (no domain restriction).\\n        ',\n",
       "   'title': 'Include Domains'},\n",
       "  'exclude_domains': {'anyOf': [{'items': {'type': 'string'}, 'type': 'array'},\n",
       "    {'type': 'null'}],\n",
       "   'default': [],\n",
       "   'description': 'A list of domains to exclude from search results.\\n\\n        Use this parameter when:\\n        1. The user explicitly requests to avoid certain websites (e.g., \"Find information about climate change but not from twitter.com\")\\n        2. The user mentions not wanting results from specific organizations without naming the domain (e.g., \"Find phone reviews but nothing from Apple\")\\n\\n        In both cases, you should determine the appropriate domains to exclude (e.g., [\"twitter.com\"] or [\"apple.com\"]) and set this parameter.\\n\\n        Results will filter out all content from the specified domains.\\n        Default is None (no domain exclusion).\\n        ',\n",
       "   'title': 'Exclude Domains'},\n",
       "  'search_depth': {'anyOf': [{'enum': ['basic', 'advanced'], 'type': 'string'},\n",
       "    {'type': 'null'}],\n",
       "   'default': 'basic',\n",
       "   'description': 'Controls search thoroughness and result comprehensiveness.\\n    \\n        Use \"basic\" for simple queries requiring quick, straightforward answers.\\n        \\n        Use \"advanced\" (default) for complex queries, specialized topics, \\n        rare information, or when in-depth analysis is needed.\\n        ',\n",
       "   'title': 'Search Depth'},\n",
       "  'include_images': {'anyOf': [{'type': 'boolean'}, {'type': 'null'}],\n",
       "   'default': False,\n",
       "   'description': 'Determines if the search returns relevant images along with text results.\\n   \\n        Set to True when the user explicitly requests visuals or when images would \\n        significantly enhance understanding (e.g., \"Show me what black holes look like,\" \\n        \"Find pictures of Renaissance art\").\\n        \\n        Leave as False (default) for most informational queries where text is sufficient.\\n        ',\n",
       "   'title': 'Include Images'},\n",
       "  'time_range': {'anyOf': [{'enum': ['day', 'week', 'month', 'year'],\n",
       "     'type': 'string'},\n",
       "    {'type': 'null'}],\n",
       "   'default': None,\n",
       "   'description': 'Limits results to content published within a specific timeframe.\\n        \\n        ONLY set this when the user explicitly mentions a time period \\n        (e.g., \"latest AI news,\" \"articles from last week\").\\n        \\n        For less popular or niche topics, use broader time ranges \\n        (\"month\" or \"year\") to ensure sufficient relevant results.\\n   \\n        Options: \"day\" (24h), \"week\" (7d), \"month\" (30d), \"year\" (365d).\\n        \\n        Default is None.\\n        ',\n",
       "   'title': 'Time Range'},\n",
       "  'topic': {'anyOf': [{'enum': ['general', 'news', 'finance'],\n",
       "     'type': 'string'},\n",
       "    {'type': 'null'}],\n",
       "   'default': 'general',\n",
       "   'description': 'Specifies search category for optimized results.\\n   \\n        Use \"general\" (default) for most queries, INCLUDING those with terms like \\n        \"latest,\" \"newest,\" or \"recent\" when referring to general information.\\n\\n        Use \"finance\" for markets, investments, economic data, or financial news.\\n\\n        Use \"news\" ONLY for politics, sports, or major current events covered by \\n        mainstream media - NOT simply because a query asks for \"new\" information.\\n        ',\n",
       "   'title': 'Topic'}},\n",
       " 'required': ['query'],\n",
       " 'title': 'TavilySearchInput',\n",
       " 'type': 'object'}"
      ]
     },
     "execution_count": 13,
     "metadata": {},
     "output_type": "execute_result"
    }
   ],
   "source": [
    "print(\"tool의 스키마(schema):\") # tool의 구조에 대한 설계도.\n",
    "tavily_search.args_schema.model_json_schema()\n",
    "# \"properties\" -> 툴을 호출할때 전달해야하는 값들."
   ]
  },
  {
   "cell_type": "code",
   "execution_count": null,
   "metadata": {},
   "outputs": [],
   "source": []
  },
  {
   "cell_type": "markdown",
   "metadata": {},
   "source": [
    "## LLM tool callings\n",
    "\n",
    "### 작동 원리\n",
    "\n",
    "![toolcalling_concept](figures/toolcalling_concept.png)\n",
    "1. Tool 생성\n",
    "2. 생성한 Tool을 tool calling을 지원하는 LLM 모델에 연결(binding)\n",
    "   - LLM 이 사용할 수있는 tool들을 등록(bind) 한다.\n",
    "    - **`Model.bind([tool_1, tool_2, ...]): RunnableBinding`**\n",
    "    - Model에 tool을 bind 하면 `Runnable` 타입의 `RunnableBinding` 객체가 반환된다.\n",
    "3. 질의가 들어오면 모델(LLM + tool) 은 tool calling 정보(어떤 툴을 어떤 query로 호출할지 schema 에 맞게 만든 정보)를 응답.\n",
    "    - 질의에 대해 tool 요청이 **필요하다고** 결정한 경우 tool들 중 어떤 tool을 어떤 query로 호출해야 하는지를 응답한다.\n",
    "    - 질의에 대해 tool 요청이 **필요 없다고** 결정한 경우는 LLM API를 호출한다.(모델이 직접 응답)\n",
    "5. 3에서 응답한 tool calling 정보를 이용해 tool 호출"
   ]
  },
  {
   "cell_type": "markdown",
   "metadata": {},
   "source": [
    "### LLM Model에 tool binding\n",
    "- `LLM.bind_tools(tools=[tool_1, tool_2, ...])`"
   ]
  },
  {
   "cell_type": "code",
   "execution_count": 14,
   "metadata": {},
   "outputs": [
    {
     "data": {
      "text/plain": [
       "(langchain_openai.chat_models.base.ChatOpenAI,\n",
       " langchain_core.runnables.base.RunnableBinding)"
      ]
     },
     "execution_count": 14,
     "metadata": {},
     "output_type": "execute_result"
    }
   ],
   "source": [
    "from langchain_openai import ChatOpenAI\n",
    "\n",
    "model = ChatOpenAI(model=\"gpt-4.1-mini\")\n",
    "# model에 tool(들)을 binding(붙여주기.)\n",
    "tool_model = model.bind_tools(tools=[tavily_search])\n",
    "type(model), type(tool_model)"
   ]
  },
  {
   "cell_type": "code",
   "execution_count": 15,
   "metadata": {},
   "outputs": [],
   "source": [
    "# 툴이 필요없는 query\n",
    "resp1 = tool_model.invoke(\"안녕하세요.\")"
   ]
  },
  {
   "cell_type": "code",
   "execution_count": 18,
   "metadata": {},
   "outputs": [
    {
     "name": "stdout",
     "output_type": "stream",
     "text": [
      "AI 응답 content: 안녕하세요! 무엇을 도와드릴까요?\n",
      "AI tool 호출 정보: []\n"
     ]
    }
   ],
   "source": [
    "resp1\n",
    "print(\"AI 응답 content:\", resp1.content)\n",
    "print(\"AI tool 호출 정보:\", resp1.tool_calls)\n",
    "# RunnableBinding(model+tool들)의 응답에는 tool을 호출하는 방법을 리스트에 담어서 반환.(속성: tool_calls)"
   ]
  },
  {
   "cell_type": "code",
   "execution_count": 27,
   "metadata": {},
   "outputs": [],
   "source": [
    "# 툴 호출(tool calling) 이 필요한 요청\n",
    "# query = \"2025-2026 시즌 손흥민 이적설에 대해 정리해줘.\"\n",
    "query = \"2025-2026 시즌 손흥민, 김민재, 이강인 이적설에 대해 정리해줘.\"\n",
    "resp2 = tool_model.invoke(query)"
   ]
  },
  {
   "cell_type": "code",
   "execution_count": 30,
   "metadata": {},
   "outputs": [
    {
     "name": "stdout",
     "output_type": "stream",
     "text": [
      "\n",
      "------------------\n"
     ]
    },
    {
     "data": {
      "text/plain": [
       "[{'name': 'tavily_search',\n",
       "  'args': {'query': '2025-2026 시즌 손흥민 이적설', 'time_range': 'year'},\n",
       "  'id': 'call_Wb8zukqEq6UhvbtZxiKqLvAF',\n",
       "  'type': 'tool_call'},\n",
       " {'name': 'tavily_search',\n",
       "  'args': {'query': '2025-2026 시즌 김민재 이적설', 'time_range': 'year'},\n",
       "  'id': 'call_zX70BpT6EG3iIOVX06fxOi4I',\n",
       "  'type': 'tool_call'},\n",
       " {'name': 'tavily_search',\n",
       "  'args': {'query': '2025-2026 시즌 이강인 이적설', 'time_range': 'year'},\n",
       "  'id': 'call_mz5HU1gtlTIEf57dvFC4tc60',\n",
       "  'type': 'tool_call'}]"
      ]
     },
     "execution_count": 30,
     "metadata": {},
     "output_type": "execute_result"
    }
   ],
   "source": [
    "print(resp2.content)\n",
    "print(\"------------------\")\n",
    "resp2.tool_calls"
   ]
  },
  {
   "cell_type": "markdown",
   "metadata": {},
   "source": [
    "## tool_calls 를 이용해 Tool 호출\n",
    "- LLM 모델이 tool 요청을 결정한 경우 어떤 tool을 어떻게 호출할 지 tool_calls를 반환한다.\n",
    "- tool_calls를 이용해 Tool을 호출한다.\n",
    "\n",
    "### 방법\n",
    "1. `tool_calls` 의 `args` 값을 전달.\n",
    "   - `args`는 tool을 호출(invoke)할 때 전달할 정보를 dictionary로 제공한다.\n",
    "   - `tool.invoke(result.tool_calls[0]['args'])`\n",
    "   - **반환타입**: 각 tool의 반환타입\n",
    "2. tool_calls 정보를 넣어 호출\n",
    "   - `tool.invoke(result.tool_calls[0])`\n",
    "   - **반환타입**: `ToolMessage`\n",
    "     - Tool의 처리결과를 담는 Message Type 이다."
   ]
  },
  {
   "cell_type": "markdown",
   "metadata": {},
   "source": [
    "#### tool_calls의 args를 이용해 호출"
   ]
  },
  {
   "cell_type": "code",
   "execution_count": 36,
   "metadata": {},
   "outputs": [],
   "source": [
    "# tool객체.invoke(args)\n",
    "search_result = tavily_search.invoke(resp2.tool_calls[0]['args'])"
   ]
  },
  {
   "cell_type": "code",
   "execution_count": 41,
   "metadata": {},
   "outputs": [
    {
     "data": {
      "text/plain": [
       "{'query': '2025-2026 시즌 손흥민 이적설',\n",
       " 'follow_up_questions': None,\n",
       " 'answer': None,\n",
       " 'images': ['https://thumbnews.nateimg.co.kr/view610/news.nateimg.co.kr/orgImg/kz/2024/11/16/news-p.v1.20240926.ad0cd8c9c02e4b35aa4c0c3b7b0c3735_P1.png',\n",
       "  'https://fo-newscenter.s3.ap-northeast-2.amazonaws.com/sportal-korea/extract/2024/12/24/SK007_20241224_020101.jpg',\n",
       "  'https://img6.yna.co.kr/photo/etc/af/2025/01/04/PAF20250104194501009_P4.jpg',\n",
       "  'https://img-s-msn-com.akamaized.net/tenant/amp/entityid/AA1udLWy.img?w=650&h=453&m=4&q=79',\n",
       "  'https://cdn.gukjenews.com/news/photo/202412/3167631_3270803_1944.jpg'],\n",
       " 'results': [{'title': \"지금 장난하나…'사우디 이적설' 손흥민, 다음 시즌 토트넘 베스트 11 제외 '충격' < Pl < 해외축구 < 축구 < 기사본문 ...\",\n",
       "   'url': 'https://www.sportalkorea.com/news/articleView.html?idxno=2025052909552362169',\n",
       "   'content': \"손흥민은 영국 매체 '더 스퍼스 웹'이 29일 공개한 2025/26시즌 토트넘 베스트 11에서도 자취를 감춰 화제가 됐다. 매체는 에베레치 에제 (크리스털 팰리스)가 손흥민의 빈자리를 메울 것이라고 내다봤다. 포메이션은 4-2-3-1이다.\",\n",
       "   'score': 0.7927375,\n",
       "   'raw_content': None},\n",
       "  {'title': \"'아직 공식 오퍼는 없는데'…현지에서 계속 제기되는 손흥민의 이적설｜스포츠동아\",\n",
       "   'url': 'https://sports.donga.com/sports/article/all/20250618/131828228/1',\n",
       "   'content': '*   [![Image 25: 이세영 비키니 입고 춤 삼매경…반려견 ‘그러려니’ [DA★]](https://dimg.donga.com/a/232/174/95/1/wps/SPORTS/IMAGE/2025/06/18/131835259.1.jpg)](https://sports.donga.com/ent/article/all/20250618/131835270/1)[이세영 비키니 입고 춤 삼매경…반려견 ‘그러려니’ [DA★]](https://sports.donga.com/ent/article/all/20250618/131835270/1) 이수만·바다·유진, 월디페서 얼굴로 뭉쳤다](https://dimg.donga.com/a/232/174/95/1/wps/SPORTS/IMAGE/2025/06/18/131834286.1.jpg)](https://sports.donga.com/ent/article/all/20250618/131834283/1)[[★스느스] S.E.S 재결합 떡밥? *   1[![Image 32: 김혜선, 말벅지+복근…근육질 몸매 대박이야 [DA★]](https://dimg.donga.com/a/72/72/95/1/wps/SPORTS/IMAGE/2025/06/17/131825443.1.jpg)](https://sports.donga.com/ent/article/all/20250617/131825455/1) [김혜선, 말벅지+복근…근육질 몸매 대박이야 [DA★]](https://sports.donga.com/ent/article/all/20250617/131825455/1)    *   2[![Image 33: 황신혜, 나이 잊게 하는 비키니…치명적 존재감 [DA★]](https://dimg.donga.com/a/72/72/95/1/wps/SPORTS/IMAGE/2025/06/17/131827312.1.jpg)](https://sports.donga.com/ent/article/all/20250617/131827314/1) [황신혜, 나이 잊게 하는 비키니…치명적 존재감 [DA★]](https://sports.donga.com/ent/article/all/20250617/131827314/1)    *   3[![Image 34: 한그루, 레깅스 터질라…엉덩이+등근육 ‘탄탄 뒤태’ [DA★]](https://dimg.donga.com/a/72/72/95/1/wps/SPORTS/IMAGE/2025/06/17/131824405.1.jpg)](https://sports.donga.com/ent/article/all/20250617/131824413/1) [한그루, 레깅스 터질라…엉덩이+등근육 ‘탄탄 뒤태’ [DA★]](https://sports.donga.com/ent/article/all/20250617/131824413/1)    *   5[![Image 36: ‘AV 배우 만남’ 주학년 더보이즈 탈퇴, 전속계약도 해지 [공식]](https://dimg.donga.com/a/72/72/95/1/wps/SPORTS/IMAGE/2025/06/18/131833310.1.jpg)](https://sports.donga.com/ent/article/all/20250618/131833311/1) [‘AV 배우 만남’ 주학년 더보이즈 탈퇴, 전속계약도 해지 [공식]](https://sports.donga.com/ent/article/all/20250618/131833311/1)    *   [![Image 38: 40대 전미라, 길쭉 탄탄 비키니…♥윤종신 놀라겠어 [DA★]](https://dimg.donga.com/a/140/140/95/1/wps/SPORTS/IMAGE/2025/06/19/131838286.1.jpg)](https://sports.donga.com/ent/article/all/20250619/131838296/1)[40대 전미라, 길쭉 탄탄 비키니…♥윤종신 놀라겠어 [DA★]](https://sports.donga.com/ent/article/all/20250619/131838296/1) *   [![Image 41: 이세영 비키니 입고 춤 삼매경…반려견 ‘그러려니’ [DA★]](https://dimg.donga.com/a/140/140/95/1/wps/SPORTS/IMAGE/2025/06/18/131835259.1.jpg)](https://sports.donga.com/ent/article/all/20250618/131835270/1)[이세영 비키니 입고 춤 삼매경…반려견 ‘그러려니’ [DA★]](https://sports.donga.com/ent/article/all/20250618/131835270/1)',\n",
       "   'score': 0.7890553,\n",
       "   'raw_content': None},\n",
       "  {'title': \"손흥민 이적설 데드라인 나왔다…'아시아 투어' 이후 결정 :: 공감언론 뉴시스\",\n",
       "   'url': 'https://www.newsis.com/view/NISX20250618_0003217259',\n",
       "   'content': '![[서울=뉴시스] 홍효식 기자 = 지난해 7월31일 서울 마포구 서울월드컵경기장에서 열린 쿠팡플레이 시리즈 1차전 팀 K리그와 토트넘 홋스퍼의 경기를 마친 토트넘 손흥민이 관중들에게 인사하고 있다. [서울=뉴시스] 홍효식 기자 = 지난해 7월31일 서울 마포구 서울월드컵경기장에서 열린 쿠팡플레이 시리즈 1차전 팀 K리그와 토트넘 홋스퍼의 경기를 마친 토트넘 손흥민이 관중들에게 인사하고 있다. ![[서울=뉴시스] 황준선 기자 = 지난해 8월3일 오후 서울 마포구 서울월드컵경기장에서 열린 쿠팡플레이 시리즈 2경기 토트넘 홋스퍼와 FC바이에른 뮌헨의 경기, 토트넘 손흥민이 경기가 끝난 뒤 관중들에게 인사하고 있다. [서울=뉴시스] 황준선 기자 = 지난해 8월3일 오후 서울 마포구 서울월드컵경기장에서 열린 쿠팡플레이 시리즈 2경기 토트넘 홋스퍼와 FC바이에른 뮌헨의 경기, 토트넘 손흥민이 경기가 끝난 뒤 관중들에게 인사하고 있다. [서울=뉴시스] 황준선 기자 = 지난해 8월3일 오후 서울 마포구 서울월드컵경기장에서 열린 쿠팡플레이 시리즈 2경기 토트넘 홋스퍼와 FC바이에른 뮌헨의 경기, 토트넘 손흥민이 경기가 끝난 뒤 관중들에게 인사하고 있다.',\n",
       "   'score': 0.4430467,\n",
       "   'raw_content': None}],\n",
       " 'response_time': 6.97}"
      ]
     },
     "execution_count": 41,
     "metadata": {},
     "output_type": "execute_result"
    }
   ],
   "source": [
    "type(search_result)\n",
    "search_result"
   ]
  },
  {
   "cell_type": "markdown",
   "metadata": {},
   "source": [
    "#### tool_call 정보를 넣어 Tool 호출"
   ]
  },
  {
   "cell_type": "code",
   "execution_count": 44,
   "metadata": {},
   "outputs": [],
   "source": [
    "resp2.tool_calls[0]\n",
    "search_result2 = tavily_search.invoke(resp2.tool_calls[0])"
   ]
  },
  {
   "cell_type": "code",
   "execution_count": 45,
   "metadata": {},
   "outputs": [
    {
     "data": {
      "text/plain": [
       "langchain_core.messages.tool.ToolMessage"
      ]
     },
     "execution_count": 45,
     "metadata": {},
     "output_type": "execute_result"
    }
   ],
   "source": [
    "type(search_result2)"
   ]
  },
  {
   "cell_type": "code",
   "execution_count": null,
   "metadata": {},
   "outputs": [
    {
     "data": {
      "text/plain": [
       "ToolMessage(content='{\"query\": \"2025-2026 시즌 손흥민 이적설\", \"follow_up_questions\": null, \"answer\": null, \"images\": [\"https://thumbnews.nateimg.co.kr/view610/news.nateimg.co.kr/orgImg/kz/2024/11/16/news-p.v1.20240926.ad0cd8c9c02e4b35aa4c0c3b7b0c3735_P1.png\", \"https://fo-newscenter.s3.ap-northeast-2.amazonaws.com/sportal-korea/extract/2024/12/24/SK007_20241224_020101.jpg\", \"https://img6.yna.co.kr/photo/etc/af/2025/01/04/PAF20250104194501009_P4.jpg\", \"https://img-s-msn-com.akamaized.net/tenant/amp/entityid/AA1udLWy.img?w=650&h=453&m=4&q=79\", \"https://cdn.gukjenews.com/news/photo/202412/3167631_3270803_1944.jpg\"], \"results\": [{\"title\": \"지금 장난하나…\\'사우디 이적설\\' 손흥민, 다음 시즌 토트넘 베스트 11 제외 \\'충격\\' < Pl < 해외축구 < 축구 < 기사본문 ...\", \"url\": \"https://www.sportalkorea.com/news/articleView.html?idxno=2025052909552362169\", \"content\": \"손흥민은 영국 매체 \\'더 스퍼스 웹\\'이 29일 공개한 2025/26시즌 토트넘 베스트 11에서도 자취를 감춰 화제가 됐다. 매체는 에베레치 에제 (크리스털 팰리스)가 손흥민의 빈자리를 메울 것이라고 내다봤다. 포메이션은 4-2-3-1이다.\", \"score\": 0.7927375, \"raw_content\": null}, {\"title\": \"\\'아직 공식 오퍼는 없는데\\'…현지에서 계속 제기되는 손흥민의 이적설｜스포츠동아\", \"url\": \"https://sports.donga.com/sports/article/all/20250618/131828228/1\", \"content\": \"*   [![Image 25: 이세영 비키니 입고 춤 삼매경…반려견 ‘그러려니’ [DA★]](https://dimg.donga.com/a/232/174/95/1/wps/SPORTS/IMAGE/2025/06/18/131835259.1.jpg)](https://sports.donga.com/ent/article/all/20250618/131835270/1)[이세영 비키니 입고 춤 삼매경…반려견 ‘그러려니’ [DA★]](https://sports.donga.com/ent/article/all/20250618/131835270/1) 이수만·바다·유진, 월디페서 얼굴로 뭉쳤다](https://dimg.donga.com/a/232/174/95/1/wps/SPORTS/IMAGE/2025/06/18/131834286.1.jpg)](https://sports.donga.com/ent/article/all/20250618/131834283/1)[[★스느스] S.E.S 재결합 떡밥? *   1[![Image 32: 김혜선, 말벅지+복근…근육질 몸매 대박이야 [DA★]](https://dimg.donga.com/a/72/72/95/1/wps/SPORTS/IMAGE/2025/06/17/131825443.1.jpg)](https://sports.donga.com/ent/article/all/20250617/131825455/1) [김혜선, 말벅지+복근…근육질 몸매 대박이야 [DA★]](https://sports.donga.com/ent/article/all/20250617/131825455/1)    *   2[![Image 33: 황신혜, 나이 잊게 하는 비키니…치명적 존재감 [DA★]](https://dimg.donga.com/a/72/72/95/1/wps/SPORTS/IMAGE/2025/06/17/131827312.1.jpg)](https://sports.donga.com/ent/article/all/20250617/131827314/1) [황신혜, 나이 잊게 하는 비키니…치명적 존재감 [DA★]](https://sports.donga.com/ent/article/all/20250617/131827314/1)    *   3[![Image 34: 한그루, 레깅스 터질라…엉덩이+등근육 ‘탄탄 뒤태’ [DA★]](https://dimg.donga.com/a/72/72/95/1/wps/SPORTS/IMAGE/2025/06/17/131824405.1.jpg)](https://sports.donga.com/ent/article/all/20250617/131824413/1) [한그루, 레깅스 터질라…엉덩이+등근육 ‘탄탄 뒤태’ [DA★]](https://sports.donga.com/ent/article/all/20250617/131824413/1)    *   5[![Image 36: ‘AV 배우 만남’ 주학년 더보이즈 탈퇴, 전속계약도 해지 [공식]](https://dimg.donga.com/a/72/72/95/1/wps/SPORTS/IMAGE/2025/06/18/131833310.1.jpg)](https://sports.donga.com/ent/article/all/20250618/131833311/1) [‘AV 배우 만남’ 주학년 더보이즈 탈퇴, 전속계약도 해지 [공식]](https://sports.donga.com/ent/article/all/20250618/131833311/1)    *   [![Image 38: 40대 전미라, 길쭉 탄탄 비키니…♥윤종신 놀라겠어 [DA★]](https://dimg.donga.com/a/140/140/95/1/wps/SPORTS/IMAGE/2025/06/19/131838286.1.jpg)](https://sports.donga.com/ent/article/all/20250619/131838296/1)[40대 전미라, 길쭉 탄탄 비키니…♥윤종신 놀라겠어 [DA★]](https://sports.donga.com/ent/article/all/20250619/131838296/1) *   [![Image 41: 이세영 비키니 입고 춤 삼매경…반려견 ‘그러려니’ [DA★]](https://dimg.donga.com/a/140/140/95/1/wps/SPORTS/IMAGE/2025/06/18/131835259.1.jpg)](https://sports.donga.com/ent/article/all/20250618/131835270/1)[이세영 비키니 입고 춤 삼매경…반려견 ‘그러려니’ [DA★]](https://sports.donga.com/ent/article/all/20250618/131835270/1)\", \"score\": 0.7890553, \"raw_content\": null}, {\"title\": \"손흥민 이적설 데드라인 나왔다…\\'아시아 투어\\' 이후 결정 :: 공감언론 뉴시스\", \"url\": \"https://www.newsis.com/view/NISX20250618_0003217259\", \"content\": \"![[서울=뉴시스] 홍효식 기자 = 지난해 7월31일 서울 마포구 서울월드컵경기장에서 열린 쿠팡플레이 시리즈 1차전 팀 K리그와 토트넘 홋스퍼의 경기를 마친 토트넘 손흥민이 관중들에게 인사하고 있다. [서울=뉴시스] 홍효식 기자 = 지난해 7월31일 서울 마포구 서울월드컵경기장에서 열린 쿠팡플레이 시리즈 1차전 팀 K리그와 토트넘 홋스퍼의 경기를 마친 토트넘 손흥민이 관중들에게 인사하고 있다. ![[서울=뉴시스] 황준선 기자 = 지난해 8월3일 오후 서울 마포구 서울월드컵경기장에서 열린 쿠팡플레이 시리즈 2경기 토트넘 홋스퍼와 FC바이에른 뮌헨의 경기, 토트넘 손흥민이 경기가 끝난 뒤 관중들에게 인사하고 있다. [서울=뉴시스] 황준선 기자 = 지난해 8월3일 오후 서울 마포구 서울월드컵경기장에서 열린 쿠팡플레이 시리즈 2경기 토트넘 홋스퍼와 FC바이에른 뮌헨의 경기, 토트넘 손흥민이 경기가 끝난 뒤 관중들에게 인사하고 있다. [서울=뉴시스] 황준선 기자 = 지난해 8월3일 오후 서울 마포구 서울월드컵경기장에서 열린 쿠팡플레이 시리즈 2경기 토트넘 홋스퍼와 FC바이에른 뮌헨의 경기, 토트넘 손흥민이 경기가 끝난 뒤 관중들에게 인사하고 있다.\", \"score\": 0.4430467, \"raw_content\": null}], \"response_time\": 1.32}', name='tavily_search', tool_call_id='call_Wb8zukqEq6UhvbtZxiKqLvAF')"
      ]
     },
     "execution_count": 46,
     "metadata": {},
     "output_type": "execute_result"
    }
   ],
   "source": [
    "search_result2\n",
    "# tool이 리턴한 값을 str을 변환해서 content속성으로 제공."
   ]
  },
  {
   "cell_type": "code",
   "execution_count": 48,
   "metadata": {},
   "outputs": [
    {
     "data": {
      "text/plain": [
       "str"
      ]
     },
     "execution_count": 48,
     "metadata": {},
     "output_type": "execute_result"
    }
   ],
   "source": [
    "type(search_result2.content)"
   ]
  },
  {
   "cell_type": "code",
   "execution_count": null,
   "metadata": {},
   "outputs": [
    {
     "data": {
      "text/plain": [
       "{'content': '{\"query\": \"2025-2026 시즌 손흥민 이적설\", \"follow_up_questions\": null, \"answer\": null, \"images\": [\"https://thumbnews.nateimg.co.kr/view610/news.nateimg.co.kr/orgImg/kz/2024/11/16/news-p.v1.20240926.ad0cd8c9c02e4b35aa4c0c3b7b0c3735_P1.png\", \"https://fo-newscenter.s3.ap-northeast-2.amazonaws.com/sportal-korea/extract/2024/12/24/SK007_20241224_020101.jpg\", \"https://img6.yna.co.kr/photo/etc/af/2025/01/04/PAF20250104194501009_P4.jpg\", \"https://img-s-msn-com.akamaized.net/tenant/amp/entityid/AA1udLWy.img?w=650&h=453&m=4&q=79\", \"https://cdn.gukjenews.com/news/photo/202412/3167631_3270803_1944.jpg\"], \"results\": [{\"title\": \"지금 장난하나…\\'사우디 이적설\\' 손흥민, 다음 시즌 토트넘 베스트 11 제외 \\'충격\\' < Pl < 해외축구 < 축구 < 기사본문 ...\", \"url\": \"https://www.sportalkorea.com/news/articleView.html?idxno=2025052909552362169\", \"content\": \"손흥민은 영국 매체 \\'더 스퍼스 웹\\'이 29일 공개한 2025/26시즌 토트넘 베스트 11에서도 자취를 감춰 화제가 됐다. 매체는 에베레치 에제 (크리스털 팰리스)가 손흥민의 빈자리를 메울 것이라고 내다봤다. 포메이션은 4-2-3-1이다.\", \"score\": 0.7927375, \"raw_content\": null}, {\"title\": \"\\'아직 공식 오퍼는 없는데\\'…현지에서 계속 제기되는 손흥민의 이적설｜스포츠동아\", \"url\": \"https://sports.donga.com/sports/article/all/20250618/131828228/1\", \"content\": \"*   [![Image 25: 이세영 비키니 입고 춤 삼매경…반려견 ‘그러려니’ [DA★]](https://dimg.donga.com/a/232/174/95/1/wps/SPORTS/IMAGE/2025/06/18/131835259.1.jpg)](https://sports.donga.com/ent/article/all/20250618/131835270/1)[이세영 비키니 입고 춤 삼매경…반려견 ‘그러려니’ [DA★]](https://sports.donga.com/ent/article/all/20250618/131835270/1) 이수만·바다·유진, 월디페서 얼굴로 뭉쳤다](https://dimg.donga.com/a/232/174/95/1/wps/SPORTS/IMAGE/2025/06/18/131834286.1.jpg)](https://sports.donga.com/ent/article/all/20250618/131834283/1)[[★스느스] S.E.S 재결합 떡밥? *   1[![Image 32: 김혜선, 말벅지+복근…근육질 몸매 대박이야 [DA★]](https://dimg.donga.com/a/72/72/95/1/wps/SPORTS/IMAGE/2025/06/17/131825443.1.jpg)](https://sports.donga.com/ent/article/all/20250617/131825455/1) [김혜선, 말벅지+복근…근육질 몸매 대박이야 [DA★]](https://sports.donga.com/ent/article/all/20250617/131825455/1)    *   2[![Image 33: 황신혜, 나이 잊게 하는 비키니…치명적 존재감 [DA★]](https://dimg.donga.com/a/72/72/95/1/wps/SPORTS/IMAGE/2025/06/17/131827312.1.jpg)](https://sports.donga.com/ent/article/all/20250617/131827314/1) [황신혜, 나이 잊게 하는 비키니…치명적 존재감 [DA★]](https://sports.donga.com/ent/article/all/20250617/131827314/1)    *   3[![Image 34: 한그루, 레깅스 터질라…엉덩이+등근육 ‘탄탄 뒤태’ [DA★]](https://dimg.donga.com/a/72/72/95/1/wps/SPORTS/IMAGE/2025/06/17/131824405.1.jpg)](https://sports.donga.com/ent/article/all/20250617/131824413/1) [한그루, 레깅스 터질라…엉덩이+등근육 ‘탄탄 뒤태’ [DA★]](https://sports.donga.com/ent/article/all/20250617/131824413/1)    *   5[![Image 36: ‘AV 배우 만남’ 주학년 더보이즈 탈퇴, 전속계약도 해지 [공식]](https://dimg.donga.com/a/72/72/95/1/wps/SPORTS/IMAGE/2025/06/18/131833310.1.jpg)](https://sports.donga.com/ent/article/all/20250618/131833311/1) [‘AV 배우 만남’ 주학년 더보이즈 탈퇴, 전속계약도 해지 [공식]](https://sports.donga.com/ent/article/all/20250618/131833311/1)    *   [![Image 38: 40대 전미라, 길쭉 탄탄 비키니…♥윤종신 놀라겠어 [DA★]](https://dimg.donga.com/a/140/140/95/1/wps/SPORTS/IMAGE/2025/06/19/131838286.1.jpg)](https://sports.donga.com/ent/article/all/20250619/131838296/1)[40대 전미라, 길쭉 탄탄 비키니…♥윤종신 놀라겠어 [DA★]](https://sports.donga.com/ent/article/all/20250619/131838296/1) *   [![Image 41: 이세영 비키니 입고 춤 삼매경…반려견 ‘그러려니’ [DA★]](https://dimg.donga.com/a/140/140/95/1/wps/SPORTS/IMAGE/2025/06/18/131835259.1.jpg)](https://sports.donga.com/ent/article/all/20250618/131835270/1)[이세영 비키니 입고 춤 삼매경…반려견 ‘그러려니’ [DA★]](https://sports.donga.com/ent/article/all/20250618/131835270/1)\", \"score\": 0.7890553, \"raw_content\": null}, {\"title\": \"손흥민 이적설 데드라인 나왔다…\\'아시아 투어\\' 이후 결정 :: 공감언론 뉴시스\", \"url\": \"https://www.newsis.com/view/NISX20250618_0003217259\", \"content\": \"![[서울=뉴시스] 홍효식 기자 = 지난해 7월31일 서울 마포구 서울월드컵경기장에서 열린 쿠팡플레이 시리즈 1차전 팀 K리그와 토트넘 홋스퍼의 경기를 마친 토트넘 손흥민이 관중들에게 인사하고 있다. [서울=뉴시스] 홍효식 기자 = 지난해 7월31일 서울 마포구 서울월드컵경기장에서 열린 쿠팡플레이 시리즈 1차전 팀 K리그와 토트넘 홋스퍼의 경기를 마친 토트넘 손흥민이 관중들에게 인사하고 있다. ![[서울=뉴시스] 황준선 기자 = 지난해 8월3일 오후 서울 마포구 서울월드컵경기장에서 열린 쿠팡플레이 시리즈 2경기 토트넘 홋스퍼와 FC바이에른 뮌헨의 경기, 토트넘 손흥민이 경기가 끝난 뒤 관중들에게 인사하고 있다. [서울=뉴시스] 황준선 기자 = 지난해 8월3일 오후 서울 마포구 서울월드컵경기장에서 열린 쿠팡플레이 시리즈 2경기 토트넘 홋스퍼와 FC바이에른 뮌헨의 경기, 토트넘 손흥민이 경기가 끝난 뒤 관중들에게 인사하고 있다. [서울=뉴시스] 황준선 기자 = 지난해 8월3일 오후 서울 마포구 서울월드컵경기장에서 열린 쿠팡플레이 시리즈 2경기 토트넘 홋스퍼와 FC바이에른 뮌헨의 경기, 토트넘 손흥민이 경기가 끝난 뒤 관중들에게 인사하고 있다.\", \"score\": 0.4430467, \"raw_content\": null}], \"response_time\": 1.32}',\n",
       " 'additional_kwargs': {},\n",
       " 'response_metadata': {},\n",
       " 'type': 'tool',\n",
       " 'name': 'tavily_search',\n",
       " 'id': None,\n",
       " 'tool_call_id': 'call_Wb8zukqEq6UhvbtZxiKqLvAF',\n",
       " 'artifact': None,\n",
       " 'status': 'success'}"
      ]
     },
     "execution_count": 50,
     "metadata": {},
     "output_type": "execute_result"
    }
   ],
   "source": [
    "vars(search_result2)\n",
    "# 객체 -> dictionary (instance변수-키 : 변수값 -value)"
   ]
  },
  {
   "cell_type": "markdown",
   "metadata": {},
   "source": [
    "#### tool_call 이 여러개일 경우 \n",
    "- 질의에 대해 tool을 여러번 호출 해야 하는 경우 tool_calling 정보를 여러개 반환할 수 있다.\n",
    "    - 예) 검색할 키워드가 여러개인 경우. \n",
    "- `tool.batch([tool_call1, tool_call2, ..])`"
   ]
  },
  {
   "cell_type": "code",
   "execution_count": 52,
   "metadata": {},
   "outputs": [],
   "source": [
    "# Runnable을 한번에 여러번 호출할 때\n",
    "## Runnable.batch([전달할값1, 전달할값2, .....]) : [결과값1, 결과값2, ..]\n",
    "resp = model.batch([\"안녕하세요\", \n",
    "                    \"LLM에 대해서 20글자로 설명해줘.\", \n",
    "                    \"손흥민 이적설을 20글자로 설명해줘.\"])"
   ]
  },
  {
   "cell_type": "code",
   "execution_count": 53,
   "metadata": {},
   "outputs": [
    {
     "data": {
      "text/plain": [
       "[AIMessage(content='안녕하세요! 무엇을 도와드릴까요?', additional_kwargs={'refusal': None}, response_metadata={'token_usage': {'completion_tokens': 11, 'prompt_tokens': 9, 'total_tokens': 20, 'completion_tokens_details': {'accepted_prediction_tokens': 0, 'audio_tokens': 0, 'reasoning_tokens': 0, 'rejected_prediction_tokens': 0}, 'prompt_tokens_details': {'audio_tokens': 0, 'cached_tokens': 0}}, 'model_name': 'gpt-4.1-mini-2025-04-14', 'system_fingerprint': 'fp_658b958c37', 'id': 'chatcmpl-Bk0J9w0d2QWah1pJUID96aJ2hfFF4', 'service_tier': 'default', 'finish_reason': 'stop', 'logprobs': None}, id='run--5e6597ff-dd22-443a-a073-25e397f718d6-0', usage_metadata={'input_tokens': 9, 'output_tokens': 11, 'total_tokens': 20, 'input_token_details': {'audio': 0, 'cache_read': 0}, 'output_token_details': {'audio': 0, 'reasoning': 0}}),\n",
       " AIMessage(content='대규모 언어 모델, 텍스트 생성 AI.', additional_kwargs={'refusal': None}, response_metadata={'token_usage': {'completion_tokens': 13, 'prompt_tokens': 19, 'total_tokens': 32, 'completion_tokens_details': {'accepted_prediction_tokens': 0, 'audio_tokens': 0, 'reasoning_tokens': 0, 'rejected_prediction_tokens': 0}, 'prompt_tokens_details': {'audio_tokens': 0, 'cached_tokens': 0}}, 'model_name': 'gpt-4.1-mini-2025-04-14', 'system_fingerprint': 'fp_6f2eabb9a5', 'id': 'chatcmpl-Bk0J9vJt8QKPkhCbLtk5PnX7nbrxr', 'service_tier': 'default', 'finish_reason': 'stop', 'logprobs': None}, id='run--cf3f3286-ae91-47db-9caf-24e57889467e-0', usage_metadata={'input_tokens': 19, 'output_tokens': 13, 'total_tokens': 32, 'input_token_details': {'audio': 0, 'cache_read': 0}, 'output_token_details': {'audio': 0, 'reasoning': 0}}),\n",
       " AIMessage(content='손흥민, 해외 빅클럽 이적설 계속 불거져.', additional_kwargs={'refusal': None}, response_metadata={'token_usage': {'completion_tokens': 17, 'prompt_tokens': 22, 'total_tokens': 39, 'completion_tokens_details': {'accepted_prediction_tokens': 0, 'audio_tokens': 0, 'reasoning_tokens': 0, 'rejected_prediction_tokens': 0}, 'prompt_tokens_details': {'audio_tokens': 0, 'cached_tokens': 0}}, 'model_name': 'gpt-4.1-mini-2025-04-14', 'system_fingerprint': 'fp_6f2eabb9a5', 'id': 'chatcmpl-Bk0J9Vt1uKanqieZhyWHN28Il9lyN', 'service_tier': 'default', 'finish_reason': 'stop', 'logprobs': None}, id='run--78db49cf-06fa-487f-83e2-5d0dec8eb256-0', usage_metadata={'input_tokens': 22, 'output_tokens': 17, 'total_tokens': 39, 'input_token_details': {'audio': 0, 'cache_read': 0}, 'output_token_details': {'audio': 0, 'reasoning': 0}})]"
      ]
     },
     "execution_count": 53,
     "metadata": {},
     "output_type": "execute_result"
    }
   ],
   "source": [
    "resp"
   ]
  },
  {
   "cell_type": "code",
   "execution_count": 54,
   "metadata": {},
   "outputs": [],
   "source": [
    "search_result3 = tavily_search.batch(resp2.tool_calls)"
   ]
  },
  {
   "cell_type": "code",
   "execution_count": 55,
   "metadata": {},
   "outputs": [
    {
     "data": {
      "text/plain": [
       "[ToolMessage(content='{\"query\": \"2025-2026 시즌 손흥민 이적설\", \"follow_up_questions\": null, \"answer\": null, \"images\": [\"https://thumbnews.nateimg.co.kr/view610/news.nateimg.co.kr/orgImg/kz/2024/11/16/news-p.v1.20240926.ad0cd8c9c02e4b35aa4c0c3b7b0c3735_P1.png\", \"https://fo-newscenter.s3.ap-northeast-2.amazonaws.com/sportal-korea/extract/2024/12/24/SK007_20241224_020101.jpg\", \"https://img6.yna.co.kr/photo/etc/af/2025/01/04/PAF20250104194501009_P4.jpg\", \"https://img-s-msn-com.akamaized.net/tenant/amp/entityid/AA1udLWy.img?w=650&h=453&m=4&q=79\", \"https://cdn.gukjenews.com/news/photo/202412/3167631_3270803_1944.jpg\"], \"results\": [{\"title\": \"지금 장난하나…\\'사우디 이적설\\' 손흥민, 다음 시즌 토트넘 베스트 11 제외 \\'충격\\' < Pl < 해외축구 < 축구 < 기사본문 ...\", \"url\": \"https://www.sportalkorea.com/news/articleView.html?idxno=2025052909552362169\", \"content\": \"손흥민은 영국 매체 \\'더 스퍼스 웹\\'이 29일 공개한 2025/26시즌 토트넘 베스트 11에서도 자취를 감춰 화제가 됐다. 매체는 에베레치 에제 (크리스털 팰리스)가 손흥민의 빈자리를 메울 것이라고 내다봤다. 포메이션은 4-2-3-1이다.\", \"score\": 0.7927375, \"raw_content\": null}, {\"title\": \"\\'아직 공식 오퍼는 없는데\\'…현지에서 계속 제기되는 손흥민의 이적설｜스포츠동아\", \"url\": \"https://sports.donga.com/sports/article/all/20250618/131828228/1\", \"content\": \"*   [![Image 25: 이세영 비키니 입고 춤 삼매경…반려견 ‘그러려니’ [DA★]](https://dimg.donga.com/a/232/174/95/1/wps/SPORTS/IMAGE/2025/06/18/131835259.1.jpg)](https://sports.donga.com/ent/article/all/20250618/131835270/1)[이세영 비키니 입고 춤 삼매경…반려견 ‘그러려니’ [DA★]](https://sports.donga.com/ent/article/all/20250618/131835270/1) 이수만·바다·유진, 월디페서 얼굴로 뭉쳤다](https://dimg.donga.com/a/232/174/95/1/wps/SPORTS/IMAGE/2025/06/18/131834286.1.jpg)](https://sports.donga.com/ent/article/all/20250618/131834283/1)[[★스느스] S.E.S 재결합 떡밥? *   1[![Image 32: 김혜선, 말벅지+복근…근육질 몸매 대박이야 [DA★]](https://dimg.donga.com/a/72/72/95/1/wps/SPORTS/IMAGE/2025/06/17/131825443.1.jpg)](https://sports.donga.com/ent/article/all/20250617/131825455/1) [김혜선, 말벅지+복근…근육질 몸매 대박이야 [DA★]](https://sports.donga.com/ent/article/all/20250617/131825455/1)    *   2[![Image 33: 황신혜, 나이 잊게 하는 비키니…치명적 존재감 [DA★]](https://dimg.donga.com/a/72/72/95/1/wps/SPORTS/IMAGE/2025/06/17/131827312.1.jpg)](https://sports.donga.com/ent/article/all/20250617/131827314/1) [황신혜, 나이 잊게 하는 비키니…치명적 존재감 [DA★]](https://sports.donga.com/ent/article/all/20250617/131827314/1)    *   3[![Image 34: 한그루, 레깅스 터질라…엉덩이+등근육 ‘탄탄 뒤태’ [DA★]](https://dimg.donga.com/a/72/72/95/1/wps/SPORTS/IMAGE/2025/06/17/131824405.1.jpg)](https://sports.donga.com/ent/article/all/20250617/131824413/1) [한그루, 레깅스 터질라…엉덩이+등근육 ‘탄탄 뒤태’ [DA★]](https://sports.donga.com/ent/article/all/20250617/131824413/1)    *   5[![Image 36: ‘AV 배우 만남’ 주학년 더보이즈 탈퇴, 전속계약도 해지 [공식]](https://dimg.donga.com/a/72/72/95/1/wps/SPORTS/IMAGE/2025/06/18/131833310.1.jpg)](https://sports.donga.com/ent/article/all/20250618/131833311/1) [‘AV 배우 만남’ 주학년 더보이즈 탈퇴, 전속계약도 해지 [공식]](https://sports.donga.com/ent/article/all/20250618/131833311/1)    *   [![Image 38: 40대 전미라, 길쭉 탄탄 비키니…♥윤종신 놀라겠어 [DA★]](https://dimg.donga.com/a/140/140/95/1/wps/SPORTS/IMAGE/2025/06/19/131838286.1.jpg)](https://sports.donga.com/ent/article/all/20250619/131838296/1)[40대 전미라, 길쭉 탄탄 비키니…♥윤종신 놀라겠어 [DA★]](https://sports.donga.com/ent/article/all/20250619/131838296/1) *   [![Image 41: 이세영 비키니 입고 춤 삼매경…반려견 ‘그러려니’ [DA★]](https://dimg.donga.com/a/140/140/95/1/wps/SPORTS/IMAGE/2025/06/18/131835259.1.jpg)](https://sports.donga.com/ent/article/all/20250618/131835270/1)[이세영 비키니 입고 춤 삼매경…반려견 ‘그러려니’ [DA★]](https://sports.donga.com/ent/article/all/20250618/131835270/1)\", \"score\": 0.7890553, \"raw_content\": null}, {\"title\": \"손흥민 이적설 데드라인 나왔다…\\'아시아 투어\\' 이후 결정 :: 공감언론 뉴시스\", \"url\": \"https://www.newsis.com/view/NISX20250618_0003217259\", \"content\": \"![[서울=뉴시스] 홍효식 기자 = 지난해 7월31일 서울 마포구 서울월드컵경기장에서 열린 쿠팡플레이 시리즈 1차전 팀 K리그와 토트넘 홋스퍼의 경기를 마친 토트넘 손흥민이 관중들에게 인사하고 있다. [서울=뉴시스] 홍효식 기자 = 지난해 7월31일 서울 마포구 서울월드컵경기장에서 열린 쿠팡플레이 시리즈 1차전 팀 K리그와 토트넘 홋스퍼의 경기를 마친 토트넘 손흥민이 관중들에게 인사하고 있다. ![[서울=뉴시스] 황준선 기자 = 지난해 8월3일 오후 서울 마포구 서울월드컵경기장에서 열린 쿠팡플레이 시리즈 2경기 토트넘 홋스퍼와 FC바이에른 뮌헨의 경기, 토트넘 손흥민이 경기가 끝난 뒤 관중들에게 인사하고 있다. [서울=뉴시스] 황준선 기자 = 지난해 8월3일 오후 서울 마포구 서울월드컵경기장에서 열린 쿠팡플레이 시리즈 2경기 토트넘 홋스퍼와 FC바이에른 뮌헨의 경기, 토트넘 손흥민이 경기가 끝난 뒤 관중들에게 인사하고 있다. [서울=뉴시스] 황준선 기자 = 지난해 8월3일 오후 서울 마포구 서울월드컵경기장에서 열린 쿠팡플레이 시리즈 2경기 토트넘 홋스퍼와 FC바이에른 뮌헨의 경기, 토트넘 손흥민이 경기가 끝난 뒤 관중들에게 인사하고 있다.\", \"score\": 0.4430467, \"raw_content\": null}], \"response_time\": 1.47}', name='tavily_search', tool_call_id='call_Wb8zukqEq6UhvbtZxiKqLvAF'),\n",
       " ToolMessage(content='{\"query\": \"2025-2026 시즌 김민재 이적설\", \"follow_up_questions\": null, \"answer\": null, \"images\": [\"https://many-information.com/wp-content/uploads/2024/08/image-26-optimized.png\", \"https://many-information.com/wp-content/uploads/2024/08/image-28-optimized.png\", \"https://mydaily.co.kr/photos/2024/03/24/2024032410032981903_l.jpg\", \"https://rzelle.com/20230607/kimminjea-010.jpg\", \"https://flexible.img.hani.co.kr/flexible/normal/560/373/imgdb/original/2024/1007/20241007501351.jpg\"], \"results\": [{\"title\": \"Ai 심층 분석: \\'완전체\\' 김민재 이적, 2025-2026 시즌 Epl 빅클럽행?\", \"url\": \"https://wonisoli.tistory.com/entry/AI-심층-분석-완전체-김민재-이적-2025-2026-시즌-EPL-빅클럽행\", \"content\": \"AI 심층 분석: \\'완전체\\' 김민재 이적, 2025-2026 시즌 EPL 빅클럽행 유력? (팀별 합류 가능성 최종판)[분석의 핵심 전제] 이 글은 김민재 선수가 지난 시즌 겪었을 수 있는 부상 및 컨디션 난조에서 **완벽하게 회복하여, 나폴리 시절과 바이에른 뮌헨 시즌 초반에 보여준 세계 최정상급 기량을 되찾았다는\", \"score\": 0.8259413, \"raw_content\": null}, {\"title\": \"\\'저 잔류해요!\\' 김민재, 이적설 직접 종결 \\\\\"뮌헨 떠날 이유 없다, 남고 싶어\\\\\"…Ac밀란·리버풀 허탈\", \"url\": \"https://sports.news.nate.com/view/20250608n00578\", \"content\": \"축구 통계 매체 \\'트랜스퍼마크트\\'도 최근 \\'2025~2026 시즌 뮌헨의 베스트 11\\'을 예상했는데 왼쪽 센터백 자리에 김민재 대신 타가 이름을 올려 눈길을 끌었다. 포백 왼쪽부터 알폰소 데이비스, 타, 다요 우파메카노, 요시프 스타니시치가 자리했다.\", \"score\": 0.8047902, \"raw_content\": null}, {\"title\": \"\\'이적설\\' 이강인·김민재, 클럽월드컵 이후 거취 결정될까 - 파이낸셜뉴스\", \"url\": \"https://www.fnnews.com/news/202506170700469086\", \"content\": \"이강인·김민재 모두 팀 내 입지 불안 지난 시즌 중반부터 이적설 돌고 있어 [암만(요르단)=뉴시스] 이영환 기자 = 2026 국제축구연맹(FIFA) 북중미 월드컵 아시아 3차 예선 B조 6차전 팔레스타인전에 출전한 김민재(왼쪽), 이강인. 2024.11.20. 20hwan@newsis.com\", \"score\": 0.7382357, \"raw_content\": null}], \"response_time\": 1.06}', name='tavily_search', tool_call_id='call_zX70BpT6EG3iIOVX06fxOi4I'),\n",
       " ToolMessage(content='{\"query\": \"2025-2026 시즌 이강인 이적설\", \"follow_up_questions\": null, \"answer\": null, \"images\": [\"https://i3n.news1.kr/system/photos/2024/5/20/6657541/high.jpg\", \"https://img1.daumcdn.net/thumb/R800x0/?scode=mtistory2&fname=https://blog.kakaocdn.net/dn/cpBgtJ/btsMRWIVpYf/SmvNzMPvvNiC0ykyIeA7a1/img.png\", \"https://dimg1.donga.com/wps/SPORTS/IMAGE/2025/04/10/131386753.1.jpg\", \"https://www.sportschosun.com/article/html/2025/01/07/2025010701000476000061425.jpg\", \"https://thumbnews.nateimg.co.kr/view610/news.nateimg.co.kr/orgImg/sc/2025/01/13/2025011301000856900122962.jpg\"], \"results\": [{\"title\": \"이강인 거취놓고 외신은 설왕설래…Psg 떠나는 건 유력하나 행선지는? : 네이트 스포츠\", \"url\": \"https://sports.news.nate.com/view/20250603n00985\", \"content\": \"이강인 (24·파리 생제르맹·PSG)의 2025~2026시즌 거취는 해외에서도 큰 관심사다. 외신에선 이번 여름이적시장에서 그의 이적이 유력하다고 전망한다. 프랑스 매체 \\'겟풋볼뉴스프랑스\\'는 3일 (한국시간) \\'레퀴프\\'의 보도를 인용해 \\\\\"이강인과 곤잘로 하무스 (포르투갈)이 이번 여름이적시장에서\", \"score\": 0.8745175, \"raw_content\": null}, {\"title\": \"Ai 심층 분석: 이강인 이적 2025-2026 시즌, 예상 행선지는?\", \"url\": \"https://wonisoli.tistory.com/entry/AI-분석-이강인-이적-2025-2026-시즌-예상-행선지는\", \"content\": \"AI 분석: 이강인의 2025-2026 시즌, 예상 소속팀은? (팀별 이적 가능성 전격 해부!)2025년 여름 이적 시장에서 가장 뜨거운 관심을 받고 있는 이강인 선수! 그의 다음 시즌 거취를 두고 다양한 예측과 분석이 이어지고 있습니다. 과연 이강인 선수는 2025-2026 시즌 어느 팀의 유니폼을 입고 팬들 앞에 나서게\", \"score\": 0.8156003, \"raw_content\": null}, {\"title\": \"이강인 나폴리 이적설 총정리 : 세리에a 강호들의 러브콜과 현실적 변수\", \"url\": \"https://studio24.kr/3224\", \"content\": \"안녕하세요, JS입니다.2025년 여름 이적시장을 앞두고 이강인(파리 생제르맹, PSG)의 나폴리 이적설이 이탈리아와 한국 축구계를 뜨겁게 달구고 있습니다.이강인은 나폴리를 비롯해 AC밀란, 유벤투스, 인터밀란 등 세리에A 명문 구단은 물론, 프리미어리그와 분데스리가 클럽들까지 관심을 보이고\", \"score\": 0.7498395, \"raw_content\": null}], \"response_time\": 0.94}', name='tavily_search', tool_call_id='call_mz5HU1gtlTIEf57dvFC4tc60')]"
      ]
     },
     "execution_count": 55,
     "metadata": {},
     "output_type": "execute_result"
    }
   ],
   "source": [
    "search_result3"
   ]
  },
  {
   "cell_type": "code",
   "execution_count": null,
   "metadata": {},
   "outputs": [],
   "source": []
  },
  {
   "cell_type": "markdown",
   "metadata": {},
   "source": [
    "## Tool 의 처리(응답) 결과를 LLM 요청시 사용\n",
    "- ToolMessage를 prompt 에 추가하여 LLM에 요청한다.\n",
    "- ToolMessage 는 Tool Calling 정보를 가진 AIMessage 다음에 들어와야 한다.\n",
    "- Prompt 순서\n",
    "    1. 일반 prompt (system, 대화 history, .., human)\n",
    "    2. AIMessage: tool calling 정보를 가진 AIMessage. (tool_model에 질의 받은 tool calling 정보가 있는 응답)\n",
    "    3. ToolMessage:  Tool의 처리 결과"
   ]
  },
  {
   "cell_type": "code",
   "execution_count": null,
   "metadata": {},
   "outputs": [],
   "source": [
    "from langchain.prompts import ChatPromptTemplate, MessagesPlaceholder\n",
    "prompt = ChatPromptTemplate(\n",
    "    [\n",
    "        (\"system\", \"당신은 AI 정보제공자입니다. 제공된 정보를 바탕으로 답변해주세요.\"),\n",
    "        (\"human\", \"{user_input}\"),\n",
    "        MessagesPlaceholder(variable_name=\"messages\", optional=True)\n",
    "    ]\n",
    ")\n",
    "input_dict = {\"user_input\":query, \"messages\":[resp2, *search_result3]} # messages: [AIMessage, ToolMessage, ToolMessage, ..]\n",
    "\n",
    "final_chain = prompt | tool_model\n",
    "final_response = final_chain.invoke(input_dict)"
   ]
  },
  {
   "cell_type": "code",
   "execution_count": 62,
   "metadata": {},
   "outputs": [
    {
     "data": {
      "text/plain": [
       "AIMessage(content='2025-2026 시즌 이적설에 대한 요약입니다.\\n\\n1. 손흥민 이적설\\n- 2025-26 시즌 토트넘 베스트 11에 포함될 정도로 활약 중입니다.\\n- 에버턴 소속의 크리스탈 팰리스가 손흥민의 이적을 추진하는 소식이 있으나 공식 발표된 바는 없습니다.\\n- 현재로서는 이적 관련 구체적 진행 상황은 알려져 있지 않고, 손흥민은 안정적인 위치를 유지하고 있습니다.\\n\\n2. 김민재 이적설\\n- 김민재는 2025-26 시즌에도 베스트 11 후보로 주목받고 있습니다.\\n- 최근 신문 및 매체에서 김민재와 관련한 이적설 보도가 있으나 구체적인 팀이나 계약 내용은 확인되지 않았습니다.\\n- 김민재는 국가대표 및 클럽에서 중요한 역할을 하고 있으며, 이적 여부는 아직 확정되지 않았습니다.\\n\\n3. 이강인 이적설\\n- 이강인은 현재 PSG 소속으로 2025-26 시즌에 유럽 내 여러 팀에서 관심을 받고 있는 것으로 전해졌습니다.\\n- 여러 매체에서 이강인의 이적 가능성을 점치고 있으나, 아직 공식 계약 소식은 없습니다.\\n- 프랑스 리그와 바이에른 뮌헨 등 여러 구단이 이강인을 주시하고 있으며, 향후 이적과 관련된 움직임이 예상됩니다.\\n\\n요약하자면, 손흥민, 김민재, 이강인 모두 2025-2026 시즌 이적설이 일부 제기되고 있으나, 아직 공식적인 이적 발표나 구체적인 계약 협상 내용은 확정된 것이 없습니다. 팬과 관련 구단들은 이들의 행보를 주목하고 있으며, 시즌 중반 이후 또는 시즌 종료 후에 보다 명확한 이적 소식이 나올 가능성이 있습니다.', additional_kwargs={'refusal': None}, response_metadata={'token_usage': {'completion_tokens': 415, 'prompt_tokens': 9063, 'total_tokens': 9478, 'completion_tokens_details': {'accepted_prediction_tokens': 0, 'audio_tokens': 0, 'reasoning_tokens': 0, 'rejected_prediction_tokens': 0}, 'prompt_tokens_details': {'audio_tokens': 0, 'cached_tokens': 0}}, 'model_name': 'gpt-4.1-mini-2025-04-14', 'system_fingerprint': 'fp_6f2eabb9a5', 'id': 'chatcmpl-Bk0ZTyvL2pSfW0ap3OM9u8GBwWefy', 'service_tier': 'default', 'finish_reason': 'stop', 'logprobs': None}, id='run--bff91c6c-141d-438f-bb76-ade76cdbbd60-0', usage_metadata={'input_tokens': 9063, 'output_tokens': 415, 'total_tokens': 9478, 'input_token_details': {'audio': 0, 'cache_read': 0}, 'output_token_details': {'audio': 0, 'reasoning': 0}})"
      ]
     },
     "execution_count": 62,
     "metadata": {},
     "output_type": "execute_result"
    }
   ],
   "source": [
    "final_response"
   ]
  },
  {
   "cell_type": "code",
   "execution_count": 63,
   "metadata": {},
   "outputs": [
    {
     "name": "stdout",
     "output_type": "stream",
     "text": [
      "2025-2026 시즌 이적설에 대한 요약입니다.\n",
      "\n",
      "1. 손흥민 이적설\n",
      "- 2025-26 시즌 토트넘 베스트 11에 포함될 정도로 활약 중입니다.\n",
      "- 에버턴 소속의 크리스탈 팰리스가 손흥민의 이적을 추진하는 소식이 있으나 공식 발표된 바는 없습니다.\n",
      "- 현재로서는 이적 관련 구체적 진행 상황은 알려져 있지 않고, 손흥민은 안정적인 위치를 유지하고 있습니다.\n",
      "\n",
      "2. 김민재 이적설\n",
      "- 김민재는 2025-26 시즌에도 베스트 11 후보로 주목받고 있습니다.\n",
      "- 최근 신문 및 매체에서 김민재와 관련한 이적설 보도가 있으나 구체적인 팀이나 계약 내용은 확인되지 않았습니다.\n",
      "- 김민재는 국가대표 및 클럽에서 중요한 역할을 하고 있으며, 이적 여부는 아직 확정되지 않았습니다.\n",
      "\n",
      "3. 이강인 이적설\n",
      "- 이강인은 현재 PSG 소속으로 2025-26 시즌에 유럽 내 여러 팀에서 관심을 받고 있는 것으로 전해졌습니다.\n",
      "- 여러 매체에서 이강인의 이적 가능성을 점치고 있으나, 아직 공식 계약 소식은 없습니다.\n",
      "- 프랑스 리그와 바이에른 뮌헨 등 여러 구단이 이강인을 주시하고 있으며, 향후 이적과 관련된 움직임이 예상됩니다.\n",
      "\n",
      "요약하자면, 손흥민, 김민재, 이강인 모두 2025-2026 시즌 이적설이 일부 제기되고 있으나, 아직 공식적인 이적 발표나 구체적인 계약 협상 내용은 확정된 것이 없습니다. 팬과 관련 구단들은 이들의 행보를 주목하고 있으며, 시즌 중반 이후 또는 시즌 종료 후에 보다 명확한 이적 소식이 나올 가능성이 있습니다.\n"
     ]
    }
   ],
   "source": [
    "print(final_response.content)"
   ]
  },
  {
   "cell_type": "code",
   "execution_count": null,
   "metadata": {},
   "outputs": [],
   "source": []
  },
  {
   "cell_type": "code",
   "execution_count": null,
   "metadata": {},
   "outputs": [],
   "source": []
  },
  {
   "cell_type": "markdown",
   "metadata": {},
   "source": [
    "# 사용자 정의 Tool 구현\n",
    "\n",
    "## @tool 사용\n",
    "- 함수로 구현하고 `@tool` 데코레이터를 사용해 tool(StructuredTool)로 정의한다.\n",
    "    - `langchain_core.tools` 모듈에 있다.\n",
    "- tool name\n",
    "    - 함수의 이름이 tool의 이름이 된다.\n",
    "- parameters\n",
    "    - 함수의 파라미터가 tool의 파라미터가 된다.\n",
    "    - **type hint**를 이용해 타입을 지정한다.  \n",
    "- description\n",
    "    - doctring이 description이 된다.\n",
    "    - RunnableBinding이 tool을 잘 찾을 수 있도록 하려면 **tool의 기능을 최대한 구체적**으로 작성한다.\n",
    "- **@tool이 적용된 함수(StructuredTool)이 tool**이므로 model에 binding 한다."
   ]
  },
  {
   "cell_type": "code",
   "execution_count": null,
   "metadata": {},
   "outputs": [],
   "source": []
  },
  {
   "cell_type": "code",
   "execution_count": null,
   "metadata": {},
   "outputs": [],
   "source": []
  },
  {
   "cell_type": "code",
   "execution_count": null,
   "metadata": {},
   "outputs": [],
   "source": []
  },
  {
   "cell_type": "markdown",
   "metadata": {},
   "source": [
    "## Runnable을 tool로 정의\n",
    "- `Runnable객체.as_tool()`\n",
    "    - name, description, args_schema 파라미터를 이용해 tool의 이름, 설명, 스키마를 설정한다."
   ]
  },
  {
   "cell_type": "code",
   "execution_count": null,
   "metadata": {},
   "outputs": [],
   "source": []
  },
  {
   "cell_type": "code",
   "execution_count": null,
   "metadata": {},
   "outputs": [],
   "source": []
  },
  {
   "cell_type": "code",
   "execution_count": null,
   "metadata": {},
   "outputs": [],
   "source": []
  },
  {
   "cell_type": "markdown",
   "metadata": {},
   "source": [
    "## Vector Store(Vector 저장소) tool\n",
    "\n",
    "### text loading -> Document 생성\n",
    "- 레스토랑 메뉴를 vector store에 저장한다.\n",
    "1. 메뉴 text 를 로딩한다.\n",
    "2. 각 메뉴의 내용(음식이름, 메뉴설명, 파일명)을 넣어 Document를 생성한다."
   ]
  },
  {
   "cell_type": "code",
   "execution_count": null,
   "metadata": {},
   "outputs": [],
   "source": []
  },
  {
   "cell_type": "code",
   "execution_count": null,
   "metadata": {},
   "outputs": [],
   "source": []
  },
  {
   "cell_type": "code",
   "execution_count": null,
   "metadata": {},
   "outputs": [],
   "source": []
  },
  {
   "cell_type": "code",
   "execution_count": null,
   "metadata": {},
   "outputs": [],
   "source": []
  },
  {
   "cell_type": "code",
   "execution_count": null,
   "metadata": {},
   "outputs": [],
   "source": []
  },
  {
   "cell_type": "markdown",
   "metadata": {},
   "source": [
    "# Agent 구현\n",
    "\n",
    "- `create_tool_calling_agent()` 를 이용해 Agent 생성\n",
    "    - 파라미터\n",
    "        - llm: 에이전트로 사용할 LLM.\n",
    "        - tools: 에이전트가 접근할 수 있는 도구들의 목록.\n",
    "        - prompt_template: 에이전트의 동작을 안내하는 프롬프트 템플릿.\n",
    "            - 이름이 `agent_scratchpad` 인 MessagesPlaceholder 추가\n",
    "                - Agent 가 tool을 호출해서 받은 정보를 prompt에 추가하는 placeholder.\n",
    "- AgentExecutor를 이용해 Agent 실행\n",
    "    - Agent의 동작을 관리하는 클래스.\n",
    "    - AgentExecutor는 사용자 요청을 처리할 때 까지 적절한 tool들을 호출하고 최종 결과를 생성해 반환하는 작업을 처리한다.\n",
    "    - 파라미터\n",
    "        - agent: 실행할 Agent.\n",
    "        - tools: Agent가 사용할 tool들 목록."
   ]
  },
  {
   "cell_type": "code",
   "execution_count": null,
   "metadata": {},
   "outputs": [],
   "source": []
  },
  {
   "cell_type": "code",
   "execution_count": null,
   "metadata": {},
   "outputs": [],
   "source": []
  },
  {
   "cell_type": "code",
   "execution_count": null,
   "metadata": {},
   "outputs": [],
   "source": []
  }
 ],
 "metadata": {
  "kernelspec": {
   "display_name": "lang_env",
   "language": "python",
   "name": "python3"
  },
  "language_info": {
   "codemirror_mode": {
    "name": "ipython",
    "version": 3
   },
   "file_extension": ".py",
   "mimetype": "text/x-python",
   "name": "python",
   "nbconvert_exporter": "python",
   "pygments_lexer": "ipython3",
   "version": "3.12.11"
  }
 },
 "nbformat": 4,
 "nbformat_minor": 4
}
