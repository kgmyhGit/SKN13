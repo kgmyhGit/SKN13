{
 "cells": [
  {
   "cell_type": "markdown",
   "metadata": {},
   "source": [
    "# Agent 개요\n",
    "\n",
    "- Agent 대형 언어 모델(LLM)과 다양한 도구(Tool)를 결합하여 복잡한 작업을 처리할 수 있도록 설계된 사용자 요청 처리 인공지능 시스템이다.\n",
    "    - Agent는 주어진 목표를 달성하기 위해 환경(toolkit)과 상호작용하며 의사 결정을 내리고 행동을 취하는 자율적인 개체이다.\n",
    "    - Agent의 자율적인 의사 결정은 LLM 이 담당하여 사람의 개입이 최소화 된다.\n",
    "\n",
    "## Agent의 주요 특징\n",
    "- **자율성**: 사전 정의된 규칙 없이도 스스로 결정을 내리고 행동할 수 있다.\n",
    "- **목표 지향성**: 특정 목표나 작업을 달성하기 위해 설계되어 있다.\n",
    "- **도구 활용**: 다양한 도구나 API를 활용하여 작업을 수행한다.\n",
    "\n",
    "## Agent 기본 동작 원리\n",
    "\n",
    "![agent_concept](figures/agent_concept.png)\n",
    "\n",
    "### ReAct\n",
    "- Reasoning and Acting의 약자로, 에이전트가 문제를 해결할 때 추론과 행동을 결합하는 방식이다.\n",
    "\n",
    "#### 동작 단계\n",
    "- **사용자 입력 수신**: \n",
    "    - 에이전트는 사용자가 입력한 질문이나 명령을 받는다.\n",
    "- **추론(Reasoning)**\n",
    "    - 입력된 내용을 분석하여 문제를 이해하고, 해결 방안을 계획합니다. \n",
    "- **행동 결정 및 도구 실행(Action)**: \n",
    "    - 계획에 따라 어떤 도구를 사용할지 결정하고 그 도구를 호출하여 작업을 수행한다.\n",
    "- **결과 평가 및 추가 행동 결정**: \n",
    "    - 도구 실행 결과를 바탕으로 추가로 도구를 사용할지, 아니면 최종 답변을 생성할지를 결정한다.\n",
    "    - 추가로 도구를 사용하기로 결정한 경우 도구를 실행한다.\n",
    "- **최종 답변 반환**: \n",
    "    - 최종 결과를 사용자에게 제공한다."
   ]
  },
  {
   "cell_type": "markdown",
   "metadata": {},
   "source": [
    "# TOOL\n",
    "- **Tool은 하나의 기능을 처리하는 함수이다.**\n",
    "\n",
    "## Tool Calling 개요\n",
    "- LLM이 외부 도구나 API를 활용하여 작업을 수행할 수 있게 하는 기능이다.\n",
    "    1. LLM 이 사용할 수 있는 도구들을 binding한다.\n",
    "    2. 사용자로 부터 질의가 들어오면 그 질의를 처리하기 위해 tool을 호출 하는 것이 필요하다면 LLM은 어떤 tool을 어떻게 호출할지 응답한다.\n",
    "    3.  사용자는 응답에 맞는 tool을 호출하고 그 처리결과를 취합해 질의와 함께 LLM에게 요청한다.\n",
    "\t- TOOL Calling 예\n",
    "        - LLM이 수학 계산을 수행해야 할 때, 직접 계산하는 대신 미리 정의된 '계산' 도구를 호출하여 정확한 결과를 얻을 수 있다.\n",
    "    \t- LLM에 최신 정보를 요청하는 질문이 들어왔을 때 '검색' 도구나 'Database 연동' 도구를 사용해 최신 뉴스를 검색하거나, 특정 데이터베이스에서 정보를 조회하는 등의 작업을 수행할 수 있다.\n",
    "- **LLM은 도구를 이용해 자체 지식의 한계를 넘어서는 정보를 제공할 수 있습니다.**\n",
    "- Tool calling은 OpenAI, Anthropic 등 여러 LLM 서비스가 지원한다.\n",
    "  - Tool Calling을 지원하는 LLM 모델만 사용할 수있다.\n",
    "- LangChain은 다양한 모델들의 도구 호출 방식을 표준화하여 일관된 인터페이스로 제공한다. 이를 통해 개발자들은 다양한 모델과 도구들을 쉽게 통합할 수있다.\n",
    "- Tool Calling Concept: https://python.langchain.com/docs/concepts/tool_calling/\n",
    "- Langchain 지원 tools (Builtin Tool)\n",
    "    -  https://python.langchain.com/docs/integrations/tools/#search\n",
    "- **Agent:**\n",
    "\t- LLM 모델이 목표한 결과를 얻기 위해 적절한 도구를 선택하고, 이를 활용하여 작업을 수행하는 시스템을 **Agent**라고 한다."
   ]
  },
  {
   "cell_type": "markdown",
   "metadata": {},
   "source": [
    "# 랭체인 내장 도구(tools) 사용\n",
    "- Langchain은 다양한 도구들을 구현해서 제공하고 있다. 이것들을 builtin tool이라고 한다. \n",
    "  - [Langchain 지원 Built tools](https://python.langchain.com/docs/integrations/tools/)\n",
    "- 그 외에 필요한 도구들을 직접 구현할 수있는 방법도 제공한다.\n",
    "- Tavily 웹 검색 도구 사용해 Tool calling을 이해한다.\n",
    "\n",
    "\n",
    "## Tavily\n",
    "- LLM을 위한 웹 검색 API.\n",
    "- https://tavily.com/\n",
    "-  LLM과 RAG 시스템에 최적화된 검색 엔진.\n",
    "   -  기존의 일반 검색 엔진들과 달리, Tavily는 AI 애플리케이션의 요구사항에 맞춰 설계되었다.\n",
    "   -  Tavily는 검색 결과에서 검색 query와 관련 콘텐츠를 추출하여 제공한다.\n",
    "   -  월 1000회 무료 사용 가능.\n",
    "### Tavily API Key 받기\n",
    "- 로그인 한다.\n",
    "- Overview 화면에서 API Key 생성  \n",
    "- **API Keys \\[+\\] 클릭**\n",
    "\n",
    "![apikey1](figures/travily_apikey1.png)\n",
    "\n",
    "- **Key Name을 입력하고 생성**\n",
    "\n",
    "![apikey1](figures/travily_apikey2.png)\n",
    "\n",
    "- **API Key를 복사**\n",
    "\n",
    "![apikey1](figures/travily_apikey3.png)\n",
    "\n",
    "- 환경변수에 등록한다.\n",
    "    - 변수이름: \"TAVILY_API_KEY\""
   ]
  },
  {
   "cell_type": "markdown",
   "metadata": {},
   "source": [
    "## TavilySearch\n",
    "- Langchain에서 제공하는 tool로 Tavily 의 검색 엔진 API를 사용해 검색을 수행한다.\n",
    "- 설치\n",
    "  - `pip install langchain-tavily`\n",
    "- https://python.langchain.com/docs/integrations/tools/tavily_search/"
   ]
  },
  {
   "cell_type": "code",
   "execution_count": 3,
   "metadata": {},
   "outputs": [
    {
     "data": {
      "text/plain": [
       "True"
      ]
     },
     "execution_count": 3,
     "metadata": {},
     "output_type": "execute_result"
    }
   ],
   "source": [
    "from dotenv import load_dotenv\n",
    "from langchain_tavily import TavilySearch\n",
    "\n",
    "load_dotenv()\n",
    "# import os\n",
    "# os.getenv(\"TAVILY_API_KEY\")"
   ]
  },
  {
   "cell_type": "code",
   "execution_count": 8,
   "metadata": {},
   "outputs": [],
   "source": [
    "tavily_search = TavilySearch(\n",
    "    max_results=3, # 최대 검색 개수.\n",
    "    include_images=True, # 검색한 페이지의 이미지들의 URL도 반환.\n",
    "    time_range=\"month\",  # 검색할 기간 단위. (최근 \"day\", \"week\", \"month\", \"year\" 내용들을 검색.)\n",
    ")\n",
    "query = \"2025-2026 시즌 손흥민 이적설.\"\n",
    "resp = tavily_search.invoke(query)"
   ]
  },
  {
   "cell_type": "code",
   "execution_count": 9,
   "metadata": {},
   "outputs": [
    {
     "name": "stdout",
     "output_type": "stream",
     "text": [
      "<class 'dict'>\n"
     ]
    },
    {
     "data": {
      "text/plain": [
       "{'query': '2025-2026 시즌 손흥민 이적설.',\n",
       " 'follow_up_questions': None,\n",
       " 'answer': None,\n",
       " 'images': ['https://thumbnews.nateimg.co.kr/view610/news.nateimg.co.kr/orgImg/kz/2024/11/16/news-p.v1.20240926.ad0cd8c9c02e4b35aa4c0c3b7b0c3735_P1.png',\n",
       "  'https://image.xportsnews.com/contents/images/upload/article/2024/1221/1734758534483703.jpg',\n",
       "  'https://img-s-msn-com.akamaized.net/tenant/amp/entityid/AA1udLWy.img?w=650&h=453&m=4&q=79',\n",
       "  'https://fo-newscenter.s3.ap-northeast-2.amazonaws.com/sportal-korea/extract/2024/12/24/SK007_20241224_020101.jpg',\n",
       "  'https://img6.yna.co.kr/photo/etc/af/2025/01/04/PAF20250104194501009_P4.jpg'],\n",
       " 'results': [{'title': \"손흥민 이적설 데드라인 나왔다…'아시아 투어' 이후 결정 - 파이낸셜뉴스\",\n",
       "   'url': 'https://www.fnnews.com/news/202506181010460750',\n",
       "   'content': '손흥민 이적설 데드라인 나왔다…\\'아시아 투어\\' 이후 결정 ... \\'bbc\\'는 \"신뢰할 만한 소식통에 따르면 손흥민은 2025~2026시즌 전 팀을 떠날 가능성이 있지만, 아시아 투어 이후까지 팀에서 나가지 못할 가능성이 크다\"며 \"손흥민이 팀에 없는 경우, 투어 주최 측과',\n",
       "   'score': 0.8755427,\n",
       "   'raw_content': None},\n",
       "  {'title': \"'아직 공식 오퍼는 없는데'…현지에서 계속 제기되는 손흥민의 이적설｜스포츠동아\",\n",
       "   'url': 'https://sports.donga.com/sports/article/all/20250618/131828228/1',\n",
       "   'content': '*   [![Image 25: 이세영 비키니 입고 춤 삼매경…반려견 ‘그러려니’ [DA★]](https://dimg.donga.com/a/232/174/95/1/wps/SPORTS/IMAGE/2025/06/18/131835259.1.jpg)](https://sports.donga.com/ent/article/all/20250618/131835270/1)[이세영 비키니 입고 춤 삼매경…반려견 ‘그러려니’ [DA★]](https://sports.donga.com/ent/article/all/20250618/131835270/1) 이수만·바다·유진, 월디페서 얼굴로 뭉쳤다](https://dimg.donga.com/a/232/174/95/1/wps/SPORTS/IMAGE/2025/06/18/131834286.1.jpg)](https://sports.donga.com/ent/article/all/20250618/131834283/1)[[★스느스] S.E.S 재결합 떡밥? *   1[![Image 32: 김혜선, 말벅지+복근…근육질 몸매 대박이야 [DA★]](https://dimg.donga.com/a/72/72/95/1/wps/SPORTS/IMAGE/2025/06/17/131825443.1.jpg)](https://sports.donga.com/ent/article/all/20250617/131825455/1) [김혜선, 말벅지+복근…근육질 몸매 대박이야 [DA★]](https://sports.donga.com/ent/article/all/20250617/131825455/1)    *   2[![Image 33: 황신혜, 나이 잊게 하는 비키니…치명적 존재감 [DA★]](https://dimg.donga.com/a/72/72/95/1/wps/SPORTS/IMAGE/2025/06/17/131827312.1.jpg)](https://sports.donga.com/ent/article/all/20250617/131827314/1) [황신혜, 나이 잊게 하는 비키니…치명적 존재감 [DA★]](https://sports.donga.com/ent/article/all/20250617/131827314/1)    *   3[![Image 34: 한그루, 레깅스 터질라…엉덩이+등근육 ‘탄탄 뒤태’ [DA★]](https://dimg.donga.com/a/72/72/95/1/wps/SPORTS/IMAGE/2025/06/17/131824405.1.jpg)](https://sports.donga.com/ent/article/all/20250617/131824413/1) [한그루, 레깅스 터질라…엉덩이+등근육 ‘탄탄 뒤태’ [DA★]](https://sports.donga.com/ent/article/all/20250617/131824413/1)    *   5[![Image 36: ‘AV 배우 만남’ 주학년 더보이즈 탈퇴, 전속계약도 해지 [공식]](https://dimg.donga.com/a/72/72/95/1/wps/SPORTS/IMAGE/2025/06/18/131833310.1.jpg)](https://sports.donga.com/ent/article/all/20250618/131833311/1) [‘AV 배우 만남’ 주학년 더보이즈 탈퇴, 전속계약도 해지 [공식]](https://sports.donga.com/ent/article/all/20250618/131833311/1)    *   [![Image 38: 40대 전미라, 길쭉 탄탄 비키니…♥윤종신 놀라겠어 [DA★]](https://dimg.donga.com/a/140/140/95/1/wps/SPORTS/IMAGE/2025/06/19/131838286.1.jpg)](https://sports.donga.com/ent/article/all/20250619/131838296/1)[40대 전미라, 길쭉 탄탄 비키니…♥윤종신 놀라겠어 [DA★]](https://sports.donga.com/ent/article/all/20250619/131838296/1) *   [![Image 41: 이세영 비키니 입고 춤 삼매경…반려견 ‘그러려니’ [DA★]](https://dimg.donga.com/a/140/140/95/1/wps/SPORTS/IMAGE/2025/06/18/131835259.1.jpg)](https://sports.donga.com/ent/article/all/20250618/131835270/1)[이세영 비키니 입고 춤 삼매경…반려견 ‘그러려니’ [DA★]](https://sports.donga.com/ent/article/all/20250618/131835270/1)',\n",
       "   'score': 0.7931224,\n",
       "   'raw_content': None},\n",
       "  {'title': '350억 포기하나… 손흥민, 토트넘 유니폼 다시 입었다',\n",
       "   'url': 'https://tenbizt.com/entertainment/article/180971/',\n",
       "   'content': '축구선수 손흥민(토트넘 홋스퍼)의 이적설이 이어지는 가운데, 그가 토트넘 홋스퍼의 새 시즌 유니폼 모델로 나섰다. 지난 3일(현지 시각) 토트넘은 구단 공식 홈페이지와 소셜 미디어 등을 통해 2025-2026시즌 홈 유니폼 사진을 공개했다.',\n",
       "   'score': 0.78493005,\n",
       "   'raw_content': None}],\n",
       " 'response_time': 3.85}"
      ]
     },
     "execution_count": 9,
     "metadata": {},
     "output_type": "execute_result"
    }
   ],
   "source": [
    "print(type(resp))\n",
    "resp"
   ]
  },
  {
   "cell_type": "code",
   "execution_count": 10,
   "metadata": {},
   "outputs": [
    {
     "data": {
      "text/plain": [
       "langchain_tavily.tavily_search.TavilySearch"
      ]
     },
     "execution_count": 10,
     "metadata": {},
     "output_type": "execute_result"
    }
   ],
   "source": [
    "type(tavily_search)"
   ]
  },
  {
   "cell_type": "code",
   "execution_count": 12,
   "metadata": {},
   "outputs": [
    {
     "name": "stdout",
     "output_type": "stream",
     "text": [
      "tool의 이름: tavily_search\n",
      "tool에 대한설명: A search engine optimized for comprehensive, accurate, and trusted results. Useful for when you need to answer questions about current events. It not only retrieves URLs and snippets, but offers advanced search depths, domain management, time range filters, and image search, this tool delivers real-time, accurate, and citation-backed results.Input should be a search query.\n"
     ]
    }
   ],
   "source": [
    "# 툴 정보.\n",
    "print(\"tool의 이름:\", tavily_search.name)\n",
    "print(\"tool에 대한설명:\", tavily_search.description) # tool 의 기능, 역할, 사용법 등에 대한 설명"
   ]
  },
  {
   "cell_type": "code",
   "execution_count": null,
   "metadata": {},
   "outputs": [
    {
     "name": "stdout",
     "output_type": "stream",
     "text": [
      "tool의 스키마(schema):\n"
     ]
    },
    {
     "data": {
      "text/plain": [
       "{'description': 'Input for [TavilySearch]',\n",
       " 'properties': {'query': {'description': 'Search query to look up',\n",
       "   'title': 'Query',\n",
       "   'type': 'string'},\n",
       "  'include_domains': {'anyOf': [{'items': {'type': 'string'}, 'type': 'array'},\n",
       "    {'type': 'null'}],\n",
       "   'default': [],\n",
       "   'description': 'A list of domains to restrict search results to.\\n\\n        Use this parameter when:\\n        1. The user explicitly requests information from specific websites (e.g., \"Find climate data from nasa.gov\")\\n        2. The user mentions an organization or company without specifying the domain (e.g., \"Find information about iPhones from Apple\")\\n\\n        In both cases, you should determine the appropriate domains (e.g., [\"nasa.gov\"] or [\"apple.com\"]) and set this parameter.\\n\\n        Results will ONLY come from the specified domains - no other sources will be included.\\n        Default is None (no domain restriction).\\n        ',\n",
       "   'title': 'Include Domains'},\n",
       "  'exclude_domains': {'anyOf': [{'items': {'type': 'string'}, 'type': 'array'},\n",
       "    {'type': 'null'}],\n",
       "   'default': [],\n",
       "   'description': 'A list of domains to exclude from search results.\\n\\n        Use this parameter when:\\n        1. The user explicitly requests to avoid certain websites (e.g., \"Find information about climate change but not from twitter.com\")\\n        2. The user mentions not wanting results from specific organizations without naming the domain (e.g., \"Find phone reviews but nothing from Apple\")\\n\\n        In both cases, you should determine the appropriate domains to exclude (e.g., [\"twitter.com\"] or [\"apple.com\"]) and set this parameter.\\n\\n        Results will filter out all content from the specified domains.\\n        Default is None (no domain exclusion).\\n        ',\n",
       "   'title': 'Exclude Domains'},\n",
       "  'search_depth': {'anyOf': [{'enum': ['basic', 'advanced'], 'type': 'string'},\n",
       "    {'type': 'null'}],\n",
       "   'default': 'basic',\n",
       "   'description': 'Controls search thoroughness and result comprehensiveness.\\n    \\n        Use \"basic\" for simple queries requiring quick, straightforward answers.\\n        \\n        Use \"advanced\" (default) for complex queries, specialized topics, \\n        rare information, or when in-depth analysis is needed.\\n        ',\n",
       "   'title': 'Search Depth'},\n",
       "  'include_images': {'anyOf': [{'type': 'boolean'}, {'type': 'null'}],\n",
       "   'default': False,\n",
       "   'description': 'Determines if the search returns relevant images along with text results.\\n   \\n        Set to True when the user explicitly requests visuals or when images would \\n        significantly enhance understanding (e.g., \"Show me what black holes look like,\" \\n        \"Find pictures of Renaissance art\").\\n        \\n        Leave as False (default) for most informational queries where text is sufficient.\\n        ',\n",
       "   'title': 'Include Images'},\n",
       "  'time_range': {'anyOf': [{'enum': ['day', 'week', 'month', 'year'],\n",
       "     'type': 'string'},\n",
       "    {'type': 'null'}],\n",
       "   'default': None,\n",
       "   'description': 'Limits results to content published within a specific timeframe.\\n        \\n        ONLY set this when the user explicitly mentions a time period \\n        (e.g., \"latest AI news,\" \"articles from last week\").\\n        \\n        For less popular or niche topics, use broader time ranges \\n        (\"month\" or \"year\") to ensure sufficient relevant results.\\n   \\n        Options: \"day\" (24h), \"week\" (7d), \"month\" (30d), \"year\" (365d).\\n        \\n        Default is None.\\n        ',\n",
       "   'title': 'Time Range'},\n",
       "  'topic': {'anyOf': [{'enum': ['general', 'news', 'finance'],\n",
       "     'type': 'string'},\n",
       "    {'type': 'null'}],\n",
       "   'default': 'general',\n",
       "   'description': 'Specifies search category for optimized results.\\n   \\n        Use \"general\" (default) for most queries, INCLUDING those with terms like \\n        \"latest,\" \"newest,\" or \"recent\" when referring to general information.\\n\\n        Use \"finance\" for markets, investments, economic data, or financial news.\\n\\n        Use \"news\" ONLY for politics, sports, or major current events covered by \\n        mainstream media - NOT simply because a query asks for \"new\" information.\\n        ',\n",
       "   'title': 'Topic'}},\n",
       " 'required': ['query'],\n",
       " 'title': 'TavilySearchInput',\n",
       " 'type': 'object'}"
      ]
     },
     "execution_count": 13,
     "metadata": {},
     "output_type": "execute_result"
    }
   ],
   "source": [
    "print(\"tool의 스키마(schema):\") # tool의 구조에 대한 설계도.\n",
    "tavily_search.args_schema.model_json_schema()\n",
    "# \"properties\" -> 툴을 호출할때 전달해야하는 값들."
   ]
  },
  {
   "cell_type": "code",
   "execution_count": null,
   "metadata": {},
   "outputs": [],
   "source": []
  },
  {
   "cell_type": "markdown",
   "metadata": {},
   "source": [
    "## LLM tool callings\n",
    "\n",
    "### 작동 원리\n",
    "\n",
    "![toolcalling_concept](figures/toolcalling_concept.png)\n",
    "1. Tool 생성\n",
    "2. 생성한 Tool을 tool calling을 지원하는 LLM 모델에 연결(binding)\n",
    "   - LLM 이 사용할 수있는 tool들을 등록(bind) 한다.\n",
    "    - **`Model.bind([tool_1, tool_2, ...]): RunnableBinding`**\n",
    "    - Model에 tool을 bind 하면 `Runnable` 타입의 `RunnableBinding` 객체가 반환된다.\n",
    "3. 질의가 들어오면 모델(LLM + tool) 은 tool calling 정보(어떤 툴을 어떤 query로 호출할지 schema 에 맞게 만든 정보)를 응답.\n",
    "    - 질의에 대해 tool 요청이 **필요하다고** 결정한 경우 tool들 중 어떤 tool을 어떤 query로 호출해야 하는지를 응답한다.\n",
    "    - 질의에 대해 tool 요청이 **필요 없다고** 결정한 경우는 LLM API를 호출한다.(모델이 직접 응답)\n",
    "5. 3에서 응답한 tool calling 정보를 이용해 tool 호출"
   ]
  },
  {
   "cell_type": "markdown",
   "metadata": {},
   "source": [
    "### LLM Model에 tool binding\n",
    "- `LLM.bind_tools(tools=[tool_1, tool_2, ...])`"
   ]
  },
  {
   "cell_type": "code",
   "execution_count": 14,
   "metadata": {},
   "outputs": [
    {
     "data": {
      "text/plain": [
       "(langchain_openai.chat_models.base.ChatOpenAI,\n",
       " langchain_core.runnables.base.RunnableBinding)"
      ]
     },
     "execution_count": 14,
     "metadata": {},
     "output_type": "execute_result"
    }
   ],
   "source": [
    "from langchain_openai import ChatOpenAI\n",
    "\n",
    "model = ChatOpenAI(model=\"gpt-4.1-mini\")\n",
    "# model에 tool(들)을 binding(붙여주기.)\n",
    "tool_model = model.bind_tools(tools=[tavily_search])\n",
    "type(model), type(tool_model)"
   ]
  },
  {
   "cell_type": "code",
   "execution_count": 15,
   "metadata": {},
   "outputs": [],
   "source": [
    "# 툴이 필요없는 query\n",
    "resp1 = tool_model.invoke(\"안녕하세요.\")"
   ]
  },
  {
   "cell_type": "code",
   "execution_count": 18,
   "metadata": {},
   "outputs": [
    {
     "name": "stdout",
     "output_type": "stream",
     "text": [
      "AI 응답 content: 안녕하세요! 무엇을 도와드릴까요?\n",
      "AI tool 호출 정보: []\n"
     ]
    }
   ],
   "source": [
    "resp1\n",
    "print(\"AI 응답 content:\", resp1.content)\n",
    "print(\"AI tool 호출 정보:\", resp1.tool_calls)\n",
    "# RunnableBinding(model+tool들)의 응답에는 tool을 호출하는 방법을 리스트에 담어서 반환.(속성: tool_calls)"
   ]
  },
  {
   "cell_type": "code",
   "execution_count": 27,
   "metadata": {},
   "outputs": [],
   "source": [
    "# 툴 호출(tool calling) 이 필요한 요청\n",
    "# query = \"2025-2026 시즌 손흥민 이적설에 대해 정리해줘.\"\n",
    "query = \"2025-2026 시즌 손흥민, 김민재, 이강인 이적설에 대해 정리해줘.\"\n",
    "resp2 = tool_model.invoke(query)"
   ]
  },
  {
   "cell_type": "code",
   "execution_count": 30,
   "metadata": {},
   "outputs": [
    {
     "name": "stdout",
     "output_type": "stream",
     "text": [
      "\n",
      "------------------\n"
     ]
    },
    {
     "data": {
      "text/plain": [
       "[{'name': 'tavily_search',\n",
       "  'args': {'query': '2025-2026 시즌 손흥민 이적설', 'time_range': 'year'},\n",
       "  'id': 'call_Wb8zukqEq6UhvbtZxiKqLvAF',\n",
       "  'type': 'tool_call'},\n",
       " {'name': 'tavily_search',\n",
       "  'args': {'query': '2025-2026 시즌 김민재 이적설', 'time_range': 'year'},\n",
       "  'id': 'call_zX70BpT6EG3iIOVX06fxOi4I',\n",
       "  'type': 'tool_call'},\n",
       " {'name': 'tavily_search',\n",
       "  'args': {'query': '2025-2026 시즌 이강인 이적설', 'time_range': 'year'},\n",
       "  'id': 'call_mz5HU1gtlTIEf57dvFC4tc60',\n",
       "  'type': 'tool_call'}]"
      ]
     },
     "execution_count": 30,
     "metadata": {},
     "output_type": "execute_result"
    }
   ],
   "source": [
    "print(resp2.content)\n",
    "print(\"------------------\")\n",
    "resp2.tool_calls"
   ]
  },
  {
   "cell_type": "markdown",
   "metadata": {},
   "source": [
    "## tool_calls 를 이용해 Tool 호출\n",
    "- LLM 모델이 tool 요청을 결정한 경우 어떤 tool을 어떻게 호출할 지 tool_calls를 반환한다.\n",
    "- tool_calls를 이용해 Tool을 호출한다.\n",
    "\n",
    "### 방법\n",
    "1. `tool_calls` 의 `args` 값을 전달.\n",
    "   - `args`는 tool을 호출(invoke)할 때 전달할 정보를 dictionary로 제공한다.\n",
    "   - `tool.invoke(result.tool_calls[0]['args'])`\n",
    "   - **반환타입**: 각 tool의 반환타입\n",
    "2. tool_calls 정보를 넣어 호출\n",
    "   - `tool.invoke(result.tool_calls[0])`\n",
    "   - **반환타입**: `ToolMessage`\n",
    "     - Tool의 처리결과를 담는 Message Type 이다."
   ]
  },
  {
   "cell_type": "markdown",
   "metadata": {},
   "source": [
    "#### tool_calls의 args를 이용해 호출"
   ]
  },
  {
   "cell_type": "code",
   "execution_count": 36,
   "metadata": {},
   "outputs": [],
   "source": [
    "# tool객체.invoke(args)\n",
    "search_result = tavily_search.invoke(resp2.tool_calls[0]['args'])"
   ]
  },
  {
   "cell_type": "code",
   "execution_count": 41,
   "metadata": {},
   "outputs": [
    {
     "data": {
      "text/plain": [
       "{'query': '2025-2026 시즌 손흥민 이적설',\n",
       " 'follow_up_questions': None,\n",
       " 'answer': None,\n",
       " 'images': ['https://thumbnews.nateimg.co.kr/view610/news.nateimg.co.kr/orgImg/kz/2024/11/16/news-p.v1.20240926.ad0cd8c9c02e4b35aa4c0c3b7b0c3735_P1.png',\n",
       "  'https://fo-newscenter.s3.ap-northeast-2.amazonaws.com/sportal-korea/extract/2024/12/24/SK007_20241224_020101.jpg',\n",
       "  'https://img6.yna.co.kr/photo/etc/af/2025/01/04/PAF20250104194501009_P4.jpg',\n",
       "  'https://img-s-msn-com.akamaized.net/tenant/amp/entityid/AA1udLWy.img?w=650&h=453&m=4&q=79',\n",
       "  'https://cdn.gukjenews.com/news/photo/202412/3167631_3270803_1944.jpg'],\n",
       " 'results': [{'title': \"지금 장난하나…'사우디 이적설' 손흥민, 다음 시즌 토트넘 베스트 11 제외 '충격' < Pl < 해외축구 < 축구 < 기사본문 ...\",\n",
       "   'url': 'https://www.sportalkorea.com/news/articleView.html?idxno=2025052909552362169',\n",
       "   'content': \"손흥민은 영국 매체 '더 스퍼스 웹'이 29일 공개한 2025/26시즌 토트넘 베스트 11에서도 자취를 감춰 화제가 됐다. 매체는 에베레치 에제 (크리스털 팰리스)가 손흥민의 빈자리를 메울 것이라고 내다봤다. 포메이션은 4-2-3-1이다.\",\n",
       "   'score': 0.7927375,\n",
       "   'raw_content': None},\n",
       "  {'title': \"'아직 공식 오퍼는 없는데'…현지에서 계속 제기되는 손흥민의 이적설｜스포츠동아\",\n",
       "   'url': 'https://sports.donga.com/sports/article/all/20250618/131828228/1',\n",
       "   'content': '*   [![Image 25: 이세영 비키니 입고 춤 삼매경…반려견 ‘그러려니’ [DA★]](https://dimg.donga.com/a/232/174/95/1/wps/SPORTS/IMAGE/2025/06/18/131835259.1.jpg)](https://sports.donga.com/ent/article/all/20250618/131835270/1)[이세영 비키니 입고 춤 삼매경…반려견 ‘그러려니’ [DA★]](https://sports.donga.com/ent/article/all/20250618/131835270/1) 이수만·바다·유진, 월디페서 얼굴로 뭉쳤다](https://dimg.donga.com/a/232/174/95/1/wps/SPORTS/IMAGE/2025/06/18/131834286.1.jpg)](https://sports.donga.com/ent/article/all/20250618/131834283/1)[[★스느스] S.E.S 재결합 떡밥? *   1[![Image 32: 김혜선, 말벅지+복근…근육질 몸매 대박이야 [DA★]](https://dimg.donga.com/a/72/72/95/1/wps/SPORTS/IMAGE/2025/06/17/131825443.1.jpg)](https://sports.donga.com/ent/article/all/20250617/131825455/1) [김혜선, 말벅지+복근…근육질 몸매 대박이야 [DA★]](https://sports.donga.com/ent/article/all/20250617/131825455/1)    *   2[![Image 33: 황신혜, 나이 잊게 하는 비키니…치명적 존재감 [DA★]](https://dimg.donga.com/a/72/72/95/1/wps/SPORTS/IMAGE/2025/06/17/131827312.1.jpg)](https://sports.donga.com/ent/article/all/20250617/131827314/1) [황신혜, 나이 잊게 하는 비키니…치명적 존재감 [DA★]](https://sports.donga.com/ent/article/all/20250617/131827314/1)    *   3[![Image 34: 한그루, 레깅스 터질라…엉덩이+등근육 ‘탄탄 뒤태’ [DA★]](https://dimg.donga.com/a/72/72/95/1/wps/SPORTS/IMAGE/2025/06/17/131824405.1.jpg)](https://sports.donga.com/ent/article/all/20250617/131824413/1) [한그루, 레깅스 터질라…엉덩이+등근육 ‘탄탄 뒤태’ [DA★]](https://sports.donga.com/ent/article/all/20250617/131824413/1)    *   5[![Image 36: ‘AV 배우 만남’ 주학년 더보이즈 탈퇴, 전속계약도 해지 [공식]](https://dimg.donga.com/a/72/72/95/1/wps/SPORTS/IMAGE/2025/06/18/131833310.1.jpg)](https://sports.donga.com/ent/article/all/20250618/131833311/1) [‘AV 배우 만남’ 주학년 더보이즈 탈퇴, 전속계약도 해지 [공식]](https://sports.donga.com/ent/article/all/20250618/131833311/1)    *   [![Image 38: 40대 전미라, 길쭉 탄탄 비키니…♥윤종신 놀라겠어 [DA★]](https://dimg.donga.com/a/140/140/95/1/wps/SPORTS/IMAGE/2025/06/19/131838286.1.jpg)](https://sports.donga.com/ent/article/all/20250619/131838296/1)[40대 전미라, 길쭉 탄탄 비키니…♥윤종신 놀라겠어 [DA★]](https://sports.donga.com/ent/article/all/20250619/131838296/1) *   [![Image 41: 이세영 비키니 입고 춤 삼매경…반려견 ‘그러려니’ [DA★]](https://dimg.donga.com/a/140/140/95/1/wps/SPORTS/IMAGE/2025/06/18/131835259.1.jpg)](https://sports.donga.com/ent/article/all/20250618/131835270/1)[이세영 비키니 입고 춤 삼매경…반려견 ‘그러려니’ [DA★]](https://sports.donga.com/ent/article/all/20250618/131835270/1)',\n",
       "   'score': 0.7890553,\n",
       "   'raw_content': None},\n",
       "  {'title': \"손흥민 이적설 데드라인 나왔다…'아시아 투어' 이후 결정 :: 공감언론 뉴시스\",\n",
       "   'url': 'https://www.newsis.com/view/NISX20250618_0003217259',\n",
       "   'content': '![[서울=뉴시스] 홍효식 기자 = 지난해 7월31일 서울 마포구 서울월드컵경기장에서 열린 쿠팡플레이 시리즈 1차전 팀 K리그와 토트넘 홋스퍼의 경기를 마친 토트넘 손흥민이 관중들에게 인사하고 있다. [서울=뉴시스] 홍효식 기자 = 지난해 7월31일 서울 마포구 서울월드컵경기장에서 열린 쿠팡플레이 시리즈 1차전 팀 K리그와 토트넘 홋스퍼의 경기를 마친 토트넘 손흥민이 관중들에게 인사하고 있다. ![[서울=뉴시스] 황준선 기자 = 지난해 8월3일 오후 서울 마포구 서울월드컵경기장에서 열린 쿠팡플레이 시리즈 2경기 토트넘 홋스퍼와 FC바이에른 뮌헨의 경기, 토트넘 손흥민이 경기가 끝난 뒤 관중들에게 인사하고 있다. [서울=뉴시스] 황준선 기자 = 지난해 8월3일 오후 서울 마포구 서울월드컵경기장에서 열린 쿠팡플레이 시리즈 2경기 토트넘 홋스퍼와 FC바이에른 뮌헨의 경기, 토트넘 손흥민이 경기가 끝난 뒤 관중들에게 인사하고 있다. [서울=뉴시스] 황준선 기자 = 지난해 8월3일 오후 서울 마포구 서울월드컵경기장에서 열린 쿠팡플레이 시리즈 2경기 토트넘 홋스퍼와 FC바이에른 뮌헨의 경기, 토트넘 손흥민이 경기가 끝난 뒤 관중들에게 인사하고 있다.',\n",
       "   'score': 0.4430467,\n",
       "   'raw_content': None}],\n",
       " 'response_time': 6.97}"
      ]
     },
     "execution_count": 41,
     "metadata": {},
     "output_type": "execute_result"
    }
   ],
   "source": [
    "type(search_result)\n",
    "search_result"
   ]
  },
  {
   "cell_type": "markdown",
   "metadata": {},
   "source": [
    "#### tool_call 정보를 넣어 Tool 호출"
   ]
  },
  {
   "cell_type": "code",
   "execution_count": 44,
   "metadata": {},
   "outputs": [],
   "source": [
    "resp2.tool_calls[0]\n",
    "search_result2 = tavily_search.invoke(resp2.tool_calls[0])"
   ]
  },
  {
   "cell_type": "code",
   "execution_count": 45,
   "metadata": {},
   "outputs": [
    {
     "data": {
      "text/plain": [
       "langchain_core.messages.tool.ToolMessage"
      ]
     },
     "execution_count": 45,
     "metadata": {},
     "output_type": "execute_result"
    }
   ],
   "source": [
    "type(search_result2)"
   ]
  },
  {
   "cell_type": "code",
   "execution_count": null,
   "metadata": {},
   "outputs": [
    {
     "data": {
      "text/plain": [
       "ToolMessage(content='{\"query\": \"2025-2026 시즌 손흥민 이적설\", \"follow_up_questions\": null, \"answer\": null, \"images\": [\"https://thumbnews.nateimg.co.kr/view610/news.nateimg.co.kr/orgImg/kz/2024/11/16/news-p.v1.20240926.ad0cd8c9c02e4b35aa4c0c3b7b0c3735_P1.png\", \"https://fo-newscenter.s3.ap-northeast-2.amazonaws.com/sportal-korea/extract/2024/12/24/SK007_20241224_020101.jpg\", \"https://img6.yna.co.kr/photo/etc/af/2025/01/04/PAF20250104194501009_P4.jpg\", \"https://img-s-msn-com.akamaized.net/tenant/amp/entityid/AA1udLWy.img?w=650&h=453&m=4&q=79\", \"https://cdn.gukjenews.com/news/photo/202412/3167631_3270803_1944.jpg\"], \"results\": [{\"title\": \"지금 장난하나…\\'사우디 이적설\\' 손흥민, 다음 시즌 토트넘 베스트 11 제외 \\'충격\\' < Pl < 해외축구 < 축구 < 기사본문 ...\", \"url\": \"https://www.sportalkorea.com/news/articleView.html?idxno=2025052909552362169\", \"content\": \"손흥민은 영국 매체 \\'더 스퍼스 웹\\'이 29일 공개한 2025/26시즌 토트넘 베스트 11에서도 자취를 감춰 화제가 됐다. 매체는 에베레치 에제 (크리스털 팰리스)가 손흥민의 빈자리를 메울 것이라고 내다봤다. 포메이션은 4-2-3-1이다.\", \"score\": 0.7927375, \"raw_content\": null}, {\"title\": \"\\'아직 공식 오퍼는 없는데\\'…현지에서 계속 제기되는 손흥민의 이적설｜스포츠동아\", \"url\": \"https://sports.donga.com/sports/article/all/20250618/131828228/1\", \"content\": \"*   [![Image 25: 이세영 비키니 입고 춤 삼매경…반려견 ‘그러려니’ [DA★]](https://dimg.donga.com/a/232/174/95/1/wps/SPORTS/IMAGE/2025/06/18/131835259.1.jpg)](https://sports.donga.com/ent/article/all/20250618/131835270/1)[이세영 비키니 입고 춤 삼매경…반려견 ‘그러려니’ [DA★]](https://sports.donga.com/ent/article/all/20250618/131835270/1) 이수만·바다·유진, 월디페서 얼굴로 뭉쳤다](https://dimg.donga.com/a/232/174/95/1/wps/SPORTS/IMAGE/2025/06/18/131834286.1.jpg)](https://sports.donga.com/ent/article/all/20250618/131834283/1)[[★스느스] S.E.S 재결합 떡밥? *   1[![Image 32: 김혜선, 말벅지+복근…근육질 몸매 대박이야 [DA★]](https://dimg.donga.com/a/72/72/95/1/wps/SPORTS/IMAGE/2025/06/17/131825443.1.jpg)](https://sports.donga.com/ent/article/all/20250617/131825455/1) [김혜선, 말벅지+복근…근육질 몸매 대박이야 [DA★]](https://sports.donga.com/ent/article/all/20250617/131825455/1)    *   2[![Image 33: 황신혜, 나이 잊게 하는 비키니…치명적 존재감 [DA★]](https://dimg.donga.com/a/72/72/95/1/wps/SPORTS/IMAGE/2025/06/17/131827312.1.jpg)](https://sports.donga.com/ent/article/all/20250617/131827314/1) [황신혜, 나이 잊게 하는 비키니…치명적 존재감 [DA★]](https://sports.donga.com/ent/article/all/20250617/131827314/1)    *   3[![Image 34: 한그루, 레깅스 터질라…엉덩이+등근육 ‘탄탄 뒤태’ [DA★]](https://dimg.donga.com/a/72/72/95/1/wps/SPORTS/IMAGE/2025/06/17/131824405.1.jpg)](https://sports.donga.com/ent/article/all/20250617/131824413/1) [한그루, 레깅스 터질라…엉덩이+등근육 ‘탄탄 뒤태’ [DA★]](https://sports.donga.com/ent/article/all/20250617/131824413/1)    *   5[![Image 36: ‘AV 배우 만남’ 주학년 더보이즈 탈퇴, 전속계약도 해지 [공식]](https://dimg.donga.com/a/72/72/95/1/wps/SPORTS/IMAGE/2025/06/18/131833310.1.jpg)](https://sports.donga.com/ent/article/all/20250618/131833311/1) [‘AV 배우 만남’ 주학년 더보이즈 탈퇴, 전속계약도 해지 [공식]](https://sports.donga.com/ent/article/all/20250618/131833311/1)    *   [![Image 38: 40대 전미라, 길쭉 탄탄 비키니…♥윤종신 놀라겠어 [DA★]](https://dimg.donga.com/a/140/140/95/1/wps/SPORTS/IMAGE/2025/06/19/131838286.1.jpg)](https://sports.donga.com/ent/article/all/20250619/131838296/1)[40대 전미라, 길쭉 탄탄 비키니…♥윤종신 놀라겠어 [DA★]](https://sports.donga.com/ent/article/all/20250619/131838296/1) *   [![Image 41: 이세영 비키니 입고 춤 삼매경…반려견 ‘그러려니’ [DA★]](https://dimg.donga.com/a/140/140/95/1/wps/SPORTS/IMAGE/2025/06/18/131835259.1.jpg)](https://sports.donga.com/ent/article/all/20250618/131835270/1)[이세영 비키니 입고 춤 삼매경…반려견 ‘그러려니’ [DA★]](https://sports.donga.com/ent/article/all/20250618/131835270/1)\", \"score\": 0.7890553, \"raw_content\": null}, {\"title\": \"손흥민 이적설 데드라인 나왔다…\\'아시아 투어\\' 이후 결정 :: 공감언론 뉴시스\", \"url\": \"https://www.newsis.com/view/NISX20250618_0003217259\", \"content\": \"![[서울=뉴시스] 홍효식 기자 = 지난해 7월31일 서울 마포구 서울월드컵경기장에서 열린 쿠팡플레이 시리즈 1차전 팀 K리그와 토트넘 홋스퍼의 경기를 마친 토트넘 손흥민이 관중들에게 인사하고 있다. [서울=뉴시스] 홍효식 기자 = 지난해 7월31일 서울 마포구 서울월드컵경기장에서 열린 쿠팡플레이 시리즈 1차전 팀 K리그와 토트넘 홋스퍼의 경기를 마친 토트넘 손흥민이 관중들에게 인사하고 있다. ![[서울=뉴시스] 황준선 기자 = 지난해 8월3일 오후 서울 마포구 서울월드컵경기장에서 열린 쿠팡플레이 시리즈 2경기 토트넘 홋스퍼와 FC바이에른 뮌헨의 경기, 토트넘 손흥민이 경기가 끝난 뒤 관중들에게 인사하고 있다. [서울=뉴시스] 황준선 기자 = 지난해 8월3일 오후 서울 마포구 서울월드컵경기장에서 열린 쿠팡플레이 시리즈 2경기 토트넘 홋스퍼와 FC바이에른 뮌헨의 경기, 토트넘 손흥민이 경기가 끝난 뒤 관중들에게 인사하고 있다. [서울=뉴시스] 황준선 기자 = 지난해 8월3일 오후 서울 마포구 서울월드컵경기장에서 열린 쿠팡플레이 시리즈 2경기 토트넘 홋스퍼와 FC바이에른 뮌헨의 경기, 토트넘 손흥민이 경기가 끝난 뒤 관중들에게 인사하고 있다.\", \"score\": 0.4430467, \"raw_content\": null}], \"response_time\": 1.32}', name='tavily_search', tool_call_id='call_Wb8zukqEq6UhvbtZxiKqLvAF')"
      ]
     },
     "execution_count": 46,
     "metadata": {},
     "output_type": "execute_result"
    }
   ],
   "source": [
    "search_result2\n",
    "# tool이 리턴한 값을 str을 변환해서 content속성으로 제공."
   ]
  },
  {
   "cell_type": "code",
   "execution_count": 48,
   "metadata": {},
   "outputs": [
    {
     "data": {
      "text/plain": [
       "str"
      ]
     },
     "execution_count": 48,
     "metadata": {},
     "output_type": "execute_result"
    }
   ],
   "source": [
    "type(search_result2.content)"
   ]
  },
  {
   "cell_type": "code",
   "execution_count": null,
   "metadata": {},
   "outputs": [
    {
     "data": {
      "text/plain": [
       "{'content': '{\"query\": \"2025-2026 시즌 손흥민 이적설\", \"follow_up_questions\": null, \"answer\": null, \"images\": [\"https://thumbnews.nateimg.co.kr/view610/news.nateimg.co.kr/orgImg/kz/2024/11/16/news-p.v1.20240926.ad0cd8c9c02e4b35aa4c0c3b7b0c3735_P1.png\", \"https://fo-newscenter.s3.ap-northeast-2.amazonaws.com/sportal-korea/extract/2024/12/24/SK007_20241224_020101.jpg\", \"https://img6.yna.co.kr/photo/etc/af/2025/01/04/PAF20250104194501009_P4.jpg\", \"https://img-s-msn-com.akamaized.net/tenant/amp/entityid/AA1udLWy.img?w=650&h=453&m=4&q=79\", \"https://cdn.gukjenews.com/news/photo/202412/3167631_3270803_1944.jpg\"], \"results\": [{\"title\": \"지금 장난하나…\\'사우디 이적설\\' 손흥민, 다음 시즌 토트넘 베스트 11 제외 \\'충격\\' < Pl < 해외축구 < 축구 < 기사본문 ...\", \"url\": \"https://www.sportalkorea.com/news/articleView.html?idxno=2025052909552362169\", \"content\": \"손흥민은 영국 매체 \\'더 스퍼스 웹\\'이 29일 공개한 2025/26시즌 토트넘 베스트 11에서도 자취를 감춰 화제가 됐다. 매체는 에베레치 에제 (크리스털 팰리스)가 손흥민의 빈자리를 메울 것이라고 내다봤다. 포메이션은 4-2-3-1이다.\", \"score\": 0.7927375, \"raw_content\": null}, {\"title\": \"\\'아직 공식 오퍼는 없는데\\'…현지에서 계속 제기되는 손흥민의 이적설｜스포츠동아\", \"url\": \"https://sports.donga.com/sports/article/all/20250618/131828228/1\", \"content\": \"*   [![Image 25: 이세영 비키니 입고 춤 삼매경…반려견 ‘그러려니’ [DA★]](https://dimg.donga.com/a/232/174/95/1/wps/SPORTS/IMAGE/2025/06/18/131835259.1.jpg)](https://sports.donga.com/ent/article/all/20250618/131835270/1)[이세영 비키니 입고 춤 삼매경…반려견 ‘그러려니’ [DA★]](https://sports.donga.com/ent/article/all/20250618/131835270/1) 이수만·바다·유진, 월디페서 얼굴로 뭉쳤다](https://dimg.donga.com/a/232/174/95/1/wps/SPORTS/IMAGE/2025/06/18/131834286.1.jpg)](https://sports.donga.com/ent/article/all/20250618/131834283/1)[[★스느스] S.E.S 재결합 떡밥? *   1[![Image 32: 김혜선, 말벅지+복근…근육질 몸매 대박이야 [DA★]](https://dimg.donga.com/a/72/72/95/1/wps/SPORTS/IMAGE/2025/06/17/131825443.1.jpg)](https://sports.donga.com/ent/article/all/20250617/131825455/1) [김혜선, 말벅지+복근…근육질 몸매 대박이야 [DA★]](https://sports.donga.com/ent/article/all/20250617/131825455/1)    *   2[![Image 33: 황신혜, 나이 잊게 하는 비키니…치명적 존재감 [DA★]](https://dimg.donga.com/a/72/72/95/1/wps/SPORTS/IMAGE/2025/06/17/131827312.1.jpg)](https://sports.donga.com/ent/article/all/20250617/131827314/1) [황신혜, 나이 잊게 하는 비키니…치명적 존재감 [DA★]](https://sports.donga.com/ent/article/all/20250617/131827314/1)    *   3[![Image 34: 한그루, 레깅스 터질라…엉덩이+등근육 ‘탄탄 뒤태’ [DA★]](https://dimg.donga.com/a/72/72/95/1/wps/SPORTS/IMAGE/2025/06/17/131824405.1.jpg)](https://sports.donga.com/ent/article/all/20250617/131824413/1) [한그루, 레깅스 터질라…엉덩이+등근육 ‘탄탄 뒤태’ [DA★]](https://sports.donga.com/ent/article/all/20250617/131824413/1)    *   5[![Image 36: ‘AV 배우 만남’ 주학년 더보이즈 탈퇴, 전속계약도 해지 [공식]](https://dimg.donga.com/a/72/72/95/1/wps/SPORTS/IMAGE/2025/06/18/131833310.1.jpg)](https://sports.donga.com/ent/article/all/20250618/131833311/1) [‘AV 배우 만남’ 주학년 더보이즈 탈퇴, 전속계약도 해지 [공식]](https://sports.donga.com/ent/article/all/20250618/131833311/1)    *   [![Image 38: 40대 전미라, 길쭉 탄탄 비키니…♥윤종신 놀라겠어 [DA★]](https://dimg.donga.com/a/140/140/95/1/wps/SPORTS/IMAGE/2025/06/19/131838286.1.jpg)](https://sports.donga.com/ent/article/all/20250619/131838296/1)[40대 전미라, 길쭉 탄탄 비키니…♥윤종신 놀라겠어 [DA★]](https://sports.donga.com/ent/article/all/20250619/131838296/1) *   [![Image 41: 이세영 비키니 입고 춤 삼매경…반려견 ‘그러려니’ [DA★]](https://dimg.donga.com/a/140/140/95/1/wps/SPORTS/IMAGE/2025/06/18/131835259.1.jpg)](https://sports.donga.com/ent/article/all/20250618/131835270/1)[이세영 비키니 입고 춤 삼매경…반려견 ‘그러려니’ [DA★]](https://sports.donga.com/ent/article/all/20250618/131835270/1)\", \"score\": 0.7890553, \"raw_content\": null}, {\"title\": \"손흥민 이적설 데드라인 나왔다…\\'아시아 투어\\' 이후 결정 :: 공감언론 뉴시스\", \"url\": \"https://www.newsis.com/view/NISX20250618_0003217259\", \"content\": \"![[서울=뉴시스] 홍효식 기자 = 지난해 7월31일 서울 마포구 서울월드컵경기장에서 열린 쿠팡플레이 시리즈 1차전 팀 K리그와 토트넘 홋스퍼의 경기를 마친 토트넘 손흥민이 관중들에게 인사하고 있다. [서울=뉴시스] 홍효식 기자 = 지난해 7월31일 서울 마포구 서울월드컵경기장에서 열린 쿠팡플레이 시리즈 1차전 팀 K리그와 토트넘 홋스퍼의 경기를 마친 토트넘 손흥민이 관중들에게 인사하고 있다. ![[서울=뉴시스] 황준선 기자 = 지난해 8월3일 오후 서울 마포구 서울월드컵경기장에서 열린 쿠팡플레이 시리즈 2경기 토트넘 홋스퍼와 FC바이에른 뮌헨의 경기, 토트넘 손흥민이 경기가 끝난 뒤 관중들에게 인사하고 있다. [서울=뉴시스] 황준선 기자 = 지난해 8월3일 오후 서울 마포구 서울월드컵경기장에서 열린 쿠팡플레이 시리즈 2경기 토트넘 홋스퍼와 FC바이에른 뮌헨의 경기, 토트넘 손흥민이 경기가 끝난 뒤 관중들에게 인사하고 있다. [서울=뉴시스] 황준선 기자 = 지난해 8월3일 오후 서울 마포구 서울월드컵경기장에서 열린 쿠팡플레이 시리즈 2경기 토트넘 홋스퍼와 FC바이에른 뮌헨의 경기, 토트넘 손흥민이 경기가 끝난 뒤 관중들에게 인사하고 있다.\", \"score\": 0.4430467, \"raw_content\": null}], \"response_time\": 1.32}',\n",
       " 'additional_kwargs': {},\n",
       " 'response_metadata': {},\n",
       " 'type': 'tool',\n",
       " 'name': 'tavily_search',\n",
       " 'id': None,\n",
       " 'tool_call_id': 'call_Wb8zukqEq6UhvbtZxiKqLvAF',\n",
       " 'artifact': None,\n",
       " 'status': 'success'}"
      ]
     },
     "execution_count": 50,
     "metadata": {},
     "output_type": "execute_result"
    }
   ],
   "source": [
    "vars(search_result2)\n",
    "# 객체 -> dictionary (instance변수-키 : 변수값 -value)"
   ]
  },
  {
   "cell_type": "markdown",
   "metadata": {},
   "source": [
    "#### tool_call 이 여러개일 경우 \n",
    "- 질의에 대해 tool을 여러번 호출 해야 하는 경우 tool_calling 정보를 여러개 반환할 수 있다.\n",
    "    - 예) 검색할 키워드가 여러개인 경우. \n",
    "- `tool.batch([tool_call1, tool_call2, ..])`"
   ]
  },
  {
   "cell_type": "code",
   "execution_count": 52,
   "metadata": {},
   "outputs": [],
   "source": [
    "# Runnable을 한번에 여러번 호출할 때\n",
    "## Runnable.batch([전달할값1, 전달할값2, .....]) : [결과값1, 결과값2, ..]\n",
    "resp = model.batch([\"안녕하세요\", \n",
    "                    \"LLM에 대해서 20글자로 설명해줘.\", \n",
    "                    \"손흥민 이적설을 20글자로 설명해줘.\"])"
   ]
  },
  {
   "cell_type": "code",
   "execution_count": 53,
   "metadata": {},
   "outputs": [
    {
     "data": {
      "text/plain": [
       "[AIMessage(content='안녕하세요! 무엇을 도와드릴까요?', additional_kwargs={'refusal': None}, response_metadata={'token_usage': {'completion_tokens': 11, 'prompt_tokens': 9, 'total_tokens': 20, 'completion_tokens_details': {'accepted_prediction_tokens': 0, 'audio_tokens': 0, 'reasoning_tokens': 0, 'rejected_prediction_tokens': 0}, 'prompt_tokens_details': {'audio_tokens': 0, 'cached_tokens': 0}}, 'model_name': 'gpt-4.1-mini-2025-04-14', 'system_fingerprint': 'fp_658b958c37', 'id': 'chatcmpl-Bk0J9w0d2QWah1pJUID96aJ2hfFF4', 'service_tier': 'default', 'finish_reason': 'stop', 'logprobs': None}, id='run--5e6597ff-dd22-443a-a073-25e397f718d6-0', usage_metadata={'input_tokens': 9, 'output_tokens': 11, 'total_tokens': 20, 'input_token_details': {'audio': 0, 'cache_read': 0}, 'output_token_details': {'audio': 0, 'reasoning': 0}}),\n",
       " AIMessage(content='대규모 언어 모델, 텍스트 생성 AI.', additional_kwargs={'refusal': None}, response_metadata={'token_usage': {'completion_tokens': 13, 'prompt_tokens': 19, 'total_tokens': 32, 'completion_tokens_details': {'accepted_prediction_tokens': 0, 'audio_tokens': 0, 'reasoning_tokens': 0, 'rejected_prediction_tokens': 0}, 'prompt_tokens_details': {'audio_tokens': 0, 'cached_tokens': 0}}, 'model_name': 'gpt-4.1-mini-2025-04-14', 'system_fingerprint': 'fp_6f2eabb9a5', 'id': 'chatcmpl-Bk0J9vJt8QKPkhCbLtk5PnX7nbrxr', 'service_tier': 'default', 'finish_reason': 'stop', 'logprobs': None}, id='run--cf3f3286-ae91-47db-9caf-24e57889467e-0', usage_metadata={'input_tokens': 19, 'output_tokens': 13, 'total_tokens': 32, 'input_token_details': {'audio': 0, 'cache_read': 0}, 'output_token_details': {'audio': 0, 'reasoning': 0}}),\n",
       " AIMessage(content='손흥민, 해외 빅클럽 이적설 계속 불거져.', additional_kwargs={'refusal': None}, response_metadata={'token_usage': {'completion_tokens': 17, 'prompt_tokens': 22, 'total_tokens': 39, 'completion_tokens_details': {'accepted_prediction_tokens': 0, 'audio_tokens': 0, 'reasoning_tokens': 0, 'rejected_prediction_tokens': 0}, 'prompt_tokens_details': {'audio_tokens': 0, 'cached_tokens': 0}}, 'model_name': 'gpt-4.1-mini-2025-04-14', 'system_fingerprint': 'fp_6f2eabb9a5', 'id': 'chatcmpl-Bk0J9Vt1uKanqieZhyWHN28Il9lyN', 'service_tier': 'default', 'finish_reason': 'stop', 'logprobs': None}, id='run--78db49cf-06fa-487f-83e2-5d0dec8eb256-0', usage_metadata={'input_tokens': 22, 'output_tokens': 17, 'total_tokens': 39, 'input_token_details': {'audio': 0, 'cache_read': 0}, 'output_token_details': {'audio': 0, 'reasoning': 0}})]"
      ]
     },
     "execution_count": 53,
     "metadata": {},
     "output_type": "execute_result"
    }
   ],
   "source": [
    "resp"
   ]
  },
  {
   "cell_type": "code",
   "execution_count": 54,
   "metadata": {},
   "outputs": [],
   "source": [
    "search_result3 = tavily_search.batch(resp2.tool_calls)"
   ]
  },
  {
   "cell_type": "code",
   "execution_count": 55,
   "metadata": {},
   "outputs": [
    {
     "data": {
      "text/plain": [
       "[ToolMessage(content='{\"query\": \"2025-2026 시즌 손흥민 이적설\", \"follow_up_questions\": null, \"answer\": null, \"images\": [\"https://thumbnews.nateimg.co.kr/view610/news.nateimg.co.kr/orgImg/kz/2024/11/16/news-p.v1.20240926.ad0cd8c9c02e4b35aa4c0c3b7b0c3735_P1.png\", \"https://fo-newscenter.s3.ap-northeast-2.amazonaws.com/sportal-korea/extract/2024/12/24/SK007_20241224_020101.jpg\", \"https://img6.yna.co.kr/photo/etc/af/2025/01/04/PAF20250104194501009_P4.jpg\", \"https://img-s-msn-com.akamaized.net/tenant/amp/entityid/AA1udLWy.img?w=650&h=453&m=4&q=79\", \"https://cdn.gukjenews.com/news/photo/202412/3167631_3270803_1944.jpg\"], \"results\": [{\"title\": \"지금 장난하나…\\'사우디 이적설\\' 손흥민, 다음 시즌 토트넘 베스트 11 제외 \\'충격\\' < Pl < 해외축구 < 축구 < 기사본문 ...\", \"url\": \"https://www.sportalkorea.com/news/articleView.html?idxno=2025052909552362169\", \"content\": \"손흥민은 영국 매체 \\'더 스퍼스 웹\\'이 29일 공개한 2025/26시즌 토트넘 베스트 11에서도 자취를 감춰 화제가 됐다. 매체는 에베레치 에제 (크리스털 팰리스)가 손흥민의 빈자리를 메울 것이라고 내다봤다. 포메이션은 4-2-3-1이다.\", \"score\": 0.7927375, \"raw_content\": null}, {\"title\": \"\\'아직 공식 오퍼는 없는데\\'…현지에서 계속 제기되는 손흥민의 이적설｜스포츠동아\", \"url\": \"https://sports.donga.com/sports/article/all/20250618/131828228/1\", \"content\": \"*   [![Image 25: 이세영 비키니 입고 춤 삼매경…반려견 ‘그러려니’ [DA★]](https://dimg.donga.com/a/232/174/95/1/wps/SPORTS/IMAGE/2025/06/18/131835259.1.jpg)](https://sports.donga.com/ent/article/all/20250618/131835270/1)[이세영 비키니 입고 춤 삼매경…반려견 ‘그러려니’ [DA★]](https://sports.donga.com/ent/article/all/20250618/131835270/1) 이수만·바다·유진, 월디페서 얼굴로 뭉쳤다](https://dimg.donga.com/a/232/174/95/1/wps/SPORTS/IMAGE/2025/06/18/131834286.1.jpg)](https://sports.donga.com/ent/article/all/20250618/131834283/1)[[★스느스] S.E.S 재결합 떡밥? *   1[![Image 32: 김혜선, 말벅지+복근…근육질 몸매 대박이야 [DA★]](https://dimg.donga.com/a/72/72/95/1/wps/SPORTS/IMAGE/2025/06/17/131825443.1.jpg)](https://sports.donga.com/ent/article/all/20250617/131825455/1) [김혜선, 말벅지+복근…근육질 몸매 대박이야 [DA★]](https://sports.donga.com/ent/article/all/20250617/131825455/1)    *   2[![Image 33: 황신혜, 나이 잊게 하는 비키니…치명적 존재감 [DA★]](https://dimg.donga.com/a/72/72/95/1/wps/SPORTS/IMAGE/2025/06/17/131827312.1.jpg)](https://sports.donga.com/ent/article/all/20250617/131827314/1) [황신혜, 나이 잊게 하는 비키니…치명적 존재감 [DA★]](https://sports.donga.com/ent/article/all/20250617/131827314/1)    *   3[![Image 34: 한그루, 레깅스 터질라…엉덩이+등근육 ‘탄탄 뒤태’ [DA★]](https://dimg.donga.com/a/72/72/95/1/wps/SPORTS/IMAGE/2025/06/17/131824405.1.jpg)](https://sports.donga.com/ent/article/all/20250617/131824413/1) [한그루, 레깅스 터질라…엉덩이+등근육 ‘탄탄 뒤태’ [DA★]](https://sports.donga.com/ent/article/all/20250617/131824413/1)    *   5[![Image 36: ‘AV 배우 만남’ 주학년 더보이즈 탈퇴, 전속계약도 해지 [공식]](https://dimg.donga.com/a/72/72/95/1/wps/SPORTS/IMAGE/2025/06/18/131833310.1.jpg)](https://sports.donga.com/ent/article/all/20250618/131833311/1) [‘AV 배우 만남’ 주학년 더보이즈 탈퇴, 전속계약도 해지 [공식]](https://sports.donga.com/ent/article/all/20250618/131833311/1)    *   [![Image 38: 40대 전미라, 길쭉 탄탄 비키니…♥윤종신 놀라겠어 [DA★]](https://dimg.donga.com/a/140/140/95/1/wps/SPORTS/IMAGE/2025/06/19/131838286.1.jpg)](https://sports.donga.com/ent/article/all/20250619/131838296/1)[40대 전미라, 길쭉 탄탄 비키니…♥윤종신 놀라겠어 [DA★]](https://sports.donga.com/ent/article/all/20250619/131838296/1) *   [![Image 41: 이세영 비키니 입고 춤 삼매경…반려견 ‘그러려니’ [DA★]](https://dimg.donga.com/a/140/140/95/1/wps/SPORTS/IMAGE/2025/06/18/131835259.1.jpg)](https://sports.donga.com/ent/article/all/20250618/131835270/1)[이세영 비키니 입고 춤 삼매경…반려견 ‘그러려니’ [DA★]](https://sports.donga.com/ent/article/all/20250618/131835270/1)\", \"score\": 0.7890553, \"raw_content\": null}, {\"title\": \"손흥민 이적설 데드라인 나왔다…\\'아시아 투어\\' 이후 결정 :: 공감언론 뉴시스\", \"url\": \"https://www.newsis.com/view/NISX20250618_0003217259\", \"content\": \"![[서울=뉴시스] 홍효식 기자 = 지난해 7월31일 서울 마포구 서울월드컵경기장에서 열린 쿠팡플레이 시리즈 1차전 팀 K리그와 토트넘 홋스퍼의 경기를 마친 토트넘 손흥민이 관중들에게 인사하고 있다. [서울=뉴시스] 홍효식 기자 = 지난해 7월31일 서울 마포구 서울월드컵경기장에서 열린 쿠팡플레이 시리즈 1차전 팀 K리그와 토트넘 홋스퍼의 경기를 마친 토트넘 손흥민이 관중들에게 인사하고 있다. ![[서울=뉴시스] 황준선 기자 = 지난해 8월3일 오후 서울 마포구 서울월드컵경기장에서 열린 쿠팡플레이 시리즈 2경기 토트넘 홋스퍼와 FC바이에른 뮌헨의 경기, 토트넘 손흥민이 경기가 끝난 뒤 관중들에게 인사하고 있다. [서울=뉴시스] 황준선 기자 = 지난해 8월3일 오후 서울 마포구 서울월드컵경기장에서 열린 쿠팡플레이 시리즈 2경기 토트넘 홋스퍼와 FC바이에른 뮌헨의 경기, 토트넘 손흥민이 경기가 끝난 뒤 관중들에게 인사하고 있다. [서울=뉴시스] 황준선 기자 = 지난해 8월3일 오후 서울 마포구 서울월드컵경기장에서 열린 쿠팡플레이 시리즈 2경기 토트넘 홋스퍼와 FC바이에른 뮌헨의 경기, 토트넘 손흥민이 경기가 끝난 뒤 관중들에게 인사하고 있다.\", \"score\": 0.4430467, \"raw_content\": null}], \"response_time\": 1.47}', name='tavily_search', tool_call_id='call_Wb8zukqEq6UhvbtZxiKqLvAF'),\n",
       " ToolMessage(content='{\"query\": \"2025-2026 시즌 김민재 이적설\", \"follow_up_questions\": null, \"answer\": null, \"images\": [\"https://many-information.com/wp-content/uploads/2024/08/image-26-optimized.png\", \"https://many-information.com/wp-content/uploads/2024/08/image-28-optimized.png\", \"https://mydaily.co.kr/photos/2024/03/24/2024032410032981903_l.jpg\", \"https://rzelle.com/20230607/kimminjea-010.jpg\", \"https://flexible.img.hani.co.kr/flexible/normal/560/373/imgdb/original/2024/1007/20241007501351.jpg\"], \"results\": [{\"title\": \"Ai 심층 분석: \\'완전체\\' 김민재 이적, 2025-2026 시즌 Epl 빅클럽행?\", \"url\": \"https://wonisoli.tistory.com/entry/AI-심층-분석-완전체-김민재-이적-2025-2026-시즌-EPL-빅클럽행\", \"content\": \"AI 심층 분석: \\'완전체\\' 김민재 이적, 2025-2026 시즌 EPL 빅클럽행 유력? (팀별 합류 가능성 최종판)[분석의 핵심 전제] 이 글은 김민재 선수가 지난 시즌 겪었을 수 있는 부상 및 컨디션 난조에서 **완벽하게 회복하여, 나폴리 시절과 바이에른 뮌헨 시즌 초반에 보여준 세계 최정상급 기량을 되찾았다는\", \"score\": 0.8259413, \"raw_content\": null}, {\"title\": \"\\'저 잔류해요!\\' 김민재, 이적설 직접 종결 \\\\\"뮌헨 떠날 이유 없다, 남고 싶어\\\\\"…Ac밀란·리버풀 허탈\", \"url\": \"https://sports.news.nate.com/view/20250608n00578\", \"content\": \"축구 통계 매체 \\'트랜스퍼마크트\\'도 최근 \\'2025~2026 시즌 뮌헨의 베스트 11\\'을 예상했는데 왼쪽 센터백 자리에 김민재 대신 타가 이름을 올려 눈길을 끌었다. 포백 왼쪽부터 알폰소 데이비스, 타, 다요 우파메카노, 요시프 스타니시치가 자리했다.\", \"score\": 0.8047902, \"raw_content\": null}, {\"title\": \"\\'이적설\\' 이강인·김민재, 클럽월드컵 이후 거취 결정될까 - 파이낸셜뉴스\", \"url\": \"https://www.fnnews.com/news/202506170700469086\", \"content\": \"이강인·김민재 모두 팀 내 입지 불안 지난 시즌 중반부터 이적설 돌고 있어 [암만(요르단)=뉴시스] 이영환 기자 = 2026 국제축구연맹(FIFA) 북중미 월드컵 아시아 3차 예선 B조 6차전 팔레스타인전에 출전한 김민재(왼쪽), 이강인. 2024.11.20. 20hwan@newsis.com\", \"score\": 0.7382357, \"raw_content\": null}], \"response_time\": 1.06}', name='tavily_search', tool_call_id='call_zX70BpT6EG3iIOVX06fxOi4I'),\n",
       " ToolMessage(content='{\"query\": \"2025-2026 시즌 이강인 이적설\", \"follow_up_questions\": null, \"answer\": null, \"images\": [\"https://i3n.news1.kr/system/photos/2024/5/20/6657541/high.jpg\", \"https://img1.daumcdn.net/thumb/R800x0/?scode=mtistory2&fname=https://blog.kakaocdn.net/dn/cpBgtJ/btsMRWIVpYf/SmvNzMPvvNiC0ykyIeA7a1/img.png\", \"https://dimg1.donga.com/wps/SPORTS/IMAGE/2025/04/10/131386753.1.jpg\", \"https://www.sportschosun.com/article/html/2025/01/07/2025010701000476000061425.jpg\", \"https://thumbnews.nateimg.co.kr/view610/news.nateimg.co.kr/orgImg/sc/2025/01/13/2025011301000856900122962.jpg\"], \"results\": [{\"title\": \"이강인 거취놓고 외신은 설왕설래…Psg 떠나는 건 유력하나 행선지는? : 네이트 스포츠\", \"url\": \"https://sports.news.nate.com/view/20250603n00985\", \"content\": \"이강인 (24·파리 생제르맹·PSG)의 2025~2026시즌 거취는 해외에서도 큰 관심사다. 외신에선 이번 여름이적시장에서 그의 이적이 유력하다고 전망한다. 프랑스 매체 \\'겟풋볼뉴스프랑스\\'는 3일 (한국시간) \\'레퀴프\\'의 보도를 인용해 \\\\\"이강인과 곤잘로 하무스 (포르투갈)이 이번 여름이적시장에서\", \"score\": 0.8745175, \"raw_content\": null}, {\"title\": \"Ai 심층 분석: 이강인 이적 2025-2026 시즌, 예상 행선지는?\", \"url\": \"https://wonisoli.tistory.com/entry/AI-분석-이강인-이적-2025-2026-시즌-예상-행선지는\", \"content\": \"AI 분석: 이강인의 2025-2026 시즌, 예상 소속팀은? (팀별 이적 가능성 전격 해부!)2025년 여름 이적 시장에서 가장 뜨거운 관심을 받고 있는 이강인 선수! 그의 다음 시즌 거취를 두고 다양한 예측과 분석이 이어지고 있습니다. 과연 이강인 선수는 2025-2026 시즌 어느 팀의 유니폼을 입고 팬들 앞에 나서게\", \"score\": 0.8156003, \"raw_content\": null}, {\"title\": \"이강인 나폴리 이적설 총정리 : 세리에a 강호들의 러브콜과 현실적 변수\", \"url\": \"https://studio24.kr/3224\", \"content\": \"안녕하세요, JS입니다.2025년 여름 이적시장을 앞두고 이강인(파리 생제르맹, PSG)의 나폴리 이적설이 이탈리아와 한국 축구계를 뜨겁게 달구고 있습니다.이강인은 나폴리를 비롯해 AC밀란, 유벤투스, 인터밀란 등 세리에A 명문 구단은 물론, 프리미어리그와 분데스리가 클럽들까지 관심을 보이고\", \"score\": 0.7498395, \"raw_content\": null}], \"response_time\": 0.94}', name='tavily_search', tool_call_id='call_mz5HU1gtlTIEf57dvFC4tc60')]"
      ]
     },
     "execution_count": 55,
     "metadata": {},
     "output_type": "execute_result"
    }
   ],
   "source": [
    "search_result3"
   ]
  },
  {
   "cell_type": "code",
   "execution_count": null,
   "metadata": {},
   "outputs": [],
   "source": []
  },
  {
   "cell_type": "markdown",
   "metadata": {},
   "source": [
    "## Tool 의 처리(응답) 결과를 LLM 요청시 사용\n",
    "- ToolMessage를 prompt 에 추가하여 LLM에 요청한다.\n",
    "- ToolMessage 는 Tool Calling 정보를 가진 AIMessage 다음에 들어와야 한다.\n",
    "- Prompt 순서\n",
    "    1. 일반 prompt (system, 대화 history, .., human)\n",
    "    2. AIMessage: tool calling 정보를 가진 AIMessage. (tool_model에 질의 받은 tool calling 정보가 있는 응답)\n",
    "    3. ToolMessage:  Tool의 처리 결과"
   ]
  },
  {
   "cell_type": "code",
   "execution_count": 65,
   "metadata": {},
   "outputs": [],
   "source": [
    "from langchain.prompts import ChatPromptTemplate, MessagesPlaceholder\n",
    "prompt = ChatPromptTemplate(\n",
    "    [\n",
    "        (\"system\", \"당신은 AI 정보제공자입니다. 제공된 정보를 바탕으로 답변해주세요.\"),\n",
    "        (\"human\", \"{user_input}\"),\n",
    "        MessagesPlaceholder(variable_name=\"messages\", optional=True)\n",
    "    ]\n",
    ")\n",
    "input_dict = {\"user_input\":query, \"messages\":[resp2, *search_result3]} # messages: [AIMessage, ToolMessage, ToolMessage, ..]\n",
    "\n",
    "final_chain = prompt | tool_model\n",
    "final_response = final_chain.invoke(input_dict)"
   ]
  },
  {
   "cell_type": "code",
   "execution_count": 62,
   "metadata": {},
   "outputs": [
    {
     "data": {
      "text/plain": [
       "AIMessage(content='2025-2026 시즌 이적설에 대한 요약입니다.\\n\\n1. 손흥민 이적설\\n- 2025-26 시즌 토트넘 베스트 11에 포함될 정도로 활약 중입니다.\\n- 에버턴 소속의 크리스탈 팰리스가 손흥민의 이적을 추진하는 소식이 있으나 공식 발표된 바는 없습니다.\\n- 현재로서는 이적 관련 구체적 진행 상황은 알려져 있지 않고, 손흥민은 안정적인 위치를 유지하고 있습니다.\\n\\n2. 김민재 이적설\\n- 김민재는 2025-26 시즌에도 베스트 11 후보로 주목받고 있습니다.\\n- 최근 신문 및 매체에서 김민재와 관련한 이적설 보도가 있으나 구체적인 팀이나 계약 내용은 확인되지 않았습니다.\\n- 김민재는 국가대표 및 클럽에서 중요한 역할을 하고 있으며, 이적 여부는 아직 확정되지 않았습니다.\\n\\n3. 이강인 이적설\\n- 이강인은 현재 PSG 소속으로 2025-26 시즌에 유럽 내 여러 팀에서 관심을 받고 있는 것으로 전해졌습니다.\\n- 여러 매체에서 이강인의 이적 가능성을 점치고 있으나, 아직 공식 계약 소식은 없습니다.\\n- 프랑스 리그와 바이에른 뮌헨 등 여러 구단이 이강인을 주시하고 있으며, 향후 이적과 관련된 움직임이 예상됩니다.\\n\\n요약하자면, 손흥민, 김민재, 이강인 모두 2025-2026 시즌 이적설이 일부 제기되고 있으나, 아직 공식적인 이적 발표나 구체적인 계약 협상 내용은 확정된 것이 없습니다. 팬과 관련 구단들은 이들의 행보를 주목하고 있으며, 시즌 중반 이후 또는 시즌 종료 후에 보다 명확한 이적 소식이 나올 가능성이 있습니다.', additional_kwargs={'refusal': None}, response_metadata={'token_usage': {'completion_tokens': 415, 'prompt_tokens': 9063, 'total_tokens': 9478, 'completion_tokens_details': {'accepted_prediction_tokens': 0, 'audio_tokens': 0, 'reasoning_tokens': 0, 'rejected_prediction_tokens': 0}, 'prompt_tokens_details': {'audio_tokens': 0, 'cached_tokens': 0}}, 'model_name': 'gpt-4.1-mini-2025-04-14', 'system_fingerprint': 'fp_6f2eabb9a5', 'id': 'chatcmpl-Bk0ZTyvL2pSfW0ap3OM9u8GBwWefy', 'service_tier': 'default', 'finish_reason': 'stop', 'logprobs': None}, id='run--bff91c6c-141d-438f-bb76-ade76cdbbd60-0', usage_metadata={'input_tokens': 9063, 'output_tokens': 415, 'total_tokens': 9478, 'input_token_details': {'audio': 0, 'cache_read': 0}, 'output_token_details': {'audio': 0, 'reasoning': 0}})"
      ]
     },
     "execution_count": 62,
     "metadata": {},
     "output_type": "execute_result"
    }
   ],
   "source": [
    "final_response"
   ]
  },
  {
   "cell_type": "code",
   "execution_count": 63,
   "metadata": {},
   "outputs": [
    {
     "name": "stdout",
     "output_type": "stream",
     "text": [
      "2025-2026 시즌 이적설에 대한 요약입니다.\n",
      "\n",
      "1. 손흥민 이적설\n",
      "- 2025-26 시즌 토트넘 베스트 11에 포함될 정도로 활약 중입니다.\n",
      "- 에버턴 소속의 크리스탈 팰리스가 손흥민의 이적을 추진하는 소식이 있으나 공식 발표된 바는 없습니다.\n",
      "- 현재로서는 이적 관련 구체적 진행 상황은 알려져 있지 않고, 손흥민은 안정적인 위치를 유지하고 있습니다.\n",
      "\n",
      "2. 김민재 이적설\n",
      "- 김민재는 2025-26 시즌에도 베스트 11 후보로 주목받고 있습니다.\n",
      "- 최근 신문 및 매체에서 김민재와 관련한 이적설 보도가 있으나 구체적인 팀이나 계약 내용은 확인되지 않았습니다.\n",
      "- 김민재는 국가대표 및 클럽에서 중요한 역할을 하고 있으며, 이적 여부는 아직 확정되지 않았습니다.\n",
      "\n",
      "3. 이강인 이적설\n",
      "- 이강인은 현재 PSG 소속으로 2025-26 시즌에 유럽 내 여러 팀에서 관심을 받고 있는 것으로 전해졌습니다.\n",
      "- 여러 매체에서 이강인의 이적 가능성을 점치고 있으나, 아직 공식 계약 소식은 없습니다.\n",
      "- 프랑스 리그와 바이에른 뮌헨 등 여러 구단이 이강인을 주시하고 있으며, 향후 이적과 관련된 움직임이 예상됩니다.\n",
      "\n",
      "요약하자면, 손흥민, 김민재, 이강인 모두 2025-2026 시즌 이적설이 일부 제기되고 있으나, 아직 공식적인 이적 발표나 구체적인 계약 협상 내용은 확정된 것이 없습니다. 팬과 관련 구단들은 이들의 행보를 주목하고 있으며, 시즌 중반 이후 또는 시즌 종료 후에 보다 명확한 이적 소식이 나올 가능성이 있습니다.\n"
     ]
    }
   ],
   "source": [
    "print(final_response.content)"
   ]
  },
  {
   "cell_type": "code",
   "execution_count": null,
   "metadata": {},
   "outputs": [
    {
     "data": {
      "text/plain": [
       "True"
      ]
     },
     "execution_count": 3,
     "metadata": {},
     "output_type": "execute_result"
    }
   ],
   "source": [
    "######################################################\n",
    "#  요청 - 응답까지의 전체 체인을 구성\n",
    "#\n",
    "# query -> (tool + model=RunnableBinding) -> AIMessage.tool_calls \n",
    "#       -> (Tool) -> 처리결과(검색결과)\n",
    "#       -> (prompt template) -> prompt\n",
    "#       -> (LLM) -> 최종응답.\n",
    "######################################################\n",
    "\n",
    "from langchain_tavily import TavilySearch\n",
    "from langchain_openai import ChatOpenAI\n",
    "from langchain.prompts import ChatPromptTemplate, MessagesPlaceholder\n",
    "from langchain_core.output_parsers import StrOutputParser\n",
    "from langchain_core.runnables import chain\n",
    "from dotenv import load_dotenv\n",
    "\n",
    "load_dotenv()"
   ]
  },
  {
   "cell_type": "code",
   "execution_count": 37,
   "metadata": {},
   "outputs": [],
   "source": [
    "from datetime import date\n",
    "\n",
    "# 1. Tool 생성\n",
    "tavily_search = TavilySearch()\n",
    "model = ChatOpenAI(model=\"gpt-4.1\") # model+tool - 성능이 좋은 모델\n",
    "\n",
    "tool_model = model.bind_tools(tools=[tavily_search])\n",
    "prompt_template = ChatPromptTemplate(\n",
    "    [\n",
    "        (\"system\", (\"당신은 AI 어시스턴트입니다.\"\n",
    "                    \"질문에 대해서 최신 정보를 바탕으로 답변해주세요.\"\n",
    "                    \"검색을 해야하는 경우는 반드시 검색어에 오늘 날짜를 넣어서 검색하세요.\"\n",
    "                    \"오늘 날짜는 {today} 입니다.\")),\n",
    "        (\"human\", \"{user_input}\"),\n",
    "        MessagesPlaceholder(variable_name=\"messages\", optional=True)\n",
    "    ], \n",
    "    partial_variables={\"today\":{date.today().strftime(\"%Y년 %m월 %d일\")}} # %H(시간) %M(분) %S(초), %A(요일)\n",
    ")\n",
    "\n",
    "tool_model_chain = prompt_template | tool_model\n",
    "\n",
    "@chain\n",
    "def web_search_chain(user_input: str) -> str:\n",
    "    \"\"\"전체 프로세스를 처리하는 체인\n",
    "    사용자 질문(user_input)을 받아서 tool 호출을 거처서 응답 처리하는 체인.\n",
    "    \"\"\"\n",
    "    ai_message = tool_model_chain.invoke({\"user_input\":user_input}) #반환: 1. 응답 or 2. tool calls 정보\n",
    "\n",
    "    if ai_message.tool_calls: # [{tool_call}, {tool_call}, ...] -> tool 호출\n",
    "        # Tool을 호출 -> 결과 -> llm 을 호출\n",
    "        # Tool 호출\n",
    "        tool_messages = tavily_search.batch(ai_message.tool_calls) #[ToolMessage, TM, ..]\n",
    "        input_dict = {\n",
    "            \"user_input\":user_input,\n",
    "            \"messages\":[ai_message, *tool_messages]  # tool처리결과 llm에 전달. [tool_calls값이 있는 AIMessage, Tool 처리결과 ToolMessage]\n",
    "        }\n",
    "        return tool_model_chain.invoke(input_dict).content\n",
    "    else: # tool_calls: [] -> LLM이 직접 응답.\n",
    "        return ai_message.content\n"
   ]
  },
  {
   "cell_type": "code",
   "execution_count": 39,
   "metadata": {},
   "outputs": [],
   "source": [
    "# response = web_search_chain.invoke(\"안녕하세요.\")\n",
    "# response"
   ]
  },
  {
   "cell_type": "code",
   "execution_count": 40,
   "metadata": {},
   "outputs": [],
   "source": [
    "response = web_search_chain.invoke(\"내일 서울 날씨를 알려줘.\")"
   ]
  },
  {
   "cell_type": "code",
   "execution_count": 41,
   "metadata": {},
   "outputs": [
    {
     "name": "stdout",
     "output_type": "stream",
     "text": [
      "2025년 6월 20일(내일) 서울 날씨는 다음과 같습니다.\n",
      "\n",
      "- 예상 최저기온: 17°C\n",
      "- 예상 최고기온: 26°C\n",
      "- 강수량: 약 6.8mm (비가 내릴 가능성이 있습니다)\n",
      "- 대체로 흐리거나 구름 많음, 비가 올 수 있음\n",
      "\n",
      "우산을 챙기시는 것이 좋겠고, 기온은 선선한 편이니 옷차림에 참고하시기 바랍니다.\n",
      "\n",
      "자세한 정보는 해당 기상 데이터 사이트(참고: climate-data.org)에서도 확인하실 수 있습니다.\n"
     ]
    }
   ],
   "source": [
    "print(response)"
   ]
  },
  {
   "cell_type": "code",
   "execution_count": null,
   "metadata": {},
   "outputs": [],
   "source": []
  },
  {
   "cell_type": "markdown",
   "metadata": {},
   "source": [
    "# 사용자 정의 Tool 구현\n",
    "\n",
    "## @tool 사용\n",
    "- 함수로 구현하고 `@tool` 데코레이터를 사용해 tool(StructuredTool)로 정의한다.\n",
    "    - `langchain_core.tools` 모듈에 있다.\n",
    "- tool name\n",
    "    - 함수의 이름이 tool의 이름이 된다.\n",
    "- parameters\n",
    "    - 함수의 파라미터가 tool의 파라미터가 된다.\n",
    "    - **type hint**를 이용해 타입을 지정한다.  \n",
    "- description\n",
    "    - doctring이 description이 된다.\n",
    "    - RunnableBinding이 tool을 잘 찾을 수 있도록 하려면 **tool의 기능을 최대한 구체적**으로 작성한다.\n",
    "- **@tool이 적용된 함수(StructuredTool)이 tool**이므로 model에 binding 한다."
   ]
  },
  {
   "cell_type": "code",
   "execution_count": 58,
   "metadata": {},
   "outputs": [],
   "source": [
    "from langchain_core.tools import tool\n",
    "# llm이 tool을 선택하는 기준: tool의 이름, descrition(툴 설명 - docstring)\n",
    "@tool\n",
    "def plus(num1:int|float, num2:int|float=50) -> int|float:\n",
    "    \"\"\"두 숫자를 받아서 덧셈처리하는 tool.\n",
    "    \"\"\"\n",
    "    return num1 + num2\n",
    "\n",
    "@tool\n",
    "def multiply(num1:int|float, num2:int|float) -> int|float:\n",
    "    \"\"\"두 숫자를 받아서 곱셈처리하는 tool.\n",
    "    \"\"\"\n",
    "    return num1 * num2"
   ]
  },
  {
   "cell_type": "code",
   "execution_count": 59,
   "metadata": {},
   "outputs": [
    {
     "name": "stdout",
     "output_type": "stream",
     "text": [
      "<class 'langchain_core.tools.structured.StructuredTool'>\n",
      "plus\n",
      "두 숫자를 받아서 덧셈처리하는 tool.\n"
     ]
    }
   ],
   "source": [
    "print(type(plus))\n",
    "print(plus.name) # 툴이름\n",
    "print(plus.description) # 툴설명"
   ]
  },
  {
   "cell_type": "code",
   "execution_count": 60,
   "metadata": {},
   "outputs": [
    {
     "data": {
      "text/plain": [
       "{'description': '두 숫자를 받아서 덧셈처리하는 tool.',\n",
       " 'properties': {'num1': {'anyOf': [{'type': 'integer'}, {'type': 'number'}],\n",
       "   'title': 'Num1'},\n",
       "  'num2': {'anyOf': [{'type': 'integer'}, {'type': 'number'}],\n",
       "   'default': 50,\n",
       "   'title': 'Num2'}},\n",
       " 'required': ['num1'],\n",
       " 'title': 'plus',\n",
       " 'type': 'object'}"
      ]
     },
     "execution_count": 60,
     "metadata": {},
     "output_type": "execute_result"
    }
   ],
   "source": [
    "plus.args_schema.model_json_schema()"
   ]
  },
  {
   "cell_type": "code",
   "execution_count": 61,
   "metadata": {},
   "outputs": [],
   "source": [
    "model = ChatOpenAI(model=\"gpt-4.1-mini\")\n",
    "tool_model = model.bind_tools([plus, multiply])"
   ]
  },
  {
   "cell_type": "code",
   "execution_count": 62,
   "metadata": {},
   "outputs": [
    {
     "data": {
      "text/plain": [
       "''"
      ]
     },
     "execution_count": 62,
     "metadata": {},
     "output_type": "execute_result"
    }
   ],
   "source": [
    "resp = tool_model.invoke(\"5000원짜리 빵을 5개 샀다. 얼마지?\")\n",
    "resp.content"
   ]
  },
  {
   "cell_type": "code",
   "execution_count": 63,
   "metadata": {},
   "outputs": [
    {
     "data": {
      "text/plain": [
       "[{'name': 'multiply',\n",
       "  'args': {'num1': 5000, 'num2': 5},\n",
       "  'id': 'call_wJq6K52XUW23VAlgFplX1rDZ',\n",
       "  'type': 'tool_call'}]"
      ]
     },
     "execution_count": 63,
     "metadata": {},
     "output_type": "execute_result"
    }
   ],
   "source": [
    "resp.tool_calls"
   ]
  },
  {
   "cell_type": "code",
   "execution_count": 65,
   "metadata": {},
   "outputs": [
    {
     "data": {
      "text/plain": [
       "ToolMessage(content='25000', name='multiply', tool_call_id='call_wJq6K52XUW23VAlgFplX1rDZ')"
      ]
     },
     "execution_count": 65,
     "metadata": {},
     "output_type": "execute_result"
    }
   ],
   "source": [
    "multiply.invoke(resp.tool_calls[0])"
   ]
  },
  {
   "cell_type": "code",
   "execution_count": null,
   "metadata": {},
   "outputs": [
    {
     "data": {
      "text/plain": [
       "[{'name': 'plus',\n",
       "  'args': {'num1': 5, 'num2': 13},\n",
       "  'id': 'call_PC9dFnuyXAyk8eoNZ9sZWGRC',\n",
       "  'type': 'tool_call'}]"
      ]
     },
     "execution_count": 66,
     "metadata": {},
     "output_type": "execute_result"
    }
   ],
   "source": [
    "resp = tool_model.invoke(\"남학생 5명과 여학생 13명이 있다. 총인원 몇명이냐?\")\n",
    "resp.tool_calls"
   ]
  },
  {
   "cell_type": "code",
   "execution_count": 67,
   "metadata": {},
   "outputs": [
    {
     "data": {
      "text/plain": [
       "[{'name': 'multiply',\n",
       "  'args': {'num1': 5, 'num2': 6},\n",
       "  'id': 'call_O0VLIdqQzAWerRM2W4cD8eFd',\n",
       "  'type': 'tool_call'},\n",
       " {'name': 'plus',\n",
       "  'args': {'num1': 3, 'num2': 0},\n",
       "  'id': 'call_CZqdnCdOcby4jWRZQ3HPh7jC',\n",
       "  'type': 'tool_call'}]"
      ]
     },
     "execution_count": 67,
     "metadata": {},
     "output_type": "execute_result"
    }
   ],
   "source": [
    "resp = tool_model.invoke(\"3 + 5 * 6 의 결과는?\")\n",
    "resp.tool_calls"
   ]
  },
  {
   "cell_type": "code",
   "execution_count": null,
   "metadata": {},
   "outputs": [],
   "source": []
  },
  {
   "cell_type": "code",
   "execution_count": null,
   "metadata": {},
   "outputs": [],
   "source": [
    "# tavily_search를 이용해서 web 검색을 처리하는 툴\n",
    "from typing import Literal # 넣을 수있는 값이 정해진 경우.\n",
    "from langchain_tavily import TavilySearch\n",
    "from langchain_core.tools import tool\n",
    "\n",
    "from pydantic import BaseModel, Field\n",
    "class PropertySchema(BaseModel):\n",
    "    query: str = Field(..., description=\"검색할 검색어 문장\")\n",
    "    max_results: int = Field(default=3, description=\"최대 검색 개수\")\n",
    "    time_range:Literal[\"day\", \"week\", \"month\", \"year\"]|None = Field(default=None, description=\"최신 정보 검색시 검색 기간.\") \n",
    "\n",
    "# type|None=None => optional \n",
    "# @tool(name_or_callable=\"툴 이름\", description=\"이 툴에 대한 설명\", args_schema=PropertySchema)\n",
    "@tool\n",
    "def search_web(query:str, \n",
    "               max_results:int=3, \n",
    "               time_range:Literal[\"day\", \"week\", \"month\", \"year\"]|None=None\n",
    "             ) -> dict:\n",
    "    \"\"\"\n",
    "    데이터베이스에 존재하지 않는 정보나, 최신정보를 찾기 위해서 인터넷 검색을 하는 Tool입니다.\n",
    "    \"\"\"\n",
    "    tavily_search = TavilySearch(max_results=max_results, time_range=time_range)\n",
    "    ######################################################################\n",
    "    # tavily_searh 이외의 검색 툴들을 이용해서 다양한 검색 결과들을 취함\n",
    "    ######################################################################\n",
    "    search_result = tavily_search.invoke(query)[\"results\"] #{..., \"results\":list[dict]}\n",
    "    if search_result: # 검색 결과가 있다.\n",
    "        return {\"result\": search_result}\n",
    "    else: # 검색결과가 없다면\n",
    "        return {\"result\": \"검색 결과가 없습니다.\"}"
   ]
  },
  {
   "cell_type": "code",
   "execution_count": 9,
   "metadata": {},
   "outputs": [
    {
     "name": "stdout",
     "output_type": "stream",
     "text": [
      "search_web\n",
      "데이터베이스에 존재하지 않는 정보나, 최신정보를 찾기 위해서 인터넷 검색을 하는 Tool입니다.\n"
     ]
    },
    {
     "data": {
      "text/plain": [
       "{'description': '데이터베이스에 존재하지 않는 정보나, 최신정보를 찾기 위해서 인터넷 검색을 하는 Tool입니다.',\n",
       " 'properties': {'query': {'title': 'Query', 'type': 'string'},\n",
       "  'max_results': {'default': 3, 'title': 'Max Results', 'type': 'integer'},\n",
       "  'time_range': {'anyOf': [{'enum': ['day', 'week', 'month', 'year'],\n",
       "     'type': 'string'},\n",
       "    {'type': 'null'}],\n",
       "   'default': None,\n",
       "   'title': 'Time Range'}},\n",
       " 'required': ['query'],\n",
       " 'title': 'search_web',\n",
       " 'type': 'object'}"
      ]
     },
     "execution_count": 9,
     "metadata": {},
     "output_type": "execute_result"
    }
   ],
   "source": [
    "print(search_web.name)\n",
    "print(search_web.description)\n",
    "search_web.args_schema.model_json_schema()"
   ]
  },
  {
   "cell_type": "code",
   "execution_count": 11,
   "metadata": {},
   "outputs": [
    {
     "data": {
      "text/plain": [
       "{'result': [{'title': '️ 서울 여행지 추천 Top 8',\n",
       "   'url': 'https://gogohaji.tistory.com/5',\n",
       "   'content': '1. 📍 경복궁 (Gyeongbokgung)서울의 대표적인 고궁으로 조선 시대의 궁궐 중 가장 크고 웅장해요.근정전, 경회루, 향원정 등은 사진 명소로 유명합니다.한복 입고 입장하면 무료! 주변에 북촌한옥마을과 서촌도 가까워요.2. 📍 북촌한옥마을 (Bukchon Hanok Village)전통 한옥들이 모여 있는 아름다운 마을.골목',\n",
       "   'score': 0.6388584,\n",
       "   'raw_content': None},\n",
       "  {'title': '서울 여행지 추천·핵심 관광지·지역 맛집 총정리',\n",
       "   'url': 'https://ims9.tistory.com/entry/서울-여행지-추천·핵심-관광지·지역-맛집-총정리',\n",
       "   'content': '서울의 낮이 전통과 감성이라면, 밤은 야경의 도시로 변모합니다. 대표적인 서울 야경 명소는 한강공원 과 N서울타워(남산타워) 입니다. 한강공원은 여의도, 반포, 뚝섬 등 여러 지점이 있지만 그중 반포한강공원 은 달빛무지개분수 로 가장 유명합니다.',\n",
       "   'score': 0.6122407,\n",
       "   'raw_content': None},\n",
       "  {'title': '서울 가볼만한곳 베스트10',\n",
       "   'url': 'https://asfubub466.tistory.com/5',\n",
       "   'content': '서울 가볼만한 곳 베스트 10 - 감성 가득한 서울 여행지 추천서울은 고궁과 현대적인 도시 풍경, 전통과 트렌디함이 공존하는 특별한 도시입니다. 같은 서울이지만 어디를 가느냐에 따라 전혀 다른 분위기와 경험을 할 수 있기 때문에 서울은 한 번으로는 다 느낄 수 없는, 반복해서 가도 새로운 도시죠.',\n",
       "   'score': 0.42577294,\n",
       "   'raw_content': None},\n",
       "  {'title': '2025년 서울가볼만한곳 7선, 놓치면 후회!',\n",
       "   'url': 'https://cruiseantiguabarbuda.com/2025년-서울가볼만한곳-7선-놓치면-후회/',\n",
       "   'content': '서울에서 맛집과 관광지를 동시에 즐길 수 있는 2025년 추천 여행 코스를 소개합니다. 이 글을 통해 다양한 세대와 취향에 맞는 코스를 비교해 보세요. ... 서울의 맛집과 관광지를 즐기기 위한 구체적인 계획은 아래 링크에서 더 찾아보실 수 있습니다: Korea Travel Guide.',\n",
       "   'score': 0.41563448,\n",
       "   'raw_content': None},\n",
       "  {'title': '서울 여행 필수 코스 Best 10 고궁부터 핫플레이스까지',\n",
       "   'url': 'https://bomtoree.tistory.com/entry/서울-여행-필수-코스-BEST-10-고궁부터-핫플레이스까지',\n",
       "   'content': '서울 여행 계획, 어디서부터 시작해야 할지 막막하신가요? 전통과 현대가 조화롭게 어우러진 서울의 핵심 명소들을 쏙쏙 뽑아 BEST 10 코스로 소개합니다! 과거와 현재, 전통과 트렌드, 자연과 도시의 매력을 만끽할 수 있는 서울 여행, 지금 바로 떠나보세요! (서울 가볼만한곳, 서울 여행코스, 서울 핫',\n",
       "   'score': 0.40726325,\n",
       "   'raw_content': None},\n",
       "  {'title': '서울 갈만한곳: 추천 명소부터 숨겨진 보석까지 완벽 가이드! - GO! Where? Here! ️',\n",
       "   'url': 'https://gowhere.kr/2025/06/04/서울-갈만한곳-추천-명소부터-숨겨진-보석까지-완벽/',\n",
       "   'content': '서울의 대표 명소: 서울 갈만한곳 베스트 10. 서울 여행을 계획 중이신가요? 어디를 가야 할지 고민이시라면, 이 베스트 10 목록이 큰 도움이 될 거예요! 서울의 대표적인 명소들을 엄선하여, 각 장소의 매력과 함께 가는 방법, 그리고 팁까지 알려드릴게요.',\n",
       "   'score': 0.40084377,\n",
       "   'raw_content': None},\n",
       "  {'title': '서울 여행 추천 현지인도 인정한 인기 명소 모음',\n",
       "   'url': 'https://tripnlog.tistory.com/entry/서울-여행-추천-현지인도-인정한-인기-명소-모음',\n",
       "   'content': '서울 여행, 현지인도 감탄한 인생 명소 BEST 10과 꿀팁 대방출! 🇰🇷 안녕하세요! 여행을 사랑하는 여러분, 언제 떠나도 새롭고 설레는 도시, 서울에 오신 것을 환영합니다! 😊고즈넉한 고궁 옆에서 최신 트렌드를 만끽하고, 한옥 골목을 거닐다 세련된 편집숍에 들르는 곳. 역사와 현재, 자연과',\n",
       "   'score': 0.38055226,\n",
       "   'raw_content': None},\n",
       "  {'title': '서울 핫플레이스: 2024-2025 최신 트렌드와 서울 가볼 만한 곳 총정리!',\n",
       "   'url': 'https://qooo2.tistory.com/entry/서울-핫플레이스-2024-2025-최신-트렌드와-서울-가볼-만한-곳-총정리',\n",
       "   'content': \"지금 가장 '핫'한 서울 데이트 코스부터 주말 서울 나들이에 딱 좋은 명소까지, 서울의 다채로운 매력을 느낄 수 있는 장소들을 자세히 소개해 드릴게요. 친구, 연인, 가족과 함께 특별한 추억을 만들 수 있는 서울 여행 필수 코스를 지금 바로 확인해 보세요!1. 2024\",\n",
       "   'score': 0.33574328,\n",
       "   'raw_content': None},\n",
       "  {'title': '서울 여행 코스 추천 - 2박3일',\n",
       "   'url': 'https://mir-12.tistory.com/entry/서울-여행-코스-추천-2박3일?category=1210893',\n",
       "   'content': '저녁에는 여의도 한강공원 에서 서울의 야경을 감상해보세요. 또한, 인근의 63빌딩 전망대 에 올라가면 서울의 전경을 한눈에 내려다볼 수 있어 특별한 추억을 만들 수 있습니다. 전망대 내 레스토랑에서 식사를 하며 로맨틱한 시간을 보내는 것도 추천드립니다. 📅 3일차: 젊음과 예술의 거리 탐방',\n",
       "   'score': 0.31779715,\n",
       "   'raw_content': None},\n",
       "  {'title': '25 서울여행 1박 2일 서울 여행코스 서울 가볼만한곳 : 네이버 블로그',\n",
       "   'url': 'https://blog.naver.com/fanhot09/223874582145',\n",
       "   'content': '서울의 아름다운 전망을 보고 푸른 녹음이 가득한 숲길도 걷고. 이제 여름 분위기가 시작되는 서울 나들이♡ 언제 가도 좋은, 도심 속 힐링 서울 여행이었어요 ♬ 다음 서울여행도 기대해봅니다:)',\n",
       "   'score': 0.2716825,\n",
       "   'raw_content': None}]}"
      ]
     },
     "execution_count": 11,
     "metadata": {},
     "output_type": "execute_result"
    }
   ],
   "source": [
    "# search_web.invoke(\"서울에 관광지를 검색해줘.\")\n",
    "search_web.invoke({\"query\":\"서울의 관광지를 검색해줘.\", \"max_results\":10, \"time_range\":\"month\"})"
   ]
  },
  {
   "cell_type": "code",
   "execution_count": 14,
   "metadata": {},
   "outputs": [
    {
     "data": {
      "text/plain": [
       "{'result': [{'url': 'https://xn--zf4b19gw9af7l.kr/shop/item.php?it_id=1692685420&device=pc',\n",
       "   'title': '한우1++꽃등심 100g당 15000 > 베스트상품 - 주식회사 마장자연축산',\n",
       "   'content': '관련상품 · 한우1++ 새우살등심 100당 17,000 · 한우1++ 안심 100g당 18,000원 · 한우1++ 치마살 100g당 18,000 · 한우1++ 제비추리 100g당 18,000 · 한우1++ 업진살 100g당',\n",
       "   'score': 0.81097376,\n",
       "   'raw_content': None},\n",
       "  {'url': 'https://m.kin.naver.com/qna/dirs/8020605/docs/480625927?qb=7ZWc7JqwIOuTseyLrCDqsIDqsqkgMTAwZ%20uLuQ==&enc=utf8&mobile',\n",
       "   'title': '한우 +1 등심 100g 9800원이면 어떤가요? : 네이버 지식iN - 지식인',\n",
       "   'content': '마트에서 한우 등심 1+ 등급을 100g당 9,800원 정도에 구매하셨다면, 현재 시세 대비 상당히 저렴하게 구매하신 편입니다. 보통 한우 등심 1+ 등급은 100g당 1만원을 훌쩍',\n",
       "   'score': 0.7923522,\n",
       "   'raw_content': None},\n",
       "  {'url': 'https://www.ssg.com/item/itemView.ssg?itemId=0000008041803',\n",
       "   'title': '한우 등심 구이용 1등급 (100g) (팩) - SSG.COM',\n",
       "   'content': '한우 등심 구이용 1등급 (100g) (팩) ; 원산지 · 상세설명참조 ; 최고판매가. 11,880원 ; 무이자 할부: 카드사별 무이자 혜택 ; 쇼핑혜택: 충전결제 시 최대 5% 적립 첫결제 5%,',\n",
       "   'score': 0.6680367,\n",
       "   'raw_content': None}]}"
      ]
     },
     "execution_count": 14,
     "metadata": {},
     "output_type": "execute_result"
    }
   ],
   "source": [
    "from tools import search_web as s_web\n",
    "s_web\n",
    "s_web.invoke(\"한우 100g당 가격이 얼마지?\")"
   ]
  },
  {
   "cell_type": "markdown",
   "metadata": {},
   "source": [
    "## Runnable을 tool로 정의\n",
    "- `Runnable객체.as_tool()`\n",
    "    - name, description, args_schema 파라미터를 이용해 tool의 이름, 설명, 스키마를 설정한다."
   ]
  },
  {
   "cell_type": "code",
   "execution_count": null,
   "metadata": {},
   "outputs": [],
   "source": [
    "%pip install wikipedia\n",
    "# 위키백과사전의 내용들 검색하고 관리하는 라이브러리.\n",
    "# document_loader중 WikipediaLoader 를 사용해서 위키백과사전 내용들을 검색 할 수있다."
   ]
  },
  {
   "cell_type": "code",
   "execution_count": 7,
   "metadata": {},
   "outputs": [],
   "source": [
    "from langchain_community.document_loaders import WikipediaLoader\n",
    "from langchain_core.runnables import chain\n",
    "from pydantic import BaseModel, Field\n",
    "\n",
    "@chain\n",
    "def wikipedia_search(input_dict: dict) -> dict:\n",
    "    \"\"\"사용자 query에 대한 정보를 위키백과사전에서 k개 문서를 검색하는 Runnable.\"\"\"\n",
    "\n",
    "    query = input_dict['query'] #검색어\n",
    "    max_results = input_dict.get(\"max_results\", 2) # 조회문서 최대 개수. default: 2\n",
    "\n",
    "    wiki_loader = WikipediaLoader(query=query, load_max_docs=max_results, lang=\"ko\")\n",
    "    search_result = wiki_loader.load() # list[Document]\n",
    "    if search_result: #검색결과가 있다면  # Document -> dictionary\n",
    "        result_list = []\n",
    "        for doc in search_result:\n",
    "            result_list.append({\"content\":doc.page_content, \n",
    "                                \"url\":doc.metadata['source'], \n",
    "                                \"title\":doc.metadata['title']})\n",
    "        return {\"result\": result_list}\n",
    "    else:\n",
    "        return {\"result\":\"검색 결과가 없습니다.\"}"
   ]
  },
  {
   "cell_type": "code",
   "execution_count": 5,
   "metadata": {},
   "outputs": [
    {
     "data": {
      "text/plain": [
       "{'result': [{'content': '국제 축구 연맹(國際蹴球聯盟; 문화어: 국제 축구 련맹; 프랑스어: Fédération internationale de football association; 영어: International Association Football Federation), 줄여서 피파(FIFA)는 축구(아식축구)와 풋살, 비치사커 종목을 총괄하는 국제 기구로, 스위스의 취리히에 FIFA 본부를 두고 있으며 4년마다 열리는 FIFA 월드컵을 비롯해서 여러 국제 대회를 운영하고 있다. 1904년 5월 21일 파리에서 결성되었으며 현 FIFA 회장은 잔니 인판티노이다.\\n\\n\\n== 역사 ==\\n\\n20세기 초, 축구의 인기가 영국에서 해외로 확산되면서 경기 종목을 관리할 조직체의 필요성이 대두되었다. 하지만, 그 필요성을 먼저 느낀 것은 The FA가 아닌 다른 나라의 축구인들이었다. 그 조직으로써 FIFA가 1904년 5월 21일 프랑스 파리에서 설립되었다.\\n오늘날 프랑스어를 사용하지 않는 나라들에서도 이 단체의 이름을 프랑스어로 표기하는 것은 이 단체가 처음 만들어진 곳이 프랑스이기 때문이다.\\nFIFA가 주관한 최초의 국제 경기는 1906년 열렸는데, 그다지 성공적이지 못했다. 결국 초대 회장이었던 로베르 게랭이 물러나는 계기가 되었고, 종주국인 잉글랜드 출신의 대니얼 벌리 울폴이 새 회장이 된다.\\n그 다음 열린 국제 대회는 1908년 런던 올림픽이었는데, 여덟 팀이 참가한 축구 대회는 비교적 성공적이었다. 1909년 남아프리카 공화국이 FIFA에 가입하면서 처음으로 가맹국이 유럽의 울타리를 벗어나게 되었다.\\n1912년에는 아르헨티나와 칠레가, 1913년에는 캐나다와 미국이 가입하면서 FIFA는 대서양을 중심으로 세력을 확장시킬 수 있었다.\\n제1차 세계 대전은 FIFA의 발전에 큰 타격을 주었다. 국제적인 교류는 미미한 수준으로 떨어졌고, 많은 축구선수들이 전장에 나가 희생되기도 했으며, 국제경기는 정상적으로 치를 수 없었다.\\n전쟁 이후, 회장인 울펄이 사망하고 부회장이었던 네덜란드인 카를 히르츠만이 일시적으로 FIFA를 맡게 되었다. 전쟁을 이유로 홈 네이션 4개국(잉글랜드, 스코틀랜드, 웨일스, 북아일랜드)이 FIFA를 탈퇴하면서 FIFA는 큰 위기에 봉착했고 회원국 수는 20개 국으로 줄어들었다.\\n위기에 빠진 FIFA를 재건한 사람은 48세의 프랑스인 쥘 리메였다. 그가 회장으로 재임한 33년 동안 제2차 세계 대전발발에도 불구하고 FIFA는 많은 발전을 이루었다. 1930년 최초의 월드 컵이 우루과이에서 열렸으며, 회원국들은 다시 증가했다.\\n1946년 홈 네이션들도 FIFA에 재가입하였다. 제 5회 스위스 월드컵이 열린 1954년 회원국의 수는 무려 85개국까지 늘어났고 더욱 국제적인 조직으로 발전할 수 있었다. 이 대회 직후 80세의 쥘 리메는 사임하였다. 당시 월드 컵 우승 팀에게 주어지는 우승컵의 이름은 쥘 리메 컵이었다.\\n2차 세계대전 이후, 많은 신생 독립국들이 FIFA에 가입하면서 회원국의 수는 계속 늘어났다. 당시 독립국들은 UN보다 FIFA에 먼저 가입하는 경우가 많았다. 축구 경기를 TV에서 중계하게 되면서, 축구는 좀 더 세계적인 스포츠로 발전했고 FIFA의 인지도도 같이 높아졌다.\\n이전까지 FIFA는 4년에 한 번 열리는 월드컵을 통해 수익을 얻을 수밖에 없었는데, TV 중계는 FIFA의 재정에 큰 도움이 되었다. 6대 회장인 스탠리 루스 경은 여러 사업을 통해 FIFA의 재정 안정에 큰 기여를 하였다. 이러한 공로로 루스경은 1974년 FIFA 명예회장으로 추대되었다. 다음 회장은 브라질 출신의 주앙 아벨란제 박사였다.\\n아벨란제 회장은 다소 보수적이었던 FIFA를 보다 능동적인 조직으로 탈바꿈시켰다. 스위스 취리히의 작은 건물에서 12명의 직원이 일하던 FIFA는 그 열 배가 넘는 조직으로 확장되었고, 보다 많은 수익을 얻는 기관으로 발전했다. FIFA의 상업화에는 비판의 목소리도 있었지만, FIFA의 조직 안정성은 결과적으로 산하 연맹들과 회원국들에게 이익이 되었고 1998년까지 아벨란제는 24년간 장기 집권을 할 수 있었다.\\n1998년 6월 8일 스위스 출신의 제프 블라터가 새로운 회장으로 취임하면서 2016년까지 18년간 장기 집권을 하였다. FIFA 내 부패 혐의로 미국 연방검찰의 체포 위협 때문에 회장직을 사임하였다.(스위스인은 스위스 이외 외국으로 형사강제송환되지 아니한다.)\\n2016년 2월 스위스 출신의 유럽축구연맹 사무총장 잔니 인판티노가 새로운 회장으로 취임하면서 오늘에 이르고 있다.\\n\\n\\n== 구조 ==\\nFIFA는 스위스 취리히에 본부를 두고 있기 때문에, 스위스 법의 적용을 받는 단체이다.\\nFIFA의 최고 결정기관은 FIFA 총회이며, 이는 각 가입국의 대표들로 이루어져 있다. 1년에 한번 정기회의를 가지며, 1998년부터 요청이 있을 경우에 한해 1년에 한번 더 특별회의를 열 수 있다. FIFA 총회만이 회원국 승인, 재정 등 FIFA의 주요 사항을 결정할 수 있다.\\n총회는 FIFA 회장과 부회장, 사무총장, 집행위원회를 선출한다. 회장과 사무총장은 FIFA의 주요 구성원으로서 FIFA의 관리경영을 맡게 되며, 208개 회원국과 집행위원회에 의해 실행된다.\\nFIFA 회장에 의해 임명되는 FIFA 집행위원회는, 총회가 구성되는 사이사이에 중요한 결정기관의 역할을 한다. FIFA는 분야별로 전 세계에 걸쳐 총회 또는 집행위원회의 보좌를 상설위원회를 두고 있으며, 재정위원회, 징계위원회, 심판위원회 등이 있다.\\nFIFA는 각종 기관(총회, 집행위원회 등) 외에도 국가별 축구 협회를 산하에 두고 있으며, 대륙별 축구 연맹은 FIFA의 회원이 아닌, FIFA가 관리기관으로서 만든 연맹이다. FIFA가 주관하는 대회에 참가하기 위해서는 각 국가의 축구 협회는 FIFA에 가입해야 하며, 회원가입 신청시에는 FIFA는 물론 지역적으로 자국이 속한 대륙에 회원국 등록을 신청해야 한다.\\n\\n6개 대륙별 축구연맹으로 구성되어 있다.\\n\\n유럽과 아시아의 구분이 모호한 근동 지방에 있는 나라는 소속 연맹을 선택할 수 있다. 그에 따라 러시아, 터키, 아르메니아, 아제르바이잔, 조지아, 키프로스는 국토의 일부 혹은 전체가 아시아에 위치해 있음에도 유럽 축구 연맹에 가입되어 있다. 이스라엘은 국토 전체가 완전히 아시아에 속해 있지만 중동과의 정치적인 사유로 1994년에 유럽 축구 연맹에 가입했다. 2002년에는 카자흐스탄이 아시아 축구 연맹에서 유럽 축구 연맹으로 이동했으며, 2006년 1월에는 오스트레일리아가 오세아니아 축구 연맹에서 아시아 축구 연맹으로 이동했다.\\n가이아나와 수리남은 남아메리카 대륙에 위치해있음에도 불구하고 북중미카리브 축구 연맹에 소속되어 있다.\\n오세아니아 축구 연맹에 소속된 나라들은 FIFA 가맹국이 적고 FIFA 랭킹이 낮은 편이기 때문에 대륙에서 유일하게 0.5장의 본선 티켓만 배분받아 본선 진출을 완전히 보장받지 못하고 있다. 따라서 지역 예선에서 1위를 해도 대륙 간의 플레이오프에 진출해서 승리해야만 본선에 직행할 수 있다. 물론 패배할 경우 FIFA 월드컵 본선에 직행할 수 없게 되어 오세아니아에 출전할 수 있는 나라가 없게 된다.\\n가장 최근의 예선 시스템으로는, 오세아니아 지역예선의 1위는 남아메리카 축구 연맹 지역예선의 5위와 플레이오프를 벌여야 하고, 오스트레일리아는 이 단계에서 계속 진출 실패를 거듭해왔기 때문에, 경기력의 질적 향상과 월드컵 진출상의 용이를 위해 아시아 축구 연맹으로 이동했다. 이에 따라 오스트레일리아는 AFC 아시안컵과 AFC 챔피언스리그 등 아시아 축구 연맹이 주관하는 대회에 참가할 수 있게 되었다.\\n오스트레일리아는 아시아 축구 연맹으로의 이동이 결정되고부터 불과 몇 달 후에 우루과이와의 플레이오프전에서 승부차기까지 가는 사투 끝에 2006년 FIFA 월드컵 예선을 통과했다. FIFA는 당초 2010년 FIFA 월드컵 예선으로 오세아니아 예선 1위를 아시아 월드컵 최종 예선에 포함시킬 계획이었으나, 오세아니아의 1위와 아시아 팀의 월드컵 플레이오프가 결정되면서 무산되었다.\\nFIFA는 211개 축구 협회와 각각의 남성 대표팀 및 129개의 여성 대표팀을 인정하고 있다. (축구 ',\n",
       "   'url': 'https://ko.wikipedia.org/wiki/%EA%B5%AD%EC%A0%9C_%EC%B6%95%EA%B5%AC_%EC%97%B0%EB%A7%B9',\n",
       "   'title': '국제 축구 연맹'},\n",
       "  {'content': 'FIFA 클럽 월드컵(FIFA Club World Cup)은 국제 축구 연맹(FIFA) 주관으로 1년마다 열리는 축구 대회로, 6개 대륙의 클럽간 컵 대회 우승 팀과 개최국의 1부 리그 우승 팀이 참가하는 대회이다.\\n\\n\\n== 역사 ==\\n2000년 1월에 브라질에서 FIFA 클럽 세계 선수권 대회(FIFA Club World Championship)라는 이름으로 첫 대회가 개최되었다. 이것은 FIFA가 인터콘티넨털컵을 대체하기 위해 만들어졌는데 당시 이 대회는 매년 일본 도쿄에서 열렸고 유럽의 UEFA 챔피언스리그 우승 팀과 남미의 코파 리베르타도레스 우승 팀이 참가하였다.\\n두 번째 대회는 2001년에 스페인에서 12개 팀이 참가하기로 계획되어 있었다. 그러나 이 대회는 여러 가지 복합적인 요인으로 취소되었는데 그 중 FIFA의 마케팅 파트너였던 인터내셔널 스포츠 앤 레저(ISL)이라는 회사가 파산한 것이 가장 결정적으로 작용하였다. 그리하여 이 대회는 2003년에 개최하기로 연기되었으나 이 계획도 실패로 돌아갔다. FIFA는 결국 도요타컵과 통합하는 데에 동의하였고 다시 시작된 세계 클럽 챔피언십 대회는 2005년에 일본에서 개최되며 첫 시작을 하였다.\\n2009년과 2010년 대회는 아랍에미리트에서 열렸고 2011년과 2012년 대회는 일본에서 다시 개최하기로 했다.\\n5위 결정전은 2007년 대회에 폐지되었으나 2008년 대회에 다시 도입되었다. 이 경기가 재도입되면서 전체 상금이 50만 미국 달러에서 1,650만 미국 달러로 늘어났다. 이 대회의 우승 팀은 500만 미국 달러를 획득하며 준우승 팀은 400만 미국 달러를, 3위 팀은 250만 미국 달러를, 4위 팀은 200만 미국 달러를, 5위 팀은 150만 미국 달러를, 6위 팀은 100만 미국 달러를, 7위 팀이 50만 미국 달러를 받는다.\\n이 대회에 가장 많이 출전한 팀은 뉴질랜드의 오클랜드 시티로 총 16번의 대회 중 9번의 대회(2006년, 2009년, 2011년, 2012년, 2013년, 2014년, 2015년, 2016년, 2017년)에 참가하였다.\\n2019년 3월 15일에 열린 FIFA 평의회에서 FIFA 컨페더레이션스컵을 폐지하는 대신에 FIFA 클럽 월드컵 참가 팀 수를 2021년 대회부터 24개 팀으로 확대하기로 결정했다. 하지만 이 계획은 코로나19 범유행의 여파로 인하여 연기된 상태이다.\\n\\n\\n== 역대 결과 ==\\n\\n\\n== 4강 진출 팀들의 기록 ==\\n\\n\\n== 국가별 기록 ==\\n\\n\\n== 같이 보기 ==\\nUEFA 챔피언스리그\\n코파 리베르타도레스\\nAFC 챔피언스리그\\nCONCACAF 챔피언스리그\\nCAF 챔피언스리그\\nOFC 챔피언스리그\\n\\n\\n== 각주 ==\\n\\n\\n== 외부 링크 ==\\n\\n(영어/스페인어/프랑스어/독일어/…) FIFA 클럽 월드컵 공식 사이트',\n",
       "   'url': 'https://ko.wikipedia.org/wiki/FIFA_%ED%81%B4%EB%9F%BD_%EC%9B%94%EB%93%9C%EC%BB%B5',\n",
       "   'title': 'FIFA 클럽 월드컵'}]}"
      ]
     },
     "execution_count": 5,
     "metadata": {},
     "output_type": "execute_result"
    }
   ],
   "source": [
    "wikipedia_search.invoke({\"query\":\"FIFA\"})"
   ]
  },
  {
   "cell_type": "code",
   "execution_count": 9,
   "metadata": {},
   "outputs": [
    {
     "name": "stderr",
     "output_type": "stream",
     "text": [
      "C:\\Users\\Playdata\\AppData\\Local\\Temp\\ipykernel_18568\\3284793606.py:6: LangChainBetaWarning: This API is in beta and may change in the future.\n",
      "  search_wiki = wikipedia_search.as_tool(\n"
     ]
    }
   ],
   "source": [
    "# Runnable을 tool 생성 - runnable.as_tool(툴정보)\n",
    "class SearchWikiArgsSchema(BaseModel):\n",
    "    query: str = Field(..., description='위키백과사전에서 검색할 키워드, 검색어')\n",
    "    max_results: int = Field(default=2, description=\"검색할 문서의 최대개수\")\n",
    "\n",
    "search_wiki = wikipedia_search.as_tool(\n",
    "    name=\"search_wikipedia\", # 툴 이름.\n",
    "    description=(\"위키 백과사전에서 정보를 검색할 때 사용하는 tool.\\n\"\n",
    "                 \"사용자의 질문과 관련된 위키백과사전의 문서를 지정한 개수만큼 검색해서 반환합니다.\\n\"\n",
    "                 \"일반적인 지식이나 배경 정보가 필요한 경우 유용하게 사용할 수있는 tool입니다.\"),\n",
    "    args_schema=SearchWikiArgsSchema # 파라미터(argument)에대한 설계 -> pydantic 모델 정의\n",
    ")"
   ]
  },
  {
   "cell_type": "code",
   "execution_count": 13,
   "metadata": {},
   "outputs": [
    {
     "name": "stdout",
     "output_type": "stream",
     "text": [
      "search_wikipedia\n",
      "위키 백과사전에서 정보를 검색할 때 사용하는 tool.\n",
      "사용자의 질문과 관련된 위키백과사전의 문서를 지정한 개수만큼 검색해서 반환합니다.\n",
      "일반적인 지식이나 배경 정보가 필요한 경우 유용하게 사용할 수있는 tool입니다.\n"
     ]
    },
    {
     "data": {
      "text/plain": [
       "{'properties': {'query': {'description': '위키백과사전에서 검색할 키워드, 검색어',\n",
       "   'title': 'Query',\n",
       "   'type': 'string'},\n",
       "  'max_results': {'default': 2,\n",
       "   'description': '검색할 문서의 최대개수',\n",
       "   'title': 'Max Results',\n",
       "   'type': 'integer'}},\n",
       " 'required': ['query'],\n",
       " 'title': 'SearchWikiArgsSchema',\n",
       " 'type': 'object'}"
      ]
     },
     "execution_count": 13,
     "metadata": {},
     "output_type": "execute_result"
    }
   ],
   "source": [
    "print(search_wiki.name)\n",
    "print(search_wiki.description)\n",
    "search_wiki.args_schema.model_json_schema()"
   ]
  },
  {
   "cell_type": "code",
   "execution_count": 14,
   "metadata": {},
   "outputs": [
    {
     "data": {
      "text/plain": [
       "{'result': [{'content': '삼국 시대(三國時代)는 기원전 1세기부터 7세기까지 고구려, 백제, 신라 삼국이 남만주와 한반도 일대에서 중앙집권적 국가로 발전한 시기를 일컫는다. 신라와 당나라 연합군에 의해 백제(660년), 고구려(668년) 차례로 멸망하면서 한반도 중남부에는 통일신라 북부에는 발해가 들어서 남북국 시대로 넘어간다. 각국의 전성기로 평가되는 시기는 백제 4세기, 고구려 5세기, 신라 6세기 순이다.\\n일부 사학자들은 실질적으로 삼국이 정립되어 삼국 시대가 전개된 것은 고구려, 백제의 기원인 부여가 멸망하고(494년), 또, 가야가 멸망한 562년 이후부터 신라가 백제를 정복한 660년까지 약 100년 동안의 기간 뿐이므로 부여, 가야를 포함하여 오국 시대 혹은 사국 시대라는 용어를 사용하기도 한다.\\n\\n\\n== 역사 ==\\n\\n\\n=== 삼국 시대의 배경과 원삼국 시대 ===\\n기원전 108년 왕검성(王儉城)을 함락시키고 고조선을 멸망시킨 한나라는 옛 고조선 지역에 네 개의 군을 설치했다. 한사군(낙랑군, 임둔군, 진번군, 현도군)의 지배 시기에 고조선 사회의 기존 상급 통합조직은 해체되었다. 중국계 주민들은 군현 내의 주요 지점에 설치된 토성에 주로 거주하면서 지배 족속으로 군림하였고, 고조선인은 촌락 단위로 군현 조직에 예속되었다. 또한 8조의 법금이 갑자기 60여 조로 늘어난 데서 알 수 있듯이, 고조선 사회의 전통적인 사회질서와 문화에 큰 혼란이 일어났다. 경제적으로도 군현의 공적인 수취 외에 한나라인들에 의한 수탈적인 상거래가 성행하였다. 이러한 결과를 강요한 한군현의 지배에 대한 저항이 곧이어 일어났고, 그 결과 2개 군이 폐지되고 1개 군이 축소되는 변동이 잇따랐다.\\n그러나 고조선 사회의 중심부였던 한반도 서북 지방에 설치된 낙랑군은 점차 지배 영역이 축소되긴 했지만 기원후 4세기 초까지 유지되었다. 3세기 초에는 낙랑군의 남부 지역에 대방군이 설치되었다. 낙랑군 관할에 있었던 조선현(朝鮮縣), 즉 평양 지역은 비단 한반도 서북부의 문화와 정치의 중심지였을 뿐 아니라, 한반도 남부와 일본 열도 지역의 주민과 중국 사이의 무역 중계지로서 번영하였다. 이 지역에는 상당수의 중국계 주민이 이주해 와 정착하였다.\\n이들이 남긴 무덤들에선 한나라에서 반입된 고급품과 낙랑군 현지에서 생산한 물품들이 출토되어 당시 번성한 낙랑군의 면모를 보여준다. 그러나 이런 높은 수준의 문물은 토성을 중심으로 거주하던 중국계 주민들과 낙랑군의 지배 조직의 말단에 편입된 일부 고조선계의 수장층에 한정되어 보급되었으며, 다수의 고조선인의 생활과는 무관한 것이었다. 나아가 이런 한나라의 군현들과 그 세력의 원천인 한나라는 군현의 외곽 지역에 거주하던 예·맥·한민족 사회의 정치적인 성장을 압박하는 외적 요소로 작용하였다. 한편 한나라 군현을 통해 유입되는 선진문물은 토착사회의 변화를 자극하였다.\\n이러한 상황에서 한편으로는 한나라 군현의 세력에 대항하고, 다른 한편으로는 그 선진 문물을 수용하면서, 예·맥·한민족 사회에서 삼한(마한, 변한, 진한), 고구려, 옥저, 동예, 부여 등 여러 국가들이 차례로 등장하였다. 이 국가들이 오랜 기간에 걸친 상호 통합의 과정을 거쳐, 고구려·백제·신라 등의 국가로 정립하게 되었다.\\n\\n\\n=== 삼국의 정립 ===\\n\\n\\n==== 고구려 ====\\n한족과의 투쟁 과정 속에서 점차 세력을 확대한 고구려는 유리왕 때에 이르러 전한의 뒤를 이어 일어난 신나라와 충돌할 정도로 그 세력이 성장하였다. 이어 태조왕 때부터는 강력한 대외 발전을 꾀하여 옥저를 복속시키고 요동군과 현도군을 자주 공격하였다. 또 고구려는 요하 지역을 차지하고 있던 공손씨를 축출하고, 중국이 삼국의 대치로 혼란에 빠진 틈을 타 위나라를 공격하는 등 정복 국가로서의 면모를 과시하며 집권 체제를 가다듬었다.\\n이후 고국천왕 대에 이르러 을파소 등의 유능한 대신이 등장하고, 진대법 등을 통해 내정의 안정을 꾀하였지만, 고국천왕 사후에 고발기를 비롯한 고국천왕의 형제들 간에 일어난 싸움으로 혼란이 일어나기도 하였다. 그러나 발기의 난에서 고발기를 진압하고 왕이 된 산상왕에 이어 동천왕이 즉위하면서부터는 다시 대륙과의 관계를 다양하게 전개, 위나라에는 능동적으로 대처하고 신라를 지속적으로 침범하였다.\\n이러한 정복전쟁 결과 고구려는 막대한 토지와 인간을 점유하였고, 왕실을 고정하고 부자상속을 확립하였으며, 또 5부를 개편하는 등 국가체제의 정비를 꾀하여 4세기에는 율령제가 갖추어진 고대 국가로서 발전하였다.\\n\\n\\n==== 신라와 가야 ====\\n지금의 경주를 중심으로 성장한 사로국은 중국의 금속 문화와 접촉할 기회가 적어서 고구려·백제보다 사회 발전이 늦었다. 그러나 점차적으로 동부 해안에서 정착해 온 석씨와 연합하여 연맹체를 이루어 갔다. 그리하여 탈해 이사금 때는 국호를 계림(鷄林)으로 고치고, 6촌을 개편하여 6부의 행정 구역으로 하였다. 이 시대에는 부족장의 칭호도 군장이라는 의미로 해석되는 ‘거서간’에서 무당 또는 제사장을 의미하는 ‘차차웅(次次雄)’으로, 그리고 다시 부족장 권한의 ‘계승자’라는 의미의 ‘이사금(尼師今)’으로 변했다. 그 후 미추왕의 즉위를 기점으로 김알지의 후손 김씨가 왕위를 차지하였다.\\n한편 금속문화의 전파가 늦었던 변한의 여러 부족 국가들도 3세기 이후에는 가야라는 연맹체를 형성하기 시작했다.\\n\\n\\n==== 백제 ====\\n백제의 경우 고구려 계통에서 시작했을 것이라고 추측된다. 고구려에서 도주한 온조 집단이 처음에 정착한 곳은 미추홀과 위례성이었고, 비류가 자살하면서 위례로 합쳐졌다. 고조선 멸망 후부터 파상적으로 피난해 온조왕·초고왕의 재위 기간을 거치는 동안 토착 부족 세력을 결합하면서 점차\\n낙랑·대방의 침략을 받은 한강 유역의 부족 국가들은 이에 대항하기 위하여, 보다 큰 연맹체가 요구되자 백제를 맹주로 공고히 단결함으로써 백제는 부족국가로 성장할 수 있었다.\\n\\n\\n=== 삼국의 발전 ===\\n대륙에서 후한(後漢)이 망하고 위(魏)·촉(蜀)·오(吳)의 세 나라가 각축을 벌이는 가운데, 반도에 대한 영향력이 점차 감소되고 있던 4세기에서 6세기에 이르는 시기에 삼국은 정치적으로 큰 발전을 이룩하였다. 그 중 하나는 고대 국가로의 발돋움을 위한 체제 정비이고, 다른 하나는 정복 국가로의 변모다.\\n한국의 고대 국가 체제 정비는 부족 국가 체제의 약화에서 시작되었다. 원래 부족장의 권한이 강대한 상태에서는 지방 분권적인 사회 조직이 유지될 뿐 강력한 왕권이 존재할 수 없었다. 부족 연맹 사회의 우두머리라 할 부족 연맹장으로서의 왕도 각 부족장의 통치권을 인정한 바탕 위에서 성립된 것이기 때문에 강력한 전제 왕권의 행사가 불가능하였다. 따라서 왕권의 세습이나 왕권의 부자상속 같은 것도 기대할 수 없었고, 다만 선거로써 왕좌(王座)가 변동되었다. 부여에서 가뭄과 장마의 책임을 왕에게 돌려 왕을 폐위하거나 죽인 사례나 고구려의 오부(五部) 사이에서 왕권의 이동이 있었던 사실, 신라의 세 성(박·석·김)이 왕위를 번갈아 이어받았던 것은 이러한 것을 잘 말해준다. \\n그러나 부족 연맹장의 세력은 점차 증대되고 부족장의 권한은 점차 약화되었을 뿐만 아니라, 지방의 부족장을 중앙으로 끌어올려 적당한 지위를 주어 귀족으로 편제시켰다. 신라의 골품제에서 나타난 진골을 비롯한 각 두품이나 17개의 관등, 또 고구려와 백제에서의 관등의 성립 등은 이러한 것을 잘 말해주고 있다. 이를 통해 단순한 부족 연맹의 군장이었던 왕은 종래의 부족장이 선출하던 연약한 왕권의 소유자에서 부자 상속이 가능한 절대적인 군주로 군림할 수 있었다.\\n또 하나, 고대 왕권의 구축과 고대 국가 체제의 정비에는 제도적인 면에 앞서서 사상 통일이 요청되었다. 과거의 지방 분권적이고 부족적인 사상 체계를 고대 국가적인 사상 체계로 승화시키는 데에는 보다 포괄적이고 고차원적인 이념과 윤리 강령이 필요하였다. 한국의 고대에서 고구려 (372년), 백제 (384년), 신라 (527년)가 각각 불교를 수입, 혹은 공인하는 것이 바로 이 시기였다는 것은 불교가 고대 국가 체제의 정비에서 관념 체계적인 역할을 감당했다는 것을 의미한다.\\n고구려에서 고대 국가 체제를 정비한 소수림왕과 고국양왕의 뒤를 이어 즉위한 광개토왕과 장수왕이 요동',\n",
       "   'url': 'https://ko.wikipedia.org/wiki/%EC%82%BC%EA%B5%AD_%EC%8B%9C%EB%8C%80',\n",
       "   'title': '삼국 시대'},\n",
       "  {'content': '삼국 시대(三國時代)는 후한이 멸망한 3세기 초부터 서로 다투던 위, 촉, 오를 서진이 통일한 3세기 후반까지를 가리키는 말이다. 따라서 사전적인 의미로는 위가 세워진 220년부터 오가 서진에게 멸망한 280년까지를 삼국시대로 본다. 하지만 후한의 통치력은 이미 훨씬 전 황건의 난을 계기로 이미 무너진 상태였기 때문에 황건의 난과 그 이후 펼쳐진 군웅할거의 시대 역시 삼국지대의 전초전으로 보는 것이 일반적이며 대중들에게도 오히려 삼국 정립 이후보다 후한 말의 군웅할거 시대가 훨씬 더 잘 알려져 있다. 중국의 다른 국가들과 이름을 구별하기 위해 역사가들은 이 시대의 삼국들을 각각 위는 조위, 촉은 촉한, 오는 동오 또는 손오라고 부르곤 한다.\\n다만 동탁이 사망한 직후에는 후한이 재건할 수 있는 마지막 기회가 잠깐 찾아왔었다. 하지만 탐욕에 절어있고 악에 받쳐있는 가후가 야반도주 하려던 이각과 곽사를 꼬드겨 후한 헌제의 군대와 맞서 싸우게 하였으며 이 전투에서 이각과 곽사군이 승리함으로서 후한은 완벽한 재기불능 상태로 전락했고 결국 이게 원인이 되어 멸망했다.\\n비록 상대적으로 짧은 기간이었지만 동아시아 문화에 큰 영향력을 끼친 시대다. 삼국 시대는 후대 많은 사람들에게 구전되었고, 오늘날까지도 TV, 영화, 비디오 게임 등 다양한 2차 창작물로 끝임없이 재생산되고 있다. 하지만 역시나 가장 잘 알려진 것은 명나라의 나관중이 쓴 삼국시대에 기반을 둔 역사 소설 삼국지연의다. 삼국지 연의의 인기는 그야말로 엄청나서 오늘날까지도 한자 문명권에서는 거의 모르는 사람이 없을 정도로 널리 읽혀지고 있다.\\n창작물이 아닌 권위있는 정통 역사 기록으로는 진수가 쓰고 배송지가 주석을 단 삼국지가 있다. 이 밖에도 후한서, 산양공일기, 영웅기 및 조만전 등이 당대의 시대상을 해석할 수 있게 도와주는 다양한 관점의 당대 기록들이 오늘날까지도 남아있다. 아무래도 하나의 강력한 단일정부가 중국을 통치했던 시대가 아니었던 만큼 기록 측면에서는 각각 다양한 관점의 다채로운 해석들이 풍부하게 남은 시대였다.\\n삼국 시대는 중국 역사 상 가장 폭력적이고 혼란스러운 시기 중 하나였다. 후한 말 인구조사에 집계된 중국의 전체 인구는 약 5,000만명 정도였으나 중국을 재통일한 서진이 전국 규모로 다시 실시한 인구조사로 파악된 인구는 약 1,600만명 정도에 불과하였다. 단 이것은 100년이란 짧은 기간 동안에 3,000만명이 넘는 인구가 증발했다는 것은 아니었다. 워낙 정국이 혼란스럽다 보니 많은 인구가 재산을 버리고 도적이나 유랑민이 되었고 혹은 지방 유지들에게 신변을 바치고 농노가 되었기 때문에 인구의 상당 부분이 중앙정부의 행정력을 벗어났던 것이다. 물론 백만이 넘는 사상자를 야기한 이각 곽사의 난처럼 조직적인 대학살도 빈번하게 벌어졌으며 전국 각지에서 전쟁이 끊이지 않은 만큼 많은 사상자가 발생한 것은 사실이다. 또한 중국 전역이 전쟁터로 전락하면서 생산력이 급감하고 행정력 역시 마비되었기 때문에 굶주림이나 전염병으로 죽은 사람도 많았다. 오늘날 학계에서는 삼국정립의 시점을 기준으로 당대 중국의 인구는 약 3,000만명 정도였을 것으로 보고 있다.\\n\\n\\n== 역사 ==\\n\\n\\n=== 황건적의 난 ===\\n\\n후한은 화제의 재위기 이후부터 눈에 띄게 쇠퇴하기 시작했으며 내.외부적으로 수많은 해결하기 어려운 문제들에 부딪치게 되었다. 많은 황제들이 최소한의 판단력도 갖추지 못한 어린 나이에 재위에 올랐으며 황제권은 외척의 전유물이 되었다. 황제들이 성년에 이르러도 외척들은 권력을 내주길 꺼려했기 때문에, 황제는 권력을 찾기 위해 환관들에게 의지할 수 밖에 없었다. 결국 한나라 최후의 100년은 환관과 외척 간의 궁중 정쟁이 잠시도 쉬지 않고 이어진 시대였으며 이 100년 간 후한 정부는 사태를 개선하기 위한 어떤 노력도 보여주지 못하였다.\\n반면 지방에서는 관료직을 독점하고 무너진 중농층들을 농노로 거둬들이며 대지주가 된 호족세력들이 실력자로 등장한지 오래였다. 이들은 각자 긴밀한 학연, 지연, 혈연으로 서로 묶여 있었으며 이들의 협조없이 지방을 통치하는 것은 사실상 불가능하였으며 모든 관직들을 이들 호족들이 독점했던 만큼 정부 관료의 수준은 갈수록 저하되었고 유능하지만 명문가 출신이 아니라 출세의 길이 막혀 버린 야심가들은 정부에 대한 불만 세력으로 변해갔다.\\n대외 요건도 좋지 않았는데 이 시기 즈음부터 시작된 소빙하기 현상으로 점차 농업 생산력이 감소하였으며 악화되는 기후를 피해 중국으로 이주하려는 이민족들이 빈번한 침입으로 안보 위협도 계속 높아지는 추세였다. 후한이 아직 건재할 때에도 이미 흉노족이 중원의 중앙인 황거강까지 습격해 들어오는 일이 빈번했으며 서쪽의 강족. 저족은 이미 반 독립세력을 갖추어 중앙정부의 통제를 벗어난지 오래였다. 이들을 통제하기 위해선 더 많은 군대를 변방에 배치해야 했지만 이미 자영농이 몰락해 버린 후한은 그럴 돈도 인력도 부족했고 결국은 가난한 빈농 혹은 변방의 반 이민족들을 용병으로 사용하는 가장 쉬운 길은 택했다. 비슷한 실수를 저지른 로마제국과 마찬가지로 결국 후한 역시 결국은 사병으로 전락한 이들 용병들로 인해 엄청난 재앙을 겪게 된다.\\n이러한 후한의 침체기는 환제와 영제의 대에 이르자 극에 달했다. 황제를 좌지우지 하는 환관들과 관료조직을 장악하고 있던 호족 지식계급 간의 갈등은 극에 달했는데, 환관들은 대표적인 명문 호족들을 관직에서 추방하는 일명 당고의 금으로 맞섰다. 단 이런 억압적인 대책은 일시적인 것일 뿐이었는데 아무리 환관들이 중앙정부를 장악하고 있다고 해봤자 이미 지방권력과 지식 패러다임을 장악하고 있는 호족들 없이 국가를 운영하는 것은 불가능했기 때문이다. 당고의 금은 당장은 환관의 승리로 보였지만 실제로는 이 시대의 대표 기득권이 정권을 본격적으로 불신임하는 신호탄이었던 것이다.\\n이런 흉흉한 분위기 속에서 184년 2월, 도교적 교단 태평도의 지배자였던 장각이 형제였던 장보와 장량과 함께 정부를 상대로 황건적의 난을 일으켰다. 장각은 뛰어난 조직력과 상상력의 갖춘 인물이었으며 의지할 곳이 없었던 빈농들을 도교 사상을 종교적으로 덧칠하고 민간 공동체를 제공하는 방법으로 사로잡았다. 이는 중국 역사 상 최초의 종교 반란이기도 하였다.\\n난은 급속도로 퍼져 수십만에 이르렀고, 중국 곳곳에서 많은 지지를 받았다. 그들은 36개의 요새를 가지고 있었고, 큰 요새는 만명 이상, 작은 요새는 6~7천명 정도의 군사를 가져 규모만 놓고 보면 한나라 공식 군대보다도 더 규모가 컸다. 그들은 \"창천이사 황천당립 세재갑자 천하대길(蒼天已死 黃天當立 歲在甲子 天下大吉: 푸른 하늘이 죽고 노란 하늘이 일어나니, 갑자년에 천하가 크게 길해지리라)\"라는 구호를 내세웠다. 당황한 한나라는 당고의 금을 해제하고 지방의 호족들에게 무장을 하고 황건적에게 대응해 줄 것을 요청하였다. 또한 각지의 실력과 야망은 있으나 신분이 미천해 빛을 발하지 못하고 있던 숨은 잠룡들도 바로 이 때를 계기로 처음으로 역사의 무대에 등장하게 된다. 삼국지연의는 바로 이 시점부터 시작된다. 황건적은 결국 패배하고 중국 각지로 흩어졌지만, 제국의 혼란스러운 상황때문에 살아남아 각지에서 도적으로 살아갔고, 이로 인해 시대의 혼란은 더욱 커졌다.\\n중국 곳곳으로 퍼진 도적떼들을 다 처리할 능력이 한나라 군대에는 없었다. 188년, 유언은 지방관들이 직접 그 지방을 통치할 수 있게 해달라 영제에게 건의했고, 영제는 이를 받아들였다. 이로써 기존에는 제한된 행정권만을 가지고 있었던 지방관들이 사실상 자기 관할지역의 전권을 차지하게 되었으며 이는 도적에 대한 대응에 있어서는 효율적이었으나 야심을 품은 지방관들이 결국엔 군벌화 하면서 중국의 혼란은 더욱 가속되었다.\\n\\n\\n=== 권력을 잡은 동탁 ===\\n이듬해에 영제가 죽자 한나라의 조정은 황제가 교체될 때마다 언제나 그랬듯이 외척과 환관 간의 싸움터가 되었다. 환관 건석은 외척이었던 대장군 하진을 죽이고 왕세자자리에 올라있던 유변을 대신해 유협을 왕세자로 바꿀 계획을 세웠으나 실패로 돌아갔다. 유변은 황제가 되어 소제가 되었고, 하진은 당시 대표적인 명문집안이었던 원씨 일가의 젊은 동량이었던 원소와 함께 그 당시 정권을 잡고 있던',\n",
       "   'url': 'https://ko.wikipedia.org/wiki/%EC%82%BC%EA%B5%AD_%EC%8B%9C%EB%8C%80_(%EC%A4%91%EA%B5%AD)',\n",
       "   'title': '삼국 시대 (중국)'}]}"
      ]
     },
     "execution_count": 14,
     "metadata": {},
     "output_type": "execute_result"
    }
   ],
   "source": [
    "search_wiki.invoke({\"query\":\"삼국시대\"})"
   ]
  },
  {
   "cell_type": "code",
   "execution_count": 1,
   "metadata": {},
   "outputs": [
    {
     "data": {
      "text/plain": [
       "{'result': [{'content': '삼국 시대(三國時代)는 기원전 1세기부터 7세기까지 고구려, 백제, 신라 삼국이 남만주와 한반도 일대에서 중앙집권적 국가로 발전한 시기를 일컫는다. 신라와 당나라 연합군에 의해 백제(660년), 고구려(668년) 차례로 멸망하면서 한반도 중남부에는 통일신라 북부에는 발해가 들어서 남북국 시대로 넘어간다. 각국의 전성기로 평가되는 시기는 백제 4세기, 고구려 5세기, 신라 6세기 순이다.\\n일부 사학자들은 실질적으로 삼국이 정립되어 삼국 시대가 전개된 것은 고구려, 백제의 기원인 부여가 멸망하고(494년), 또, 가야가 멸망한 562년 이후부터 신라가 백제를 정복한 660년까지 약 100년 동안의 기간 뿐이므로 부여, 가야를 포함하여 오국 시대 혹은 사국 시대라는 용어를 사용하기도 한다.\\n\\n\\n== 역사 ==\\n\\n\\n=== 삼국 시대의 배경과 원삼국 시대 ===\\n기원전 108년 왕검성(王儉城)을 함락시키고 고조선을 멸망시킨 한나라는 옛 고조선 지역에 네 개의 군을 설치했다. 한사군(낙랑군, 임둔군, 진번군, 현도군)의 지배 시기에 고조선 사회의 기존 상급 통합조직은 해체되었다. 중국계 주민들은 군현 내의 주요 지점에 설치된 토성에 주로 거주하면서 지배 족속으로 군림하였고, 고조선인은 촌락 단위로 군현 조직에 예속되었다. 또한 8조의 법금이 갑자기 60여 조로 늘어난 데서 알 수 있듯이, 고조선 사회의 전통적인 사회질서와 문화에 큰 혼란이 일어났다. 경제적으로도 군현의 공적인 수취 외에 한나라인들에 의한 수탈적인 상거래가 성행하였다. 이러한 결과를 강요한 한군현의 지배에 대한 저항이 곧이어 일어났고, 그 결과 2개 군이 폐지되고 1개 군이 축소되는 변동이 잇따랐다.\\n그러나 고조선 사회의 중심부였던 한반도 서북 지방에 설치된 낙랑군은 점차 지배 영역이 축소되긴 했지만 기원후 4세기 초까지 유지되었다. 3세기 초에는 낙랑군의 남부 지역에 대방군이 설치되었다. 낙랑군 관할에 있었던 조선현(朝鮮縣), 즉 평양 지역은 비단 한반도 서북부의 문화와 정치의 중심지였을 뿐 아니라, 한반도 남부와 일본 열도 지역의 주민과 중국 사이의 무역 중계지로서 번영하였다. 이 지역에는 상당수의 중국계 주민이 이주해 와 정착하였다.\\n이들이 남긴 무덤들에선 한나라에서 반입된 고급품과 낙랑군 현지에서 생산한 물품들이 출토되어 당시 번성한 낙랑군의 면모를 보여준다. 그러나 이런 높은 수준의 문물은 토성을 중심으로 거주하던 중국계 주민들과 낙랑군의 지배 조직의 말단에 편입된 일부 고조선계의 수장층에 한정되어 보급되었으며, 다수의 고조선인의 생활과는 무관한 것이었다. 나아가 이런 한나라의 군현들과 그 세력의 원천인 한나라는 군현의 외곽 지역에 거주하던 예·맥·한민족 사회의 정치적인 성장을 압박하는 외적 요소로 작용하였다. 한편 한나라 군현을 통해 유입되는 선진문물은 토착사회의 변화를 자극하였다.\\n이러한 상황에서 한편으로는 한나라 군현의 세력에 대항하고, 다른 한편으로는 그 선진 문물을 수용하면서, 예·맥·한민족 사회에서 삼한(마한, 변한, 진한), 고구려, 옥저, 동예, 부여 등 여러 국가들이 차례로 등장하였다. 이 국가들이 오랜 기간에 걸친 상호 통합의 과정을 거쳐, 고구려·백제·신라 등의 국가로 정립하게 되었다.\\n\\n\\n=== 삼국의 정립 ===\\n\\n\\n==== 고구려 ====\\n한족과의 투쟁 과정 속에서 점차 세력을 확대한 고구려는 유리왕 때에 이르러 전한의 뒤를 이어 일어난 신나라와 충돌할 정도로 그 세력이 성장하였다. 이어 태조왕 때부터는 강력한 대외 발전을 꾀하여 옥저를 복속시키고 요동군과 현도군을 자주 공격하였다. 또 고구려는 요하 지역을 차지하고 있던 공손씨를 축출하고, 중국이 삼국의 대치로 혼란에 빠진 틈을 타 위나라를 공격하는 등 정복 국가로서의 면모를 과시하며 집권 체제를 가다듬었다.\\n이후 고국천왕 대에 이르러 을파소 등의 유능한 대신이 등장하고, 진대법 등을 통해 내정의 안정을 꾀하였지만, 고국천왕 사후에 고발기를 비롯한 고국천왕의 형제들 간에 일어난 싸움으로 혼란이 일어나기도 하였다. 그러나 발기의 난에서 고발기를 진압하고 왕이 된 산상왕에 이어 동천왕이 즉위하면서부터는 다시 대륙과의 관계를 다양하게 전개, 위나라에는 능동적으로 대처하고 신라를 지속적으로 침범하였다.\\n이러한 정복전쟁 결과 고구려는 막대한 토지와 인간을 점유하였고, 왕실을 고정하고 부자상속을 확립하였으며, 또 5부를 개편하는 등 국가체제의 정비를 꾀하여 4세기에는 율령제가 갖추어진 고대 국가로서 발전하였다.\\n\\n\\n==== 신라와 가야 ====\\n지금의 경주를 중심으로 성장한 사로국은 중국의 금속 문화와 접촉할 기회가 적어서 고구려·백제보다 사회 발전이 늦었다. 그러나 점차적으로 동부 해안에서 정착해 온 석씨와 연합하여 연맹체를 이루어 갔다. 그리하여 탈해 이사금 때는 국호를 계림(鷄林)으로 고치고, 6촌을 개편하여 6부의 행정 구역으로 하였다. 이 시대에는 부족장의 칭호도 군장이라는 의미로 해석되는 ‘거서간’에서 무당 또는 제사장을 의미하는 ‘차차웅(次次雄)’으로, 그리고 다시 부족장 권한의 ‘계승자’라는 의미의 ‘이사금(尼師今)’으로 변했다. 그 후 미추왕의 즉위를 기점으로 김알지의 후손 김씨가 왕위를 차지하였다.\\n한편 금속문화의 전파가 늦었던 변한의 여러 부족 국가들도 3세기 이후에는 가야라는 연맹체를 형성하기 시작했다.\\n\\n\\n==== 백제 ====\\n백제의 경우 고구려 계통에서 시작했을 것이라고 추측된다. 고구려에서 도주한 온조 집단이 처음에 정착한 곳은 미추홀과 위례성이었고, 비류가 자살하면서 위례로 합쳐졌다. 고조선 멸망 후부터 파상적으로 피난해 온조왕·초고왕의 재위 기간을 거치는 동안 토착 부족 세력을 결합하면서 점차\\n낙랑·대방의 침략을 받은 한강 유역의 부족 국가들은 이에 대항하기 위하여, 보다 큰 연맹체가 요구되자 백제를 맹주로 공고히 단결함으로써 백제는 부족국가로 성장할 수 있었다.\\n\\n\\n=== 삼국의 발전 ===\\n대륙에서 후한(後漢)이 망하고 위(魏)·촉(蜀)·오(吳)의 세 나라가 각축을 벌이는 가운데, 반도에 대한 영향력이 점차 감소되고 있던 4세기에서 6세기에 이르는 시기에 삼국은 정치적으로 큰 발전을 이룩하였다. 그 중 하나는 고대 국가로의 발돋움을 위한 체제 정비이고, 다른 하나는 정복 국가로의 변모다.\\n한국의 고대 국가 체제 정비는 부족 국가 체제의 약화에서 시작되었다. 원래 부족장의 권한이 강대한 상태에서는 지방 분권적인 사회 조직이 유지될 뿐 강력한 왕권이 존재할 수 없었다. 부족 연맹 사회의 우두머리라 할 부족 연맹장으로서의 왕도 각 부족장의 통치권을 인정한 바탕 위에서 성립된 것이기 때문에 강력한 전제 왕권의 행사가 불가능하였다. 따라서 왕권의 세습이나 왕권의 부자상속 같은 것도 기대할 수 없었고, 다만 선거로써 왕좌(王座)가 변동되었다. 부여에서 가뭄과 장마의 책임을 왕에게 돌려 왕을 폐위하거나 죽인 사례나 고구려의 오부(五部) 사이에서 왕권의 이동이 있었던 사실, 신라의 세 성(박·석·김)이 왕위를 번갈아 이어받았던 것은 이러한 것을 잘 말해준다. \\n그러나 부족 연맹장의 세력은 점차 증대되고 부족장의 권한은 점차 약화되었을 뿐만 아니라, 지방의 부족장을 중앙으로 끌어올려 적당한 지위를 주어 귀족으로 편제시켰다. 신라의 골품제에서 나타난 진골을 비롯한 각 두품이나 17개의 관등, 또 고구려와 백제에서의 관등의 성립 등은 이러한 것을 잘 말해주고 있다. 이를 통해 단순한 부족 연맹의 군장이었던 왕은 종래의 부족장이 선출하던 연약한 왕권의 소유자에서 부자 상속이 가능한 절대적인 군주로 군림할 수 있었다.\\n또 하나, 고대 왕권의 구축과 고대 국가 체제의 정비에는 제도적인 면에 앞서서 사상 통일이 요청되었다. 과거의 지방 분권적이고 부족적인 사상 체계를 고대 국가적인 사상 체계로 승화시키는 데에는 보다 포괄적이고 고차원적인 이념과 윤리 강령이 필요하였다. 한국의 고대에서 고구려 (372년), 백제 (384년), 신라 (527년)가 각각 불교를 수입, 혹은 공인하는 것이 바로 이 시기였다는 것은 불교가 고대 국가 체제의 정비에서 관념 체계적인 역할을 감당했다는 것을 의미한다.\\n고구려에서 고대 국가 체제를 정비한 소수림왕과 고국양왕의 뒤를 이어 즉위한 광개토왕과 장수왕이 요동',\n",
       "   'url': 'https://ko.wikipedia.org/wiki/%EC%82%BC%EA%B5%AD_%EC%8B%9C%EB%8C%80',\n",
       "   'title': '삼국 시대'},\n",
       "  {'content': '삼국 시대(三國時代)는 후한이 멸망한 3세기 초부터 서로 다투던 위, 촉, 오를 서진이 통일한 3세기 후반까지를 가리키는 말이다. 따라서 사전적인 의미로는 위가 세워진 220년부터 오가 서진에게 멸망한 280년까지를 삼국시대로 본다. 하지만 후한의 통치력은 이미 훨씬 전 황건의 난을 계기로 이미 무너진 상태였기 때문에 황건의 난과 그 이후 펼쳐진 군웅할거의 시대 역시 삼국지대의 전초전으로 보는 것이 일반적이며 대중들에게도 오히려 삼국 정립 이후보다 후한 말의 군웅할거 시대가 훨씬 더 잘 알려져 있다. 중국의 다른 국가들과 이름을 구별하기 위해 역사가들은 이 시대의 삼국들을 각각 위는 조위, 촉은 촉한, 오는 동오 또는 손오라고 부르곤 한다.\\n다만 동탁이 사망한 직후에는 후한이 재건할 수 있는 마지막 기회가 잠깐 찾아왔었다. 하지만 탐욕에 절어있고 악에 받쳐있는 가후가 야반도주 하려던 이각과 곽사를 꼬드겨 후한 헌제의 군대와 맞서 싸우게 하였으며 이 전투에서 이각과 곽사군이 승리함으로서 후한은 완벽한 재기불능 상태로 전락했고 결국 이게 원인이 되어 멸망했다.\\n비록 상대적으로 짧은 기간이었지만 동아시아 문화에 큰 영향력을 끼친 시대다. 삼국 시대는 후대 많은 사람들에게 구전되었고, 오늘날까지도 TV, 영화, 비디오 게임 등 다양한 2차 창작물로 끝임없이 재생산되고 있다. 하지만 역시나 가장 잘 알려진 것은 명나라의 나관중이 쓴 삼국시대에 기반을 둔 역사 소설 삼국지연의다. 삼국지 연의의 인기는 그야말로 엄청나서 오늘날까지도 한자 문명권에서는 거의 모르는 사람이 없을 정도로 널리 읽혀지고 있다.\\n창작물이 아닌 권위있는 정통 역사 기록으로는 진수가 쓰고 배송지가 주석을 단 삼국지가 있다. 이 밖에도 후한서, 산양공일기, 영웅기 및 조만전 등이 당대의 시대상을 해석할 수 있게 도와주는 다양한 관점의 당대 기록들이 오늘날까지도 남아있다. 아무래도 하나의 강력한 단일정부가 중국을 통치했던 시대가 아니었던 만큼 기록 측면에서는 각각 다양한 관점의 다채로운 해석들이 풍부하게 남은 시대였다.\\n삼국 시대는 중국 역사 상 가장 폭력적이고 혼란스러운 시기 중 하나였다. 후한 말 인구조사에 집계된 중국의 전체 인구는 약 5,000만명 정도였으나 중국을 재통일한 서진이 전국 규모로 다시 실시한 인구조사로 파악된 인구는 약 1,600만명 정도에 불과하였다. 단 이것은 100년이란 짧은 기간 동안에 3,000만명이 넘는 인구가 증발했다는 것은 아니었다. 워낙 정국이 혼란스럽다 보니 많은 인구가 재산을 버리고 도적이나 유랑민이 되었고 혹은 지방 유지들에게 신변을 바치고 농노가 되었기 때문에 인구의 상당 부분이 중앙정부의 행정력을 벗어났던 것이다. 물론 백만이 넘는 사상자를 야기한 이각 곽사의 난처럼 조직적인 대학살도 빈번하게 벌어졌으며 전국 각지에서 전쟁이 끊이지 않은 만큼 많은 사상자가 발생한 것은 사실이다. 또한 중국 전역이 전쟁터로 전락하면서 생산력이 급감하고 행정력 역시 마비되었기 때문에 굶주림이나 전염병으로 죽은 사람도 많았다. 오늘날 학계에서는 삼국정립의 시점을 기준으로 당대 중국의 인구는 약 3,000만명 정도였을 것으로 보고 있다.\\n\\n\\n== 역사 ==\\n\\n\\n=== 황건적의 난 ===\\n\\n후한은 화제의 재위기 이후부터 눈에 띄게 쇠퇴하기 시작했으며 내.외부적으로 수많은 해결하기 어려운 문제들에 부딪치게 되었다. 많은 황제들이 최소한의 판단력도 갖추지 못한 어린 나이에 재위에 올랐으며 황제권은 외척의 전유물이 되었다. 황제들이 성년에 이르러도 외척들은 권력을 내주길 꺼려했기 때문에, 황제는 권력을 찾기 위해 환관들에게 의지할 수 밖에 없었다. 결국 한나라 최후의 100년은 환관과 외척 간의 궁중 정쟁이 잠시도 쉬지 않고 이어진 시대였으며 이 100년 간 후한 정부는 사태를 개선하기 위한 어떤 노력도 보여주지 못하였다.\\n반면 지방에서는 관료직을 독점하고 무너진 중농층들을 농노로 거둬들이며 대지주가 된 호족세력들이 실력자로 등장한지 오래였다. 이들은 각자 긴밀한 학연, 지연, 혈연으로 서로 묶여 있었으며 이들의 협조없이 지방을 통치하는 것은 사실상 불가능하였으며 모든 관직들을 이들 호족들이 독점했던 만큼 정부 관료의 수준은 갈수록 저하되었고 유능하지만 명문가 출신이 아니라 출세의 길이 막혀 버린 야심가들은 정부에 대한 불만 세력으로 변해갔다.\\n대외 요건도 좋지 않았는데 이 시기 즈음부터 시작된 소빙하기 현상으로 점차 농업 생산력이 감소하였으며 악화되는 기후를 피해 중국으로 이주하려는 이민족들이 빈번한 침입으로 안보 위협도 계속 높아지는 추세였다. 후한이 아직 건재할 때에도 이미 흉노족이 중원의 중앙인 황거강까지 습격해 들어오는 일이 빈번했으며 서쪽의 강족. 저족은 이미 반 독립세력을 갖추어 중앙정부의 통제를 벗어난지 오래였다. 이들을 통제하기 위해선 더 많은 군대를 변방에 배치해야 했지만 이미 자영농이 몰락해 버린 후한은 그럴 돈도 인력도 부족했고 결국은 가난한 빈농 혹은 변방의 반 이민족들을 용병으로 사용하는 가장 쉬운 길은 택했다. 비슷한 실수를 저지른 로마제국과 마찬가지로 결국 후한 역시 결국은 사병으로 전락한 이들 용병들로 인해 엄청난 재앙을 겪게 된다.\\n이러한 후한의 침체기는 환제와 영제의 대에 이르자 극에 달했다. 황제를 좌지우지 하는 환관들과 관료조직을 장악하고 있던 호족 지식계급 간의 갈등은 극에 달했는데, 환관들은 대표적인 명문 호족들을 관직에서 추방하는 일명 당고의 금으로 맞섰다. 단 이런 억압적인 대책은 일시적인 것일 뿐이었는데 아무리 환관들이 중앙정부를 장악하고 있다고 해봤자 이미 지방권력과 지식 패러다임을 장악하고 있는 호족들 없이 국가를 운영하는 것은 불가능했기 때문이다. 당고의 금은 당장은 환관의 승리로 보였지만 실제로는 이 시대의 대표 기득권이 정권을 본격적으로 불신임하는 신호탄이었던 것이다.\\n이런 흉흉한 분위기 속에서 184년 2월, 도교적 교단 태평도의 지배자였던 장각이 형제였던 장보와 장량과 함께 정부를 상대로 황건적의 난을 일으켰다. 장각은 뛰어난 조직력과 상상력의 갖춘 인물이었으며 의지할 곳이 없었던 빈농들을 도교 사상을 종교적으로 덧칠하고 민간 공동체를 제공하는 방법으로 사로잡았다. 이는 중국 역사 상 최초의 종교 반란이기도 하였다.\\n난은 급속도로 퍼져 수십만에 이르렀고, 중국 곳곳에서 많은 지지를 받았다. 그들은 36개의 요새를 가지고 있었고, 큰 요새는 만명 이상, 작은 요새는 6~7천명 정도의 군사를 가져 규모만 놓고 보면 한나라 공식 군대보다도 더 규모가 컸다. 그들은 \"창천이사 황천당립 세재갑자 천하대길(蒼天已死 黃天當立 歲在甲子 天下大吉: 푸른 하늘이 죽고 노란 하늘이 일어나니, 갑자년에 천하가 크게 길해지리라)\"라는 구호를 내세웠다. 당황한 한나라는 당고의 금을 해제하고 지방의 호족들에게 무장을 하고 황건적에게 대응해 줄 것을 요청하였다. 또한 각지의 실력과 야망은 있으나 신분이 미천해 빛을 발하지 못하고 있던 숨은 잠룡들도 바로 이 때를 계기로 처음으로 역사의 무대에 등장하게 된다. 삼국지연의는 바로 이 시점부터 시작된다. 황건적은 결국 패배하고 중국 각지로 흩어졌지만, 제국의 혼란스러운 상황때문에 살아남아 각지에서 도적으로 살아갔고, 이로 인해 시대의 혼란은 더욱 커졌다.\\n중국 곳곳으로 퍼진 도적떼들을 다 처리할 능력이 한나라 군대에는 없었다. 188년, 유언은 지방관들이 직접 그 지방을 통치할 수 있게 해달라 영제에게 건의했고, 영제는 이를 받아들였다. 이로써 기존에는 제한된 행정권만을 가지고 있었던 지방관들이 사실상 자기 관할지역의 전권을 차지하게 되었으며 이는 도적에 대한 대응에 있어서는 효율적이었으나 야심을 품은 지방관들이 결국엔 군벌화 하면서 중국의 혼란은 더욱 가속되었다.\\n\\n\\n=== 권력을 잡은 동탁 ===\\n이듬해에 영제가 죽자 한나라의 조정은 황제가 교체될 때마다 언제나 그랬듯이 외척과 환관 간의 싸움터가 되었다. 환관 건석은 외척이었던 대장군 하진을 죽이고 왕세자자리에 올라있던 유변을 대신해 유협을 왕세자로 바꿀 계획을 세웠으나 실패로 돌아갔다. 유변은 황제가 되어 소제가 되었고, 하진은 당시 대표적인 명문집안이었던 원씨 일가의 젊은 동량이었던 원소와 함께 그 당시 정권을 잡고 있던',\n",
       "   'url': 'https://ko.wikipedia.org/wiki/%EC%82%BC%EA%B5%AD_%EC%8B%9C%EB%8C%80_(%EC%A4%91%EA%B5%AD)',\n",
       "   'title': '삼국 시대 (중국)'}]}"
      ]
     },
     "execution_count": 1,
     "metadata": {},
     "output_type": "execute_result"
    }
   ],
   "source": [
    "from tools import search_wiki as s_wiki\n",
    "\n",
    "s_wiki.invoke({\"query\":\"삼국시대\"})"
   ]
  },
  {
   "cell_type": "code",
   "execution_count": null,
   "metadata": {},
   "outputs": [],
   "source": []
  },
  {
   "cell_type": "markdown",
   "metadata": {},
   "source": [
    "## Vector Store(Vector 저장소) tool\n",
    "\n",
    "### text loading -> Document 생성\n",
    "- 레스토랑 메뉴를 vector store에 저장한다.\n",
    "1. 메뉴 text 를 로딩한다.\n",
    "2. 각 메뉴의 내용(음식이름, 메뉴설명, 파일명)을 넣어 Document를 생성한다."
   ]
  },
  {
   "cell_type": "code",
   "execution_count": null,
   "metadata": {},
   "outputs": [],
   "source": []
  },
  {
   "cell_type": "code",
   "execution_count": null,
   "metadata": {},
   "outputs": [],
   "source": []
  },
  {
   "cell_type": "code",
   "execution_count": null,
   "metadata": {},
   "outputs": [],
   "source": []
  },
  {
   "cell_type": "code",
   "execution_count": null,
   "metadata": {},
   "outputs": [],
   "source": []
  },
  {
   "cell_type": "code",
   "execution_count": null,
   "metadata": {},
   "outputs": [],
   "source": []
  },
  {
   "cell_type": "markdown",
   "metadata": {},
   "source": [
    "# Agent 구현\n",
    "\n",
    "- `create_tool_calling_agent()` 를 이용해 Agent 생성\n",
    "    - 파라미터\n",
    "        - llm: 에이전트로 사용할 LLM.\n",
    "        - tools: 에이전트가 접근할 수 있는 도구들의 목록.\n",
    "        - prompt_template: 에이전트의 동작을 안내하는 프롬프트 템플릿.\n",
    "            - 이름이 `agent_scratchpad` 인 MessagesPlaceholder 추가\n",
    "                - Agent 가 tool을 호출해서 받은 정보를 prompt에 추가하는 placeholder.\n",
    "- AgentExecutor를 이용해 Agent 실행\n",
    "    - Agent의 동작을 관리하는 클래스.\n",
    "    - AgentExecutor는 사용자 요청을 처리할 때 까지 적절한 tool들을 호출하고 최종 결과를 생성해 반환하는 작업을 처리한다.\n",
    "    - 파라미터\n",
    "        - agent: 실행할 Agent.\n",
    "        - tools: Agent가 사용할 tool들 목록."
   ]
  },
  {
   "cell_type": "code",
   "execution_count": null,
   "metadata": {},
   "outputs": [],
   "source": []
  },
  {
   "cell_type": "code",
   "execution_count": null,
   "metadata": {},
   "outputs": [],
   "source": []
  },
  {
   "cell_type": "code",
   "execution_count": null,
   "metadata": {},
   "outputs": [],
   "source": []
  }
 ],
 "metadata": {
  "kernelspec": {
   "display_name": "lang_env",
   "language": "python",
   "name": "python3"
  },
  "language_info": {
   "codemirror_mode": {
    "name": "ipython",
    "version": 3
   },
   "file_extension": ".py",
   "mimetype": "text/x-python",
   "name": "python",
   "nbconvert_exporter": "python",
   "pygments_lexer": "ipython3",
   "version": "3.12.11"
  }
 },
 "nbformat": 4,
 "nbformat_minor": 4
}
