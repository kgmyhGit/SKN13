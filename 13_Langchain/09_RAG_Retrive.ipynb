{
 "cells": [
  {
   "cell_type": "markdown",
   "id": "74df2380-7ec3-41d5-b030-5df2d83c10ce",
   "metadata": {},
   "source": [
    "# Retriever\n",
    "- 비정형 질의(query)를 입력 받아 Vector store에서 관련된 내용을 검색하는 기능을 제공하는 인터페이스로 다양한 데이터 소스에서 정보를 검색하여 대규모 언어 모델(LLM) 기반 애플리케이션의 **정확성을** 향상시키는 데 핵심적인 역할을 한다.\n",
    "\n",
    "![RAG](figures/rag2.png)\n",
    "\n",
    "## 주요 특징\n",
    "- **다양한 데이터 소스 지원**\n",
    "\t- Retriever는 벡터 스토어, 그래프 데이터베이스, 관계형 데이터베이스 등 여러 종류의 검색 시스템과 상호작용할 수 있는 통일된 인터페이스를 제공한다다.\n",
    "- **간단한 인터페이스**: Retriever는 문자열 형태의 쿼리를 입력받아 관련 문서의 리스트를 반환한다. 이러한 단순한 구조 덕분에 다양한 검색 시스템과 쉽게 통합할 수 있다. \n"
   ]
  },
  {
   "cell_type": "markdown",
   "id": "52d25d4d",
   "metadata": {},
   "source": [
    "## 다양한 Retriever 방식\n",
    "\n",
    "**Retriever**란, 사용자의 질문(쿼리)에 가장 관련성 높은 정보를 찾아주는 구성 요소이다. 주로 검색 기반 질문응답 시스템(RAG, Retrieval-Augmented Generation)에서 사용된다. 다음은 자주 사용되는 다양한 Retriever의 유형과 그 특징이다.\n",
    "\n",
    "1. **벡터 스토어(Vector Store) Retriever**\n",
    "   - VectorStore로 부터 유사도를 기반으로 검색하는 가장 기본 Retriever\n",
    "   - 텍스트 조각(청크)마다 **임베딩(embedding)을** 생성하여 벡터 공간에 저장하고, 쿼리 임베딩과의 **코사인 유사도(cosine similarity)** 등을 기반으로 유사한 텍스트를 검색한다.\n",
    "   - 검색 속도가 빠르고 구현이 간단하여, 기본적인 검색 시스템을 구축할 때 적합하다.\n",
    "2. **[ParentDocumentRetriever](https://python.langchain.com/docs/how_to/parent_document_retriever/)**\n",
    "   - 하나의 문서를 여러 청크로 나눈 뒤 각각을 인덱싱하고, 쿼리와 가장 유사한 청크를 찾은 다음 해당 청크가 속한 **전체 원본 문서**를 반환한다.\n",
    "   - 작은 정보 조각들이 모여 하나의 문서를 구성할 때 유용하며, 문맥을 넓게 유지할 수 있다.\n",
    "3. **[MultiVectorRetriever](https://python.langchain.com/docs/how_to/multi_vector/)**\n",
    "   - 각 문서에 대해 요약을 하거나, 가상의 질문을 생성하거나, 사람이 중요한 내용을 직접 추가하여 문서당 여러 개의 임베딩 벡터를 생성한다.\n",
    "   - 텍스트 전체보다 더 핵심적인 정보가 검색에 반영되도록 하고자 할 때 효과적이다.\n",
    "   - 특히, 문서가 길거나, 중요한 내용이 문서의 특정 부분에 집중되어 있는 경우에 유리하다.\n",
    "4. **[SelfQueryRetriever](https://python.langchain.com/docs/how_to/self_query/)**\n",
    "   - 대규모 언어 모델(LLM, Large Language Model)을 활용하여 사용자의 질문을 적절한 검색어와 **메타데이터(metadata)** 필터로 자동 변환한다.\n",
    "   - 예를 들어, 문서의 작성자, 날짜, 태그와 같은 메타데이터를 기준으로 검색할 수 있다.\n",
    "   - 문서 자체의 내용뿐만 아니라, 문서에 부가된 속성 정보에 대해 질문할 때 유용하다.\n",
    "5. **[ContextualCompressionRetriever](https://python.langchain.com/docs/how_to/contextual_compression/)**\n",
    "   - 기존 Retriever와 조합되어 사용된다.\n",
    "   - 먼저 일반적인 검색을 수행한 후, 검색된 문서들에서 쿼리와 관련 없는 불필요한 정보를 제거하고 핵심 내용만을 추출하여 반환한다.\n",
    "   - 정보를 요약하거나 압축하여 LLM에 전달할 문서 길이를 줄일 때 유용하다.\n",
    "6. **[MultiQueryRetriever](https://python.langchain.com/docs/how_to/MultiQueryRetriever/)**\n",
    "   - LLM을 이용해 하나의 쿼리로부터 여러 가지 변형된 쿼리를 생성하고, 각 쿼리에 대해 검색을 수행한 뒤 결과를 합치는 방식.\n",
    "   - 다양한 표현에 강해 검색 범위를 넓히고 성능을 높인다.\n",
    "7. **[EnsembleRetriever](https://python.langchain.com/docs/how_to/ensemble_retriever/)**\n",
    "   - 여러 개의 Retriever(예: BM25, 벡터 기반 등)를 결합해 가중치를 기반으로 결과를 조합(re-ranking)한다.\n",
    "   - 서로 다른 장점을 가진 Retriever를 하나로 묶어 성능을 강화한다."
   ]
  },
  {
   "cell_type": "code",
   "execution_count": null,
   "id": "a5c5b8a9-c216-4115-acfa-b5f187698883",
   "metadata": {},
   "outputs": [],
   "source": []
  },
  {
   "cell_type": "code",
   "execution_count": null,
   "id": "0455f582-74bf-47b8-9276-58f978936629",
   "metadata": {},
   "outputs": [],
   "source": []
  },
  {
   "cell_type": "code",
   "execution_count": null,
   "id": "a4db555d-ca62-445d-999a-d46713cb5f06",
   "metadata": {},
   "outputs": [],
   "source": []
  },
  {
   "cell_type": "code",
   "execution_count": null,
   "id": "4263fa34-618f-482a-adb3-110b419cb732",
   "metadata": {},
   "outputs": [],
   "source": []
  },
  {
   "cell_type": "code",
   "execution_count": null,
   "id": "089d067b",
   "metadata": {},
   "outputs": [],
   "source": []
  },
  {
   "cell_type": "code",
   "execution_count": null,
   "id": "6ad75eaf",
   "metadata": {},
   "outputs": [],
   "source": []
  },
  {
   "cell_type": "markdown",
   "id": "fce6b3aa-ecf9-4874-b71d-35d74c9e6574",
   "metadata": {},
   "source": [
    "# TODO 다음을 작성한다."
   ]
  },
  {
   "cell_type": "code",
   "execution_count": 1,
   "id": "b567e3a0-df09-4ebc-91ad-34d1a56ebca7",
   "metadata": {
    "execution": {
     "iopub.execute_input": "2024-12-02T12:14:52.978789Z",
     "iopub.status.busy": "2024-12-02T12:14:52.977794Z",
     "iopub.status.idle": "2024-12-02T12:14:56.143202Z",
     "shell.execute_reply": "2024-12-02T12:14:56.142870Z",
     "shell.execute_reply.started": "2024-12-02T12:14:52.978789Z"
    }
   },
   "outputs": [],
   "source": [
    "from langchain_community.document_loaders import TextLoader\n",
    "from langchain_chroma import Chroma\n",
    "from langchain_openai import OpenAIEmbeddings, ChatOpenAI\n",
    "from langchain_text_splitters import RecursiveCharacterTextSplitter\n",
    "from langchain.prompts import ChatPromptTemplate\n",
    "from langchain_core.runnables import RunnablePassthrough\n",
    "\n",
    "\n",
    "collection_name = \"olmpic_docs\"\n",
    "persist_directory = \"vector_store/chroma/olympic\"\n",
    "\n",
    "# Text Loading\n",
    "\n",
    "\n",
    "# Split\n",
    "\n",
    "\n",
    "# Vector Store 생성\n",
    "\n",
    "\n",
    "# Retriever 생성 - \"mmr\" 방식\n",
    "\n"
   ]
  },
  {
   "cell_type": "code",
   "execution_count": null,
   "id": "ace68f09-666b-4e17-83e7-d5ecb64ef5e0",
   "metadata": {},
   "outputs": [],
   "source": [
    "# Prompt Template 생성\n",
    "\n",
    "\n",
    "\n",
    "# Chain 구성\n",
    "\n",
    "\n"
   ]
  },
  {
   "cell_type": "code",
   "execution_count": null,
   "id": "b82baeb6-6a5f-4026-aa98-1873a65dfe3b",
   "metadata": {},
   "outputs": [],
   "source": [
    "# Chain을 이용해 질의\n",
    "\n",
    "\n"
   ]
  },
  {
   "cell_type": "code",
   "execution_count": null,
   "id": "1b551faf-f1ce-44dc-bbfe-c0ad84fbcdcf",
   "metadata": {},
   "outputs": [],
   "source": []
  },
  {
   "cell_type": "code",
   "execution_count": null,
   "id": "8177863b-e4d9-44c3-9af2-0acbb4482548",
   "metadata": {},
   "outputs": [],
   "source": []
  }
 ],
 "metadata": {
  "kernelspec": {
   "display_name": "Python 3 (ipykernel)",
   "language": "python",
   "name": "python3"
  },
  "language_info": {
   "codemirror_mode": {
    "name": "ipython",
    "version": 3
   },
   "file_extension": ".py",
   "mimetype": "text/x-python",
   "name": "python",
   "nbconvert_exporter": "python",
   "pygments_lexer": "ipython3",
   "version": "3.12.2"
  }
 },
 "nbformat": 4,
 "nbformat_minor": 5
}
