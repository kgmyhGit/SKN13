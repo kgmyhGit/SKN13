{
 "cells": [
  {
   "cell_type": "markdown",
   "id": "b8e37759-3e94-4abc-bac5-334a0c0adc1f",
   "metadata": {},
   "source": [
    "# Output Parser\n",
    "**Output Parser**는 대규모 언어 모델(LLM, Large Language Model)의 출력 결과를 **애플리케이션에서 활용할 수 있도록 적절한 형식으로 변환**하는 도구이다.\n",
    "- LLM은 일반적으로 텍스트 형태로 응답을 생성하지만, 이 텍스트는 그대로 활용하기 어려운 경우가 많다.\n",
    "- Output Parser는 이러한 **비구조적 텍스트 데이터를 구조화된 데이터로 변환**하여 프로그램에서 활용 가능하도록 만든다.\n",
    "- 예를 들어, 키워드 리스트를 뽑거나 JSON 형식으로 정보를 변환하는 데 사용된다.\n",
    "\n",
    "## 주요 Output Parser 종류\n",
    "\n",
    "1. **CommaSeparatedListOutputParser**\n",
    "   - 쉼표로 구분된 텍스트를 파싱하여 리스트 형태로 변환한다.\n",
    "   - 예: `\"사과, 바나나, 포도\"` → `[\"사과\", \"바나나\", \"포도\"]`\n",
    "2. **JsonOutputParser**\n",
    "   - LLM의 출력이 JSON 형식일 때 이를 Python의 `dict` 객체로 변환한다.\n",
    "   - JSON(JavaScript Object Notation)은 데이터 구조를 표현하기 위한 경량 포맷이다.\n",
    "3. **PydanticOutputParser**\n",
    "   - JSON 데이터를 Python의 [Pydantic](https://docs.pydantic.dev) 모델로 변환한다.\n",
    "   - Pydantic은 데이터 유효성 검사와 설정 관리에 널리 사용되는 Python 라이브러리이다.\n",
    "4. **StrOutputParser**\n",
    "   - 모델의 출력 결과를 단순 문자열로 반환한다.\n",
    "   - Chat 기반 모델은 Message 객체의 속성으로 LLM 결과를 반환한다. 거기에서 응답 문자열만 추출해서 반환한다.\n",
    "> `JsonOutputParser`, `PydanticOutputParser` 는 모두 Pydantic을 사용해 데이터 구조(schema)를 정의하고, 해당 구조에 따라 출력을 검증하고 변환한다.\n",
    "\n",
    "## 주요 메소드\n",
    "- `parse(text: str)`\n",
    "  - LLM이 생성한 문자열 응답을 받아 정해진 구조로 변환하여 반환한다.\n",
    "- `get_format_instructions() -> str`\n",
    "  - 각 OutputParer가 변환할 수있는 형식으로 LLM이 응답하도록 하는 프롬프트 텍스트를 반환한다.\n",
    "  - 이 내용을 프롬프트에 넣어서 LLM이 정확한 포맷으로 응답하도록 유도한다.\n",
    "  \n",
    "## 참고\n",
    "- Output Parser는 일반적으로 [`Runnable`](05_chaing_LECL.ipynb#Runnable) 인터페이스를 상속하여 구현되며, `invoke()` 메서드를 통해 실행할 수 있다.\n",
    "- `invoke()`는 내부적으로 `parse()`를 호출하여 동작한다.\n",
    "- 필요한 경우 Output Parser를 직접 구현하여 사용자 정의 출력 포맷을 처리할 수도 있다. \n"
   ]
  },
  {
   "cell_type": "code",
   "execution_count": 1,
   "id": "fb27467a-c221-4464-8d63-9cd5c390c7db",
   "metadata": {},
   "outputs": [
    {
     "data": {
      "text/plain": [
       "True"
      ]
     },
     "execution_count": 1,
     "metadata": {},
     "output_type": "execute_result"
    }
   ],
   "source": [
    "from dotenv import load_dotenv\n",
    "\n",
    "load_dotenv()"
   ]
  },
  {
   "cell_type": "markdown",
   "id": "f08d0e64-7c94-45fc-8070-b76965ed0943",
   "metadata": {},
   "source": [
    "## StrOutputParser\n",
    "- 모델(LLM)의 출력 결과를 string으로 변환하여 반환하는 output parser.\n",
    "- Chat Model은  Message 객체에서 content 속성값을 추출하여 문자열로 반환한다."
   ]
  },
  {
   "cell_type": "code",
   "execution_count": 6,
   "id": "8a12c88d-3b3c-48e2-8137-8e25a49075db",
   "metadata": {},
   "outputs": [],
   "source": [
    "from langchain.prompts import ChatPromptTemplate\n",
    "from langchain_openai import ChatOpenAI\n",
    "from langchain_core.output_parsers import StrOutputParser\n",
    "\n",
    "# 프롬프트 생성\n",
    "prompt_template = ChatPromptTemplate.from_template(\n",
    "    \"한국의 {topic} 관련된 속담을 {count}개 알려줘.\"\n",
    ")\n",
    "prompt = prompt_template.format(topic=\"호랑이\", count=2)\n",
    "\n",
    "# LLM 모델 생성\n",
    "model = ChatOpenAI(model_name=\"gpt-4o-mini\")\n",
    "\n",
    "# LLM 모델에 prompt를 전달하고 응답 받기.\n",
    "## prompt -> llm model -> response\n",
    "response = model.invoke(prompt)"
   ]
  },
  {
   "cell_type": "code",
   "execution_count": 10,
   "id": "7ed24334",
   "metadata": {},
   "outputs": [
    {
     "data": {
      "text/plain": [
       "{'token_usage': {'completion_tokens': 120,\n",
       "  'prompt_tokens': 25,\n",
       "  'total_tokens': 145,\n",
       "  'completion_tokens_details': {'accepted_prediction_tokens': 0,\n",
       "   'audio_tokens': 0,\n",
       "   'reasoning_tokens': 0,\n",
       "   'rejected_prediction_tokens': 0},\n",
       "  'prompt_tokens_details': {'audio_tokens': 0, 'cached_tokens': 0}},\n",
       " 'model_name': 'gpt-4o-mini-2024-07-18',\n",
       " 'system_fingerprint': 'fp_34a54ae93c',\n",
       " 'id': 'chatcmpl-BgLSwMbNhDNFUzlXSS683FKQZikKO',\n",
       " 'service_tier': 'default',\n",
       " 'finish_reason': 'stop',\n",
       " 'logprobs': None}"
      ]
     },
     "execution_count": 10,
     "metadata": {},
     "output_type": "execute_result"
    }
   ],
   "source": [
    "response.response_metadata"
   ]
  },
  {
   "cell_type": "code",
   "execution_count": 11,
   "id": "acc69603-8a16-4980-bd0d-3b8a2e112b1a",
   "metadata": {},
   "outputs": [
    {
     "name": "stdout",
     "output_type": "stream",
     "text": [
      "응답결과: 한국에서 호랑이와 관련된 속담은 다음과 같습니다.\n",
      "\n",
      "1. **\"호랑이 굴에 가야 호랑이 새끼를 잡는다.\"**\n",
      "   - 의미: 원하는 것을 얻으려면 위험을 감수해야 한다는 뜻입니다.\n",
      "\n",
      "2. **\"호랑이 담배 피우던 시절.\"**\n",
      "   - 의미: 아주 오래전의 일을 이야기할 때 사용되며, 과거를 회상하는 표현입니다.\n",
      "\n",
      "이 속담들은 한국 문화에서 호랑이의 위엄과 관련된 의미를 담고 있습니다.\n"
     ]
    }
   ],
   "source": [
    "print(\"응답결과:\", response.content)"
   ]
  },
  {
   "cell_type": "code",
   "execution_count": 13,
   "id": "1c5f3f6f",
   "metadata": {},
   "outputs": [
    {
     "name": "stdout",
     "output_type": "stream",
     "text": [
      "한국에서 호랑이와 관련된 속담은 다음과 같습니다.\n",
      "\n",
      "1. **\"호랑이 굴에 가야 호랑이 새끼를 잡는다.\"**\n",
      "   - 의미: 원하는 것을 얻으려면 위험을 감수해야 한다는 뜻입니다.\n",
      "\n",
      "2. **\"호랑이 담배 피우던 시절.\"**\n",
      "   - 의미: 아주 오래전의 일을 이야기할 때 사용되며, 과거를 회상하는 표현입니다.\n",
      "\n",
      "이 속담들은 한국 문화에서 호랑이의 위엄과 관련된 의미를 담고 있습니다.\n"
     ]
    }
   ],
   "source": [
    "parser = StrOutputParser()  # Message 객체에서 content 속성(메세지)의 값만 추출.\n",
    "res = parser.invoke(response) # LLM 모델의 응답결과\n",
    "print(res)"
   ]
  },
  {
   "cell_type": "code",
   "execution_count": null,
   "id": "e68abef4",
   "metadata": {},
   "outputs": [
    {
     "name": "stdout",
     "output_type": "stream",
     "text": [
      "content='한국의 정신력과 관련된 속담은 다음과 같습니다:\\n\\n1. **\"고생 끝에 낙이 온다\"**  \\n   고생이나 어려움을 겪고 나면 좋은 날이 온다는 의미로, 힘든 상황을 이겨내는 정신력을 강조합니다.\\n\\n2. **\"산 넘어 산\"**  \\n   문제나 어려움이 하나 해결되면 또 다른 어려움이 나타난다는 뜻으로, 계속해서 도전하고 극복해 나가는 정신력을 나타냅니다.\\n\\n3. **\"하늘을 향해 뻗은 손은 반드시 길어진다\"**  \\n   목표를 향해 꾸준히 노력하는 사람은 결국 성과를 이룰 수 있다는 뜻으로, 끈기와 인내를 강조하는 속담입니다.\\n\\n이 속담들은 어려운 상황에서도 포기하지 않고 견디는 정신력을 잘 표현하고 있습니다.' additional_kwargs={'refusal': None} response_metadata={'token_usage': {'completion_tokens': 190, 'prompt_tokens': 24, 'total_tokens': 214, 'completion_tokens_details': {'accepted_prediction_tokens': 0, 'audio_tokens': 0, 'reasoning_tokens': 0, 'rejected_prediction_tokens': 0}, 'prompt_tokens_details': {'audio_tokens': 0, 'cached_tokens': 0}}, 'model_name': 'gpt-4o-mini-2024-07-18', 'system_fingerprint': 'fp_62a23a81ef', 'id': 'chatcmpl-BgLfm4tKUxst5EN6DNkWIyyGbqjIs', 'service_tier': 'default', 'finish_reason': 'stop', 'logprobs': None} id='run--9cbc08a3-cf62-43b3-b7d7-a5b6da7a988d-0' usage_metadata={'input_tokens': 24, 'output_tokens': 190, 'total_tokens': 214, 'input_token_details': {'audio': 0, 'cache_read': 0}, 'output_token_details': {'audio': 0, 'reasoning': 0}}\n"
     ]
    }
   ],
   "source": [
    "# prompt_template -> model -> output parser\n",
    "chain = prompt_template | model | parser\n",
    "\n",
    "res = chain.invoke({\"topic\":\"사람의 정신력\", \"count\":3})\n",
    "print(res)"
   ]
  },
  {
   "cell_type": "code",
   "execution_count": null,
   "id": "3253ce95",
   "metadata": {},
   "outputs": [],
   "source": []
  },
  {
   "cell_type": "markdown",
   "id": "85c38dec-0141-468f-9145-96c7062db100",
   "metadata": {},
   "source": [
    "## CommaSeparatedListOutputParser\n",
    "\n",
    "- 쉼표로 구분된 텍스트를 파싱하여 리스트 형태로 변환한다.\n",
    "  - \"a,b,c\" => ['a','b','c']"
   ]
  },
  {
   "cell_type": "code",
   "execution_count": 5,
   "id": "e7676198-380d-44e9-90a5-1e400244add8",
   "metadata": {},
   "outputs": [
    {
     "name": "stdout",
     "output_type": "stream",
     "text": [
      "['사과', '배', '귤', '수박', '오렌지']\n"
     ]
    }
   ],
   "source": [
    "from langchain_core.output_parsers import CommaSeparatedListOutputParser\n",
    "\n",
    "parser = CommaSeparatedListOutputParser()\n",
    "res_txt = \"사과,배,귤,수박,오렌지\"\n",
    "print(parser.invoke(res_txt))"
   ]
  },
  {
   "cell_type": "code",
   "execution_count": 6,
   "id": "4d45fc6a",
   "metadata": {},
   "outputs": [
    {
     "name": "stdout",
     "output_type": "stream",
     "text": [
      "Your response should be a list of comma separated values, eg: `foo, bar, baz` or `foo,bar,baz`\n"
     ]
    }
   ],
   "source": [
    "# 출력 형식을 지정하는 프롬프트를 조회\n",
    "format_string = parser.get_format_instructions()\n",
    "print(format_string)\n"
   ]
  },
  {
   "cell_type": "code",
   "execution_count": 8,
   "id": "4b93df61-56af-450b-9255-d5c5026cd2a2",
   "metadata": {},
   "outputs": [],
   "source": [
    "from langchain.prompts import ChatPromptTemplate\n",
    "from langchain_openai import ChatOpenAI\n",
    "\n",
    "from textwrap import dedent\n",
    "prompt_template = ChatPromptTemplate.from_template(\n",
    "    dedent(\"\"\"\n",
    "    # instruction\n",
    "    {subject}의 이름 다섯개를 나열해주세요.\n",
    "    \n",
    "    # output indicator\n",
    "    {format_instructions}\n",
    "    \"\"\"),\n",
    "    partial_variables={\"format_instructions\": parser.get_format_instructions()}\n",
    ")\n",
    "# partial_variables={변수명:넣을값,..} : 템플릿의 placeholder 변수에 넣을 값을 \n",
    "#   PromptTemplate객체를 생성할 때 넣겠다. placeholder에 넣을 값이 있는데 함수나 메소드호출을 통해 \n",
    "#   그 값을 가져와야 하는 경우 사용.\n",
    "\n",
    "model = ChatOpenAI(model_name=\"gpt-4o-mini\")\n",
    "\n",
    "# prompt 생성\n",
    "prompt = prompt_template.invoke({\"subject\":\"동물\"})\n",
    "# LLM에 요청\n",
    "response = model.invoke(prompt)"
   ]
  },
  {
   "cell_type": "code",
   "execution_count": 10,
   "id": "169f6cc3",
   "metadata": {},
   "outputs": [
    {
     "name": "stdout",
     "output_type": "stream",
     "text": [
      "개, 고양이, 코끼리, 기린, 원숭이\n",
      "<class 'list'>\n",
      "['개', '고양이', '코끼리', '기린', '원숭이']\n"
     ]
    }
   ],
   "source": [
    "# 응답 확인\n",
    "print(response.content)\n",
    "# parser를 이용해 List로 변환.\n",
    "res = parser.invoke(response)\n",
    "print(type(res))\n",
    "print(res)"
   ]
  },
  {
   "cell_type": "code",
   "execution_count": 11,
   "id": "ba425bcd",
   "metadata": {},
   "outputs": [
    {
     "data": {
      "text/plain": [
       "'개'"
      ]
     },
     "execution_count": 11,
     "metadata": {},
     "output_type": "execute_result"
    }
   ],
   "source": [
    "res[0]"
   ]
  },
  {
   "cell_type": "code",
   "execution_count": 32,
   "id": "8c01e7bf",
   "metadata": {},
   "outputs": [
    {
     "data": {
      "text/plain": [
       "['소나타', '아반떼', '모닝', '싼타페', 'K5']"
      ]
     },
     "execution_count": 32,
     "metadata": {},
     "output_type": "execute_result"
    }
   ],
   "source": [
    "# chain으로 구성\n",
    "chain = prompt_template | model | parser\n",
    "\n",
    "res = chain.invoke({\"subject\":\"한국산 자동차\"})\n",
    "res"
   ]
  },
  {
   "cell_type": "markdown",
   "id": "abe378b6-26db-4218-a0b1-64ff93fa044d",
   "metadata": {},
   "source": [
    "## JsonOutputParser\n",
    "\n",
    "- JSON 형식의 응답을 dictionary로 반환한다.\n",
    "- JSON 형식을 정하려는 경우 [Pydantic](Ref_typing_Pydantic.ipynb)을 이용해 JSON 스키마를 정의하여 JsonOutputParser 생성시 전달한다.\n",
    "  - Pydantic 모델클래스를 이용해 LLM 모델이 응답할 때 json의 어떤 key에 어떤 응답을 작성할 지 Field로 정의한다.\n",
    "  - Schema 지정은 필수는 아니다. \n",
    "- LLM이 JSON Schema를 따르는 형태로 응답을 하면 JsonOutputParser는 Dictionary로 변환한다."
   ]
  },
  {
   "cell_type": "code",
   "execution_count": 13,
   "id": "d0274a4d-c883-4473-b0d3-f9ac3f3e13fd",
   "metadata": {},
   "outputs": [
    {
     "name": "stdout",
     "output_type": "stream",
     "text": [
      "<class 'dict'>\n"
     ]
    },
    {
     "data": {
      "text/plain": [
       "('홍길동', '서울')"
      ]
     },
     "execution_count": 13,
     "metadata": {},
     "output_type": "execute_result"
    }
   ],
   "source": [
    "from langchain_core.output_parsers import JsonOutputParser\n",
    "\n",
    "parser = JsonOutputParser()\n",
    "res_text = \"\"\"\n",
    "{\n",
    "    \"name\":\"홍길동\",\n",
    "    \"age\": 20,\n",
    "    \"address\": \"서울\",\n",
    "    \"hobby\": [\"독서\", \"게임\"]\n",
    "}\n",
    "\"\"\"\n",
    "res_dict = parser.invoke(res_text)\n",
    "print(type(res_dict))\n",
    "res_dict\n",
    "res_dict[\"name\"], res_dict[\"address\"]"
   ]
  },
  {
   "cell_type": "code",
   "execution_count": 38,
   "id": "15f82523-783e-41ea-99c1-798157a296a1",
   "metadata": {},
   "outputs": [
    {
     "data": {
      "text/plain": [
       "'Return a JSON object.'"
      ]
     },
     "execution_count": 38,
     "metadata": {},
     "output_type": "execute_result"
    }
   ],
   "source": [
    "parser.get_format_instructions()"
   ]
  },
  {
   "cell_type": "code",
   "execution_count": 52,
   "id": "30a08e96",
   "metadata": {},
   "outputs": [],
   "source": [
    "prompt_template = ChatPromptTemplate.from_template(\n",
    "    \"{name}에 대해서 설명해줘.\\n{format_instructions}\",\n",
    "    partial_variables={\"format_instructions\":parser.get_format_instructions()}\n",
    ")\n",
    "model = ChatOpenAI(model_name=\"gpt-4o-mini\")\n",
    "\n",
    "prompt = prompt_template.invoke({\"name\":\"제네시스\"})\n",
    "res = model.invoke(prompt)"
   ]
  },
  {
   "cell_type": "code",
   "execution_count": 53,
   "id": "206c8371",
   "metadata": {},
   "outputs": [
    {
     "name": "stdout",
     "output_type": "stream",
     "text": [
      "```json\n",
      "{\n",
      "  \"브랜드\": \"제네시스\",\n",
      "  \"설명\": \"제네시스는 현대자동차 그룹의 프리미엄 자동차 브랜드로, 2015년에 독립 브랜드로 출시되었습니다. 제네시스는 고급스러운 디자인과 첨단 기술, 뛰어난 성능을 강조하며, 고객에게 맞춤형 서비스와 경험을 제공하는 것을 목표로 하고 있습니다.\",\n",
      "  \"모델\": [\n",
      "    {\n",
      "      \"이름\": \"G70\",\n",
      "      \"차종\": \"세단\",\n",
      "      \"특징\": \"운전의 즐거움을 중시하며, 고급스러운 내부와 뛰어난 주행 성능을 제공합니다.\"\n",
      "    },\n",
      "    {\n",
      "      \"이름\": \"G80\",\n",
      "      \"차종\": \"대형 세단\",\n",
      "      \"특징\": \"프리미엄 세단으로, 넓은 실내 공간과 고급스러운 인테리어, 다양한 첨단 기능을 자랑합니다.\"\n",
      "    },\n",
      "    {\n",
      "      \"이름\": \"G90\",\n",
      "      \"차종\": \"플래그십 세단\",\n",
      "      \"특징\": \"최고급 모델로, 최첨단 기술과 최고의 안락함을 제공합니다.\"\n",
      "    },\n",
      "    {\n",
      "      \"이름\": \"GV70\",\n",
      "      \"차종\": \"SUV\",\n",
      "      \"특징\": \"스타일과 실용성을 겸비한 중형 SUV로, 적극적인 주행 성능을 발휘합니다.\"\n",
      "    },\n",
      "    {\n",
      "      \"이름\": \"GV80\",\n",
      "      \"차종\": \"대형 SUV\",\n",
      "      \"특징\": \"럭셔리 대형 SUV로, 다채로운 안전 및 편의 기능을 갖추고 있습니다.\"\n",
      "    }\n",
      "  ],\n",
      "  \"비전\": \"제네시스는 혁신적이고 지속 가능한 미래의 자동차를 만들기 위해 노력하며, 글로벌 브랜드로 자리매김하기 위한 다양한 전략을 시행하고 있습니다.\"\n",
      "}\n",
      "```\n"
     ]
    }
   ],
   "source": [
    "print(res.content)"
   ]
  },
  {
   "cell_type": "code",
   "execution_count": 48,
   "id": "b96a740c",
   "metadata": {},
   "outputs": [
    {
     "name": "stdout",
     "output_type": "stream",
     "text": [
      "<class 'str'> <class 'dict'>\n"
     ]
    }
   ],
   "source": [
    "res_dict = parser.invoke(res)\n",
    "print(type(res.content), type(res_dict))"
   ]
  },
  {
   "cell_type": "code",
   "execution_count": 51,
   "id": "4cbe8a12",
   "metadata": {},
   "outputs": [
    {
     "data": {
      "text/plain": [
       "'2007년 6월'"
      ]
     },
     "execution_count": 51,
     "metadata": {},
     "output_type": "execute_result"
    }
   ],
   "source": [
    "res_dict[\"아이폰\"]['첫 번째 출시']"
   ]
  },
  {
   "cell_type": "code",
   "execution_count": 16,
   "id": "74a20524",
   "metadata": {},
   "outputs": [],
   "source": [
    "# 출력 스키마를 정의\n",
    "## json 형식을 설계.\n",
    "from pydantic import BaseModel, Field\n",
    "\n",
    "class ItemSchema(BaseModel):\n",
    "    # JSON에 포함될 항목들을 class변수로 정의. 변수명: 타입 = Field(설명)\n",
    "    name: str = Field(description=\"제품의 이름\")\n",
    "    info: str = Field(description=\"제품에 대한 정보\")\n",
    "    release_date: str = Field(description=\"제품이 출시된 일시. yyyy-mm-dd 형식\")\n",
    "    price: int = Field(description=\"제품의 한국 가격.\")\n",
    "\n",
    "parser = JsonOutputParser(pydantic_object=ItemSchema)\n",
    "# print(parser.get_format_instructions())\n",
    "\n",
    "prompt_template = ChatPromptTemplate.from_template(\n",
    "    dedent(\"\"\"\n",
    "    # instruction\n",
    "    {name}에 대해서 설명해주세요.\n",
    "           \n",
    "    # output indicator\n",
    "    {format_instructions}\n",
    "    \"\"\"),\n",
    "    partial_variables={\"format_instructions\": parser.get_format_instructions()}\n",
    ")\n",
    "\n",
    "model = ChatOpenAI(model_name=\"gpt-4o-mini\")"
   ]
  },
  {
   "cell_type": "code",
   "execution_count": 17,
   "id": "cf1aa994",
   "metadata": {},
   "outputs": [],
   "source": [
    "p = prompt_template.invoke({\"name\":\"Galaxy S24\"})\n",
    "# print(p.messages[0].content)\n",
    "res = model.invoke(p)\n",
    "# print(res.content)\n",
    "response = parser.invoke(res)"
   ]
  },
  {
   "cell_type": "code",
   "execution_count": 18,
   "id": "d4154a54",
   "metadata": {},
   "outputs": [
    {
     "data": {
      "text/plain": [
       "{'name': 'Galaxy S24',\n",
       " 'info': 'Galaxy S24는 최신 모바일 기술이 집약된 스마트폰으로, 뛰어난 성능과 카메라 기능을 제공합니다. 진보된 디스플레이와 강력한 프로세서, 개선된 배터리 수명이 특징입니다.',\n",
       " 'release_date': '2024-02-01',\n",
       " 'price': 1099000}"
      ]
     },
     "execution_count": 18,
     "metadata": {},
     "output_type": "execute_result"
    }
   ],
   "source": [
    "response"
   ]
  },
  {
   "cell_type": "markdown",
   "id": "6c47de9c-f028-45e0-adf7-f31239afaf2f",
   "metadata": {},
   "source": [
    "## PydanticOutputParser\n",
    "\n",
    "- JSON 형태로 받은 응답을 Pydantic 모델로 변환하여 반환한다.\n",
    "- 구현은 JsonOutputParser와 동일한데 parsing 결과를 pydantic 모델타입으로 반환한다."
   ]
  },
  {
   "cell_type": "code",
   "execution_count": 68,
   "id": "4474a71b-61aa-4877-b1ae-8d54cfc51bbe",
   "metadata": {},
   "outputs": [
    {
     "name": "stdout",
     "output_type": "stream",
     "text": [
      "The output should be formatted as a JSON instance that conforms to the JSON schema below.\n",
      "\n",
      "As an example, for the schema {\"properties\": {\"foo\": {\"title\": \"Foo\", \"description\": \"a list of strings\", \"type\": \"array\", \"items\": {\"type\": \"string\"}}}, \"required\": [\"foo\"]}\n",
      "the object {\"foo\": [\"bar\", \"baz\"]} is a well-formatted instance of the schema. The object {\"properties\": {\"foo\": [\"bar\", \"baz\"]}} is not well-formatted.\n",
      "\n",
      "Here is the output schema:\n",
      "```\n",
      "{\"properties\": {\"name\": {\"description\": \"제품의 이름\", \"title\": \"Name\", \"type\": \"string\"}, \"info\": {\"description\": \"제품에 대한 정보\", \"title\": \"Info\", \"type\": \"string\"}, \"release_date\": {\"description\": \"제품이 출시된 일시. yyyy-mm-dd 형식\", \"title\": \"Release Date\", \"type\": \"string\"}, \"price\": {\"description\": \"제품의 한국 가격.\", \"title\": \"Price\", \"type\": \"integer\"}}, \"required\": [\"name\", \"info\", \"release_date\", \"price\"]}\n",
      "```\n"
     ]
    }
   ],
   "source": [
    "from langchain_core.output_parsers import PydanticOutputParser\n",
    "\n",
    "parser = PydanticOutputParser(pydantic_object=ItemSchema)\n",
    "# JsonOutputParser와 동일한 format instruction을 생성.\n",
    "## 응답: JSON ->  Parser: Pydatic Model객체로 변환.\n",
    "print(parser.get_format_instructions())"
   ]
  },
  {
   "cell_type": "code",
   "execution_count": 69,
   "id": "1b95da11-4334-4d01-a33f-b48148659f57",
   "metadata": {},
   "outputs": [],
   "source": [
    "prompt_template = ChatPromptTemplate.from_template(\n",
    "    dedent(\"\"\"\n",
    "    # instruction\n",
    "    {name}에 대해서 설명해주세요.\n",
    "           \n",
    "    # output indicator\n",
    "    {format_instructions}\n",
    "    \"\"\"),\n",
    "    partial_variables={\"format_instructions\": parser.get_format_instructions()}\n",
    ")\n",
    "\n",
    "model = ChatOpenAI(model_name=\"gpt-4o-mini\")"
   ]
  },
  {
   "cell_type": "code",
   "execution_count": 72,
   "id": "38662eb2-a7c2-473b-bdb0-a5054048458a",
   "metadata": {},
   "outputs": [],
   "source": [
    "prompt = prompt_template.invoke({\"name\":\"Mac Book\"})\n",
    "res = model.invoke(prompt)\n",
    "response = parser.invoke(res)"
   ]
  },
  {
   "cell_type": "code",
   "execution_count": 73,
   "id": "f2977085-d5bc-438f-91d4-14227e66761b",
   "metadata": {},
   "outputs": [
    {
     "name": "stdout",
     "output_type": "stream",
     "text": [
      "<class '__main__.ItemSchema'>\n"
     ]
    }
   ],
   "source": [
    "print(type(response))"
   ]
  },
  {
   "cell_type": "code",
   "execution_count": 76,
   "id": "30f6ed8d",
   "metadata": {},
   "outputs": [
    {
     "name": "stdout",
     "output_type": "stream",
     "text": [
      "제품이름: MacBook\n",
      "정보: 애플이 제조하는 노트북 컴퓨터로, 고급스러운 디자인과 강력한 성능을 자랑합니다. macOS 운영 체제를 사용하며, 다양한 모델이 존재합니다.\n",
      "2021-10-18 1599000\n"
     ]
    }
   ],
   "source": [
    "print(\"제품이름:\", response.name)\n",
    "print(\"정보:\", response.info)\n",
    "print(response.release_date, response.price)"
   ]
  },
  {
   "cell_type": "code",
   "execution_count": 77,
   "id": "d9d2af47",
   "metadata": {},
   "outputs": [],
   "source": [
    "chain = prompt_template | model | parser\n",
    "\n",
    "response = chain.invoke({\"name\":\"아이폰\"})"
   ]
  },
  {
   "cell_type": "code",
   "execution_count": 78,
   "id": "36cc64e6",
   "metadata": {},
   "outputs": [
    {
     "data": {
      "text/plain": [
       "ItemSchema(name='아이폰', info='아이폰은 애플(Apple)에서 개발한 스마트폰으로, 매력적인 디자인과 사용자 친화적인 인터페이스, 강력한 성능을 자랑합니다. 다양한 애플리케이션과 서비스를 제공하며, 전 세계적으로 많은 사용자층을 보유하고 있습니다.', release_date='2023-09-12', price=1250000)"
      ]
     },
     "execution_count": 78,
     "metadata": {},
     "output_type": "execute_result"
    }
   ],
   "source": [
    "response"
   ]
  }
 ],
 "metadata": {
  "kernelspec": {
   "display_name": "lang_env",
   "language": "python",
   "name": "python3"
  },
  "language_info": {
   "codemirror_mode": {
    "name": "ipython",
    "version": 3
   },
   "file_extension": ".py",
   "mimetype": "text/x-python",
   "name": "python",
   "nbconvert_exporter": "python",
   "pygments_lexer": "ipython3",
   "version": "3.12.11"
  }
 },
 "nbformat": 4,
 "nbformat_minor": 5
}
