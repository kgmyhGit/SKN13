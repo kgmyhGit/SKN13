{
 "cells": [
  {
   "cell_type": "markdown",
   "id": "1663fa59",
   "metadata": {},
   "source": [
    "# 1. 랭그래프(Langgraph)란 어떤 프레임워크인가\n",
    "\n",
    "## **랭그래프란?**\n",
    "\n",
    "랭그래프는 LangChain 생태계에서 개발된 그래프 기반 워크플로우 프레임워크로, 복잡한 멀티 에이전트 시스템과 상태 기반 AI 애플리케이션을 개발하는 데 특화되어 있다. 기존의 선형적인 처리 방식과 달리, 노드(점)와 엣지(선)로 구성된 그래프 구조를 통해 비선형적이고 동적인 프로세스를 구성할 수 있다.\n",
    "\n",
    "랭그래프의 가장 큰 특징은 **사이클(순환 구조)**을 지원한다는 점이다4. 이는 특정 조건에 따라 이전 단계로 돌아가거나 다른 경로를 선택할 수 있음을 의미한다. 예를 들어, 검색 결과가 만족스럽지 않을 때 다시 검색을 수행하거나, 답변의 품질이 낮을 때 재생성을 요청하는 등의 복잡한 로직을 구현할 수 있다.\n",
    "\n",
    "## **랭체인과의 관계**\n",
    "\n",
    "랭그래프는 랭체인(LangChain)의 기능을 확장하여 만들어진 프레임워크이다. 두 프레임워크의 주요 차이점을 살펴보면 다음과 같다:\n",
    "\n",
    "**구조적 차이점:**\n",
    "\n",
    "- **랭체인**: 선형적이고 직선적인 체인 구조로, 정의된 순서에 따라 작업을 수행한다\n",
    "    \n",
    "- **랭그래프**: 노드와 엣지의 연결을 통해 비선형적이고 동적인 프로세스를 구성한다\n",
    "    \n",
    "\n",
    "**복잡도와 유연성:**\n",
    "\n",
    "- **랭체인**: 비교적 간단한 애플리케이션과 직선적인 워크플로우에 적합하다\n",
    "    \n",
    "- **랭그래프**: 복잡한 다단계 작업, 멀티 에이전트 협업, 동적인 의사결정 트리 등 복잡한 워크플로우를 관리하는 데 유용하다\n",
    "    \n",
    "\n",
    "**상태 관리:**\n",
    "\n",
    "- **랭체인**: 암시적이고 자동화된 상태 관리를 제공한다\n",
    "    \n",
    "- **랭그래프**: 명시적이고 세밀한 상태 관리를 통해 각 단계에서 상태를 직접 제어할 수 있다\n",
    "    \n",
    "\n",
    "## **랭그래프 프레임워크의 핵심 기능 정리**\n",
    "\n",
    "랭그래프의 핵심 기능들을 정리하면 다음과 같다:\n",
    "\n",
    "**1. 그래프 기반 워크플로우**: 노드와 엣지로 구성된 그래프 구조를 통해 복잡한 처리 흐름을 시각적으로 표현하고 관리할 수 있다.\n",
    "\n",
    "**2. 상태 기반 처리**: 전체 애플리케이션의 상태를 중앙에서 관리하며, 각 노드가 이 상태를 공유하고 업데이트할 수 있다4.\n",
    "\n",
    "**3. 조건부 분기**: 실행 중에 조건에 따라 다른 경로를 선택할 수 있는 동적 라우팅 기능을 제공한다.\n",
    "\n",
    "**4. 순환 구조 지원**: 특정 조건에서 이전 단계로 돌아가거나 반복 실행이 가능한 사이클 구조를 구현할 수 있다4.\n",
    "\n",
    "**5. 멀티 에이전트 협업**: 여러 AI 에이전트가 협력하여 복잡한 작업을 수행할 수 있는 환경을 제공한다.\n"
   ]
  },
  {
   "cell_type": "code",
   "execution_count": null,
   "id": "87e9dfb6",
   "metadata": {},
   "outputs": [],
   "source": []
  },
  {
   "cell_type": "markdown",
   "id": "b01a90cf",
   "metadata": {},
   "source": [
    "# 2. 랭그래프 기본 구조\n",
    "\n",
    "## **엣지와 노드**\n",
    "\n",
    "랭그래프의 기본 구조는 **노드(Node)**와 **엣지(Edge)**로 구성된다.\n",
    "\n",
    "**노드(Node)**: 실제 작업을 수행하는 Python 함수들로, 각각의 노드는 특정 로직을 담당한다. 노드는 현재 상태를 입력으로 받아서 작업을 수행하고, 업데이트된 상태를 반환한다. 예를 들어, LLM 호출, 문서 검색, 데이터 처리 등의 기능을 수행할 수 있다.\n",
    "\n",
    "**엣지(Edge)**: 노드 간의 연결을 정의하며, 다음에 어떤 노드를 실행할지 결정하는 역할을 한다. 엣지는 워크플로우의 흐름을 제어하고 조건부 라우팅을 가능하게 한다.\n",
    "\n",
    "## **상태(State)**\n",
    "\n",
    "상태(State)는 전체 애플리케이션의 현재 상태를 나타내는 공유 데이터 구조이다. 모든 노드가 이 상태에 접근할 수 있으며, 작업 결과에 따라 상태를 업데이트할 수 있다. 상태는 일반적으로 TypedDict 또는 Pydantic BaseModel로 정의된다.\n",
    "\n",
    "상태의 주요 역할은 다음과 같다:\n",
    "\n",
    "- **전체 워크플로우의 컨텍스트 유지**: 처리 과정에서 필요한 모든 정보를 중앙에서 관리한다\n",
    "    \n",
    "- **노드 간 정보 공유**: 한 노드에서 처리한 결과를 다른 노드에서 활용할 수 있게 한다\n",
    "    \n",
    "- **진행 상황 추적**: 현재 어떤 단계에 있는지, 어떤 작업이 완료되었는지 추적한다\n",
    "    \n",
    "\n",
    "## **StateGraph**\n",
    "\n",
    "StateGraph는 랭그래프의 핵심 클래스로, 상태 기반의 계산 그래프를 정의하는 역할을 한다. StateGraph는 에이전트의 수명 주기 전반에 걸쳐 상태가 유지되도록 하며, 그래프의 노드들이 이 상태를 업데이트할 수 있게 한다.\n",
    "\n",
    "StateGraph의 초기화 과정에서는 상태 정의를 전달하며, 이후 노드들이 키-값 형태로 상태의 속성을 반환하게 된다.\n",
    "\n",
    "## **랭그래프에서 상태관리**\n",
    "\n",
    "랭그래프에서 상태 관리는 두 가지 방식으로 이루어진다:\n",
    "\n",
    "**1. 완전 재정의 방식**: 노드가 속성의 새 값을 반환하여 기존 값을 완전히 대체하는 방식이다.\n",
    "\n",
    "**2. 업데이트 방식**: 기존 속성 값에 새로운 값을 추가하는 방식으로, `operator.add`와 같은 어노테이션을 사용하여 구현한다. 예를 들어, 메시지 리스트에 새로운 메시지를 추가할 때 사용된다."
   ]
  },
  {
   "cell_type": "code",
   "execution_count": null,
   "id": "d40bb96b",
   "metadata": {},
   "outputs": [],
   "source": []
  },
  {
   "cell_type": "markdown",
   "id": "3f77726f",
   "metadata": {},
   "source": [
    "# 3. 랭그래프 구현\n",
    "\n",
    "## **상태(State) 구조 정의**\n",
    "\n",
    "- 랭그래프를 구현하기 위해서는 먼저 State 클래스를 정의 한다.\n",
    "    - State는 `TypedDict`를 상속받아 정의하며, 각 속성에 대해 reducer 함수를 지정할 수 있다. \n",
    "    - Reducer 함수는 기존 값과 새 값을 어떻게 결합할지 정의한다 (예: 리스트 추가, 값 덮어쓰기 등)\n",
    "- State는 graph의 노드들이 공유할 데이터이다.\n",
    "- State 클래스는 state의 속성들을 정의하는 스키마(schema)이다.\n",
    "\n",
    "\n",
    "```python\n",
    "from typing import TypedDict\n",
    "class MyState(TypedDict):\n",
    "     counter: int    \n",
    "     messages: list \n",
    "```\n",
    "\n",
    "## **노드 정의**\n",
    "\n",
    "노드는 실제 작업을 수행하는 Python 함수로 정의된다. 각 노드 함수는 현재 상태를 입력으로 받아 처리 후 업데이트된 상태를 반환한다.\n",
    "\n",
    "```python\n",
    "def increment_counter(state):    \n",
    "     return {\"counter\": state[\"counter\"] + 1} \n",
    "     \n",
    "def process_message(state):\n",
    "    # 메시지 처리 로직    \n",
    "    new_message = \"처리된 메시지\"    \n",
    "    return {\"messages\": state[\"messages\"] + [new_message]}\n",
    "```\n",
    "\n",
    "\n",
    "## **엣지 정의**\n",
    "\n",
    "엣지는 노드 간의 연결을 정의하며, `add_edge` 메서드를 사용하여 추가한다. 기본적인 엣지는 한 노드에서 다른 노드로의 직접적인 연결을 의미한다.\n",
    "\n",
    "```python\n",
    "graph.add_edge(\"node1\", \"node2\") \n",
    "graph.add_edge(\"node2\", \"node3\")\n",
    "```\n",
    "\n",
    "## **그래프 구성**\n",
    "\n",
    "- 노드와 엣지를 정의한 후에는 그래프를 구성하고 컴파일해야 한다. \n",
    "  - `StateGraph`를 생성하고 그래프에 노드들을 추가한다.\n",
    "  - 각 노드들을 연결하여 엣지를 추가한다. 이 과정에서 시작점과 종료점을 설정한다.\n",
    "  - 컴파일을 통해 그래프의 구조를 검증한다.\n",
    "\n",
    "```python\n",
    "from langgraph.graph import START, END\n",
    "from langgraph.graph import StateGraph \n",
    "\n",
    "# StateGraph 생성\n",
    "graph = StateGraph(MyState)\n",
    "\n",
    "# 노드 추가 \n",
    "graph.add_node(\"increment\", increment_counter) \n",
    "graph.add_node(\"process\", process_message) \n",
    "# 엣지 추가 \n",
    "graph.add_edge(START, \"increment\") \n",
    "graph.add_edge(\"increment\", \"process\") \n",
    "graph.add_edge(\"process\", END) \n",
    "# 그래프 컴파일 \n",
    "app = graph.compile(\n",
    "```\n",
    "\n",
    "## **그래프 실행**\n",
    "\n",
    "- 실행 시에는 초기 상태(Initial state)를 제공하여 그래프를 실행한다.   \n",
    "- 그래프는 이 초기 상태부터 시작하여 정의된 노드들을 순차적으로 실행하며 상태를 업데이트한다.\n",
    "\n",
    "```python\n",
    "result = app.invoke({\"counter\": 0, \"messages\": []}) \n",
    "print(result)\n",
    "```"
   ]
  },
  {
   "cell_type": "code",
   "execution_count": null,
   "id": "b433ef48",
   "metadata": {},
   "outputs": [],
   "source": [
    "%pip install langgraph"
   ]
  },
  {
   "cell_type": "code",
   "execution_count": 4,
   "id": "41597cd1",
   "metadata": {},
   "outputs": [
    {
     "data": {
      "text/plain": [
       "True"
      ]
     },
     "execution_count": 4,
     "metadata": {},
     "output_type": "execute_result"
    }
   ],
   "source": [
    "from langchain_openai import ChatOpenAI\n",
    "from langgraph.graph import StateGraph, START, END\n",
    "from langgraph.graph.message import add_messages\n",
    "\n",
    "from typing_extensions import TypedDict\n",
    "from typing import Annotated\n",
    "\n",
    "from dotenv import load_dotenv\n",
    "load_dotenv()"
   ]
  },
  {
   "cell_type": "code",
   "execution_count": null,
   "id": "bedb1230",
   "metadata": {},
   "outputs": [],
   "source": [
    "######################\n",
    "# 상태(State) 클래스 정의\n",
    "#  노드들이 공유할 state값들을 정의하는 클래스(타입)\n",
    "class State(TypedDict):\n",
    "    # state에 저장할 값(속성, state) 들을 정의\n",
    "    messages: Annotated[list, add_messages]  # 변수: Annotated[변수타입, 설명]\n",
    "\n",
    "    # add_messages(left:list, right:list) : return left + right"
   ]
  },
  {
   "cell_type": "code",
   "execution_count": 20,
   "id": "be1321c9",
   "metadata": {},
   "outputs": [],
   "source": [
    "model = ChatOpenAI(model='gpt-4.1-mini')\n",
    "############################\n",
    "# 노드 정의 \n",
    "# 노드 == 기능 == 함수(callable): 파라미터로 State 타입을 선언. \n",
    "def chatbot(state:State):\n",
    "    # state: Dictionary - key: State클래스에 정의한 변수들.\n",
    "    print(\"chatbot: state type:\", type(state), state)\n",
    "    # messages를 llm에 query로 전달.\n",
    "    response = model.invoke(state['messages'])  #invoke(str 또는 Message List)\n",
    "    # response를 state에 저장. -> dictionary로 구성 {저장할 state의 이름: 저장할 값}\n",
    "    return {\"messages\": [response]}  # 리턴 -> State에 저장."
   ]
  },
  {
   "cell_type": "code",
   "execution_count": 21,
   "id": "4149b94e",
   "metadata": {},
   "outputs": [],
   "source": [
    "# 그래프를 구성 (StateGraph)\n",
    "## 노드와 엣지 + state\n",
    "workflow = StateGraph(State)\n",
    "\n",
    "# graph(workflow)에 노드를 추가. 이름-함수\n",
    "workflow.add_node(\"chatbot\", chatbot)\n",
    "\n",
    "# graph에 엣지를 구성. 엣지: 노드와 노드를 연결\n",
    "## START 노드 - 엣지 구성 - (END 노드:생략가능)\n",
    "workflow.add_edge(START, \"chatbot\")  # 시작노드(이름) -> 도착노드(이름)\n",
    "workflow.add_edge(\"chatbot\", END)\n",
    "\n",
    "# 구성을 완료하면 compile -> 그래프 최적화를 하고 실행할 수있도로 만드는 작업.\n",
    "graph = workflow.compile()"
   ]
  },
  {
   "cell_type": "code",
   "execution_count": 18,
   "id": "291ac1ad",
   "metadata": {},
   "outputs": [
    {
     "data": {
      "image/png": "[encoded data removed]",
      "text/plain": [
       "<IPython.core.display.Image object>"
      ]
     },
     "execution_count": 18,
     "metadata": {},
     "output_type": "execute_result"
    }
   ],
   "source": [
    "#########################################\n",
    "# 그래프 구조 시각화 -> 실행 흐름을 확인\n",
    "from IPython.display import Image\n",
    "Image(graph.get_graph().draw_mermaid_png())"
   ]
  },
  {
   "cell_type": "code",
   "execution_count": 22,
   "id": "187b1d76",
   "metadata": {},
   "outputs": [
    {
     "name": "stdout",
     "output_type": "stream",
     "text": [
      "chatbot: state type: <class 'dict'> {'messages': [HumanMessage(content='Langgraph에 대해서 알려줘.', additional_kwargs={}, response_metadata={}, id='f2a340ee-9c42-4c69-b492-b3cf8f26ee64')]}\n"
     ]
    }
   ],
   "source": [
    "############### \n",
    "# 실행 - graph.invoke()\n",
    "###############\n",
    "from langchain_core.messages import HumanMessage\n",
    "query = \"Langgraph에 대해서 알려줘.\"\n",
    "\n",
    "init_state = {\"messages\":[HumanMessage(content=query)]}\n",
    "\n",
    "resp = graph.invoke(init_state)  # State에 넣어줄 초기값 -> 첫번째 노드가 사용."
   ]
  },
  {
   "cell_type": "code",
   "execution_count": 24,
   "id": "aa0c74f1",
   "metadata": {},
   "outputs": [
    {
     "data": {
      "text/plain": [
       "langgraph.pregel.io.AddableValuesDict"
      ]
     },
     "execution_count": 24,
     "metadata": {},
     "output_type": "execute_result"
    }
   ],
   "source": [
    "type(resp)"
   ]
  },
  {
   "cell_type": "code",
   "execution_count": 26,
   "id": "5993c7c0",
   "metadata": {},
   "outputs": [
    {
     "data": {
      "text/plain": [
       "[HumanMessage(content='Langgraph에 대해서 알려줘.', additional_kwargs={}, response_metadata={}, id='f2a340ee-9c42-4c69-b492-b3cf8f26ee64'),\n",
       " AIMessage(content=\"Langgraph는 자연어 처리(NLP) 및 인공지능(AI) 분야에서 활용되는 도구 또는 플랫폼일 가능성이 있으나, 2024년 6월 기준으로 'Langgraph'라는 이름을 가진 특정 기술, 제품, 서비스에 대한 공식적이고 광범위한 정보는 공개되어 있지 않습니다.\\n\\n만약 Langgraph가 최근에 등장한 신기술, 라이브러리, 혹은 스타트업 이름이라면, 관련 공식 웹사이트나 개발자 커뮤니티, 기술 블로그 등을 통해 추가적인 정보를 찾아보시는 것을 권장드립니다.\\n\\n추가적으로 궁금한 점이나 구체적인 맥락(예: Langgraph가 사용되는 분야, 관련 링크 등)이 있다면 말씀해 주세요. 더 자세히 도와드릴 수 있습니다.\", additional_kwargs={'refusal': None}, response_metadata={'token_usage': {'completion_tokens': 168, 'prompt_tokens': 14, 'total_tokens': 182, 'completion_tokens_details': {'accepted_prediction_tokens': 0, 'audio_tokens': 0, 'reasoning_tokens': 0, 'rejected_prediction_tokens': 0}, 'prompt_tokens_details': {'audio_tokens': 0, 'cached_tokens': 0}}, 'model_name': 'gpt-4.1-mini-2025-04-14', 'system_fingerprint': 'fp_6f2eabb9a5', 'id': 'chatcmpl-BkQKutschDwnAX1dq0FJ6rDkQZJ1M', 'service_tier': 'default', 'finish_reason': 'stop', 'logprobs': None}, id='run--eaf6a7c3-1051-46b5-acc1-0b29556130e9-0', usage_metadata={'input_tokens': 14, 'output_tokens': 168, 'total_tokens': 182, 'input_token_details': {'audio': 0, 'cache_read': 0}, 'output_token_details': {'audio': 0, 'reasoning': 0}})]"
      ]
     },
     "execution_count": 26,
     "metadata": {},
     "output_type": "execute_result"
    }
   ],
   "source": [
    "resp['messages']"
   ]
  },
  {
   "cell_type": "code",
   "execution_count": 28,
   "id": "8f015e29",
   "metadata": {},
   "outputs": [
    {
     "name": "stdout",
     "output_type": "stream",
     "text": [
      "Langgraph는 자연어 처리(NLP) 및 인공지능(AI) 분야에서 활용되는 도구 또는 플랫폼일 가능성이 있으나, 2024년 6월 기준으로 'Langgraph'라는 이름을 가진 특정 기술, 제품, 서비스에 대한 공식적이고 광범위한 정보는 공개되어 있지 않습니다.\n",
      "\n",
      "만약 Langgraph가 최근에 등장한 신기술, 라이브러리, 혹은 스타트업 이름이라면, 관련 공식 웹사이트나 개발자 커뮤니티, 기술 블로그 등을 통해 추가적인 정보를 찾아보시는 것을 권장드립니다.\n",
      "\n",
      "추가적으로 궁금한 점이나 구체적인 맥락(예: Langgraph가 사용되는 분야, 관련 링크 등)이 있다면 말씀해 주세요. 더 자세히 도와드릴 수 있습니다.\n"
     ]
    }
   ],
   "source": [
    "print(resp['messages'][-1].content)"
   ]
  },
  {
   "cell_type": "markdown",
   "id": "9f294876",
   "metadata": {},
   "source": [
    "# 4. 다양한 엣지\n",
    "\n",
    "## **기본 엣지**\n",
    "\n",
    "- 기본 엣지(Normal Edge)는 한 노드에서 다른 노드로의 직접적인 연결을 의미한다. 이는 가장 단순한 형태의 연결로, 이전 노드의 작업이 완료되면 자동으로 다음 노드로 이동한다.\n",
    "- 기본 엣지는 다음과 같은 특징을 가진다:\n",
    "  - **고정된 흐름**: 항상 동일한 다음 노드로 이동한다      \n",
    "  - **단순한 구조**: 복잡한 조건 없이 순차적으로 실행된다      \n",
    "  - **예측 가능한 동작**: 실행 전에 전체 흐름을 예측할 수 있다    \n",
    "\n",
    "## **조건부 엣지와 라우팅**\n",
    "\n",
    "- 조건부 엣지(Conditional Edge)는 특정 조건에 따라 다음에 실행할 노드를 동적으로 결정하는 기능이다. 이는 랭그래프의 가장 강력한 기능 중 하나로, 복잡한 의사결정 로직을 구현할 수 있게 한다.\n",
    "- 조건부 엣지를 구현하기 위해서는 세 가지 구성 요소가 필요하다:\n",
    "    - **1. 소스 노드(Source Node)**\n",
    "      -  조건 평가가 시작될 노드의 이름이다.\n",
    "    - **2. 조건 함수(Condition Function)**\n",
    "      - 현재 상태를 입력받아 문자열을 반환하는 함수로, 다음에 실행할 노드를 결정하는 로직을 포함한다.\n",
    "    - **3. 조건부 엣지 매핑(Conditional Edge Mapping)**\n",
    "      -  조건 함수의 반환값과 다음 노드 이름을 매핑하는 딕셔너리이다.\n",
    "```python\n",
    "def relevance_check(state):     \n",
    "    # 관련성 체크 로직    \n",
    "    if state[\"relevance_score\"] > 0.8:        \n",
    "        return \"grounded\"    \n",
    "    else:        \n",
    "        return \"not_grounded\" \n",
    "        \n",
    "graph.add_conditional_edges(\n",
    "    \"llm_answer\",     # 소스 노드    \n",
    "    relevance_check,  # 조건 함수    \n",
    "    {        \n",
    "        \"grounded\": END,  # 조건함수반환값:이동할 노드 (grounded 이면 END 노드로 이동)\n",
    "        \"not_grounded\": \"retrieve\"  # not_grounded 이면 retrieve 노드로 이동\n",
    "    } \n",
    ")\n",
    "```\n",
    "\n",
    "## **반복 구조**\n",
    "\n",
    "- 랭그래프의 가장 큰 장점 중 하나는 반복 구조(순환 구조)를 지원한다는 점이다. 이를 통해 특정 조건이 만족될 때까지 작업을 반복하거나, 품질이 향상될 때까지 개선 과정을 반복할 수 있다.\n",
    "- 반복 구조의 활용 예시:\n",
    "  - **검색 품질 개선**\n",
    "    - 검색 결과가 만족스럽지 않을 때 쿼리를 재작성하여 다시 검색한다      \n",
    "  - **답변 품질 향상**\n",
    "    - 생성된 답변의 품질이 낮을 때 다시 생성하거나 개선한다      \n",
    "  - **할루시네이션 방지**\n",
    "    -  답변이 검색된 문서와 관련성이 낮을 때 재생성을 요청한다"
   ]
  },
  {
   "cell_type": "code",
   "execution_count": 30,
   "id": "d7bfa15b",
   "metadata": {},
   "outputs": [
    {
     "data": {
      "text/plain": [
       "RunnableBinding(bound=ChatOpenAI(client=<openai.resources.chat.completions.completions.Completions object at 0x000001E2D1FC2210>, async_client=<openai.resources.chat.completions.completions.AsyncCompletions object at 0x000001E2D1FC1370>, root_client=<openai.OpenAI object at 0x000001E2D1FC0230>, root_async_client=<openai.AsyncOpenAI object at 0x000001E2D1FC15B0>, model_name='gpt-4.1', model_kwargs={}, openai_api_key=SecretStr('**********')), kwargs={'tools': [{'type': 'function', 'function': {'name': 'tavily_search', 'description': 'A search engine optimized for comprehensive, accurate, and trusted results. Useful for when you need to answer questions about current events. It not only retrieves URLs and snippets, but offers advanced search depths, domain management, time range filters, and image search, this tool delivers real-time, accurate, and citation-backed results.Input should be a search query.', 'parameters': {'properties': {'query': {'description': 'Search query to look up', 'type': 'string'}, 'include_domains': {'anyOf': [{'items': {'type': 'string'}, 'type': 'array'}, {'type': 'null'}], 'default': [], 'description': 'A list of domains to restrict search results to.\\n\\n        Use this parameter when:\\n        1. The user explicitly requests information from specific websites (e.g., \"Find climate data from nasa.gov\")\\n        2. The user mentions an organization or company without specifying the domain (e.g., \"Find information about iPhones from Apple\")\\n\\n        In both cases, you should determine the appropriate domains (e.g., [\"nasa.gov\"] or [\"apple.com\"]) and set this parameter.\\n\\n        Results will ONLY come from the specified domains - no other sources will be included.\\n        Default is None (no domain restriction).\\n        '}, 'exclude_domains': {'anyOf': [{'items': {'type': 'string'}, 'type': 'array'}, {'type': 'null'}], 'default': [], 'description': 'A list of domains to exclude from search results.\\n\\n        Use this parameter when:\\n        1. The user explicitly requests to avoid certain websites (e.g., \"Find information about climate change but not from twitter.com\")\\n        2. The user mentions not wanting results from specific organizations without naming the domain (e.g., \"Find phone reviews but nothing from Apple\")\\n\\n        In both cases, you should determine the appropriate domains to exclude (e.g., [\"twitter.com\"] or [\"apple.com\"]) and set this parameter.\\n\\n        Results will filter out all content from the specified domains.\\n        Default is None (no domain exclusion).\\n        '}, 'search_depth': {'anyOf': [{'enum': ['basic', 'advanced'], 'type': 'string'}, {'type': 'null'}], 'default': 'basic', 'description': 'Controls search thoroughness and result comprehensiveness.\\n    \\n        Use \"basic\" for simple queries requiring quick, straightforward answers.\\n        \\n        Use \"advanced\" (default) for complex queries, specialized topics, \\n        rare information, or when in-depth analysis is needed.\\n        '}, 'include_images': {'anyOf': [{'type': 'boolean'}, {'type': 'null'}], 'default': False, 'description': 'Determines if the search returns relevant images along with text results.\\n   \\n        Set to True when the user explicitly requests visuals or when images would \\n        significantly enhance understanding (e.g., \"Show me what black holes look like,\" \\n        \"Find pictures of Renaissance art\").\\n        \\n        Leave as False (default) for most informational queries where text is sufficient.\\n        '}, 'time_range': {'anyOf': [{'enum': ['day', 'week', 'month', 'year'], 'type': 'string'}, {'type': 'null'}], 'default': None, 'description': 'Limits results to content published within a specific timeframe.\\n        \\n        ONLY set this when the user explicitly mentions a time period \\n        (e.g., \"latest AI news,\" \"articles from last week\").\\n        \\n        For less popular or niche topics, use broader time ranges \\n        (\"month\" or \"year\") to ensure sufficient relevant results.\\n   \\n        Options: \"day\" (24h), \"week\" (7d), \"month\" (30d), \"year\" (365d).\\n        \\n        Default is None.\\n        '}, 'topic': {'anyOf': [{'enum': ['general', 'news', 'finance'], 'type': 'string'}, {'type': 'null'}], 'default': 'general', 'description': 'Specifies search category for optimized results.\\n   \\n        Use \"general\" (default) for most queries, INCLUDING those with terms like \\n        \"latest,\" \"newest,\" or \"recent\" when referring to general information.\\n\\n        Use \"finance\" for markets, investments, economic data, or financial news.\\n\\n        Use \"news\" ONLY for politics, sports, or major current events covered by \\n        mainstream media - NOT simply because a query asks for \"new\" information.\\n        '}}, 'required': ['query'], 'type': 'object'}}}]}, config={}, config_factories=[])"
      ]
     },
     "execution_count": 30,
     "metadata": {},
     "output_type": "execute_result"
    }
   ],
   "source": [
    "from langchain_tavily import TavilySearch\n",
    "\n",
    "tool = TavilySearch(max_results=2)\n",
    "tools = [tool]\n",
    "tool_model = ChatOpenAI(model=\"gpt-4.1\").bind_tools(tools)\n",
    "tool_model"
   ]
  },
  {
   "cell_type": "code",
   "execution_count": 49,
   "id": "9fb483c0",
   "metadata": {},
   "outputs": [],
   "source": [
    "class State(TypedDict):\n",
    "    messages: Annotated[list, add_messages]\n",
    "    # add_messages: 상태값을 저장하는 방법을 정의한 함수 -> reducer 라고 한다.\n",
    "\n",
    "# 노드 정의\n",
    "## 챗봇 노드\n",
    "def chatbot(state:State):\n",
    "    response = tool_model.invoke(state['messages'])\n",
    "    return {\"messages\":[response]}\n",
    "\n",
    "## Tool을 호출하는 노드.\n",
    "class CustomToolNode:\n",
    "    def __init__(self, tools): # Tool List를 받는다.\n",
    "        # 속성으로 툴이름 저장\n",
    "        self.tools_by_name = {tool.name: tool for tool in tools}  # dict[tool이름:Tool객체]\n",
    "\n",
    "    def __call__(self, inputs:State):  # inputs: State\n",
    "        if messages := inputs.get(\"messages\", []):\n",
    "            message = messages[-1]  # tool calls가 있는 AI Message  (messages는 메세지들이 누적되어 있으므로 마지막 Message 객체를 가져온다.)\n",
    "        else:\n",
    "            raise ValueError(\"No messages found in inputs.\")\n",
    "        \n",
    "        outputs = []\n",
    "        for tool_call in message.tool_calls:\n",
    "            tool_message = self.tools_by_name[tool_call['name']].invoke(tool_call)\n",
    "            outputs.append(tool_message)\n",
    "\n",
    "        return {\"messages\": outputs}\n",
    "    \n",
    "tool_node = CustomToolNode(tools)\n",
    "\n",
    "#####################\n",
    "#  조건부 엣지 함수\n",
    "# 조건에 따라 실행할 다음노드의 이름/식별자를 반환.\n",
    "\n",
    "def custom_tools_condition(state:State):\n",
    "    if messages := state.get(\"messages\", []):\n",
    "        ai_message = messages[-1]\n",
    "    else:\n",
    "        raise Exception(\"State에 message가 없습니다.\")\n",
    "    if hasattr(ai_message, \"tool_calls\") and len(ai_message.tool_calls) > 0:\n",
    "        #AIMessage -> tool_calls가 있고, tool_calls에 한개 이상의 tool_call 값이 있다면\n",
    "        return \"tools\"  # 다음 노드의 이름 반환.\n",
    "    else:\n",
    "        return END # \"__end__\""
   ]
  },
  {
   "cell_type": "code",
   "execution_count": 41,
   "id": "d916e123",
   "metadata": {},
   "outputs": [],
   "source": [
    "# 객체에 특정 attribute\n",
    "# # hasattr(): 가 있는지 여부, getattr(): 의 값을 조회, setattr()에 값을 할당\n",
    "# t = CustomToolNode(tools)\n",
    "# hasattr(t, \"tools_by_name\"), hasattr(t, \"tools_name\")\n",
    "# getattr(t, \"tools_by_name\")        # t.tools_by_name\n",
    "# setattr(t, \"name\", \"툴실행 노드\")  # t.name = \"툴실행 노드\"\n",
    "# getattr(t, \"name\")"
   ]
  },
  {
   "cell_type": "code",
   "execution_count": 42,
   "id": "7e675953",
   "metadata": {},
   "outputs": [],
   "source": [
    "# Graph 정의\n",
    "workflow = StateGraph(State)\n",
    "\n",
    "#노드들 추가.\n",
    "workflow.add_node(\"chatbot\", chatbot)\n",
    "workflow.add_node(\"tools\", tool_node)\n",
    "\n",
    "# 노드 연결 --> 엣지\n",
    "workflow.add_edge(START, \"chatbot\")\n",
    "workflow.add_conditional_edges(\"chatbot\", \n",
    "                               custom_tools_condition,\n",
    "                               {\"tools\":\"tools\", END:END})\n",
    "workflow.add_edge(\"tools\", \"chatbot\")\n",
    "graph = workflow.compile()"
   ]
  },
  {
   "cell_type": "code",
   "execution_count": 43,
   "id": "76328c2f",
   "metadata": {},
   "outputs": [
    {
     "data": {
      "image/png": "[encoded data removed]",
      "text/plain": [
       "<IPython.core.display.Image object>"
      ]
     },
     "execution_count": 43,
     "metadata": {},
     "output_type": "execute_result"
    }
   ],
   "source": [
    "Image(graph.get_graph().draw_mermaid_png())"
   ]
  },
  {
   "cell_type": "code",
   "execution_count": 47,
   "id": "90c34f88",
   "metadata": {},
   "outputs": [],
   "source": [
    "query = \"Langgraph가 무엇인지 설명해줘. 검색을 해서 정확한 정보를 알려줘.\"\n",
    "init_state = {\"messages\":[HumanMessage(content=query)]}\n",
    "resp = graph.invoke(init_state)"
   ]
  },
  {
   "cell_type": "code",
   "execution_count": 48,
   "id": "940382ff",
   "metadata": {},
   "outputs": [
    {
     "name": "stdout",
     "output_type": "stream",
     "text": [
      "Langgraph는 AI 기반 애플리케이션, 특히 대규모 언어 모델(LLM, 예: OpenAI API 등)을 활용한 워크플로우 설계를 위한 시각적 프로그래밍 프레임워크입니다. 기존의 LangChain의 기능을 확장하여, 그래프(노드-엣지 구조) 기반으로 LLM 작업을 설계하고 관리할 수 있도록 도와줍니다.\n",
      "\n",
      "주요 특징 요약:\n",
      "- 각 작업 단위를 노드(Node)로 표현하고, 데이터 흐름은 엣지(Edge)로 연결하여 복잡한 AI 워크플로우를 명확하게 설계할 수 있습니다.\n",
      "- 다양한 LLM(OpenAI API 등)과 연동하여 프롬프트(질문) 생성 및 응답 처리 자동화에 활용됩니다.\n",
      "- 조건(Condition)에 따라 작업 흐름을 분기 처리하거나 결정 논리를 포함할 수 있어, 단순한 챗봇부터 복잡한 AI 작업까지 적용이 가능합니다.\n",
      "- 대표적으로 “질문 이해하기 → 정보 검색하기 → 답변 생성하기”와 같은 대화/업무 흐름을 그래픽하게 구성할 수 있습니다.\n",
      "\n",
      "즉, Langgraph는 LLM 기반의 복잡한 데이터 흐름과 다단계 작업을 쉽고 직관적으로 설계 및 관리할 수 있도록 해주는 그래프 기반 프레임워크입니다.\n",
      "\n",
      "참고:\n",
      "- 벨로그: LangGraph 설명\n",
      "- 티스토리: 초보자 가이드\n",
      "\n",
      "원문 참고: \n",
      "- https://velog.io/@isjong/LangGraph-LLM-활용의-새로운-패러다임\n",
      "- https://memoryhub.tistory.com/entry/LangGraph-쉽게-이해하기-초보자를-위한-가이드-🌟\n"
     ]
    }
   ],
   "source": [
    "resp\n",
    "print(resp[\"messages\"][-1].content)"
   ]
  },
  {
   "cell_type": "markdown",
   "id": "58e0cf2d",
   "metadata": {},
   "source": [
    "# 5. 랭그래프에서 메모리 관리\n",
    "\n",
    "랭그래프에서 메모리 관리는 **체크포인터(Checkpointer)** 기능을 통해 구현된다. 이는 복잡한 대화형 AI 시스템 구축에 필수적인 기능으로, 상태를 저장하고 관리하는 핵심 역할을 한다.\n",
    "\n",
    "- **체크포인터의 주요 기능:**\n",
    "    - **1. 상태 지속성**\n",
    "      -  그래프 실행 중간에 상태를 저장하여 나중에 복원할 수 있다.\n",
    "    - **2. 대화 기록 유지**\n",
    "      - 이전 대화 내용을 기억하여 연속적인 대화가 가능하다.\n",
    "    - **3. 오류 복구**\n",
    "      -  실행 중 오류가 발생했을 때 이전 상태로 돌아갈 수 있다.\n",
    "-   구현\n",
    "    -  Graph를 컴파일할 때 checkpointer객체를 설정한다.\n",
    "    - Graph 실행시 대화를 저장할 때 사용할 thread_id를 `RunnableConfig`를 이용해 전달한다.\n",
    "\n",
    "```python\n",
    "\n",
    "from langgraph.checkpoint.memory import MemorySaver\n",
    "from langgraph.checkpoint.sqlite import SqliteSaver\n",
    "\n",
    "# 메모리 체크포인터 생성\n",
    "checkpointer = MemorySaver()\n",
    "# SQLite 체크포인터 생성\n",
    "# checkpointer = SqliteSaver.from_conn_string(\"checkpoints.db\")\n",
    "\n",
    "# 그래프에 연결\n",
    "graph = workflow.compile(checkpointer=checkpointer)\n",
    "\n",
    "# graph 호출시 thread_id 전달\n",
    "config = {\"configurable\": {\"thread_id\": \"user-123\"}}\n",
    "response = graph.invoke({\"messages\": [user_message]}, config)\n",
    "```"
   ]
  },
  {
   "cell_type": "code",
   "execution_count": null,
   "id": "3d4e7d52",
   "metadata": {},
   "outputs": [],
   "source": []
  },
  {
   "cell_type": "code",
   "execution_count": null,
   "id": "89939324",
   "metadata": {},
   "outputs": [],
   "source": []
  },
  {
   "cell_type": "code",
   "execution_count": null,
   "id": "ba33c1cc",
   "metadata": {},
   "outputs": [],
   "source": []
  },
  {
   "cell_type": "code",
   "execution_count": null,
   "id": "2c2076db",
   "metadata": {},
   "outputs": [],
   "source": []
  },
  {
   "cell_type": "code",
   "execution_count": null,
   "id": "26853496",
   "metadata": {},
   "outputs": [],
   "source": []
  }
 ],
 "metadata": {
  "kernelspec": {
   "display_name": "lang_env",
   "language": "python",
   "name": "python3"
  },
  "language_info": {
   "codemirror_mode": {
    "name": "ipython",
    "version": 3
   },
   "file_extension": ".py",
   "mimetype": "text/x-python",
   "name": "python",
   "nbconvert_exporter": "python",
   "pygments_lexer": "ipython3",
   "version": "3.12.11"
  }
 },
 "nbformat": 4,
 "nbformat_minor": 5
}
