{
 "cells": [
  {
   "cell_type": "code",
   "execution_count": 1,
   "id": "0964d942",
   "metadata": {},
   "outputs": [
    {
     "name": "stdout",
     "output_type": "stream",
     "text": [
      "30\n"
     ]
    }
   ],
   "source": [
    "import random\n",
    "stu_list = [\n",
    "    \"강지윤\",\n",
    "    \"고범석\",\n",
    "    \"구자현\",\n",
    "    \"구재회\",\n",
    "    \"기원준\",\n",
    "    \"김동욱\",\n",
    "    \"김승호\",\n",
    "    \"김지민\",\n",
    "    \"남궁건우\",\n",
    "    \"모지호\",\n",
    "    \"민경재\",\n",
    "    \"박수빈\",\n",
    "    \"박현아\",\n",
    "    \"변성일\",\n",
    "    \"안수민\",\n",
    "    \"우민규\",\n",
    "    \"우지훈\",\n",
    "    \"이명인\",\n",
    "    \"이석민\",\n",
    "    \"이유나\",\n",
    "    \"이재범\",\n",
    "    \"장시인\",\n",
    "    \"장진슬\",\n",
    "    \"전진혁\",\n",
    "    \"정호엽\",\n",
    "    \"지형우\",\n",
    "    \"최성장\",\n",
    "    \"최호연\",\n",
    "    \"홍성의\",\n",
    "    \"홍채우\",\n",
    "]\n",
    "print(len(stu_list))"
   ]
  },
  {
   "cell_type": "code",
   "execution_count": 2,
   "id": "3847493d",
   "metadata": {},
   "outputs": [],
   "source": [
    "num = 5\n",
    "random.shuffle(stu_list)\n",
    "result = [stu_list[i * num : (i + 1) * num] for i in range((len(stu_list) + num - 1) // num )] "
   ]
  },
  {
   "cell_type": "code",
   "execution_count": 3,
   "id": "0523bf22",
   "metadata": {},
   "outputs": [
    {
     "name": "stdout",
     "output_type": "stream",
     "text": [
      "1조: 정호엽,  구자현,  고범석,  민경재,  기원준,  \n",
      "2조: 이유나,  우민규,  이석민,  전진혁,  구재회,  \n",
      "3조: 박수빈,  김동욱,  장진슬,  이명인,  홍채우,  \n",
      "4조: 박현아,  안수민,  우지훈,  이재범,  최호연,  \n",
      "5조: 지형우,  김승호,  변성일,  장시인,  김지민,  \n",
      "6조: 모지호,  강지윤,  남궁건우,  홍성의,  최성장,  \n"
     ]
    }
   ],
   "source": [
    "for idx, r in enumerate(result, start=1):\n",
    "    print(f\"{idx}조: \", end=\"\")\n",
    "    for name in r:\n",
    "        print(name, end=',  ')\n",
    "    print()"
   ]
  },
  {
   "cell_type": "code",
   "execution_count": null,
   "id": "4d8f6cd5",
   "metadata": {},
   "outputs": [],
   "source": []
  },
  {
   "cell_type": "code",
   "execution_count": null,
   "id": "c600a080",
   "metadata": {},
   "outputs": [],
   "source": [
    "1조: 고범석,  구자현,   기원준,  정호엽,  홍채우 \n",
    "2조: 구재회,  남궁건우, 우민규,  이석민,  이유나    \n",
    "3조: 김동욱,  민경재,   박수빈,  이명인,  장진슬  \n",
    "4조: 박현아,  안수민,   우지훈,  이재범,  최호연  \n",
    "5조: 김승호,  김지민,   변성일,  장시인,  지형우\n",
    "6조: 강지윤,  모지호,   전진혁,  최성장,  홍성의"
   ]
  },
  {
   "cell_type": "code",
   "execution_count": null,
   "id": "3196c497",
   "metadata": {},
   "outputs": [],
   "source": []
  },
  {
   "cell_type": "code",
   "execution_count": null,
   "id": "c514073e",
   "metadata": {},
   "outputs": [],
   "source": []
  }
 ],
 "metadata": {
  "kernelspec": {
   "display_name": "Python 3 (ipykernel)",
   "language": "python",
   "name": "python3"
  },
  "language_info": {
   "codemirror_mode": {
    "name": "ipython",
    "version": 3
   },
   "file_extension": ".py",
   "mimetype": "text/x-python",
   "name": "python",
   "nbconvert_exporter": "python",
   "pygments_lexer": "ipython3",
   "version": "3.12.3"
  }
 },
 "nbformat": 4,
 "nbformat_minor": 5
}
